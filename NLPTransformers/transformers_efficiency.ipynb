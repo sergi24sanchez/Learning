{
 "cells": [
  {
   "cell_type": "markdown",
   "id": "afffb5b1-366a-4a69-853e-0d52501863bd",
   "metadata": {},
   "source": [
    "# Chapter 8. Making Transformers Efficient in Production\n",
    "\n",
    "## Intent Detection as a Case Study"
   ]
  },
  {
   "cell_type": "code",
   "execution_count": 1,
   "id": "23d860dd-724f-4856-a08f-66d0079133ff",
   "metadata": {},
   "outputs": [
    {
     "name": "stderr",
     "output_type": "stream",
     "text": [
      "/home/ssanchez/env/transformers/lib/python3.8/site-packages/torchvision/datapoints/__init__.py:12: UserWarning: The torchvision.datapoints and torchvision.transforms.v2 namespaces are still Beta. While we do not expect major breaking changes, some APIs may still change according to user feedback. Please submit any feedback you may have in this issue: https://github.com/pytorch/vision/issues/6753, and you can also check out https://github.com/pytorch/vision/issues/7319 to learn more about the APIs that we suspect might involve future changes. You can silence this warning by calling torchvision.disable_beta_transforms_warning().\n",
      "  warnings.warn(_BETA_TRANSFORMS_WARNING)\n",
      "/home/ssanchez/env/transformers/lib/python3.8/site-packages/torchvision/transforms/v2/__init__.py:54: UserWarning: The torchvision.datapoints and torchvision.transforms.v2 namespaces are still Beta. While we do not expect major breaking changes, some APIs may still change according to user feedback. Please submit any feedback you may have in this issue: https://github.com/pytorch/vision/issues/6753, and you can also check out https://github.com/pytorch/vision/issues/7319 to learn more about the APIs that we suspect might involve future changes. You can silence this warning by calling torchvision.disable_beta_transforms_warning().\n",
      "  warnings.warn(_BETA_TRANSFORMS_WARNING)\n",
      "/home/ssanchez/env/transformers/lib/python3.8/site-packages/torch/_utils.py:776: UserWarning: TypedStorage is deprecated. It will be removed in the future and UntypedStorage will be the only storage class. This should only matter to you if you are using storages directly.  To access UntypedStorage directly, use tensor.untyped_storage() instead of tensor.storage()\n",
      "  return self.fget.__get__(instance, owner)()\n"
     ]
    }
   ],
   "source": [
    "from transformers import pipeline\n",
    "\n",
    "bert_ckpt = \"transformersbook/bert-base-uncased-finetuned-clinc\"\n",
    "pipe = pipeline(\"text-classification\", model=bert_ckpt, device=-1)"
   ]
  },
  {
   "cell_type": "code",
   "execution_count": 13,
   "id": "dbdf5c6f-e622-445d-bb61-e69b1aff7539",
   "metadata": {},
   "outputs": [
    {
     "data": {
      "text/plain": [
       "[{'label': 'car_rental', 'score': 0.5490031242370605}]"
      ]
     },
     "execution_count": 13,
     "metadata": {},
     "output_type": "execute_result"
    }
   ],
   "source": [
    "query = \"\"\"Hey, I'd like to rent a vehicle from Nov 1st to Nov 15th in Paris and I need a 15 passenger van\"\"\"\n",
    "pipe(query)"
   ]
  },
  {
   "cell_type": "markdown",
   "id": "92f76f9a-3b5e-4260-a8eb-9d8dfdfcbdf9",
   "metadata": {},
   "source": [
    "## Creating a Performance Benchmark\n",
    "\n",
    "*Model performance*\n",
    "How well does our model perform on a well-crafted test set that reflects production data?\n",
    "\n",
    "*Latency*\n",
    "How fast can our model deliver predictions?\n",
    "\n",
    "*Memory*\n",
    "Billion-parameter models. Especially important role in mobile or edge devices."
   ]
  },
  {
   "cell_type": "code",
   "execution_count": 5,
   "id": "ff36494f-0c27-40d9-a998-5584f776f503",
   "metadata": {},
   "outputs": [],
   "source": [
    "class PerformanceBenchmark:\n",
    "    def __init__(self, pipeline, dataset, optim_type=\"BERT-baseline\"):\n",
    "        self.pipeline = pipeline\n",
    "        self.dataset = dataset\n",
    "        self.optim_type = optim_type\n",
    "\n",
    "    def compute_accuracy(self):\n",
    "        pass\n",
    "\n",
    "    def compute_size(self):\n",
    "        pass\n",
    "\n",
    "    def time_pipeline(self):\n",
    "        pass\n",
    "\n",
    "    def run_benchmark(self):\n",
    "        metrics = {}\n",
    "        metrics[self.optim_type] = self.compute_size()\n",
    "        metrics[self.optim_type].update(self.time_pipeline())\n",
    "        metrics[self.optim_type].update(self.compute_accuracy())\n",
    "        return metrics"
   ]
  },
  {
   "cell_type": "code",
   "execution_count": 6,
   "id": "2733c49b-a4b2-4f09-94ff-49009cc29ad2",
   "metadata": {},
   "outputs": [],
   "source": [
    "from datasets import load_dataset\n",
    "\n",
    "clinc = load_dataset(\"clinc_oos\", \"plus\")"
   ]
  },
  {
   "cell_type": "code",
   "execution_count": 7,
   "id": "40b7b5db-0f9d-435b-96bd-237cbcfb1a0e",
   "metadata": {},
   "outputs": [
    {
     "data": {
      "text/plain": [
       "{'text': 'transfer $100 from my checking to saving account', 'intent': 133}"
      ]
     },
     "execution_count": 7,
     "metadata": {},
     "output_type": "execute_result"
    }
   ],
   "source": [
    "sample = clinc[\"test\"][42]\n",
    "sample"
   ]
  },
  {
   "cell_type": "code",
   "execution_count": 8,
   "id": "5bcdf5e0-3726-45b3-9bca-5f15dad451fb",
   "metadata": {},
   "outputs": [
    {
     "data": {
      "text/plain": [
       "'transfer'"
      ]
     },
     "execution_count": 8,
     "metadata": {},
     "output_type": "execute_result"
    }
   ],
   "source": [
    "intents = clinc[\"test\"].features[\"intent\"]\n",
    "intents.int2str(sample[\"intent\"])"
   ]
  },
  {
   "cell_type": "code",
   "execution_count": 9,
   "id": "e8ba3a38-b2b0-4d76-897e-e29547090d17",
   "metadata": {},
   "outputs": [],
   "source": [
    "import evaluate\n",
    "\n",
    "accuracy_score = evaluate.load(\"accuracy\")"
   ]
  },
  {
   "cell_type": "code",
   "execution_count": 10,
   "id": "84b3d505-3931-44ce-b5b0-e4902a68ab3b",
   "metadata": {},
   "outputs": [],
   "source": [
    "def compute_accuracy(self):\n",
    "    \"\"\"This overrides the PerformanceBenchmark.compute_accuracy() method\"\"\"\n",
    "    preds, labels = [], []\n",
    "    for example in self.dataset:\n",
    "        pred = self.pipeline(example[\"text\"])[0][\"label\"]\n",
    "        label = example[\"intent\"]\n",
    "        preds.append(intents.str2int(pred))\n",
    "        labels.append(label)\n",
    "    accuracy = accuracy_score.compute(predictions=preds, references=labels)\n",
    "    print(f\"Accuracy on test set - {accuracy['accuracy']:.3f}\")\n",
    "    return accuracy\n",
    "\n",
    "PerformanceBenchmark.compute_accuracy = compute_accuracy"
   ]
  },
  {
   "cell_type": "code",
   "execution_count": 11,
   "id": "0e3ec836-1854-43b1-b37a-2a9beeac399b",
   "metadata": {},
   "outputs": [],
   "source": [
    "import torch\n",
    "from pathlib import Path\n",
    "\n",
    "def compute_size(self):\n",
    "    state_dict = self.pipeline.model.state_dict()\n",
    "    tmp_path = Path(\"model.pt\")\n",
    "    torch.save(state_dict, tmp_path)\n",
    "    # Calculate the size in megabytes\n",
    "    size_mb = Path(tmp_path).stat().st_size / (1024 * 1024)\n",
    "    # Delete temporary file\n",
    "    tmp_path.unlink()\n",
    "    print(f\"Model size (MB) - {size_mb:.2f}\")\n",
    "    return {\"size_mb\": size_mb}\n",
    "\n",
    "PerformanceBenchmark.compute_size = compute_size"
   ]
  },
  {
   "cell_type": "code",
   "execution_count": 14,
   "id": "3932649b-ebd3-4ef2-adc3-d6dd9c36fc10",
   "metadata": {},
   "outputs": [
    {
     "name": "stdout",
     "output_type": "stream",
     "text": [
      "Latency (ms) - 44.783\n",
      "Latency (ms) - 42.351\n",
      "Latency (ms) - 41.972\n"
     ]
    }
   ],
   "source": [
    "from time import perf_counter\n",
    "\n",
    "for _ in range(3):\n",
    "    start_time = perf_counter()\n",
    "    _ = pipe(query)\n",
    "    latency = perf_counter() - start_time\n",
    "    print(f\"Latency (ms) - {1000 * latency:.3f}\")"
   ]
  },
  {
   "cell_type": "code",
   "execution_count": 15,
   "id": "ab6a4fd8-3165-40c8-a26e-d503f56faef5",
   "metadata": {},
   "outputs": [],
   "source": [
    "import numpy as np\n",
    "\n",
    "def time_pipeline(self, query=\"What is the pin number for my account?\"):\n",
    "    latencies = []\n",
    "    for _ in range(10):\n",
    "        _ = self.pipeline(query)\n",
    "    # Timed run\n",
    "    for _ in range(100):\n",
    "        start_time = perf_counter()\n",
    "        _ = self.pipeline(query)\n",
    "        latency = perf_counter() - start_time\n",
    "        latencies.append(latency)\n",
    "    # Compute run statistics\n",
    "    time_avg_ms = 1000 * np.mean(latencies)\n",
    "    time_std_ms = 1000 * np.std(latencies)\n",
    "    print(f\"Average latency (ms) - {time_avg_ms:.2f} +\\- {time_std_ms:.2f}\")\n",
    "    return {\"time_avg_ms\": time_avg_ms, \"time_std_ms\": time_std_ms}\n",
    "\n",
    "PerformanceBenchmark.time_pipeline = time_pipeline"
   ]
  },
  {
   "cell_type": "code",
   "execution_count": 27,
   "id": "25b39389-2dc6-4dd0-98d9-57ba3402cba2",
   "metadata": {},
   "outputs": [
    {
     "name": "stdout",
     "output_type": "stream",
     "text": [
      "Model size (MB) - 255.88\n",
      "Average latency (ms) - 19.66 +\\- 0.51\n",
      "Accuracy on test set - 0.883\n"
     ]
    }
   ],
   "source": [
    "pb = PerformanceBenchmark(pipe, clinc[\"test\"])\n",
    "perf_metrics = pb.run_benchmark()"
   ]
  },
  {
   "cell_type": "markdown",
   "id": "3403bb62-e748-461a-89c9-da5329b91f15",
   "metadata": {},
   "source": [
    "## Making Models Smaller via Knowledge Distillation\n",
    "\n",
    "training a smaller *student* model to mimic the behavior of a slower, larger, but better-performing *teacher*.\n",
    "\n",
    "### Knowledge Distillation for Fine-tuning\n",
    "\n",
    "For supervised tasks like fine-tuning, the main idea is to augment the ground truth labels with a distribution of \"soft probabilities\" from the teacher which provide complementary information for the sudient to learn from.\n",
    "\n",
    "### Knowledge Distillation for Pretraining\n",
    "\n",
    "general-purpose student that can be subsequently fine-tuned on downstream tasks. The teacher is a pretrained language model ehich transfers its knowledge about masked language modleing to the student."
   ]
  },
  {
   "cell_type": "markdown",
   "id": "0ef88d42-8355-4212-8157-402ad27ad28b",
   "metadata": {},
   "source": [
    "Let's see how we can use knowledge distillation to fine-tune a smaller and faster model. To do that we'll need a way to augment the corss-entropy loss with a Lkd term. Fortunately we can do this by **creating our own trainer**!\n",
    "\n",
    "### Creating a Knowledge Distillation Trainer\n",
    "\n",
    "We need to add a few things to the Trainer base class:\n",
    "- The new hyperparameters alpha and T, which control the relative weight of the distillation loss and how much the probability distribution of the labels should be smoothed\n",
    "- The fine-tuned teacher model, which in our casi is BERT-base\n",
    "- A new loss function that combines the cross-entropy loss with the knowledge distillation loss"
   ]
  },
  {
   "cell_type": "code",
   "execution_count": 16,
   "id": "6fe55233-e035-45ad-a7f3-c1b27f378818",
   "metadata": {},
   "outputs": [],
   "source": [
    "from transformers import TrainingArguments\n",
    "\n",
    "# Adding the new hyperparameters. include them as attrbutes\n",
    "class DistillationTrainingArguments(TrainingArguments):\n",
    "    def __init__(self, *args, alpha=0.5, temperature=2.0, **kwargs):\n",
    "        super().__init__(*args, **kwargs)\n",
    "        self.alpha = alpha\n",
    "        self.temperature = temperature"
   ]
  },
  {
   "cell_type": "code",
   "execution_count": 17,
   "id": "c74f0696-e810-4fef-a7d1-5ebc4c11a6c4",
   "metadata": {},
   "outputs": [],
   "source": [
    "import torch.nn as nn\n",
    "import torch.nn.functional as F\n",
    "from transformers import Trainer\n",
    "\n",
    "# new loss function for the trainer itself. overriding compute_loss()\n",
    "class DistillationTrainer(Trainer):\n",
    "    def __init__(self, *args, teacher_model=None, **kwargs): # teacher model that has already been fine-tuned on our task\n",
    "        super().__init__(*args, **kwargs)\n",
    "        self.teacher_model = teacher_model\n",
    "\n",
    "    def compute_loss(self, model, inputs, return_outputs=False, **kwargs): # had to add **kwargs\n",
    "        outputs_stu = model(**inputs)\n",
    "        # Extract corss-entropy loss and logits from student\n",
    "        loss_ce = outputs_stu.loss\n",
    "        logits_stu = outputs_stu.logits\n",
    "        # Extract logits from teacher\n",
    "        with torch.no_grad():\n",
    "            outputs_tea = self.teacher_model(**inputs)\n",
    "            logits_tea = outputs_tea.logits\n",
    "        # Soften probabilities and compute distillation loss\n",
    "        loss_fct = nn.KLDivLoss(reduction=\"batchmean\") # we average the losses over the batch dimension\n",
    "        loss_kd = self.args.temperature ** 2 * loss_fct(\n",
    "            F.log_softmax(logits_stu / self.args.temperature, dim=-1), # expects the inputs in the form of log probabilities\n",
    "            F.softmax(logits_tea / self.args.temperature, dim=-1) # and the labels as normal probabilities\n",
    "        )\n",
    "        # Return weighted student loss\n",
    "        loss = self.args.alpha * loss_ce + (1. - self.args.alpha) * loss_kd\n",
    "        return (loss, outputs_stu) if return_outputs else loss"
   ]
  },
  {
   "cell_type": "markdown",
   "id": "fda81ba7-a1cc-4f89-a5d7-0f8726b5cf0f",
   "metadata": {},
   "source": [
    "### Choosing a Good Student Initialization\n",
    "\n",
    "Which pretrained languange model should we pick for the student? In general we should pick a smaller model for the student to reduce the latency and memory footprint.\n",
    "\n",
    "A good rule of thumb from the literature is that knowledge distillation works best when the teacher and student are of the same *model type*. Different model types can have different output embedding spaces, which hinders the ability of the sudent to mimic the teacher.\n",
    "\n",
    "In our case the teacher is BERT, so DistilBERT is a natural candidate to initialize the student with since it has 40% fewer parameters and has been shown to acheve strong results on downstream tasks."
   ]
  },
  {
   "cell_type": "code",
   "execution_count": 18,
   "id": "0d2434e3-ef73-4478-a7f2-2f1e8243a4cd",
   "metadata": {},
   "outputs": [],
   "source": [
    "from transformers import AutoTokenizer\n",
    "\n",
    "# Tokenize and encode our queries. Instantiate DistilBERT and create a simple tokenize_text() function ot take care of the preprocessing\n",
    "student_ckpt = \"distilbert-base-uncased\"\n",
    "student_tokenizer = AutoTokenizer.from_pretrained(student_ckpt)\n",
    "\n",
    "def tokenize_text(batch):\n",
    "    return student_tokenizer(batch[\"text\"], truncation=True)\n",
    "\n",
    "clinc_enc = clinc.map(tokenize_text, batched=True, remove_columns=[\"text\"]) # we no longer need text column\n",
    "clinc_enc = clinc_enc.rename_column(\"intent\", \"labels\") # so it can be automatically detected by the trainer"
   ]
  },
  {
   "cell_type": "code",
   "execution_count": 16,
   "id": "f8e6dacd-f4f1-4544-83c1-b96f819971b6",
   "metadata": {},
   "outputs": [
    {
     "data": {
      "application/vnd.jupyter.widget-view+json": {
       "model_id": "09ff11fbbf904b3eadd50a6c994e0436",
       "version_major": 2,
       "version_minor": 0
      },
      "text/plain": [
       "VBox(children=(HTML(value='<center> <img\\nsrc=https://huggingface.co/front/assets/huggingface_logo-noborder.sv…"
      ]
     },
     "metadata": {},
     "output_type": "display_data"
    }
   ],
   "source": [
    "from huggingface_hub import notebook_login\n",
    "notebook_login()"
   ]
  },
  {
   "cell_type": "code",
   "execution_count": 19,
   "id": "02db83dd-49da-457e-be60-9cc14dbefe9d",
   "metadata": {},
   "outputs": [],
   "source": [
    "# define compute_metrics() for our DistillationTrainer\n",
    "def compute_metrics(pred):\n",
    "    preds, labels = pred\n",
    "    preds = np.argmax(preds, axis=1)\n",
    "    return accuracy_score.compute(predictions=preds, references=labels)"
   ]
  },
  {
   "cell_type": "code",
   "execution_count": 20,
   "id": "f79cccd6-f609-41a5-a52b-be2d4c7ed2c8",
   "metadata": {},
   "outputs": [
    {
     "name": "stderr",
     "output_type": "stream",
     "text": [
      "/home/ssanchez/env/transformers/lib/python3.8/site-packages/transformers/training_args.py:1568: FutureWarning: `evaluation_strategy` is deprecated and will be removed in version 4.46 of 🤗 Transformers. Use `eval_strategy` instead\n",
      "  warnings.warn(\n",
      "huggingface/tokenizers: The current process just got forked, after parallelism has already been used. Disabling parallelism to avoid deadlocks...\n",
      "To disable this warning, you can either:\n",
      "\t- Avoid using `tokenizers` before the fork if possible\n",
      "\t- Explicitly set the environment variable TOKENIZERS_PARALLELISM=(true | false)\n"
     ]
    }
   ],
   "source": [
    "# Define training argumemnts\n",
    "batch_size = 48\n",
    "\n",
    "finetuned_ckpt = \"distilbert-base-uncased-finetuned-clinc\"\n",
    "student_training_args = DistillationTrainingArguments(\n",
    "    output_dir=finetuned_ckpt, evaluation_strategy=\"epoch\",\n",
    "    num_train_epochs=5, learning_rate=2e-5,\n",
    "    per_device_train_batch_size=batch_size,\n",
    "    per_device_eval_batch_size=batch_size, alpha=1,\n",
    "    weight_decay=0.01, push_to_hub=True\n",
    ")"
   ]
  },
  {
   "cell_type": "code",
   "execution_count": 21,
   "id": "0d4c5ea6-9ca1-4642-beb1-0bd4d1643f6b",
   "metadata": {},
   "outputs": [],
   "source": [
    "from transformers import AutoConfig\n",
    "# initialize a student model\n",
    "\n",
    "id2label = pipe.model.config.id2label\n",
    "label2id = pipe.model.config.label2id\n",
    "\n",
    "num_labels = intents.num_classes\n",
    "student_config = (AutoConfig.\n",
    "                 from_pretrained(student_ckpt,\n",
    "                                num_labels=num_labels,\n",
    "                                id2label=id2label,\n",
    "                                label2id=label2id))"
   ]
  },
  {
   "cell_type": "code",
   "execution_count": 22,
   "id": "e829652d-be8c-44b0-86cc-a3821b6b7fc4",
   "metadata": {},
   "outputs": [],
   "source": [
    "import torch\n",
    "from transformers import AutoModelForSequenceClassification\n",
    "\n",
    "device = torch.device(\"cuda\" if torch.cuda.is_available() else \"cpu\")\n",
    "\n",
    "def student_init():\n",
    "    return (AutoModelForSequenceClassification.from_pretrained(student_ckpt, config=student_config).to(device))"
   ]
  },
  {
   "cell_type": "code",
   "execution_count": 23,
   "id": "b7b9e506-49c9-4b61-9f96-bef1da98c083",
   "metadata": {},
   "outputs": [
    {
     "name": "stderr",
     "output_type": "stream",
     "text": [
      "/tmp/ipykernel_1523099/3053386859.py:8: FutureWarning: `tokenizer` is deprecated and will be removed in version 5.0.0 for `DistillationTrainer.__init__`. Use `processing_class` instead.\n",
      "  super().__init__(*args, **kwargs)\n",
      "Detected kernel version 5.4.0, which is below the recommended minimum of 5.5.0; this can cause the process to hang. It is recommended to upgrade the kernel to the minimum version or higher.\n",
      "Some weights of DistilBertForSequenceClassification were not initialized from the model checkpoint at distilbert-base-uncased and are newly initialized: ['classifier.bias', 'classifier.weight', 'pre_classifier.bias', 'pre_classifier.weight']\n",
      "You should probably TRAIN this model on a down-stream task to be able to use it for predictions and inference.\n",
      "huggingface/tokenizers: The current process just got forked, after parallelism has already been used. Disabling parallelism to avoid deadlocks...\n",
      "To disable this warning, you can either:\n",
      "\t- Avoid using `tokenizers` before the fork if possible\n",
      "\t- Explicitly set the environment variable TOKENIZERS_PARALLELISM=(true | false)\n",
      "huggingface/tokenizers: The current process just got forked, after parallelism has already been used. Disabling parallelism to avoid deadlocks...\n",
      "To disable this warning, you can either:\n",
      "\t- Avoid using `tokenizers` before the fork if possible\n",
      "\t- Explicitly set the environment variable TOKENIZERS_PARALLELISM=(true | false)\n",
      "huggingface/tokenizers: The current process just got forked, after parallelism has already been used. Disabling parallelism to avoid deadlocks...\n",
      "To disable this warning, you can either:\n",
      "\t- Avoid using `tokenizers` before the fork if possible\n",
      "\t- Explicitly set the environment variable TOKENIZERS_PARALLELISM=(true | false)\n",
      "huggingface/tokenizers: The current process just got forked, after parallelism has already been used. Disabling parallelism to avoid deadlocks...\n",
      "To disable this warning, you can either:\n",
      "\t- Avoid using `tokenizers` before the fork if possible\n",
      "\t- Explicitly set the environment variable TOKENIZERS_PARALLELISM=(true | false)\n"
     ]
    }
   ],
   "source": [
    "# Load the teacher and fine-tune\n",
    "teacher_ckpt = \"transformersbook/bert-base-uncased-finetuned-clinc\"\n",
    "teacher_model = (AutoModelForSequenceClassification\n",
    "                .from_pretrained(teacher_ckpt,\n",
    "                                num_labels=num_labels)\n",
    "                .to(device))\n",
    "\n",
    "distilbert_trainer = DistillationTrainer(model_init=student_init,\n",
    "                                        teacher_model=teacher_model, args=student_training_args,\n",
    "                                        train_dataset=clinc_enc[\"train\"],\n",
    "                                        eval_dataset=clinc_enc[\"validation\"],\n",
    "                                        compute_metrics=compute_metrics, tokenizer=student_tokenizer)\n",
    "\n",
    "# distilbert_trainer.train()"
   ]
  },
  {
   "cell_type": "markdown",
   "id": "f521eb58-7e57-4c81-a800-0b7df32d458c",
   "metadata": {},
   "source": [
    "The 92% accuracy on the validation set looks quite good compared to the 94% that the BERT-base teacher achieves."
   ]
  },
  {
   "cell_type": "code",
   "execution_count": 22,
   "id": "1a06ef94-704b-4b73-8953-aeccc4110315",
   "metadata": {},
   "outputs": [
    {
     "name": "stderr",
     "output_type": "stream",
     "text": [
      "No files have been modified since last commit. Skipping to prevent empty commit.\n"
     ]
    },
    {
     "data": {
      "text/plain": [
       "CommitInfo(commit_url='https://huggingface.co/sergi24sanchez/distilbert-base-uncased-finetuned-clinc/commit/ce294051719361819bcacad60974dc2bf8f6c0a2', commit_message='Training completed!', commit_description='', oid='ce294051719361819bcacad60974dc2bf8f6c0a2', pr_url=None, repo_url=RepoUrl('https://huggingface.co/sergi24sanchez/distilbert-base-uncased-finetuned-clinc', endpoint='https://huggingface.co', repo_type='model', repo_id='sergi24sanchez/distilbert-base-uncased-finetuned-clinc'), pr_revision=None, pr_num=None)"
      ]
     },
     "execution_count": 22,
     "metadata": {},
     "output_type": "execute_result"
    }
   ],
   "source": [
    "distilbert_trainer.push_to_hub(\"Training completed!\")"
   ]
  },
  {
   "cell_type": "code",
   "execution_count": 24,
   "id": "d07c9a84-ee42-48e4-8b51-b9f07b693060",
   "metadata": {},
   "outputs": [],
   "source": [
    "finetuned_ckpt = \"transformersbook/distilbert-base-uncased-finetuned-clinc\"\n",
    "pipe = pipeline(\"text-classification\", model=finetuned_ckpt, device=-1)"
   ]
  },
  {
   "cell_type": "code",
   "execution_count": 47,
   "id": "723dd67f-6e41-4d65-91e7-cd9225718ca9",
   "metadata": {},
   "outputs": [
    {
     "name": "stdout",
     "output_type": "stream",
     "text": [
      "Model size (MB) - 255.88\n",
      "Average latency (ms) - 16.00 +\\- 0.07\n",
      "Accuracy on test set - 0.883\n"
     ]
    }
   ],
   "source": [
    "optim_type = \"DistilBERT\"\n",
    "pb = PerformanceBenchmark(pipe, clinc[\"test\"], optim_type=optim_type)\n",
    "perf_metrics.update(pb.run_benchmark())"
   ]
  },
  {
   "cell_type": "markdown",
   "id": "2fbf26c0-8392-437b-8a14-39cec0f193c6",
   "metadata": {},
   "source": [
    "To compare these results against our baseline, let's create a scatter plot of the accyracy against the latency, with the radius of each point corresponding to the size of the model on disk."
   ]
  },
  {
   "cell_type": "code",
   "execution_count": 25,
   "id": "b3466509-9f80-40d5-a992-f23496a893f4",
   "metadata": {},
   "outputs": [],
   "source": [
    "import pandas as pd\n",
    "import matplotlib.pyplot as plt\n",
    "\n",
    "def plot_metrics(perf_metrics, current_optim_type):\n",
    "    df = pd.DataFrame.from_dict(perf_metrics, orient=\"index\")\n",
    "\n",
    "    for idx in df.index:\n",
    "        df_opt = df.loc[idx]\n",
    "        # Add a dashed circle around the current optimization type\n",
    "        if idx == current_optim_type:\n",
    "            plt.scatter(df_opt[\"time_avg_ms\"], df_opt[\"accuracy\"] * 100,\n",
    "            alpha=0.5, s=df_opt[\"size_mb\"], label=idx, marker='$\\u25CC$')\n",
    "        else:\n",
    "            plt.scatter(df_opt[\"time_avg_ms\"], df_opt[\"accuracy\"] * 100,\n",
    "            alpha=0.5, s=df_opt[\"size_mb\"], label=idx)\n",
    "\n",
    "    legend = plt.legend(bbox_to_anchor=(1,1))\n",
    "    for handle in legend.legendHandles:\n",
    "        handle.set_sizes([20])\n",
    "\n",
    "    plt.ylim(80,90)\n",
    "    # Use the slowest model to define the x-axis range\n",
    "    xlim = int(perf_metrics[\"BERT-baseline\"][\"time_avg_ms\"] + 3)\n",
    "    plt.xlim(1, xlim)\n",
    "    plt.ylabel(\"Accuracy (%)\")\n",
    "    plt.xlabel(\"Average latency (ms)\")\n",
    "    plt.show()\n"
   ]
  },
  {
   "cell_type": "code",
   "execution_count": 48,
   "id": "ba81a9b5-f792-457d-9611-be96c6292d85",
   "metadata": {},
   "outputs": [
    {
     "name": "stderr",
     "output_type": "stream",
     "text": [
      "/tmp/ipykernel_1523099/3513452108.py:18: MatplotlibDeprecationWarning: The legendHandles attribute was deprecated in Matplotlib 3.7 and will be removed two minor releases later. Use legend_handles instead.\n",
      "  for handle in legend.legendHandles:\n"
     ]
    },
    {
     "data": {
      "image/png": "[encoded data removed]",
      "text/plain": [
       "<Figure size 640x480 with 1 Axes>"
      ]
     },
     "metadata": {},
     "output_type": "display_data"
    }
   ],
   "source": [
    "plot_metrics(perf_metrics, optim_type)"
   ]
  },
  {
   "cell_type": "markdown",
   "id": "65682a36-bd0f-4413-b8a0-6735991f865a",
   "metadata": {},
   "source": [
    "From the plot we can see that by using a smaller model we've managed to significantly decrease the average latency. And all this at the price of just 1% reduction in accuracy!\n",
    "\n",
    "Let's see if we can close that last gap by including the distillation loss of the teacher and finding good values for alpha and T.\n",
    "\n",
    "### Finding Good Hyperparameters with Optuna\n",
    "\n",
    "To find good values of alpha and T we could do a grid search over the 2D parameter space. But a much better alternative is to *Optuna*, which is an optimization framework designed for just this type of task.\n",
    "\n",
    "Optuna formulates the search problem in therms of an objesctive function that is oprimized though mutliple *trials*. We can dinf the minimum of $f(x,y)$ by defining an *objective()* function that returns the value of $f(x,y)$"
   ]
  },
  {
   "cell_type": "code",
   "execution_count": 24,
   "id": "94fe8edc-2cd8-4793-85c2-9f2987ff410a",
   "metadata": {},
   "outputs": [],
   "source": [
    "def objective(trial):\n",
    "    x = trial.suggest_float(\"x\", -2, 2) # suggest_float specifies the parameter ranges to sample uniformly from\n",
    "    y = trial.suggest_float(\"y\", -2, 2)\n",
    "    return (1 - x) ** 2 + 100 * (y - x ** 2) ** 2"
   ]
  },
  {
   "cell_type": "code",
   "execution_count": null,
   "id": "142af8c3-e50b-4a27-9360-d7d5017d9759",
   "metadata": {},
   "outputs": [],
   "source": [
    "# Optuna collects multiple trials as a *study*, so to create one we just pass the *objective()* function to study.optimize()\n",
    "import optuna\n",
    "\n",
    "study = optuna.create_study()\n",
    "study.optimize(objective, n_trials=1000)"
   ]
  },
  {
   "cell_type": "code",
   "execution_count": 26,
   "id": "d6d5c793-aba1-4b84-88bc-25a7e4100c1d",
   "metadata": {},
   "outputs": [
    {
     "data": {
      "text/plain": [
       "{'x': 1.0028932345941632, 'y': 1.0079501096871013}"
      ]
     },
     "execution_count": 26,
     "metadata": {},
     "output_type": "execute_result"
    }
   ],
   "source": [
    "study.best_params"
   ]
  },
  {
   "cell_type": "markdown",
   "id": "a3a55a31-842b-4d63-841b-095ac70d04d2",
   "metadata": {},
   "source": [
    "To use Optuna in Transformers, we use similar logic by first defining the hyperparameter space that we wish to optimize over."
   ]
  },
  {
   "cell_type": "code",
   "execution_count": 27,
   "id": "20d9783b-d265-4813-aac9-d0796b1a16e6",
   "metadata": {},
   "outputs": [],
   "source": [
    "def hp_space(trial):\n",
    "    return {\"num_train_epochs\": trial.suggest_int(\"num_train_epochs\", 5, 10),\n",
    "           \"alpha\": trial.suggest_float(\"alpha\", 0, 1),\n",
    "           \"temperature\": trial.suggest_int(\"temperature\", 2, 20)}"
   ]
  },
  {
   "cell_type": "markdown",
   "id": "34f1211b-0d60-45cf-911e-d27c4c1716ad",
   "metadata": {},
   "source": [
    "Running the hyperparameter search with the Trainer is then quite simple"
   ]
  },
  {
   "cell_type": "code",
   "execution_count": 30,
   "id": "a135d7f8-3299-4eb9-bff7-c3568cb89b74",
   "metadata": {},
   "outputs": [
    {
     "name": "stderr",
     "output_type": "stream",
     "text": [
      "[I 2025-06-18 15:22:12,001] A new study created in memory with name: no-name-6d446f1f-3b0a-4877-8360-de79d9078864\n",
      "Detected kernel version 5.4.0, which is below the recommended minimum of 5.5.0; this can cause the process to hang. It is recommended to upgrade the kernel to the minimum version or higher.\n",
      "Some weights of DistilBertForSequenceClassification were not initialized from the model checkpoint at distilbert-base-uncased and are newly initialized: ['classifier.bias', 'classifier.weight', 'pre_classifier.bias', 'pre_classifier.weight']\n",
      "You should probably TRAIN this model on a down-stream task to be able to use it for predictions and inference.\n",
      "huggingface/tokenizers: The current process just got forked, after parallelism has already been used. Disabling parallelism to avoid deadlocks...\n",
      "To disable this warning, you can either:\n",
      "\t- Avoid using `tokenizers` before the fork if possible\n",
      "\t- Explicitly set the environment variable TOKENIZERS_PARALLELISM=(true | false)\n",
      "huggingface/tokenizers: The current process just got forked, after parallelism has already been used. Disabling parallelism to avoid deadlocks...\n",
      "To disable this warning, you can either:\n",
      "\t- Avoid using `tokenizers` before the fork if possible\n",
      "\t- Explicitly set the environment variable TOKENIZERS_PARALLELISM=(true | false)\n",
      "huggingface/tokenizers: The current process just got forked, after parallelism has already been used. Disabling parallelism to avoid deadlocks...\n",
      "To disable this warning, you can either:\n",
      "\t- Avoid using `tokenizers` before the fork if possible\n",
      "\t- Explicitly set the environment variable TOKENIZERS_PARALLELISM=(true | false)\n",
      "\u001b[34m\u001b[1mwandb\u001b[0m: W&B API key is configured. Use \u001b[1m`wandb login --relogin`\u001b[0m to force relogin\n",
      "huggingface/tokenizers: The current process just got forked, after parallelism has already been used. Disabling parallelism to avoid deadlocks...\n",
      "To disable this warning, you can either:\n",
      "\t- Avoid using `tokenizers` before the fork if possible\n",
      "\t- Explicitly set the environment variable TOKENIZERS_PARALLELISM=(true | false)\n"
     ]
    },
    {
     "data": {
      "text/html": [
       "creating run (0.0s)"
      ],
      "text/plain": [
       "<IPython.core.display.HTML object>"
      ]
     },
     "metadata": {},
     "output_type": "display_data"
    },
    {
     "data": {
      "text/html": [
       "Tracking run with wandb version 0.19.11"
      ],
      "text/plain": [
       "<IPython.core.display.HTML object>"
      ]
     },
     "metadata": {},
     "output_type": "display_data"
    },
    {
     "data": {
      "text/html": [
       "Run data is saved locally in <code>/home/ssanchez/repositories/Learning/NLPTransformers/wandb/run-20250618_152223-3v5z7841</code>"
      ],
      "text/plain": [
       "<IPython.core.display.HTML object>"
      ]
     },
     "metadata": {},
     "output_type": "display_data"
    },
    {
     "data": {
      "text/html": [
       "Syncing run <strong><a href='https://wandb.ai/sergi-sanchez-bonilla/huggingface/runs/3v5z7841' target=\"_blank\">jolly-plasma-28</a></strong> to <a href='https://wandb.ai/sergi-sanchez-bonilla/huggingface' target=\"_blank\">Weights & Biases</a> (<a href='https://wandb.me/developer-guide' target=\"_blank\">docs</a>)<br>"
      ],
      "text/plain": [
       "<IPython.core.display.HTML object>"
      ]
     },
     "metadata": {},
     "output_type": "display_data"
    },
    {
     "data": {
      "text/html": [
       " View project at <a href='https://wandb.ai/sergi-sanchez-bonilla/huggingface' target=\"_blank\">https://wandb.ai/sergi-sanchez-bonilla/huggingface</a>"
      ],
      "text/plain": [
       "<IPython.core.display.HTML object>"
      ]
     },
     "metadata": {},
     "output_type": "display_data"
    },
    {
     "data": {
      "text/html": [
       " View run at <a href='https://wandb.ai/sergi-sanchez-bonilla/huggingface/runs/3v5z7841' target=\"_blank\">https://wandb.ai/sergi-sanchez-bonilla/huggingface/runs/3v5z7841</a>"
      ],
      "text/plain": [
       "<IPython.core.display.HTML object>"
      ]
     },
     "metadata": {},
     "output_type": "display_data"
    },
    {
     "data": {
      "text/html": [
       "\n",
       "    <div>\n",
       "      \n",
       "      <progress value='1590' max='1590' style='width:300px; height:20px; vertical-align: middle;'></progress>\n",
       "      [1590/1590 01:34, Epoch 5/5]\n",
       "    </div>\n",
       "    <table border=\"1\" class=\"dataframe\">\n",
       "  <thead>\n",
       " <tr style=\"text-align: left;\">\n",
       "      <th>Epoch</th>\n",
       "      <th>Training Loss</th>\n",
       "      <th>Validation Loss</th>\n",
       "      <th>Accuracy</th>\n",
       "    </tr>\n",
       "  </thead>\n",
       "  <tbody>\n",
       "    <tr>\n",
       "      <td>1</td>\n",
       "      <td>No log</td>\n",
       "      <td>0.201185</td>\n",
       "      <td>0.565806</td>\n",
       "    </tr>\n",
       "    <tr>\n",
       "      <td>2</td>\n",
       "      <td>0.315800</td>\n",
       "      <td>0.106367</td>\n",
       "      <td>0.799355</td>\n",
       "    </tr>\n",
       "    <tr>\n",
       "      <td>3</td>\n",
       "      <td>0.315800</td>\n",
       "      <td>0.076926</td>\n",
       "      <td>0.861613</td>\n",
       "    </tr>\n",
       "    <tr>\n",
       "      <td>4</td>\n",
       "      <td>0.122000</td>\n",
       "      <td>0.064741</td>\n",
       "      <td>0.875484</td>\n",
       "    </tr>\n",
       "    <tr>\n",
       "      <td>5</td>\n",
       "      <td>0.088100</td>\n",
       "      <td>0.060900</td>\n",
       "      <td>0.880645</td>\n",
       "    </tr>\n",
       "  </tbody>\n",
       "</table><p>"
      ],
      "text/plain": [
       "<IPython.core.display.HTML object>"
      ]
     },
     "metadata": {},
     "output_type": "display_data"
    },
    {
     "name": "stderr",
     "output_type": "stream",
     "text": [
      "It seems you are trying to upload a large folder at once. This might take some time and then fail if the folder is too large. For such cases, it is recommended to upload in smaller batches or to use `HfApi().upload_large_folder(...)`/`huggingface-cli upload-large-folder` instead. For more details, check out https://huggingface.co/docs/huggingface_hub/main/en/guides/upload#upload-a-large-folder.\n",
      "[I 2025-06-18 15:24:57,619] Trial 0 finished with value: 0.8806451612903226 and parameters: {'num_train_epochs': 5, 'alpha': 0.33159369526218396, 'temperature': 17}. Best is trial 0 with value: 0.8806451612903226.\n",
      "Detected kernel version 5.4.0, which is below the recommended minimum of 5.5.0; this can cause the process to hang. It is recommended to upgrade the kernel to the minimum version or higher.\n",
      "Some weights of DistilBertForSequenceClassification were not initialized from the model checkpoint at distilbert-base-uncased and are newly initialized: ['classifier.bias', 'classifier.weight', 'pre_classifier.bias', 'pre_classifier.weight']\n",
      "You should probably TRAIN this model on a down-stream task to be able to use it for predictions and inference.\n"
     ]
    },
    {
     "data": {
      "text/html": [],
      "text/plain": [
       "<IPython.core.display.HTML object>"
      ]
     },
     "metadata": {},
     "output_type": "display_data"
    },
    {
     "data": {
      "text/html": [
       "<br>    <style><br>        .wandb-row {<br>            display: flex;<br>            flex-direction: row;<br>            flex-wrap: wrap;<br>            justify-content: flex-start;<br>            width: 100%;<br>        }<br>        .wandb-col {<br>            display: flex;<br>            flex-direction: column;<br>            flex-basis: 100%;<br>            flex: 1;<br>            padding: 10px;<br>        }<br>    </style><br><div class=\"wandb-row\"><div class=\"wandb-col\"><h3>Run history:</h3><br/><table class=\"wandb\"><tr><td>eval/accuracy</td><td>▁▆███</td></tr><tr><td>eval/loss</td><td>█▃▂▁▁</td></tr><tr><td>eval/runtime</td><td>▇▁██▁</td></tr><tr><td>eval/samples_per_second</td><td>▂█▁▁█</td></tr><tr><td>eval/steps_per_second</td><td>▂█▁▁█</td></tr><tr><td>train/epoch</td><td>▁▂▃▅▅▆███</td></tr><tr><td>train/global_step</td><td>▁▂▃▄▅▆███</td></tr><tr><td>train/grad_norm</td><td>█▆▁</td></tr><tr><td>train/learning_rate</td><td>█▄▁</td></tr><tr><td>train/loss</td><td>█▂▁</td></tr></table><br/></div><div class=\"wandb-col\"><h3>Run summary:</h3><br/><table class=\"wandb\"><tr><td>eval/accuracy</td><td>0.88065</td></tr><tr><td>eval/loss</td><td>0.0609</td></tr><tr><td>eval/runtime</td><td>1.3798</td></tr><tr><td>eval/samples_per_second</td><td>2246.783</td></tr><tr><td>eval/steps_per_second</td><td>47.11</td></tr><tr><td>total_flos</td><td>414689637990180.0</td></tr><tr><td>train/epoch</td><td>5</td></tr><tr><td>train/global_step</td><td>1590</td></tr><tr><td>train/grad_norm</td><td>0.36957</td></tr><tr><td>train/learning_rate</td><td>0.0</td></tr><tr><td>train/loss</td><td>0.0881</td></tr><tr><td>train_loss</td><td>0.17</td></tr><tr><td>train_runtime</td><td>112.0972</td></tr><tr><td>train_samples_per_second</td><td>680.213</td></tr><tr><td>train_steps_per_second</td><td>14.184</td></tr></table><br/></div></div>"
      ],
      "text/plain": [
       "<IPython.core.display.HTML object>"
      ]
     },
     "metadata": {},
     "output_type": "display_data"
    },
    {
     "data": {
      "text/html": [
       " View run <strong style=\"color:#cdcd00\">jolly-plasma-28</strong> at: <a href='https://wandb.ai/sergi-sanchez-bonilla/huggingface/runs/3v5z7841' target=\"_blank\">https://wandb.ai/sergi-sanchez-bonilla/huggingface/runs/3v5z7841</a><br> View project at: <a href='https://wandb.ai/sergi-sanchez-bonilla/huggingface' target=\"_blank\">https://wandb.ai/sergi-sanchez-bonilla/huggingface</a><br>Synced 5 W&B file(s), 0 media file(s), 0 artifact file(s) and 0 other file(s)"
      ],
      "text/plain": [
       "<IPython.core.display.HTML object>"
      ]
     },
     "metadata": {},
     "output_type": "display_data"
    },
    {
     "data": {
      "text/html": [
       "Find logs at: <code>./wandb/run-20250618_152223-3v5z7841/logs</code>"
      ],
      "text/plain": [
       "<IPython.core.display.HTML object>"
      ]
     },
     "metadata": {},
     "output_type": "display_data"
    },
    {
     "name": "stderr",
     "output_type": "stream",
     "text": [
      "\u001b[34m\u001b[1mwandb\u001b[0m: Currently logged in as: \u001b[33msergi-sanchez-bonilla\u001b[0m to \u001b[32mhttps://api.wandb.ai\u001b[0m. Use \u001b[1m`wandb login --relogin`\u001b[0m to force relogin\n",
      "huggingface/tokenizers: The current process just got forked, after parallelism has already been used. Disabling parallelism to avoid deadlocks...\n",
      "To disable this warning, you can either:\n",
      "\t- Avoid using `tokenizers` before the fork if possible\n",
      "\t- Explicitly set the environment variable TOKENIZERS_PARALLELISM=(true | false)\n"
     ]
    },
    {
     "data": {
      "text/html": [
       "Tracking run with wandb version 0.19.11"
      ],
      "text/plain": [
       "<IPython.core.display.HTML object>"
      ]
     },
     "metadata": {},
     "output_type": "display_data"
    },
    {
     "data": {
      "text/html": [
       "Run data is saved locally in <code>/home/ssanchez/repositories/Learning/NLPTransformers/wandb/run-20250618_152459-mwy4hfun</code>"
      ],
      "text/plain": [
       "<IPython.core.display.HTML object>"
      ]
     },
     "metadata": {},
     "output_type": "display_data"
    },
    {
     "data": {
      "text/html": [
       "Syncing run <strong><a href='https://wandb.ai/sergi-sanchez-bonilla/huggingface/runs/mwy4hfun' target=\"_blank\">pious-lake-29</a></strong> to <a href='https://wandb.ai/sergi-sanchez-bonilla/huggingface' target=\"_blank\">Weights & Biases</a> (<a href='https://wandb.me/developer-guide' target=\"_blank\">docs</a>)<br>"
      ],
      "text/plain": [
       "<IPython.core.display.HTML object>"
      ]
     },
     "metadata": {},
     "output_type": "display_data"
    },
    {
     "data": {
      "text/html": [
       " View project at <a href='https://wandb.ai/sergi-sanchez-bonilla/huggingface' target=\"_blank\">https://wandb.ai/sergi-sanchez-bonilla/huggingface</a>"
      ],
      "text/plain": [
       "<IPython.core.display.HTML object>"
      ]
     },
     "metadata": {},
     "output_type": "display_data"
    },
    {
     "data": {
      "text/html": [
       " View run at <a href='https://wandb.ai/sergi-sanchez-bonilla/huggingface/runs/mwy4hfun' target=\"_blank\">https://wandb.ai/sergi-sanchez-bonilla/huggingface/runs/mwy4hfun</a>"
      ],
      "text/plain": [
       "<IPython.core.display.HTML object>"
      ]
     },
     "metadata": {},
     "output_type": "display_data"
    },
    {
     "data": {
      "text/html": [
       "\n",
       "    <div>\n",
       "      \n",
       "      <progress value='1590' max='1590' style='width:300px; height:20px; vertical-align: middle;'></progress>\n",
       "      [1590/1590 01:35, Epoch 5/5]\n",
       "    </div>\n",
       "    <table border=\"1\" class=\"dataframe\">\n",
       "  <thead>\n",
       " <tr style=\"text-align: left;\">\n",
       "      <th>Epoch</th>\n",
       "      <th>Training Loss</th>\n",
       "      <th>Validation Loss</th>\n",
       "      <th>Accuracy</th>\n",
       "    </tr>\n",
       "  </thead>\n",
       "  <tbody>\n",
       "    <tr>\n",
       "      <td>1</td>\n",
       "      <td>No log</td>\n",
       "      <td>0.201185</td>\n",
       "      <td>0.565806</td>\n",
       "    </tr>\n",
       "    <tr>\n",
       "      <td>2</td>\n",
       "      <td>0.315800</td>\n",
       "      <td>0.106367</td>\n",
       "      <td>0.799355</td>\n",
       "    </tr>\n",
       "    <tr>\n",
       "      <td>3</td>\n",
       "      <td>0.315800</td>\n",
       "      <td>0.076926</td>\n",
       "      <td>0.861613</td>\n",
       "    </tr>\n",
       "    <tr>\n",
       "      <td>4</td>\n",
       "      <td>0.122000</td>\n",
       "      <td>0.064741</td>\n",
       "      <td>0.875484</td>\n",
       "    </tr>\n",
       "    <tr>\n",
       "      <td>5</td>\n",
       "      <td>0.088100</td>\n",
       "      <td>0.060900</td>\n",
       "      <td>0.880645</td>\n",
       "    </tr>\n",
       "  </tbody>\n",
       "</table><p>"
      ],
      "text/plain": [
       "<IPython.core.display.HTML object>"
      ]
     },
     "metadata": {},
     "output_type": "display_data"
    },
    {
     "name": "stderr",
     "output_type": "stream",
     "text": [
      "It seems you are trying to upload a large folder at once. This might take some time and then fail if the folder is too large. For such cases, it is recommended to upload in smaller batches or to use `HfApi().upload_large_folder(...)`/`huggingface-cli upload-large-folder` instead. For more details, check out https://huggingface.co/docs/huggingface_hub/main/en/guides/upload#upload-a-large-folder.\n",
      "[I 2025-06-18 15:26:51,167] Trial 1 finished with value: 0.8806451612903226 and parameters: {'num_train_epochs': 5, 'alpha': 0.7964592714435752, 'temperature': 17}. Best is trial 0 with value: 0.8806451612903226.\n",
      "Detected kernel version 5.4.0, which is below the recommended minimum of 5.5.0; this can cause the process to hang. It is recommended to upgrade the kernel to the minimum version or higher.\n",
      "Some weights of DistilBertForSequenceClassification were not initialized from the model checkpoint at distilbert-base-uncased and are newly initialized: ['classifier.bias', 'classifier.weight', 'pre_classifier.bias', 'pre_classifier.weight']\n",
      "You should probably TRAIN this model on a down-stream task to be able to use it for predictions and inference.\n"
     ]
    },
    {
     "data": {
      "text/html": [],
      "text/plain": [
       "<IPython.core.display.HTML object>"
      ]
     },
     "metadata": {},
     "output_type": "display_data"
    },
    {
     "data": {
      "text/html": [
       "<br>    <style><br>        .wandb-row {<br>            display: flex;<br>            flex-direction: row;<br>            flex-wrap: wrap;<br>            justify-content: flex-start;<br>            width: 100%;<br>        }<br>        .wandb-col {<br>            display: flex;<br>            flex-direction: column;<br>            flex-basis: 100%;<br>            flex: 1;<br>            padding: 10px;<br>        }<br>    </style><br><div class=\"wandb-row\"><div class=\"wandb-col\"><h3>Run history:</h3><br/><table class=\"wandb\"><tr><td>eval/accuracy</td><td>▁▆███</td></tr><tr><td>eval/loss</td><td>█▃▂▁▁</td></tr><tr><td>eval/runtime</td><td>▁▃▄▇█</td></tr><tr><td>eval/samples_per_second</td><td>█▆▅▂▁</td></tr><tr><td>eval/steps_per_second</td><td>█▆▅▂▁</td></tr><tr><td>train/epoch</td><td>▁▂▃▅▅▆███</td></tr><tr><td>train/global_step</td><td>▁▂▃▄▅▆███</td></tr><tr><td>train/grad_norm</td><td>█▆▁</td></tr><tr><td>train/learning_rate</td><td>█▄▁</td></tr><tr><td>train/loss</td><td>█▂▁</td></tr></table><br/></div><div class=\"wandb-col\"><h3>Run summary:</h3><br/><table class=\"wandb\"><tr><td>eval/accuracy</td><td>0.88065</td></tr><tr><td>eval/loss</td><td>0.0609</td></tr><tr><td>eval/runtime</td><td>1.4088</td></tr><tr><td>eval/samples_per_second</td><td>2200.476</td></tr><tr><td>eval/steps_per_second</td><td>46.139</td></tr><tr><td>total_flos</td><td>414689637990180.0</td></tr><tr><td>train/epoch</td><td>5</td></tr><tr><td>train/global_step</td><td>1590</td></tr><tr><td>train/grad_norm</td><td>0.36957</td></tr><tr><td>train/learning_rate</td><td>0.0</td></tr><tr><td>train/loss</td><td>0.0881</td></tr><tr><td>train_loss</td><td>0.17</td></tr><tr><td>train_runtime</td><td>96.1697</td></tr><tr><td>train_samples_per_second</td><td>792.869</td></tr><tr><td>train_steps_per_second</td><td>16.533</td></tr></table><br/></div></div>"
      ],
      "text/plain": [
       "<IPython.core.display.HTML object>"
      ]
     },
     "metadata": {},
     "output_type": "display_data"
    },
    {
     "data": {
      "text/html": [
       " View run <strong style=\"color:#cdcd00\">pious-lake-29</strong> at: <a href='https://wandb.ai/sergi-sanchez-bonilla/huggingface/runs/mwy4hfun' target=\"_blank\">https://wandb.ai/sergi-sanchez-bonilla/huggingface/runs/mwy4hfun</a><br> View project at: <a href='https://wandb.ai/sergi-sanchez-bonilla/huggingface' target=\"_blank\">https://wandb.ai/sergi-sanchez-bonilla/huggingface</a><br>Synced 5 W&B file(s), 0 media file(s), 0 artifact file(s) and 0 other file(s)"
      ],
      "text/plain": [
       "<IPython.core.display.HTML object>"
      ]
     },
     "metadata": {},
     "output_type": "display_data"
    },
    {
     "data": {
      "text/html": [
       "Find logs at: <code>./wandb/run-20250618_152459-mwy4hfun/logs</code>"
      ],
      "text/plain": [
       "<IPython.core.display.HTML object>"
      ]
     },
     "metadata": {},
     "output_type": "display_data"
    },
    {
     "name": "stderr",
     "output_type": "stream",
     "text": [
      "huggingface/tokenizers: The current process just got forked, after parallelism has already been used. Disabling parallelism to avoid deadlocks...\n",
      "To disable this warning, you can either:\n",
      "\t- Avoid using `tokenizers` before the fork if possible\n",
      "\t- Explicitly set the environment variable TOKENIZERS_PARALLELISM=(true | false)\n"
     ]
    },
    {
     "data": {
      "text/html": [
       "Tracking run with wandb version 0.19.11"
      ],
      "text/plain": [
       "<IPython.core.display.HTML object>"
      ]
     },
     "metadata": {},
     "output_type": "display_data"
    },
    {
     "data": {
      "text/html": [
       "Run data is saved locally in <code>/home/ssanchez/repositories/Learning/NLPTransformers/wandb/run-20250618_152652-bi1rci9s</code>"
      ],
      "text/plain": [
       "<IPython.core.display.HTML object>"
      ]
     },
     "metadata": {},
     "output_type": "display_data"
    },
    {
     "data": {
      "text/html": [
       "Syncing run <strong><a href='https://wandb.ai/sergi-sanchez-bonilla/huggingface/runs/bi1rci9s' target=\"_blank\">fresh-grass-30</a></strong> to <a href='https://wandb.ai/sergi-sanchez-bonilla/huggingface' target=\"_blank\">Weights & Biases</a> (<a href='https://wandb.me/developer-guide' target=\"_blank\">docs</a>)<br>"
      ],
      "text/plain": [
       "<IPython.core.display.HTML object>"
      ]
     },
     "metadata": {},
     "output_type": "display_data"
    },
    {
     "data": {
      "text/html": [
       " View project at <a href='https://wandb.ai/sergi-sanchez-bonilla/huggingface' target=\"_blank\">https://wandb.ai/sergi-sanchez-bonilla/huggingface</a>"
      ],
      "text/plain": [
       "<IPython.core.display.HTML object>"
      ]
     },
     "metadata": {},
     "output_type": "display_data"
    },
    {
     "data": {
      "text/html": [
       " View run at <a href='https://wandb.ai/sergi-sanchez-bonilla/huggingface/runs/bi1rci9s' target=\"_blank\">https://wandb.ai/sergi-sanchez-bonilla/huggingface/runs/bi1rci9s</a>"
      ],
      "text/plain": [
       "<IPython.core.display.HTML object>"
      ]
     },
     "metadata": {},
     "output_type": "display_data"
    },
    {
     "data": {
      "text/html": [
       "\n",
       "    <div>\n",
       "      \n",
       "      <progress value='2862' max='2862' style='width:300px; height:20px; vertical-align: middle;'></progress>\n",
       "      [2862/2862 02:40, Epoch 9/9]\n",
       "    </div>\n",
       "    <table border=\"1\" class=\"dataframe\">\n",
       "  <thead>\n",
       " <tr style=\"text-align: left;\">\n",
       "      <th>Epoch</th>\n",
       "      <th>Training Loss</th>\n",
       "      <th>Validation Loss</th>\n",
       "      <th>Accuracy</th>\n",
       "    </tr>\n",
       "  </thead>\n",
       "  <tbody>\n",
       "    <tr>\n",
       "      <td>1</td>\n",
       "      <td>No log</td>\n",
       "      <td>0.191109</td>\n",
       "      <td>0.578710</td>\n",
       "    </tr>\n",
       "    <tr>\n",
       "      <td>2</td>\n",
       "      <td>0.307600</td>\n",
       "      <td>0.094603</td>\n",
       "      <td>0.823548</td>\n",
       "    </tr>\n",
       "    <tr>\n",
       "      <td>3</td>\n",
       "      <td>0.307600</td>\n",
       "      <td>0.063944</td>\n",
       "      <td>0.879032</td>\n",
       "    </tr>\n",
       "    <tr>\n",
       "      <td>4</td>\n",
       "      <td>0.109100</td>\n",
       "      <td>0.049479</td>\n",
       "      <td>0.893548</td>\n",
       "    </tr>\n",
       "    <tr>\n",
       "      <td>5</td>\n",
       "      <td>0.070000</td>\n",
       "      <td>0.040733</td>\n",
       "      <td>0.907419</td>\n",
       "    </tr>\n",
       "    <tr>\n",
       "      <td>6</td>\n",
       "      <td>0.070000</td>\n",
       "      <td>0.035880</td>\n",
       "      <td>0.914194</td>\n",
       "    </tr>\n",
       "    <tr>\n",
       "      <td>7</td>\n",
       "      <td>0.055500</td>\n",
       "      <td>0.033309</td>\n",
       "      <td>0.917742</td>\n",
       "    </tr>\n",
       "    <tr>\n",
       "      <td>8</td>\n",
       "      <td>0.048700</td>\n",
       "      <td>0.031520</td>\n",
       "      <td>0.922258</td>\n",
       "    </tr>\n",
       "    <tr>\n",
       "      <td>9</td>\n",
       "      <td>0.048700</td>\n",
       "      <td>0.030961</td>\n",
       "      <td>0.922903</td>\n",
       "    </tr>\n",
       "  </tbody>\n",
       "</table><p>"
      ],
      "text/plain": [
       "<IPython.core.display.HTML object>"
      ]
     },
     "metadata": {},
     "output_type": "display_data"
    },
    {
     "name": "stderr",
     "output_type": "stream",
     "text": [
      "It seems you are trying to upload a large folder at once. This might take some time and then fail if the folder is too large. For such cases, it is recommended to upload in smaller batches or to use `HfApi().upload_large_folder(...)`/`huggingface-cli upload-large-folder` instead. For more details, check out https://huggingface.co/docs/huggingface_hub/main/en/guides/upload#upload-a-large-folder.\n",
      "It seems you are trying to upload a large folder at once. This might take some time and then fail if the folder is too large. For such cases, it is recommended to upload in smaller batches or to use `HfApi().upload_large_folder(...)`/`huggingface-cli upload-large-folder` instead. For more details, check out https://huggingface.co/docs/huggingface_hub/main/en/guides/upload#upload-a-large-folder.\n",
      "[I 2025-06-18 15:30:12,207] Trial 2 finished with value: 0.9229032258064516 and parameters: {'num_train_epochs': 9, 'alpha': 0.004064108208858719, 'temperature': 19}. Best is trial 2 with value: 0.9229032258064516.\n",
      "Detected kernel version 5.4.0, which is below the recommended minimum of 5.5.0; this can cause the process to hang. It is recommended to upgrade the kernel to the minimum version or higher.\n",
      "Some weights of DistilBertForSequenceClassification were not initialized from the model checkpoint at distilbert-base-uncased and are newly initialized: ['classifier.bias', 'classifier.weight', 'pre_classifier.bias', 'pre_classifier.weight']\n",
      "You should probably TRAIN this model on a down-stream task to be able to use it for predictions and inference.\n"
     ]
    },
    {
     "data": {
      "text/html": [],
      "text/plain": [
       "<IPython.core.display.HTML object>"
      ]
     },
     "metadata": {},
     "output_type": "display_data"
    },
    {
     "data": {
      "text/html": [
       "<br>    <style><br>        .wandb-row {<br>            display: flex;<br>            flex-direction: row;<br>            flex-wrap: wrap;<br>            justify-content: flex-start;<br>            width: 100%;<br>        }<br>        .wandb-col {<br>            display: flex;<br>            flex-direction: column;<br>            flex-basis: 100%;<br>            flex: 1;<br>            padding: 10px;<br>        }<br>    </style><br><div class=\"wandb-row\"><div class=\"wandb-col\"><h3>Run history:</h3><br/><table class=\"wandb\"><tr><td>eval/accuracy</td><td>▁▆▇▇█████</td></tr><tr><td>eval/loss</td><td>█▄▂▂▁▁▁▁▁</td></tr><tr><td>eval/runtime</td><td>▁▂▃▅▂▃▃▃█</td></tr><tr><td>eval/samples_per_second</td><td>█▇▆▄▇▆▆▅▁</td></tr><tr><td>eval/steps_per_second</td><td>█▇▆▄▇▆▆▅▁</td></tr><tr><td>train/epoch</td><td>▁▂▂▃▃▄▄▅▅▆▆▇▇██</td></tr><tr><td>train/global_step</td><td>▁▂▂▃▃▄▄▄▅▆▆▇▇██</td></tr><tr><td>train/grad_norm</td><td>█▇▃▂▁</td></tr><tr><td>train/learning_rate</td><td>█▆▅▃▁</td></tr><tr><td>train/loss</td><td>█▃▂▁▁</td></tr></table><br/></div><div class=\"wandb-col\"><h3>Run summary:</h3><br/><table class=\"wandb\"><tr><td>eval/accuracy</td><td>0.9229</td></tr><tr><td>eval/loss</td><td>0.03096</td></tr><tr><td>eval/runtime</td><td>1.4412</td></tr><tr><td>eval/samples_per_second</td><td>2150.979</td></tr><tr><td>eval/steps_per_second</td><td>45.101</td></tr><tr><td>total_flos</td><td>745151547572796.0</td></tr><tr><td>train/epoch</td><td>9</td></tr><tr><td>train/global_step</td><td>2862</td></tr><tr><td>train/grad_norm</td><td>0.22008</td></tr><tr><td>train/learning_rate</td><td>0.0</td></tr><tr><td>train/loss</td><td>0.0487</td></tr><tr><td>train_loss</td><td>0.10912</td></tr><tr><td>train_runtime</td><td>161.5785</td></tr><tr><td>train_samples_per_second</td><td>849.432</td></tr><tr><td>train_steps_per_second</td><td>17.713</td></tr></table><br/></div></div>"
      ],
      "text/plain": [
       "<IPython.core.display.HTML object>"
      ]
     },
     "metadata": {},
     "output_type": "display_data"
    },
    {
     "data": {
      "text/html": [
       " View run <strong style=\"color:#cdcd00\">fresh-grass-30</strong> at: <a href='https://wandb.ai/sergi-sanchez-bonilla/huggingface/runs/bi1rci9s' target=\"_blank\">https://wandb.ai/sergi-sanchez-bonilla/huggingface/runs/bi1rci9s</a><br> View project at: <a href='https://wandb.ai/sergi-sanchez-bonilla/huggingface' target=\"_blank\">https://wandb.ai/sergi-sanchez-bonilla/huggingface</a><br>Synced 5 W&B file(s), 0 media file(s), 0 artifact file(s) and 0 other file(s)"
      ],
      "text/plain": [
       "<IPython.core.display.HTML object>"
      ]
     },
     "metadata": {},
     "output_type": "display_data"
    },
    {
     "data": {
      "text/html": [
       "Find logs at: <code>./wandb/run-20250618_152652-bi1rci9s/logs</code>"
      ],
      "text/plain": [
       "<IPython.core.display.HTML object>"
      ]
     },
     "metadata": {},
     "output_type": "display_data"
    },
    {
     "name": "stderr",
     "output_type": "stream",
     "text": [
      "huggingface/tokenizers: The current process just got forked, after parallelism has already been used. Disabling parallelism to avoid deadlocks...\n",
      "To disable this warning, you can either:\n",
      "\t- Avoid using `tokenizers` before the fork if possible\n",
      "\t- Explicitly set the environment variable TOKENIZERS_PARALLELISM=(true | false)\n"
     ]
    },
    {
     "data": {
      "text/html": [
       "Tracking run with wandb version 0.19.11"
      ],
      "text/plain": [
       "<IPython.core.display.HTML object>"
      ]
     },
     "metadata": {},
     "output_type": "display_data"
    },
    {
     "data": {
      "text/html": [
       "Run data is saved locally in <code>/home/ssanchez/repositories/Learning/NLPTransformers/wandb/run-20250618_153013-qnif5php</code>"
      ],
      "text/plain": [
       "<IPython.core.display.HTML object>"
      ]
     },
     "metadata": {},
     "output_type": "display_data"
    },
    {
     "data": {
      "text/html": [
       "Syncing run <strong><a href='https://wandb.ai/sergi-sanchez-bonilla/huggingface/runs/qnif5php' target=\"_blank\">peachy-leaf-31</a></strong> to <a href='https://wandb.ai/sergi-sanchez-bonilla/huggingface' target=\"_blank\">Weights & Biases</a> (<a href='https://wandb.me/developer-guide' target=\"_blank\">docs</a>)<br>"
      ],
      "text/plain": [
       "<IPython.core.display.HTML object>"
      ]
     },
     "metadata": {},
     "output_type": "display_data"
    },
    {
     "data": {
      "text/html": [
       " View project at <a href='https://wandb.ai/sergi-sanchez-bonilla/huggingface' target=\"_blank\">https://wandb.ai/sergi-sanchez-bonilla/huggingface</a>"
      ],
      "text/plain": [
       "<IPython.core.display.HTML object>"
      ]
     },
     "metadata": {},
     "output_type": "display_data"
    },
    {
     "data": {
      "text/html": [
       " View run at <a href='https://wandb.ai/sergi-sanchez-bonilla/huggingface/runs/qnif5php' target=\"_blank\">https://wandb.ai/sergi-sanchez-bonilla/huggingface/runs/qnif5php</a>"
      ],
      "text/plain": [
       "<IPython.core.display.HTML object>"
      ]
     },
     "metadata": {},
     "output_type": "display_data"
    },
    {
     "data": {
      "text/html": [
       "\n",
       "    <div>\n",
       "      \n",
       "      <progress value='3180' max='3180' style='width:300px; height:20px; vertical-align: middle;'></progress>\n",
       "      [3180/3180 03:08, Epoch 10/10]\n",
       "    </div>\n",
       "    <table border=\"1\" class=\"dataframe\">\n",
       "  <thead>\n",
       " <tr style=\"text-align: left;\">\n",
       "      <th>Epoch</th>\n",
       "      <th>Training Loss</th>\n",
       "      <th>Validation Loss</th>\n",
       "      <th>Accuracy</th>\n",
       "    </tr>\n",
       "  </thead>\n",
       "  <tbody>\n",
       "    <tr>\n",
       "      <td>1</td>\n",
       "      <td>No log</td>\n",
       "      <td>0.218571</td>\n",
       "      <td>0.606774</td>\n",
       "    </tr>\n",
       "    <tr>\n",
       "      <td>2</td>\n",
       "      <td>0.351900</td>\n",
       "      <td>0.101634</td>\n",
       "      <td>0.841613</td>\n",
       "    </tr>\n",
       "    <tr>\n",
       "      <td>3</td>\n",
       "      <td>0.351900</td>\n",
       "      <td>0.064961</td>\n",
       "      <td>0.885161</td>\n",
       "    </tr>\n",
       "    <tr>\n",
       "      <td>4</td>\n",
       "      <td>0.118200</td>\n",
       "      <td>0.048449</td>\n",
       "      <td>0.900323</td>\n",
       "    </tr>\n",
       "    <tr>\n",
       "      <td>5</td>\n",
       "      <td>0.071900</td>\n",
       "      <td>0.038829</td>\n",
       "      <td>0.913226</td>\n",
       "    </tr>\n",
       "    <tr>\n",
       "      <td>6</td>\n",
       "      <td>0.071900</td>\n",
       "      <td>0.033775</td>\n",
       "      <td>0.922903</td>\n",
       "    </tr>\n",
       "    <tr>\n",
       "      <td>7</td>\n",
       "      <td>0.055400</td>\n",
       "      <td>0.030789</td>\n",
       "      <td>0.925484</td>\n",
       "    </tr>\n",
       "    <tr>\n",
       "      <td>8</td>\n",
       "      <td>0.047600</td>\n",
       "      <td>0.028760</td>\n",
       "      <td>0.930000</td>\n",
       "    </tr>\n",
       "    <tr>\n",
       "      <td>9</td>\n",
       "      <td>0.047600</td>\n",
       "      <td>0.027682</td>\n",
       "      <td>0.930323</td>\n",
       "    </tr>\n",
       "    <tr>\n",
       "      <td>10</td>\n",
       "      <td>0.044000</td>\n",
       "      <td>0.027219</td>\n",
       "      <td>0.929677</td>\n",
       "    </tr>\n",
       "  </tbody>\n",
       "</table><p>"
      ],
      "text/plain": [
       "<IPython.core.display.HTML object>"
      ]
     },
     "metadata": {},
     "output_type": "display_data"
    },
    {
     "name": "stderr",
     "output_type": "stream",
     "text": [
      "It seems you are trying to upload a large folder at once. This might take some time and then fail if the folder is too large. For such cases, it is recommended to upload in smaller batches or to use `HfApi().upload_large_folder(...)`/`huggingface-cli upload-large-folder` instead. For more details, check out https://huggingface.co/docs/huggingface_hub/main/en/guides/upload#upload-a-large-folder.\n",
      "It seems you are trying to upload a large folder at once. This might take some time and then fail if the folder is too large. For such cases, it is recommended to upload in smaller batches or to use `HfApi().upload_large_folder(...)`/`huggingface-cli upload-large-folder` instead. For more details, check out https://huggingface.co/docs/huggingface_hub/main/en/guides/upload#upload-a-large-folder.\n",
      "[I 2025-06-18 15:33:41,330] Trial 3 finished with value: 0.9296774193548387 and parameters: {'num_train_epochs': 10, 'alpha': 0.7195121674709193, 'temperature': 6}. Best is trial 3 with value: 0.9296774193548387.\n",
      "Detected kernel version 5.4.0, which is below the recommended minimum of 5.5.0; this can cause the process to hang. It is recommended to upgrade the kernel to the minimum version or higher.\n",
      "Some weights of DistilBertForSequenceClassification were not initialized from the model checkpoint at distilbert-base-uncased and are newly initialized: ['classifier.bias', 'classifier.weight', 'pre_classifier.bias', 'pre_classifier.weight']\n",
      "You should probably TRAIN this model on a down-stream task to be able to use it for predictions and inference.\n"
     ]
    },
    {
     "data": {
      "text/html": [],
      "text/plain": [
       "<IPython.core.display.HTML object>"
      ]
     },
     "metadata": {},
     "output_type": "display_data"
    },
    {
     "data": {
      "text/html": [
       "<br>    <style><br>        .wandb-row {<br>            display: flex;<br>            flex-direction: row;<br>            flex-wrap: wrap;<br>            justify-content: flex-start;<br>            width: 100%;<br>        }<br>        .wandb-col {<br>            display: flex;<br>            flex-direction: column;<br>            flex-basis: 100%;<br>            flex: 1;<br>            padding: 10px;<br>        }<br>    </style><br><div class=\"wandb-row\"><div class=\"wandb-col\"><h3>Run history:</h3><br/><table class=\"wandb\"><tr><td>eval/accuracy</td><td>▁▆▇▇██████</td></tr><tr><td>eval/loss</td><td>█▄▂▂▁▁▁▁▁▁</td></tr><tr><td>eval/runtime</td><td>▁▁▁▂▂█▂▂▃▂</td></tr><tr><td>eval/samples_per_second</td><td>███▇▆▁▇▇▆▇</td></tr><tr><td>eval/steps_per_second</td><td>███▇▆▁▇▇▆▇</td></tr><tr><td>train/epoch</td><td>▁▁▂▃▃▃▄▄▅▅▆▆▆▇███</td></tr><tr><td>train/global_step</td><td>▁▁▂▃▃▃▄▄▅▅▆▆▆▇███</td></tr><tr><td>train/grad_norm</td><td>█▇▃▁▁▁</td></tr><tr><td>train/learning_rate</td><td>█▇▅▄▂▁</td></tr><tr><td>train/loss</td><td>█▃▂▁▁▁</td></tr></table><br/></div><div class=\"wandb-col\"><h3>Run summary:</h3><br/><table class=\"wandb\"><tr><td>eval/accuracy</td><td>0.92968</td></tr><tr><td>eval/loss</td><td>0.02722</td></tr><tr><td>eval/runtime</td><td>1.4115</td></tr><tr><td>eval/samples_per_second</td><td>2196.213</td></tr><tr><td>eval/steps_per_second</td><td>46.05</td></tr><tr><td>total_flos</td><td>827728372450224.0</td></tr><tr><td>train/epoch</td><td>10</td></tr><tr><td>train/global_step</td><td>3180</td></tr><tr><td>train/grad_norm</td><td>0.25452</td></tr><tr><td>train/learning_rate</td><td>0.0</td></tr><tr><td>train/loss</td><td>0.044</td></tr><tr><td>train_loss</td><td>0.11077</td></tr><tr><td>train_runtime</td><td>189.7264</td></tr><tr><td>train_samples_per_second</td><td>803.789</td></tr><tr><td>train_steps_per_second</td><td>16.761</td></tr></table><br/></div></div>"
      ],
      "text/plain": [
       "<IPython.core.display.HTML object>"
      ]
     },
     "metadata": {},
     "output_type": "display_data"
    },
    {
     "data": {
      "text/html": [
       " View run <strong style=\"color:#cdcd00\">peachy-leaf-31</strong> at: <a href='https://wandb.ai/sergi-sanchez-bonilla/huggingface/runs/qnif5php' target=\"_blank\">https://wandb.ai/sergi-sanchez-bonilla/huggingface/runs/qnif5php</a><br> View project at: <a href='https://wandb.ai/sergi-sanchez-bonilla/huggingface' target=\"_blank\">https://wandb.ai/sergi-sanchez-bonilla/huggingface</a><br>Synced 5 W&B file(s), 0 media file(s), 0 artifact file(s) and 0 other file(s)"
      ],
      "text/plain": [
       "<IPython.core.display.HTML object>"
      ]
     },
     "metadata": {},
     "output_type": "display_data"
    },
    {
     "data": {
      "text/html": [
       "Find logs at: <code>./wandb/run-20250618_153013-qnif5php/logs</code>"
      ],
      "text/plain": [
       "<IPython.core.display.HTML object>"
      ]
     },
     "metadata": {},
     "output_type": "display_data"
    },
    {
     "name": "stderr",
     "output_type": "stream",
     "text": [
      "huggingface/tokenizers: The current process just got forked, after parallelism has already been used. Disabling parallelism to avoid deadlocks...\n",
      "To disable this warning, you can either:\n",
      "\t- Avoid using `tokenizers` before the fork if possible\n",
      "\t- Explicitly set the environment variable TOKENIZERS_PARALLELISM=(true | false)\n"
     ]
    },
    {
     "data": {
      "text/html": [
       "Tracking run with wandb version 0.19.11"
      ],
      "text/plain": [
       "<IPython.core.display.HTML object>"
      ]
     },
     "metadata": {},
     "output_type": "display_data"
    },
    {
     "data": {
      "text/html": [
       "Run data is saved locally in <code>/home/ssanchez/repositories/Learning/NLPTransformers/wandb/run-20250618_153342-9638p8me</code>"
      ],
      "text/plain": [
       "<IPython.core.display.HTML object>"
      ]
     },
     "metadata": {},
     "output_type": "display_data"
    },
    {
     "data": {
      "text/html": [
       "Syncing run <strong><a href='https://wandb.ai/sergi-sanchez-bonilla/huggingface/runs/9638p8me' target=\"_blank\">youthful-galaxy-32</a></strong> to <a href='https://wandb.ai/sergi-sanchez-bonilla/huggingface' target=\"_blank\">Weights & Biases</a> (<a href='https://wandb.me/developer-guide' target=\"_blank\">docs</a>)<br>"
      ],
      "text/plain": [
       "<IPython.core.display.HTML object>"
      ]
     },
     "metadata": {},
     "output_type": "display_data"
    },
    {
     "data": {
      "text/html": [
       " View project at <a href='https://wandb.ai/sergi-sanchez-bonilla/huggingface' target=\"_blank\">https://wandb.ai/sergi-sanchez-bonilla/huggingface</a>"
      ],
      "text/plain": [
       "<IPython.core.display.HTML object>"
      ]
     },
     "metadata": {},
     "output_type": "display_data"
    },
    {
     "data": {
      "text/html": [
       " View run at <a href='https://wandb.ai/sergi-sanchez-bonilla/huggingface/runs/9638p8me' target=\"_blank\">https://wandb.ai/sergi-sanchez-bonilla/huggingface/runs/9638p8me</a>"
      ],
      "text/plain": [
       "<IPython.core.display.HTML object>"
      ]
     },
     "metadata": {},
     "output_type": "display_data"
    },
    {
     "data": {
      "text/html": [
       "\n",
       "    <div>\n",
       "      \n",
       "      <progress value='3180' max='3180' style='width:300px; height:20px; vertical-align: middle;'></progress>\n",
       "      [3180/3180 02:59, Epoch 10/10]\n",
       "    </div>\n",
       "    <table border=\"1\" class=\"dataframe\">\n",
       "  <thead>\n",
       " <tr style=\"text-align: left;\">\n",
       "      <th>Epoch</th>\n",
       "      <th>Training Loss</th>\n",
       "      <th>Validation Loss</th>\n",
       "      <th>Accuracy</th>\n",
       "    </tr>\n",
       "  </thead>\n",
       "  <tbody>\n",
       "    <tr>\n",
       "      <td>1</td>\n",
       "      <td>No log</td>\n",
       "      <td>0.203056</td>\n",
       "      <td>0.594839</td>\n",
       "    </tr>\n",
       "    <tr>\n",
       "      <td>2</td>\n",
       "      <td>0.327700</td>\n",
       "      <td>0.097361</td>\n",
       "      <td>0.835161</td>\n",
       "    </tr>\n",
       "    <tr>\n",
       "      <td>3</td>\n",
       "      <td>0.327700</td>\n",
       "      <td>0.063957</td>\n",
       "      <td>0.884194</td>\n",
       "    </tr>\n",
       "    <tr>\n",
       "      <td>4</td>\n",
       "      <td>0.112900</td>\n",
       "      <td>0.048433</td>\n",
       "      <td>0.898387</td>\n",
       "    </tr>\n",
       "    <tr>\n",
       "      <td>5</td>\n",
       "      <td>0.070300</td>\n",
       "      <td>0.039128</td>\n",
       "      <td>0.911290</td>\n",
       "    </tr>\n",
       "    <tr>\n",
       "      <td>6</td>\n",
       "      <td>0.070300</td>\n",
       "      <td>0.034089</td>\n",
       "      <td>0.921290</td>\n",
       "    </tr>\n",
       "    <tr>\n",
       "      <td>7</td>\n",
       "      <td>0.054600</td>\n",
       "      <td>0.031127</td>\n",
       "      <td>0.922903</td>\n",
       "    </tr>\n",
       "    <tr>\n",
       "      <td>8</td>\n",
       "      <td>0.047100</td>\n",
       "      <td>0.029058</td>\n",
       "      <td>0.929032</td>\n",
       "    </tr>\n",
       "    <tr>\n",
       "      <td>9</td>\n",
       "      <td>0.047100</td>\n",
       "      <td>0.027952</td>\n",
       "      <td>0.928387</td>\n",
       "    </tr>\n",
       "    <tr>\n",
       "      <td>10</td>\n",
       "      <td>0.043500</td>\n",
       "      <td>0.027481</td>\n",
       "      <td>0.929032</td>\n",
       "    </tr>\n",
       "  </tbody>\n",
       "</table><p>"
      ],
      "text/plain": [
       "<IPython.core.display.HTML object>"
      ]
     },
     "metadata": {},
     "output_type": "display_data"
    },
    {
     "name": "stderr",
     "output_type": "stream",
     "text": [
      "It seems you are trying to upload a large folder at once. This might take some time and then fail if the folder is too large. For such cases, it is recommended to upload in smaller batches or to use `HfApi().upload_large_folder(...)`/`huggingface-cli upload-large-folder` instead. For more details, check out https://huggingface.co/docs/huggingface_hub/main/en/guides/upload#upload-a-large-folder.\n",
      "It seems you are trying to upload a large folder at once. This might take some time and then fail if the folder is too large. For such cases, it is recommended to upload in smaller batches or to use `HfApi().upload_large_folder(...)`/`huggingface-cli upload-large-folder` instead. For more details, check out https://huggingface.co/docs/huggingface_hub/main/en/guides/upload#upload-a-large-folder.\n",
      "[I 2025-06-18 15:38:42,221] Trial 4 finished with value: 0.9290322580645162 and parameters: {'num_train_epochs': 10, 'alpha': 0.3473496744950487, 'temperature': 9}. Best is trial 3 with value: 0.9296774193548387.\n",
      "Detected kernel version 5.4.0, which is below the recommended minimum of 5.5.0; this can cause the process to hang. It is recommended to upgrade the kernel to the minimum version or higher.\n",
      "Some weights of DistilBertForSequenceClassification were not initialized from the model checkpoint at distilbert-base-uncased and are newly initialized: ['classifier.bias', 'classifier.weight', 'pre_classifier.bias', 'pre_classifier.weight']\n",
      "You should probably TRAIN this model on a down-stream task to be able to use it for predictions and inference.\n"
     ]
    },
    {
     "data": {
      "text/html": [],
      "text/plain": [
       "<IPython.core.display.HTML object>"
      ]
     },
     "metadata": {},
     "output_type": "display_data"
    },
    {
     "data": {
      "text/html": [
       "<br>    <style><br>        .wandb-row {<br>            display: flex;<br>            flex-direction: row;<br>            flex-wrap: wrap;<br>            justify-content: flex-start;<br>            width: 100%;<br>        }<br>        .wandb-col {<br>            display: flex;<br>            flex-direction: column;<br>            flex-basis: 100%;<br>            flex: 1;<br>            padding: 10px;<br>        }<br>    </style><br><div class=\"wandb-row\"><div class=\"wandb-col\"><h3>Run history:</h3><br/><table class=\"wandb\"><tr><td>eval/accuracy</td><td>▁▆▇▇██████</td></tr><tr><td>eval/loss</td><td>█▄▂▂▁▁▁▁▁▁</td></tr><tr><td>eval/runtime</td><td>▁▂▂▃█▆▃▂▂▁</td></tr><tr><td>eval/samples_per_second</td><td>█▇▇▆▁▃▆▇▇█</td></tr><tr><td>eval/steps_per_second</td><td>█▇▇▆▁▃▆▇▇█</td></tr><tr><td>train/epoch</td><td>▁▁▂▃▃▃▄▄▅▅▆▆▆▇███</td></tr><tr><td>train/global_step</td><td>▁▁▂▃▃▃▄▄▅▅▆▆▆▇███</td></tr><tr><td>train/grad_norm</td><td>█▇▃▁▁▁</td></tr><tr><td>train/learning_rate</td><td>█▇▅▄▂▁</td></tr><tr><td>train/loss</td><td>█▃▂▁▁▁</td></tr></table><br/></div><div class=\"wandb-col\"><h3>Run summary:</h3><br/><table class=\"wandb\"><tr><td>eval/accuracy</td><td>0.92903</td></tr><tr><td>eval/loss</td><td>0.02748</td></tr><tr><td>eval/runtime</td><td>1.3991</td></tr><tr><td>eval/samples_per_second</td><td>2215.691</td></tr><tr><td>eval/steps_per_second</td><td>46.458</td></tr><tr><td>total_flos</td><td>827728372450224.0</td></tr><tr><td>train/epoch</td><td>10</td></tr><tr><td>train/global_step</td><td>3180</td></tr><tr><td>train/grad_norm</td><td>0.2456</td></tr><tr><td>train/learning_rate</td><td>0.0</td></tr><tr><td>train/loss</td><td>0.0435</td></tr><tr><td>train_loss</td><td>0.10558</td></tr><tr><td>train_runtime</td><td>179.9341</td></tr><tr><td>train_samples_per_second</td><td>847.533</td></tr><tr><td>train_steps_per_second</td><td>17.673</td></tr></table><br/></div></div>"
      ],
      "text/plain": [
       "<IPython.core.display.HTML object>"
      ]
     },
     "metadata": {},
     "output_type": "display_data"
    },
    {
     "data": {
      "text/html": [
       " View run <strong style=\"color:#cdcd00\">youthful-galaxy-32</strong> at: <a href='https://wandb.ai/sergi-sanchez-bonilla/huggingface/runs/9638p8me' target=\"_blank\">https://wandb.ai/sergi-sanchez-bonilla/huggingface/runs/9638p8me</a><br> View project at: <a href='https://wandb.ai/sergi-sanchez-bonilla/huggingface' target=\"_blank\">https://wandb.ai/sergi-sanchez-bonilla/huggingface</a><br>Synced 5 W&B file(s), 0 media file(s), 0 artifact file(s) and 0 other file(s)"
      ],
      "text/plain": [
       "<IPython.core.display.HTML object>"
      ]
     },
     "metadata": {},
     "output_type": "display_data"
    },
    {
     "data": {
      "text/html": [
       "Find logs at: <code>./wandb/run-20250618_153342-9638p8me/logs</code>"
      ],
      "text/plain": [
       "<IPython.core.display.HTML object>"
      ]
     },
     "metadata": {},
     "output_type": "display_data"
    },
    {
     "name": "stderr",
     "output_type": "stream",
     "text": [
      "huggingface/tokenizers: The current process just got forked, after parallelism has already been used. Disabling parallelism to avoid deadlocks...\n",
      "To disable this warning, you can either:\n",
      "\t- Avoid using `tokenizers` before the fork if possible\n",
      "\t- Explicitly set the environment variable TOKENIZERS_PARALLELISM=(true | false)\n"
     ]
    },
    {
     "data": {
      "text/html": [
       "Tracking run with wandb version 0.19.11"
      ],
      "text/plain": [
       "<IPython.core.display.HTML object>"
      ]
     },
     "metadata": {},
     "output_type": "display_data"
    },
    {
     "data": {
      "text/html": [
       "Run data is saved locally in <code>/home/ssanchez/repositories/Learning/NLPTransformers/wandb/run-20250618_153843-oqqhad10</code>"
      ],
      "text/plain": [
       "<IPython.core.display.HTML object>"
      ]
     },
     "metadata": {},
     "output_type": "display_data"
    },
    {
     "data": {
      "text/html": [
       "Syncing run <strong><a href='https://wandb.ai/sergi-sanchez-bonilla/huggingface/runs/oqqhad10' target=\"_blank\">earnest-water-33</a></strong> to <a href='https://wandb.ai/sergi-sanchez-bonilla/huggingface' target=\"_blank\">Weights & Biases</a> (<a href='https://wandb.me/developer-guide' target=\"_blank\">docs</a>)<br>"
      ],
      "text/plain": [
       "<IPython.core.display.HTML object>"
      ]
     },
     "metadata": {},
     "output_type": "display_data"
    },
    {
     "data": {
      "text/html": [
       " View project at <a href='https://wandb.ai/sergi-sanchez-bonilla/huggingface' target=\"_blank\">https://wandb.ai/sergi-sanchez-bonilla/huggingface</a>"
      ],
      "text/plain": [
       "<IPython.core.display.HTML object>"
      ]
     },
     "metadata": {},
     "output_type": "display_data"
    },
    {
     "data": {
      "text/html": [
       " View run at <a href='https://wandb.ai/sergi-sanchez-bonilla/huggingface/runs/oqqhad10' target=\"_blank\">https://wandb.ai/sergi-sanchez-bonilla/huggingface/runs/oqqhad10</a>"
      ],
      "text/plain": [
       "<IPython.core.display.HTML object>"
      ]
     },
     "metadata": {},
     "output_type": "display_data"
    },
    {
     "data": {
      "text/html": [
       "\n",
       "    <div>\n",
       "      \n",
       "      <progress value='318' max='2226' style='width:300px; height:20px; vertical-align: middle;'></progress>\n",
       "      [ 318/2226 00:16 < 01:37, 19.50 it/s, Epoch 1/7]\n",
       "    </div>\n",
       "    <table border=\"1\" class=\"dataframe\">\n",
       "  <thead>\n",
       " <tr style=\"text-align: left;\">\n",
       "      <th>Epoch</th>\n",
       "      <th>Training Loss</th>\n",
       "      <th>Validation Loss</th>\n",
       "      <th>Accuracy</th>\n",
       "    </tr>\n",
       "  </thead>\n",
       "  <tbody>\n",
       "    <tr>\n",
       "      <td>1</td>\n",
       "      <td>No log</td>\n",
       "      <td>0.195350</td>\n",
       "      <td>0.574516</td>\n",
       "    </tr>\n",
       "  </tbody>\n",
       "</table><p>"
      ],
      "text/plain": [
       "<IPython.core.display.HTML object>"
      ]
     },
     "metadata": {},
     "output_type": "display_data"
    },
    {
     "name": "stderr",
     "output_type": "stream",
     "text": [
      "[I 2025-06-18 15:39:00,560] Trial 5 pruned. \n",
      "Detected kernel version 5.4.0, which is below the recommended minimum of 5.5.0; this can cause the process to hang. It is recommended to upgrade the kernel to the minimum version or higher.\n",
      "Some weights of DistilBertForSequenceClassification were not initialized from the model checkpoint at distilbert-base-uncased and are newly initialized: ['classifier.bias', 'classifier.weight', 'pre_classifier.bias', 'pre_classifier.weight']\n",
      "You should probably TRAIN this model on a down-stream task to be able to use it for predictions and inference.\n"
     ]
    },
    {
     "data": {
      "text/html": [],
      "text/plain": [
       "<IPython.core.display.HTML object>"
      ]
     },
     "metadata": {},
     "output_type": "display_data"
    },
    {
     "data": {
      "text/html": [
       "<br>    <style><br>        .wandb-row {<br>            display: flex;<br>            flex-direction: row;<br>            flex-wrap: wrap;<br>            justify-content: flex-start;<br>            width: 100%;<br>        }<br>        .wandb-col {<br>            display: flex;<br>            flex-direction: column;<br>            flex-basis: 100%;<br>            flex: 1;<br>            padding: 10px;<br>        }<br>    </style><br><div class=\"wandb-row\"><div class=\"wandb-col\"><h3>Run history:</h3><br/><table class=\"wandb\"><tr><td>eval/accuracy</td><td>▁</td></tr><tr><td>eval/loss</td><td>▁</td></tr><tr><td>eval/runtime</td><td>▁</td></tr><tr><td>eval/samples_per_second</td><td>▁</td></tr><tr><td>eval/steps_per_second</td><td>▁</td></tr><tr><td>train/epoch</td><td>▁</td></tr><tr><td>train/global_step</td><td>▁</td></tr></table><br/></div><div class=\"wandb-col\"><h3>Run summary:</h3><br/><table class=\"wandb\"><tr><td>eval/accuracy</td><td>0.57452</td></tr><tr><td>eval/loss</td><td>0.19535</td></tr><tr><td>eval/runtime</td><td>1.3664</td></tr><tr><td>eval/samples_per_second</td><td>2268.688</td></tr><tr><td>eval/steps_per_second</td><td>47.569</td></tr><tr><td>train/epoch</td><td>1</td></tr><tr><td>train/global_step</td><td>318</td></tr></table><br/></div></div>"
      ],
      "text/plain": [
       "<IPython.core.display.HTML object>"
      ]
     },
     "metadata": {},
     "output_type": "display_data"
    },
    {
     "data": {
      "text/html": [
       " View run <strong style=\"color:#cdcd00\">earnest-water-33</strong> at: <a href='https://wandb.ai/sergi-sanchez-bonilla/huggingface/runs/oqqhad10' target=\"_blank\">https://wandb.ai/sergi-sanchez-bonilla/huggingface/runs/oqqhad10</a><br> View project at: <a href='https://wandb.ai/sergi-sanchez-bonilla/huggingface' target=\"_blank\">https://wandb.ai/sergi-sanchez-bonilla/huggingface</a><br>Synced 5 W&B file(s), 0 media file(s), 0 artifact file(s) and 0 other file(s)"
      ],
      "text/plain": [
       "<IPython.core.display.HTML object>"
      ]
     },
     "metadata": {},
     "output_type": "display_data"
    },
    {
     "data": {
      "text/html": [
       "Find logs at: <code>./wandb/run-20250618_153843-oqqhad10/logs</code>"
      ],
      "text/plain": [
       "<IPython.core.display.HTML object>"
      ]
     },
     "metadata": {},
     "output_type": "display_data"
    },
    {
     "name": "stderr",
     "output_type": "stream",
     "text": [
      "huggingface/tokenizers: The current process just got forked, after parallelism has already been used. Disabling parallelism to avoid deadlocks...\n",
      "To disable this warning, you can either:\n",
      "\t- Avoid using `tokenizers` before the fork if possible\n",
      "\t- Explicitly set the environment variable TOKENIZERS_PARALLELISM=(true | false)\n"
     ]
    },
    {
     "data": {
      "text/html": [
       "Tracking run with wandb version 0.19.11"
      ],
      "text/plain": [
       "<IPython.core.display.HTML object>"
      ]
     },
     "metadata": {},
     "output_type": "display_data"
    },
    {
     "data": {
      "text/html": [
       "Run data is saved locally in <code>/home/ssanchez/repositories/Learning/NLPTransformers/wandb/run-20250618_153901-4z6f997t</code>"
      ],
      "text/plain": [
       "<IPython.core.display.HTML object>"
      ]
     },
     "metadata": {},
     "output_type": "display_data"
    },
    {
     "data": {
      "text/html": [
       "Syncing run <strong><a href='https://wandb.ai/sergi-sanchez-bonilla/huggingface/runs/4z6f997t' target=\"_blank\">fresh-river-34</a></strong> to <a href='https://wandb.ai/sergi-sanchez-bonilla/huggingface' target=\"_blank\">Weights & Biases</a> (<a href='https://wandb.me/developer-guide' target=\"_blank\">docs</a>)<br>"
      ],
      "text/plain": [
       "<IPython.core.display.HTML object>"
      ]
     },
     "metadata": {},
     "output_type": "display_data"
    },
    {
     "data": {
      "text/html": [
       " View project at <a href='https://wandb.ai/sergi-sanchez-bonilla/huggingface' target=\"_blank\">https://wandb.ai/sergi-sanchez-bonilla/huggingface</a>"
      ],
      "text/plain": [
       "<IPython.core.display.HTML object>"
      ]
     },
     "metadata": {},
     "output_type": "display_data"
    },
    {
     "data": {
      "text/html": [
       " View run at <a href='https://wandb.ai/sergi-sanchez-bonilla/huggingface/runs/4z6f997t' target=\"_blank\">https://wandb.ai/sergi-sanchez-bonilla/huggingface/runs/4z6f997t</a>"
      ],
      "text/plain": [
       "<IPython.core.display.HTML object>"
      ]
     },
     "metadata": {},
     "output_type": "display_data"
    },
    {
     "data": {
      "text/html": [
       "\n",
       "    <div>\n",
       "      \n",
       "      <progress value='954' max='1908' style='width:300px; height:20px; vertical-align: middle;'></progress>\n",
       "      [ 954/1908 00:53 < 00:54, 17.65 it/s, Epoch 3/6]\n",
       "    </div>\n",
       "    <table border=\"1\" class=\"dataframe\">\n",
       "  <thead>\n",
       " <tr style=\"text-align: left;\">\n",
       "      <th>Epoch</th>\n",
       "      <th>Training Loss</th>\n",
       "      <th>Validation Loss</th>\n",
       "      <th>Accuracy</th>\n",
       "    </tr>\n",
       "  </thead>\n",
       "  <tbody>\n",
       "    <tr>\n",
       "      <td>1</td>\n",
       "      <td>No log</td>\n",
       "      <td>0.257194</td>\n",
       "      <td>0.611935</td>\n",
       "    </tr>\n",
       "    <tr>\n",
       "      <td>2</td>\n",
       "      <td>0.404400</td>\n",
       "      <td>0.120026</td>\n",
       "      <td>0.834516</td>\n",
       "    </tr>\n",
       "    <tr>\n",
       "      <td>3</td>\n",
       "      <td>0.404400</td>\n",
       "      <td>0.077707</td>\n",
       "      <td>0.878065</td>\n",
       "    </tr>\n",
       "  </tbody>\n",
       "</table><p>"
      ],
      "text/plain": [
       "<IPython.core.display.HTML object>"
      ]
     },
     "metadata": {},
     "output_type": "display_data"
    },
    {
     "name": "stderr",
     "output_type": "stream",
     "text": [
      "It seems you are trying to upload a large folder at once. This might take some time and then fail if the folder is too large. For such cases, it is recommended to upload in smaller batches or to use `HfApi().upload_large_folder(...)`/`huggingface-cli upload-large-folder` instead. For more details, check out https://huggingface.co/docs/huggingface_hub/main/en/guides/upload#upload-a-large-folder.\n",
      "[I 2025-06-18 15:39:56,411] Trial 6 pruned. \n",
      "Detected kernel version 5.4.0, which is below the recommended minimum of 5.5.0; this can cause the process to hang. It is recommended to upgrade the kernel to the minimum version or higher.\n",
      "Some weights of DistilBertForSequenceClassification were not initialized from the model checkpoint at distilbert-base-uncased and are newly initialized: ['classifier.bias', 'classifier.weight', 'pre_classifier.bias', 'pre_classifier.weight']\n",
      "You should probably TRAIN this model on a down-stream task to be able to use it for predictions and inference.\n"
     ]
    },
    {
     "data": {
      "text/html": [],
      "text/plain": [
       "<IPython.core.display.HTML object>"
      ]
     },
     "metadata": {},
     "output_type": "display_data"
    },
    {
     "data": {
      "text/html": [
       "<br>    <style><br>        .wandb-row {<br>            display: flex;<br>            flex-direction: row;<br>            flex-wrap: wrap;<br>            justify-content: flex-start;<br>            width: 100%;<br>        }<br>        .wandb-col {<br>            display: flex;<br>            flex-direction: column;<br>            flex-basis: 100%;<br>            flex: 1;<br>            padding: 10px;<br>        }<br>    </style><br><div class=\"wandb-row\"><div class=\"wandb-col\"><h3>Run history:</h3><br/><table class=\"wandb\"><tr><td>eval/accuracy</td><td>▁▇█</td></tr><tr><td>eval/loss</td><td>█▃▁</td></tr><tr><td>eval/runtime</td><td>▁▆█</td></tr><tr><td>eval/samples_per_second</td><td>█▃▁</td></tr><tr><td>eval/steps_per_second</td><td>█▃▁</td></tr><tr><td>train/epoch</td><td>▁▃▅█</td></tr><tr><td>train/global_step</td><td>▁▃▄█</td></tr><tr><td>train/grad_norm</td><td>▁</td></tr><tr><td>train/learning_rate</td><td>▁</td></tr><tr><td>train/loss</td><td>▁</td></tr></table><br/></div><div class=\"wandb-col\"><h3>Run summary:</h3><br/><table class=\"wandb\"><tr><td>eval/accuracy</td><td>0.87806</td></tr><tr><td>eval/loss</td><td>0.07771</td></tr><tr><td>eval/runtime</td><td>1.3912</td></tr><tr><td>eval/samples_per_second</td><td>2228.262</td></tr><tr><td>eval/steps_per_second</td><td>46.722</td></tr><tr><td>train/epoch</td><td>3</td></tr><tr><td>train/global_step</td><td>954</td></tr><tr><td>train/grad_norm</td><td>0.60216</td></tr><tr><td>train/learning_rate</td><td>1e-05</td></tr><tr><td>train/loss</td><td>0.4044</td></tr></table><br/></div></div>"
      ],
      "text/plain": [
       "<IPython.core.display.HTML object>"
      ]
     },
     "metadata": {},
     "output_type": "display_data"
    },
    {
     "data": {
      "text/html": [
       " View run <strong style=\"color:#cdcd00\">fresh-river-34</strong> at: <a href='https://wandb.ai/sergi-sanchez-bonilla/huggingface/runs/4z6f997t' target=\"_blank\">https://wandb.ai/sergi-sanchez-bonilla/huggingface/runs/4z6f997t</a><br> View project at: <a href='https://wandb.ai/sergi-sanchez-bonilla/huggingface' target=\"_blank\">https://wandb.ai/sergi-sanchez-bonilla/huggingface</a><br>Synced 5 W&B file(s), 0 media file(s), 0 artifact file(s) and 0 other file(s)"
      ],
      "text/plain": [
       "<IPython.core.display.HTML object>"
      ]
     },
     "metadata": {},
     "output_type": "display_data"
    },
    {
     "data": {
      "text/html": [
       "Find logs at: <code>./wandb/run-20250618_153901-4z6f997t/logs</code>"
      ],
      "text/plain": [
       "<IPython.core.display.HTML object>"
      ]
     },
     "metadata": {},
     "output_type": "display_data"
    },
    {
     "name": "stderr",
     "output_type": "stream",
     "text": [
      "huggingface/tokenizers: The current process just got forked, after parallelism has already been used. Disabling parallelism to avoid deadlocks...\n",
      "To disable this warning, you can either:\n",
      "\t- Avoid using `tokenizers` before the fork if possible\n",
      "\t- Explicitly set the environment variable TOKENIZERS_PARALLELISM=(true | false)\n"
     ]
    },
    {
     "data": {
      "text/html": [
       "Tracking run with wandb version 0.19.11"
      ],
      "text/plain": [
       "<IPython.core.display.HTML object>"
      ]
     },
     "metadata": {},
     "output_type": "display_data"
    },
    {
     "data": {
      "text/html": [
       "Run data is saved locally in <code>/home/ssanchez/repositories/Learning/NLPTransformers/wandb/run-20250618_153957-e8eov6i5</code>"
      ],
      "text/plain": [
       "<IPython.core.display.HTML object>"
      ]
     },
     "metadata": {},
     "output_type": "display_data"
    },
    {
     "data": {
      "text/html": [
       "Syncing run <strong><a href='https://wandb.ai/sergi-sanchez-bonilla/huggingface/runs/e8eov6i5' target=\"_blank\">divine-energy-35</a></strong> to <a href='https://wandb.ai/sergi-sanchez-bonilla/huggingface' target=\"_blank\">Weights & Biases</a> (<a href='https://wandb.me/developer-guide' target=\"_blank\">docs</a>)<br>"
      ],
      "text/plain": [
       "<IPython.core.display.HTML object>"
      ]
     },
     "metadata": {},
     "output_type": "display_data"
    },
    {
     "data": {
      "text/html": [
       " View project at <a href='https://wandb.ai/sergi-sanchez-bonilla/huggingface' target=\"_blank\">https://wandb.ai/sergi-sanchez-bonilla/huggingface</a>"
      ],
      "text/plain": [
       "<IPython.core.display.HTML object>"
      ]
     },
     "metadata": {},
     "output_type": "display_data"
    },
    {
     "data": {
      "text/html": [
       " View run at <a href='https://wandb.ai/sergi-sanchez-bonilla/huggingface/runs/e8eov6i5' target=\"_blank\">https://wandb.ai/sergi-sanchez-bonilla/huggingface/runs/e8eov6i5</a>"
      ],
      "text/plain": [
       "<IPython.core.display.HTML object>"
      ]
     },
     "metadata": {},
     "output_type": "display_data"
    },
    {
     "data": {
      "text/html": [
       "\n",
       "    <div>\n",
       "      \n",
       "      <progress value='954' max='2544' style='width:300px; height:20px; vertical-align: middle;'></progress>\n",
       "      [ 954/2544 00:48 < 01:20, 19.70 it/s, Epoch 3/8]\n",
       "    </div>\n",
       "    <table border=\"1\" class=\"dataframe\">\n",
       "  <thead>\n",
       " <tr style=\"text-align: left;\">\n",
       "      <th>Epoch</th>\n",
       "      <th>Training Loss</th>\n",
       "      <th>Validation Loss</th>\n",
       "      <th>Accuracy</th>\n",
       "    </tr>\n",
       "  </thead>\n",
       "  <tbody>\n",
       "    <tr>\n",
       "      <td>1</td>\n",
       "      <td>No log</td>\n",
       "      <td>0.197249</td>\n",
       "      <td>0.585484</td>\n",
       "    </tr>\n",
       "    <tr>\n",
       "      <td>2</td>\n",
       "      <td>0.316500</td>\n",
       "      <td>0.097855</td>\n",
       "      <td>0.823871</td>\n",
       "    </tr>\n",
       "    <tr>\n",
       "      <td>3</td>\n",
       "      <td>0.316500</td>\n",
       "      <td>0.066231</td>\n",
       "      <td>0.877742</td>\n",
       "    </tr>\n",
       "  </tbody>\n",
       "</table><p>"
      ],
      "text/plain": [
       "<IPython.core.display.HTML object>"
      ]
     },
     "metadata": {},
     "output_type": "display_data"
    },
    {
     "name": "stderr",
     "output_type": "stream",
     "text": [
      "[I 2025-06-18 15:40:46,450] Trial 7 pruned. \n",
      "Detected kernel version 5.4.0, which is below the recommended minimum of 5.5.0; this can cause the process to hang. It is recommended to upgrade the kernel to the minimum version or higher.\n",
      "Some weights of DistilBertForSequenceClassification were not initialized from the model checkpoint at distilbert-base-uncased and are newly initialized: ['classifier.bias', 'classifier.weight', 'pre_classifier.bias', 'pre_classifier.weight']\n",
      "You should probably TRAIN this model on a down-stream task to be able to use it for predictions and inference.\n"
     ]
    },
    {
     "data": {
      "text/html": [],
      "text/plain": [
       "<IPython.core.display.HTML object>"
      ]
     },
     "metadata": {},
     "output_type": "display_data"
    },
    {
     "data": {
      "text/html": [
       "<br>    <style><br>        .wandb-row {<br>            display: flex;<br>            flex-direction: row;<br>            flex-wrap: wrap;<br>            justify-content: flex-start;<br>            width: 100%;<br>        }<br>        .wandb-col {<br>            display: flex;<br>            flex-direction: column;<br>            flex-basis: 100%;<br>            flex: 1;<br>            padding: 10px;<br>        }<br>    </style><br><div class=\"wandb-row\"><div class=\"wandb-col\"><h3>Run history:</h3><br/><table class=\"wandb\"><tr><td>eval/accuracy</td><td>▁▇█</td></tr><tr><td>eval/loss</td><td>█▃▁</td></tr><tr><td>eval/runtime</td><td>▁▁█</td></tr><tr><td>eval/samples_per_second</td><td>██▁</td></tr><tr><td>eval/steps_per_second</td><td>██▁</td></tr><tr><td>train/epoch</td><td>▁▃▅█</td></tr><tr><td>train/global_step</td><td>▁▃▄█</td></tr><tr><td>train/grad_norm</td><td>▁</td></tr><tr><td>train/learning_rate</td><td>▁</td></tr><tr><td>train/loss</td><td>▁</td></tr></table><br/></div><div class=\"wandb-col\"><h3>Run summary:</h3><br/><table class=\"wandb\"><tr><td>eval/accuracy</td><td>0.87774</td></tr><tr><td>eval/loss</td><td>0.06623</td></tr><tr><td>eval/runtime</td><td>1.422</td></tr><tr><td>eval/samples_per_second</td><td>2180.051</td></tr><tr><td>eval/steps_per_second</td><td>45.711</td></tr><tr><td>train/epoch</td><td>3</td></tr><tr><td>train/global_step</td><td>954</td></tr><tr><td>train/grad_norm</td><td>0.50845</td></tr><tr><td>train/learning_rate</td><td>2e-05</td></tr><tr><td>train/loss</td><td>0.3165</td></tr></table><br/></div></div>"
      ],
      "text/plain": [
       "<IPython.core.display.HTML object>"
      ]
     },
     "metadata": {},
     "output_type": "display_data"
    },
    {
     "data": {
      "text/html": [
       " View run <strong style=\"color:#cdcd00\">divine-energy-35</strong> at: <a href='https://wandb.ai/sergi-sanchez-bonilla/huggingface/runs/e8eov6i5' target=\"_blank\">https://wandb.ai/sergi-sanchez-bonilla/huggingface/runs/e8eov6i5</a><br> View project at: <a href='https://wandb.ai/sergi-sanchez-bonilla/huggingface' target=\"_blank\">https://wandb.ai/sergi-sanchez-bonilla/huggingface</a><br>Synced 5 W&B file(s), 0 media file(s), 0 artifact file(s) and 0 other file(s)"
      ],
      "text/plain": [
       "<IPython.core.display.HTML object>"
      ]
     },
     "metadata": {},
     "output_type": "display_data"
    },
    {
     "data": {
      "text/html": [
       "Find logs at: <code>./wandb/run-20250618_153957-e8eov6i5/logs</code>"
      ],
      "text/plain": [
       "<IPython.core.display.HTML object>"
      ]
     },
     "metadata": {},
     "output_type": "display_data"
    },
    {
     "name": "stderr",
     "output_type": "stream",
     "text": [
      "huggingface/tokenizers: The current process just got forked, after parallelism has already been used. Disabling parallelism to avoid deadlocks...\n",
      "To disable this warning, you can either:\n",
      "\t- Avoid using `tokenizers` before the fork if possible\n",
      "\t- Explicitly set the environment variable TOKENIZERS_PARALLELISM=(true | false)\n"
     ]
    },
    {
     "data": {
      "text/html": [
       "Tracking run with wandb version 0.19.11"
      ],
      "text/plain": [
       "<IPython.core.display.HTML object>"
      ]
     },
     "metadata": {},
     "output_type": "display_data"
    },
    {
     "data": {
      "text/html": [
       "Run data is saved locally in <code>/home/ssanchez/repositories/Learning/NLPTransformers/wandb/run-20250618_154047-l39cbz6m</code>"
      ],
      "text/plain": [
       "<IPython.core.display.HTML object>"
      ]
     },
     "metadata": {},
     "output_type": "display_data"
    },
    {
     "data": {
      "text/html": [
       "Syncing run <strong><a href='https://wandb.ai/sergi-sanchez-bonilla/huggingface/runs/l39cbz6m' target=\"_blank\">ethereal-shape-36</a></strong> to <a href='https://wandb.ai/sergi-sanchez-bonilla/huggingface' target=\"_blank\">Weights & Biases</a> (<a href='https://wandb.me/developer-guide' target=\"_blank\">docs</a>)<br>"
      ],
      "text/plain": [
       "<IPython.core.display.HTML object>"
      ]
     },
     "metadata": {},
     "output_type": "display_data"
    },
    {
     "data": {
      "text/html": [
       " View project at <a href='https://wandb.ai/sergi-sanchez-bonilla/huggingface' target=\"_blank\">https://wandb.ai/sergi-sanchez-bonilla/huggingface</a>"
      ],
      "text/plain": [
       "<IPython.core.display.HTML object>"
      ]
     },
     "metadata": {},
     "output_type": "display_data"
    },
    {
     "data": {
      "text/html": [
       " View run at <a href='https://wandb.ai/sergi-sanchez-bonilla/huggingface/runs/l39cbz6m' target=\"_blank\">https://wandb.ai/sergi-sanchez-bonilla/huggingface/runs/l39cbz6m</a>"
      ],
      "text/plain": [
       "<IPython.core.display.HTML object>"
      ]
     },
     "metadata": {},
     "output_type": "display_data"
    },
    {
     "data": {
      "text/html": [
       "\n",
       "    <div>\n",
       "      \n",
       "      <progress value='636' max='1590' style='width:300px; height:20px; vertical-align: middle;'></progress>\n",
       "      [ 636/1590 00:34 < 00:52, 18.19 it/s, Epoch 2/5]\n",
       "    </div>\n",
       "    <table border=\"1\" class=\"dataframe\">\n",
       "  <thead>\n",
       " <tr style=\"text-align: left;\">\n",
       "      <th>Epoch</th>\n",
       "      <th>Training Loss</th>\n",
       "      <th>Validation Loss</th>\n",
       "      <th>Accuracy</th>\n",
       "    </tr>\n",
       "  </thead>\n",
       "  <tbody>\n",
       "    <tr>\n",
       "      <td>1</td>\n",
       "      <td>No log</td>\n",
       "      <td>0.230343</td>\n",
       "      <td>0.590000</td>\n",
       "    </tr>\n",
       "    <tr>\n",
       "      <td>2</td>\n",
       "      <td>0.359900</td>\n",
       "      <td>0.116848</td>\n",
       "      <td>0.817097</td>\n",
       "    </tr>\n",
       "  </tbody>\n",
       "</table><p>"
      ],
      "text/plain": [
       "<IPython.core.display.HTML object>"
      ]
     },
     "metadata": {},
     "output_type": "display_data"
    },
    {
     "name": "stderr",
     "output_type": "stream",
     "text": [
      "It seems you are trying to upload a large folder at once. This might take some time and then fail if the folder is too large. For such cases, it is recommended to upload in smaller batches or to use `HfApi().upload_large_folder(...)`/`huggingface-cli upload-large-folder` instead. For more details, check out https://huggingface.co/docs/huggingface_hub/main/en/guides/upload#upload-a-large-folder.\n",
      "[I 2025-06-18 15:41:23,136] Trial 8 pruned. \n",
      "Detected kernel version 5.4.0, which is below the recommended minimum of 5.5.0; this can cause the process to hang. It is recommended to upgrade the kernel to the minimum version or higher.\n",
      "Some weights of DistilBertForSequenceClassification were not initialized from the model checkpoint at distilbert-base-uncased and are newly initialized: ['classifier.bias', 'classifier.weight', 'pre_classifier.bias', 'pre_classifier.weight']\n",
      "You should probably TRAIN this model on a down-stream task to be able to use it for predictions and inference.\n"
     ]
    },
    {
     "data": {
      "text/html": [],
      "text/plain": [
       "<IPython.core.display.HTML object>"
      ]
     },
     "metadata": {},
     "output_type": "display_data"
    },
    {
     "data": {
      "text/html": [
       "<br>    <style><br>        .wandb-row {<br>            display: flex;<br>            flex-direction: row;<br>            flex-wrap: wrap;<br>            justify-content: flex-start;<br>            width: 100%;<br>        }<br>        .wandb-col {<br>            display: flex;<br>            flex-direction: column;<br>            flex-basis: 100%;<br>            flex: 1;<br>            padding: 10px;<br>        }<br>    </style><br><div class=\"wandb-row\"><div class=\"wandb-col\"><h3>Run history:</h3><br/><table class=\"wandb\"><tr><td>eval/accuracy</td><td>▁█</td></tr><tr><td>eval/loss</td><td>█▁</td></tr><tr><td>eval/runtime</td><td>█▁</td></tr><tr><td>eval/samples_per_second</td><td>▁█</td></tr><tr><td>eval/steps_per_second</td><td>▁█</td></tr><tr><td>train/epoch</td><td>▁▅█</td></tr><tr><td>train/global_step</td><td>▁▅█</td></tr><tr><td>train/grad_norm</td><td>▁</td></tr><tr><td>train/learning_rate</td><td>▁</td></tr><tr><td>train/loss</td><td>▁</td></tr></table><br/></div><div class=\"wandb-col\"><h3>Run summary:</h3><br/><table class=\"wandb\"><tr><td>eval/accuracy</td><td>0.8171</td></tr><tr><td>eval/loss</td><td>0.11685</td></tr><tr><td>eval/runtime</td><td>1.397</td></tr><tr><td>eval/samples_per_second</td><td>2219.107</td></tr><tr><td>eval/steps_per_second</td><td>46.53</td></tr><tr><td>train/epoch</td><td>2</td></tr><tr><td>train/global_step</td><td>636</td></tr><tr><td>train/grad_norm</td><td>0.52854</td></tr><tr><td>train/learning_rate</td><td>1e-05</td></tr><tr><td>train/loss</td><td>0.3599</td></tr></table><br/></div></div>"
      ],
      "text/plain": [
       "<IPython.core.display.HTML object>"
      ]
     },
     "metadata": {},
     "output_type": "display_data"
    },
    {
     "data": {
      "text/html": [
       " View run <strong style=\"color:#cdcd00\">ethereal-shape-36</strong> at: <a href='https://wandb.ai/sergi-sanchez-bonilla/huggingface/runs/l39cbz6m' target=\"_blank\">https://wandb.ai/sergi-sanchez-bonilla/huggingface/runs/l39cbz6m</a><br> View project at: <a href='https://wandb.ai/sergi-sanchez-bonilla/huggingface' target=\"_blank\">https://wandb.ai/sergi-sanchez-bonilla/huggingface</a><br>Synced 5 W&B file(s), 0 media file(s), 0 artifact file(s) and 0 other file(s)"
      ],
      "text/plain": [
       "<IPython.core.display.HTML object>"
      ]
     },
     "metadata": {},
     "output_type": "display_data"
    },
    {
     "data": {
      "text/html": [
       "Find logs at: <code>./wandb/run-20250618_154047-l39cbz6m/logs</code>"
      ],
      "text/plain": [
       "<IPython.core.display.HTML object>"
      ]
     },
     "metadata": {},
     "output_type": "display_data"
    },
    {
     "name": "stderr",
     "output_type": "stream",
     "text": [
      "huggingface/tokenizers: The current process just got forked, after parallelism has already been used. Disabling parallelism to avoid deadlocks...\n",
      "To disable this warning, you can either:\n",
      "\t- Avoid using `tokenizers` before the fork if possible\n",
      "\t- Explicitly set the environment variable TOKENIZERS_PARALLELISM=(true | false)\n"
     ]
    },
    {
     "data": {
      "text/html": [
       "Tracking run with wandb version 0.19.11"
      ],
      "text/plain": [
       "<IPython.core.display.HTML object>"
      ]
     },
     "metadata": {},
     "output_type": "display_data"
    },
    {
     "data": {
      "text/html": [
       "Run data is saved locally in <code>/home/ssanchez/repositories/Learning/NLPTransformers/wandb/run-20250618_154125-6h8kb0pi</code>"
      ],
      "text/plain": [
       "<IPython.core.display.HTML object>"
      ]
     },
     "metadata": {},
     "output_type": "display_data"
    },
    {
     "data": {
      "text/html": [
       "Syncing run <strong><a href='https://wandb.ai/sergi-sanchez-bonilla/huggingface/runs/6h8kb0pi' target=\"_blank\">skilled-snowflake-37</a></strong> to <a href='https://wandb.ai/sergi-sanchez-bonilla/huggingface' target=\"_blank\">Weights & Biases</a> (<a href='https://wandb.me/developer-guide' target=\"_blank\">docs</a>)<br>"
      ],
      "text/plain": [
       "<IPython.core.display.HTML object>"
      ]
     },
     "metadata": {},
     "output_type": "display_data"
    },
    {
     "data": {
      "text/html": [
       " View project at <a href='https://wandb.ai/sergi-sanchez-bonilla/huggingface' target=\"_blank\">https://wandb.ai/sergi-sanchez-bonilla/huggingface</a>"
      ],
      "text/plain": [
       "<IPython.core.display.HTML object>"
      ]
     },
     "metadata": {},
     "output_type": "display_data"
    },
    {
     "data": {
      "text/html": [
       " View run at <a href='https://wandb.ai/sergi-sanchez-bonilla/huggingface/runs/6h8kb0pi' target=\"_blank\">https://wandb.ai/sergi-sanchez-bonilla/huggingface/runs/6h8kb0pi</a>"
      ],
      "text/plain": [
       "<IPython.core.display.HTML object>"
      ]
     },
     "metadata": {},
     "output_type": "display_data"
    },
    {
     "data": {
      "text/html": [
       "\n",
       "    <div>\n",
       "      \n",
       "      <progress value='1908' max='3180' style='width:300px; height:20px; vertical-align: middle;'></progress>\n",
       "      [1908/3180 01:36 < 01:04, 19.77 it/s, Epoch 6/10]\n",
       "    </div>\n",
       "    <table border=\"1\" class=\"dataframe\">\n",
       "  <thead>\n",
       " <tr style=\"text-align: left;\">\n",
       "      <th>Epoch</th>\n",
       "      <th>Training Loss</th>\n",
       "      <th>Validation Loss</th>\n",
       "      <th>Accuracy</th>\n",
       "    </tr>\n",
       "  </thead>\n",
       "  <tbody>\n",
       "    <tr>\n",
       "      <td>1</td>\n",
       "      <td>No log</td>\n",
       "      <td>0.194135</td>\n",
       "      <td>0.585806</td>\n",
       "    </tr>\n",
       "    <tr>\n",
       "      <td>2</td>\n",
       "      <td>0.313500</td>\n",
       "      <td>0.094662</td>\n",
       "      <td>0.828710</td>\n",
       "    </tr>\n",
       "    <tr>\n",
       "      <td>3</td>\n",
       "      <td>0.313500</td>\n",
       "      <td>0.063084</td>\n",
       "      <td>0.882258</td>\n",
       "    </tr>\n",
       "    <tr>\n",
       "      <td>4</td>\n",
       "      <td>0.109400</td>\n",
       "      <td>0.048224</td>\n",
       "      <td>0.894839</td>\n",
       "    </tr>\n",
       "    <tr>\n",
       "      <td>5</td>\n",
       "      <td>0.069100</td>\n",
       "      <td>0.039204</td>\n",
       "      <td>0.910645</td>\n",
       "    </tr>\n",
       "    <tr>\n",
       "      <td>6</td>\n",
       "      <td>0.069100</td>\n",
       "      <td>0.034241</td>\n",
       "      <td>0.918065</td>\n",
       "    </tr>\n",
       "  </tbody>\n",
       "</table><p>"
      ],
      "text/plain": [
       "<IPython.core.display.HTML object>"
      ]
     },
     "metadata": {},
     "output_type": "display_data"
    },
    {
     "name": "stderr",
     "output_type": "stream",
     "text": [
      "[I 2025-06-18 15:43:02,632] Trial 9 pruned. \n",
      "Detected kernel version 5.4.0, which is below the recommended minimum of 5.5.0; this can cause the process to hang. It is recommended to upgrade the kernel to the minimum version or higher.\n",
      "Some weights of DistilBertForSequenceClassification were not initialized from the model checkpoint at distilbert-base-uncased and are newly initialized: ['classifier.bias', 'classifier.weight', 'pre_classifier.bias', 'pre_classifier.weight']\n",
      "You should probably TRAIN this model on a down-stream task to be able to use it for predictions and inference.\n"
     ]
    },
    {
     "data": {
      "text/html": [],
      "text/plain": [
       "<IPython.core.display.HTML object>"
      ]
     },
     "metadata": {},
     "output_type": "display_data"
    },
    {
     "data": {
      "text/html": [
       "<br>    <style><br>        .wandb-row {<br>            display: flex;<br>            flex-direction: row;<br>            flex-wrap: wrap;<br>            justify-content: flex-start;<br>            width: 100%;<br>        }<br>        .wandb-col {<br>            display: flex;<br>            flex-direction: column;<br>            flex-basis: 100%;<br>            flex: 1;<br>            padding: 10px;<br>        }<br>    </style><br><div class=\"wandb-row\"><div class=\"wandb-col\"><h3>Run history:</h3><br/><table class=\"wandb\"><tr><td>eval/accuracy</td><td>▁▆▇███</td></tr><tr><td>eval/loss</td><td>█▄▂▂▁▁</td></tr><tr><td>eval/runtime</td><td>▂▃▁█▆▇</td></tr><tr><td>eval/samples_per_second</td><td>▇▆█▁▃▂</td></tr><tr><td>eval/steps_per_second</td><td>▇▆█▁▃▂</td></tr><tr><td>train/epoch</td><td>▁▂▂▄▄▅▆▇█</td></tr><tr><td>train/global_step</td><td>▁▂▂▄▄▅▆▇█</td></tr><tr><td>train/grad_norm</td><td>█▇▁</td></tr><tr><td>train/learning_rate</td><td>█▅▁</td></tr><tr><td>train/loss</td><td>█▂▁</td></tr></table><br/></div><div class=\"wandb-col\"><h3>Run summary:</h3><br/><table class=\"wandb\"><tr><td>eval/accuracy</td><td>0.91806</td></tr><tr><td>eval/loss</td><td>0.03424</td></tr><tr><td>eval/runtime</td><td>1.4115</td></tr><tr><td>eval/samples_per_second</td><td>2196.281</td></tr><tr><td>eval/steps_per_second</td><td>46.051</td></tr><tr><td>train/epoch</td><td>6</td></tr><tr><td>train/global_step</td><td>1908</td></tr><tr><td>train/grad_norm</td><td>0.30546</td></tr><tr><td>train/learning_rate</td><td>1e-05</td></tr><tr><td>train/loss</td><td>0.0691</td></tr></table><br/></div></div>"
      ],
      "text/plain": [
       "<IPython.core.display.HTML object>"
      ]
     },
     "metadata": {},
     "output_type": "display_data"
    },
    {
     "data": {
      "text/html": [
       " View run <strong style=\"color:#cdcd00\">skilled-snowflake-37</strong> at: <a href='https://wandb.ai/sergi-sanchez-bonilla/huggingface/runs/6h8kb0pi' target=\"_blank\">https://wandb.ai/sergi-sanchez-bonilla/huggingface/runs/6h8kb0pi</a><br> View project at: <a href='https://wandb.ai/sergi-sanchez-bonilla/huggingface' target=\"_blank\">https://wandb.ai/sergi-sanchez-bonilla/huggingface</a><br>Synced 5 W&B file(s), 0 media file(s), 0 artifact file(s) and 0 other file(s)"
      ],
      "text/plain": [
       "<IPython.core.display.HTML object>"
      ]
     },
     "metadata": {},
     "output_type": "display_data"
    },
    {
     "data": {
      "text/html": [
       "Find logs at: <code>./wandb/run-20250618_154125-6h8kb0pi/logs</code>"
      ],
      "text/plain": [
       "<IPython.core.display.HTML object>"
      ]
     },
     "metadata": {},
     "output_type": "display_data"
    },
    {
     "name": "stderr",
     "output_type": "stream",
     "text": [
      "huggingface/tokenizers: The current process just got forked, after parallelism has already been used. Disabling parallelism to avoid deadlocks...\n",
      "To disable this warning, you can either:\n",
      "\t- Avoid using `tokenizers` before the fork if possible\n",
      "\t- Explicitly set the environment variable TOKENIZERS_PARALLELISM=(true | false)\n"
     ]
    },
    {
     "data": {
      "text/html": [
       "Tracking run with wandb version 0.19.11"
      ],
      "text/plain": [
       "<IPython.core.display.HTML object>"
      ]
     },
     "metadata": {},
     "output_type": "display_data"
    },
    {
     "data": {
      "text/html": [
       "Run data is saved locally in <code>/home/ssanchez/repositories/Learning/NLPTransformers/wandb/run-20250618_154303-otgoa2rw</code>"
      ],
      "text/plain": [
       "<IPython.core.display.HTML object>"
      ]
     },
     "metadata": {},
     "output_type": "display_data"
    },
    {
     "data": {
      "text/html": [
       "Syncing run <strong><a href='https://wandb.ai/sergi-sanchez-bonilla/huggingface/runs/otgoa2rw' target=\"_blank\">lilac-firebrand-38</a></strong> to <a href='https://wandb.ai/sergi-sanchez-bonilla/huggingface' target=\"_blank\">Weights & Biases</a> (<a href='https://wandb.me/developer-guide' target=\"_blank\">docs</a>)<br>"
      ],
      "text/plain": [
       "<IPython.core.display.HTML object>"
      ]
     },
     "metadata": {},
     "output_type": "display_data"
    },
    {
     "data": {
      "text/html": [
       " View project at <a href='https://wandb.ai/sergi-sanchez-bonilla/huggingface' target=\"_blank\">https://wandb.ai/sergi-sanchez-bonilla/huggingface</a>"
      ],
      "text/plain": [
       "<IPython.core.display.HTML object>"
      ]
     },
     "metadata": {},
     "output_type": "display_data"
    },
    {
     "data": {
      "text/html": [
       " View run at <a href='https://wandb.ai/sergi-sanchez-bonilla/huggingface/runs/otgoa2rw' target=\"_blank\">https://wandb.ai/sergi-sanchez-bonilla/huggingface/runs/otgoa2rw</a>"
      ],
      "text/plain": [
       "<IPython.core.display.HTML object>"
      ]
     },
     "metadata": {},
     "output_type": "display_data"
    },
    {
     "data": {
      "text/html": [
       "\n",
       "    <div>\n",
       "      \n",
       "      <progress value='1590' max='2544' style='width:300px; height:20px; vertical-align: middle;'></progress>\n",
       "      [1590/2544 01:26 < 00:51, 18.40 it/s, Epoch 5/8]\n",
       "    </div>\n",
       "    <table border=\"1\" class=\"dataframe\">\n",
       "  <thead>\n",
       " <tr style=\"text-align: left;\">\n",
       "      <th>Epoch</th>\n",
       "      <th>Training Loss</th>\n",
       "      <th>Validation Loss</th>\n",
       "      <th>Accuracy</th>\n",
       "    </tr>\n",
       "  </thead>\n",
       "  <tbody>\n",
       "    <tr>\n",
       "      <td>1</td>\n",
       "      <td>No log</td>\n",
       "      <td>0.209309</td>\n",
       "      <td>0.592258</td>\n",
       "    </tr>\n",
       "    <tr>\n",
       "      <td>2</td>\n",
       "      <td>0.335100</td>\n",
       "      <td>0.101523</td>\n",
       "      <td>0.831613</td>\n",
       "    </tr>\n",
       "    <tr>\n",
       "      <td>3</td>\n",
       "      <td>0.335100</td>\n",
       "      <td>0.067484</td>\n",
       "      <td>0.879032</td>\n",
       "    </tr>\n",
       "    <tr>\n",
       "      <td>4</td>\n",
       "      <td>0.117600</td>\n",
       "      <td>0.051797</td>\n",
       "      <td>0.894516</td>\n",
       "    </tr>\n",
       "    <tr>\n",
       "      <td>5</td>\n",
       "      <td>0.074900</td>\n",
       "      <td>0.042842</td>\n",
       "      <td>0.907097</td>\n",
       "    </tr>\n",
       "  </tbody>\n",
       "</table><p>"
      ],
      "text/plain": [
       "<IPython.core.display.HTML object>"
      ]
     },
     "metadata": {},
     "output_type": "display_data"
    },
    {
     "name": "stderr",
     "output_type": "stream",
     "text": [
      "It seems you are trying to upload a large folder at once. This might take some time and then fail if the folder is too large. For such cases, it is recommended to upload in smaller batches or to use `HfApi().upload_large_folder(...)`/`huggingface-cli upload-large-folder` instead. For more details, check out https://huggingface.co/docs/huggingface_hub/main/en/guides/upload#upload-a-large-folder.\n",
      "[I 2025-06-18 15:44:31,070] Trial 10 pruned. \n",
      "Detected kernel version 5.4.0, which is below the recommended minimum of 5.5.0; this can cause the process to hang. It is recommended to upgrade the kernel to the minimum version or higher.\n",
      "Some weights of DistilBertForSequenceClassification were not initialized from the model checkpoint at distilbert-base-uncased and are newly initialized: ['classifier.bias', 'classifier.weight', 'pre_classifier.bias', 'pre_classifier.weight']\n",
      "You should probably TRAIN this model on a down-stream task to be able to use it for predictions and inference.\n"
     ]
    },
    {
     "data": {
      "text/html": [],
      "text/plain": [
       "<IPython.core.display.HTML object>"
      ]
     },
     "metadata": {},
     "output_type": "display_data"
    },
    {
     "data": {
      "text/html": [
       "<br>    <style><br>        .wandb-row {<br>            display: flex;<br>            flex-direction: row;<br>            flex-wrap: wrap;<br>            justify-content: flex-start;<br>            width: 100%;<br>        }<br>        .wandb-col {<br>            display: flex;<br>            flex-direction: column;<br>            flex-basis: 100%;<br>            flex: 1;<br>            padding: 10px;<br>        }<br>    </style><br><div class=\"wandb-row\"><div class=\"wandb-col\"><h3>Run history:</h3><br/><table class=\"wandb\"><tr><td>eval/accuracy</td><td>▁▆▇██</td></tr><tr><td>eval/loss</td><td>█▃▂▁▁</td></tr><tr><td>eval/runtime</td><td>█▂▅▁▅</td></tr><tr><td>eval/samples_per_second</td><td>▁▇▄█▄</td></tr><tr><td>eval/steps_per_second</td><td>▁▇▄█▄</td></tr><tr><td>train/epoch</td><td>▁▂▃▅▅▆██</td></tr><tr><td>train/global_step</td><td>▁▂▃▄▅▆██</td></tr><tr><td>train/grad_norm</td><td>█▇▁</td></tr><tr><td>train/learning_rate</td><td>█▅▁</td></tr><tr><td>train/loss</td><td>█▂▁</td></tr></table><br/></div><div class=\"wandb-col\"><h3>Run summary:</h3><br/><table class=\"wandb\"><tr><td>eval/accuracy</td><td>0.9071</td></tr><tr><td>eval/loss</td><td>0.04284</td></tr><tr><td>eval/runtime</td><td>1.4109</td></tr><tr><td>eval/samples_per_second</td><td>2197.251</td></tr><tr><td>eval/steps_per_second</td><td>46.071</td></tr><tr><td>train/epoch</td><td>5</td></tr><tr><td>train/global_step</td><td>1590</td></tr><tr><td>train/grad_norm</td><td>0.33058</td></tr><tr><td>train/learning_rate</td><td>1e-05</td></tr><tr><td>train/loss</td><td>0.0749</td></tr></table><br/></div></div>"
      ],
      "text/plain": [
       "<IPython.core.display.HTML object>"
      ]
     },
     "metadata": {},
     "output_type": "display_data"
    },
    {
     "data": {
      "text/html": [
       " View run <strong style=\"color:#cdcd00\">lilac-firebrand-38</strong> at: <a href='https://wandb.ai/sergi-sanchez-bonilla/huggingface/runs/otgoa2rw' target=\"_blank\">https://wandb.ai/sergi-sanchez-bonilla/huggingface/runs/otgoa2rw</a><br> View project at: <a href='https://wandb.ai/sergi-sanchez-bonilla/huggingface' target=\"_blank\">https://wandb.ai/sergi-sanchez-bonilla/huggingface</a><br>Synced 5 W&B file(s), 0 media file(s), 0 artifact file(s) and 0 other file(s)"
      ],
      "text/plain": [
       "<IPython.core.display.HTML object>"
      ]
     },
     "metadata": {},
     "output_type": "display_data"
    },
    {
     "data": {
      "text/html": [
       "Find logs at: <code>./wandb/run-20250618_154303-otgoa2rw/logs</code>"
      ],
      "text/plain": [
       "<IPython.core.display.HTML object>"
      ]
     },
     "metadata": {},
     "output_type": "display_data"
    },
    {
     "name": "stderr",
     "output_type": "stream",
     "text": [
      "huggingface/tokenizers: The current process just got forked, after parallelism has already been used. Disabling parallelism to avoid deadlocks...\n",
      "To disable this warning, you can either:\n",
      "\t- Avoid using `tokenizers` before the fork if possible\n",
      "\t- Explicitly set the environment variable TOKENIZERS_PARALLELISM=(true | false)\n"
     ]
    },
    {
     "data": {
      "text/html": [
       "creating run (0.0s)"
      ],
      "text/plain": [
       "<IPython.core.display.HTML object>"
      ]
     },
     "metadata": {},
     "output_type": "display_data"
    },
    {
     "data": {
      "text/html": [
       "Tracking run with wandb version 0.19.11"
      ],
      "text/plain": [
       "<IPython.core.display.HTML object>"
      ]
     },
     "metadata": {},
     "output_type": "display_data"
    },
    {
     "data": {
      "text/html": [
       "Run data is saved locally in <code>/home/ssanchez/repositories/Learning/NLPTransformers/wandb/run-20250618_154432-70vb4yf0</code>"
      ],
      "text/plain": [
       "<IPython.core.display.HTML object>"
      ]
     },
     "metadata": {},
     "output_type": "display_data"
    },
    {
     "data": {
      "text/html": [
       "Syncing run <strong><a href='https://wandb.ai/sergi-sanchez-bonilla/huggingface/runs/70vb4yf0' target=\"_blank\">upbeat-firefly-39</a></strong> to <a href='https://wandb.ai/sergi-sanchez-bonilla/huggingface' target=\"_blank\">Weights & Biases</a> (<a href='https://wandb.me/developer-guide' target=\"_blank\">docs</a>)<br>"
      ],
      "text/plain": [
       "<IPython.core.display.HTML object>"
      ]
     },
     "metadata": {},
     "output_type": "display_data"
    },
    {
     "data": {
      "text/html": [
       " View project at <a href='https://wandb.ai/sergi-sanchez-bonilla/huggingface' target=\"_blank\">https://wandb.ai/sergi-sanchez-bonilla/huggingface</a>"
      ],
      "text/plain": [
       "<IPython.core.display.HTML object>"
      ]
     },
     "metadata": {},
     "output_type": "display_data"
    },
    {
     "data": {
      "text/html": [
       " View run at <a href='https://wandb.ai/sergi-sanchez-bonilla/huggingface/runs/70vb4yf0' target=\"_blank\">https://wandb.ai/sergi-sanchez-bonilla/huggingface/runs/70vb4yf0</a>"
      ],
      "text/plain": [
       "<IPython.core.display.HTML object>"
      ]
     },
     "metadata": {},
     "output_type": "display_data"
    },
    {
     "data": {
      "text/html": [
       "\n",
       "    <div>\n",
       "      \n",
       "      <progress value='3180' max='3180' style='width:300px; height:20px; vertical-align: middle;'></progress>\n",
       "      [3180/3180 03:21, Epoch 10/10]\n",
       "    </div>\n",
       "    <table border=\"1\" class=\"dataframe\">\n",
       "  <thead>\n",
       " <tr style=\"text-align: left;\">\n",
       "      <th>Epoch</th>\n",
       "      <th>Training Loss</th>\n",
       "      <th>Validation Loss</th>\n",
       "      <th>Accuracy</th>\n",
       "    </tr>\n",
       "  </thead>\n",
       "  <tbody>\n",
       "    <tr>\n",
       "      <td>1</td>\n",
       "      <td>No log</td>\n",
       "      <td>0.203056</td>\n",
       "      <td>0.594839</td>\n",
       "    </tr>\n",
       "    <tr>\n",
       "      <td>2</td>\n",
       "      <td>0.327700</td>\n",
       "      <td>0.097361</td>\n",
       "      <td>0.835161</td>\n",
       "    </tr>\n",
       "    <tr>\n",
       "      <td>3</td>\n",
       "      <td>0.327700</td>\n",
       "      <td>0.063957</td>\n",
       "      <td>0.884194</td>\n",
       "    </tr>\n",
       "    <tr>\n",
       "      <td>4</td>\n",
       "      <td>0.112900</td>\n",
       "      <td>0.048433</td>\n",
       "      <td>0.898387</td>\n",
       "    </tr>\n",
       "    <tr>\n",
       "      <td>5</td>\n",
       "      <td>0.070300</td>\n",
       "      <td>0.039128</td>\n",
       "      <td>0.911290</td>\n",
       "    </tr>\n",
       "    <tr>\n",
       "      <td>6</td>\n",
       "      <td>0.070300</td>\n",
       "      <td>0.034089</td>\n",
       "      <td>0.921290</td>\n",
       "    </tr>\n",
       "    <tr>\n",
       "      <td>7</td>\n",
       "      <td>0.054600</td>\n",
       "      <td>0.031127</td>\n",
       "      <td>0.922903</td>\n",
       "    </tr>\n",
       "    <tr>\n",
       "      <td>8</td>\n",
       "      <td>0.047100</td>\n",
       "      <td>0.029058</td>\n",
       "      <td>0.929032</td>\n",
       "    </tr>\n",
       "    <tr>\n",
       "      <td>9</td>\n",
       "      <td>0.047100</td>\n",
       "      <td>0.027952</td>\n",
       "      <td>0.928387</td>\n",
       "    </tr>\n",
       "    <tr>\n",
       "      <td>10</td>\n",
       "      <td>0.043500</td>\n",
       "      <td>0.027481</td>\n",
       "      <td>0.929032</td>\n",
       "    </tr>\n",
       "  </tbody>\n",
       "</table><p>"
      ],
      "text/plain": [
       "<IPython.core.display.HTML object>"
      ]
     },
     "metadata": {},
     "output_type": "display_data"
    },
    {
     "name": "stderr",
     "output_type": "stream",
     "text": [
      "It seems you are trying to upload a large folder at once. This might take some time and then fail if the folder is too large. For such cases, it is recommended to upload in smaller batches or to use `HfApi().upload_large_folder(...)`/`huggingface-cli upload-large-folder` instead. For more details, check out https://huggingface.co/docs/huggingface_hub/main/en/guides/upload#upload-a-large-folder.\n",
      "[I 2025-06-18 15:47:56,956] Trial 11 pruned. \n",
      "Detected kernel version 5.4.0, which is below the recommended minimum of 5.5.0; this can cause the process to hang. It is recommended to upgrade the kernel to the minimum version or higher.\n",
      "Some weights of DistilBertForSequenceClassification were not initialized from the model checkpoint at distilbert-base-uncased and are newly initialized: ['classifier.bias', 'classifier.weight', 'pre_classifier.bias', 'pre_classifier.weight']\n",
      "You should probably TRAIN this model on a down-stream task to be able to use it for predictions and inference.\n"
     ]
    },
    {
     "data": {
      "text/html": [],
      "text/plain": [
       "<IPython.core.display.HTML object>"
      ]
     },
     "metadata": {},
     "output_type": "display_data"
    },
    {
     "data": {
      "text/html": [
       "<br>    <style><br>        .wandb-row {<br>            display: flex;<br>            flex-direction: row;<br>            flex-wrap: wrap;<br>            justify-content: flex-start;<br>            width: 100%;<br>        }<br>        .wandb-col {<br>            display: flex;<br>            flex-direction: column;<br>            flex-basis: 100%;<br>            flex: 1;<br>            padding: 10px;<br>        }<br>    </style><br><div class=\"wandb-row\"><div class=\"wandb-col\"><h3>Run history:</h3><br/><table class=\"wandb\"><tr><td>eval/accuracy</td><td>▁▆▇▇██████</td></tr><tr><td>eval/loss</td><td>█▄▂▂▁▁▁▁▁▁</td></tr><tr><td>eval/runtime</td><td>▁▁▁▂▁█▄▄▂▂</td></tr><tr><td>eval/samples_per_second</td><td>███▇█▁▅▅▇▇</td></tr><tr><td>eval/steps_per_second</td><td>███▇█▁▅▅▇▇</td></tr><tr><td>train/epoch</td><td>▁▁▂▃▃▃▄▄▅▅▆▆▆▇██</td></tr><tr><td>train/global_step</td><td>▁▁▂▃▃▃▄▄▅▅▆▆▆▇██</td></tr><tr><td>train/grad_norm</td><td>█▇▃▁▁▁</td></tr><tr><td>train/learning_rate</td><td>█▇▅▄▂▁</td></tr><tr><td>train/loss</td><td>█▃▂▁▁▁</td></tr></table><br/></div><div class=\"wandb-col\"><h3>Run summary:</h3><br/><table class=\"wandb\"><tr><td>eval/accuracy</td><td>0.92903</td></tr><tr><td>eval/loss</td><td>0.02748</td></tr><tr><td>eval/runtime</td><td>1.407</td></tr><tr><td>eval/samples_per_second</td><td>2203.29</td></tr><tr><td>eval/steps_per_second</td><td>46.198</td></tr><tr><td>train/epoch</td><td>10</td></tr><tr><td>train/global_step</td><td>3180</td></tr><tr><td>train/grad_norm</td><td>0.2456</td></tr><tr><td>train/learning_rate</td><td>0.0</td></tr><tr><td>train/loss</td><td>0.0435</td></tr></table><br/></div></div>"
      ],
      "text/plain": [
       "<IPython.core.display.HTML object>"
      ]
     },
     "metadata": {},
     "output_type": "display_data"
    },
    {
     "data": {
      "text/html": [
       " View run <strong style=\"color:#cdcd00\">upbeat-firefly-39</strong> at: <a href='https://wandb.ai/sergi-sanchez-bonilla/huggingface/runs/70vb4yf0' target=\"_blank\">https://wandb.ai/sergi-sanchez-bonilla/huggingface/runs/70vb4yf0</a><br> View project at: <a href='https://wandb.ai/sergi-sanchez-bonilla/huggingface' target=\"_blank\">https://wandb.ai/sergi-sanchez-bonilla/huggingface</a><br>Synced 5 W&B file(s), 0 media file(s), 0 artifact file(s) and 0 other file(s)"
      ],
      "text/plain": [
       "<IPython.core.display.HTML object>"
      ]
     },
     "metadata": {},
     "output_type": "display_data"
    },
    {
     "data": {
      "text/html": [
       "Find logs at: <code>./wandb/run-20250618_154432-70vb4yf0/logs</code>"
      ],
      "text/plain": [
       "<IPython.core.display.HTML object>"
      ]
     },
     "metadata": {},
     "output_type": "display_data"
    },
    {
     "name": "stderr",
     "output_type": "stream",
     "text": [
      "huggingface/tokenizers: The current process just got forked, after parallelism has already been used. Disabling parallelism to avoid deadlocks...\n",
      "To disable this warning, you can either:\n",
      "\t- Avoid using `tokenizers` before the fork if possible\n",
      "\t- Explicitly set the environment variable TOKENIZERS_PARALLELISM=(true | false)\n"
     ]
    },
    {
     "data": {
      "text/html": [
       "Tracking run with wandb version 0.19.11"
      ],
      "text/plain": [
       "<IPython.core.display.HTML object>"
      ]
     },
     "metadata": {},
     "output_type": "display_data"
    },
    {
     "data": {
      "text/html": [
       "Run data is saved locally in <code>/home/ssanchez/repositories/Learning/NLPTransformers/wandb/run-20250618_154759-qai5s0ro</code>"
      ],
      "text/plain": [
       "<IPython.core.display.HTML object>"
      ]
     },
     "metadata": {},
     "output_type": "display_data"
    },
    {
     "data": {
      "text/html": [
       "Syncing run <strong><a href='https://wandb.ai/sergi-sanchez-bonilla/huggingface/runs/qai5s0ro' target=\"_blank\">lunar-river-40</a></strong> to <a href='https://wandb.ai/sergi-sanchez-bonilla/huggingface' target=\"_blank\">Weights & Biases</a> (<a href='https://wandb.me/developer-guide' target=\"_blank\">docs</a>)<br>"
      ],
      "text/plain": [
       "<IPython.core.display.HTML object>"
      ]
     },
     "metadata": {},
     "output_type": "display_data"
    },
    {
     "data": {
      "text/html": [
       " View project at <a href='https://wandb.ai/sergi-sanchez-bonilla/huggingface' target=\"_blank\">https://wandb.ai/sergi-sanchez-bonilla/huggingface</a>"
      ],
      "text/plain": [
       "<IPython.core.display.HTML object>"
      ]
     },
     "metadata": {},
     "output_type": "display_data"
    },
    {
     "data": {
      "text/html": [
       " View run at <a href='https://wandb.ai/sergi-sanchez-bonilla/huggingface/runs/qai5s0ro' target=\"_blank\">https://wandb.ai/sergi-sanchez-bonilla/huggingface/runs/qai5s0ro</a>"
      ],
      "text/plain": [
       "<IPython.core.display.HTML object>"
      ]
     },
     "metadata": {},
     "output_type": "display_data"
    },
    {
     "data": {
      "text/html": [
       "\n",
       "    <div>\n",
       "      \n",
       "      <progress value='2862' max='2862' style='width:300px; height:20px; vertical-align: middle;'></progress>\n",
       "      [2862/2862 02:47, Epoch 9/9]\n",
       "    </div>\n",
       "    <table border=\"1\" class=\"dataframe\">\n",
       "  <thead>\n",
       " <tr style=\"text-align: left;\">\n",
       "      <th>Epoch</th>\n",
       "      <th>Training Loss</th>\n",
       "      <th>Validation Loss</th>\n",
       "      <th>Accuracy</th>\n",
       "    </tr>\n",
       "  </thead>\n",
       "  <tbody>\n",
       "    <tr>\n",
       "      <td>1</td>\n",
       "      <td>No log</td>\n",
       "      <td>0.408134</td>\n",
       "      <td>0.673226</td>\n",
       "    </tr>\n",
       "    <tr>\n",
       "      <td>2</td>\n",
       "      <td>0.642100</td>\n",
       "      <td>0.140798</td>\n",
       "      <td>0.842258</td>\n",
       "    </tr>\n",
       "    <tr>\n",
       "      <td>3</td>\n",
       "      <td>0.642100</td>\n",
       "      <td>0.072515</td>\n",
       "      <td>0.895161</td>\n",
       "    </tr>\n",
       "    <tr>\n",
       "      <td>4</td>\n",
       "      <td>0.164400</td>\n",
       "      <td>0.052278</td>\n",
       "      <td>0.914839</td>\n",
       "    </tr>\n",
       "    <tr>\n",
       "      <td>5</td>\n",
       "      <td>0.081800</td>\n",
       "      <td>0.043040</td>\n",
       "      <td>0.923871</td>\n",
       "    </tr>\n",
       "    <tr>\n",
       "      <td>6</td>\n",
       "      <td>0.081800</td>\n",
       "      <td>0.038619</td>\n",
       "      <td>0.928710</td>\n",
       "    </tr>\n",
       "    <tr>\n",
       "      <td>7</td>\n",
       "      <td>0.061900</td>\n",
       "      <td>0.035834</td>\n",
       "      <td>0.931290</td>\n",
       "    </tr>\n",
       "    <tr>\n",
       "      <td>8</td>\n",
       "      <td>0.054100</td>\n",
       "      <td>0.034226</td>\n",
       "      <td>0.933548</td>\n",
       "    </tr>\n",
       "    <tr>\n",
       "      <td>9</td>\n",
       "      <td>0.054100</td>\n",
       "      <td>0.033744</td>\n",
       "      <td>0.932903</td>\n",
       "    </tr>\n",
       "  </tbody>\n",
       "</table><p>"
      ],
      "text/plain": [
       "<IPython.core.display.HTML object>"
      ]
     },
     "metadata": {},
     "output_type": "display_data"
    },
    {
     "name": "stderr",
     "output_type": "stream",
     "text": [
      "[I 2025-06-18 15:51:27,476] Trial 12 finished with value: 0.9329032258064516 and parameters: {'num_train_epochs': 9, 'alpha': 0.7953492187921081, 'temperature': 2}. Best is trial 12 with value: 0.9329032258064516.\n",
      "Detected kernel version 5.4.0, which is below the recommended minimum of 5.5.0; this can cause the process to hang. It is recommended to upgrade the kernel to the minimum version or higher.\n",
      "Some weights of DistilBertForSequenceClassification were not initialized from the model checkpoint at distilbert-base-uncased and are newly initialized: ['classifier.bias', 'classifier.weight', 'pre_classifier.bias', 'pre_classifier.weight']\n",
      "You should probably TRAIN this model on a down-stream task to be able to use it for predictions and inference.\n"
     ]
    },
    {
     "data": {
      "text/html": [],
      "text/plain": [
       "<IPython.core.display.HTML object>"
      ]
     },
     "metadata": {},
     "output_type": "display_data"
    },
    {
     "data": {
      "text/html": [
       "<br>    <style><br>        .wandb-row {<br>            display: flex;<br>            flex-direction: row;<br>            flex-wrap: wrap;<br>            justify-content: flex-start;<br>            width: 100%;<br>        }<br>        .wandb-col {<br>            display: flex;<br>            flex-direction: column;<br>            flex-basis: 100%;<br>            flex: 1;<br>            padding: 10px;<br>        }<br>    </style><br><div class=\"wandb-row\"><div class=\"wandb-col\"><h3>Run history:</h3><br/><table class=\"wandb\"><tr><td>eval/accuracy</td><td>▁▆▇▇█████</td></tr><tr><td>eval/loss</td><td>█▃▂▁▁▁▁▁▁</td></tr><tr><td>eval/runtime</td><td>▅▆█▆▄▆▃▃▁</td></tr><tr><td>eval/samples_per_second</td><td>▄▃▁▃▅▃▆▆█</td></tr><tr><td>eval/steps_per_second</td><td>▄▃▁▃▅▃▆▆█</td></tr><tr><td>train/epoch</td><td>▁▂▂▃▃▄▄▅▅▆▆▇▇██</td></tr><tr><td>train/global_step</td><td>▁▂▂▃▃▄▄▄▅▆▆▇▇██</td></tr><tr><td>train/grad_norm</td><td>█▅▂▁▁</td></tr><tr><td>train/learning_rate</td><td>█▆▅▃▁</td></tr><tr><td>train/loss</td><td>█▂▁▁▁</td></tr></table><br/></div><div class=\"wandb-col\"><h3>Run summary:</h3><br/><table class=\"wandb\"><tr><td>eval/accuracy</td><td>0.9329</td></tr><tr><td>eval/loss</td><td>0.03374</td></tr><tr><td>eval/runtime</td><td>1.3939</td></tr><tr><td>eval/samples_per_second</td><td>2223.981</td></tr><tr><td>eval/steps_per_second</td><td>46.632</td></tr><tr><td>total_flos</td><td>792141076743408.0</td></tr><tr><td>train/epoch</td><td>9</td></tr><tr><td>train/global_step</td><td>2862</td></tr><tr><td>train/grad_norm</td><td>0.32585</td></tr><tr><td>train/learning_rate</td><td>0.0</td></tr><tr><td>train/loss</td><td>0.0541</td></tr><tr><td>train_loss</td><td>0.18193</td></tr><tr><td>train_runtime</td><td>168.9386</td></tr><tr><td>train_samples_per_second</td><td>812.425</td></tr><tr><td>train_steps_per_second</td><td>16.941</td></tr></table><br/></div></div>"
      ],
      "text/plain": [
       "<IPython.core.display.HTML object>"
      ]
     },
     "metadata": {},
     "output_type": "display_data"
    },
    {
     "data": {
      "text/html": [
       " View run <strong style=\"color:#cdcd00\">lunar-river-40</strong> at: <a href='https://wandb.ai/sergi-sanchez-bonilla/huggingface/runs/qai5s0ro' target=\"_blank\">https://wandb.ai/sergi-sanchez-bonilla/huggingface/runs/qai5s0ro</a><br> View project at: <a href='https://wandb.ai/sergi-sanchez-bonilla/huggingface' target=\"_blank\">https://wandb.ai/sergi-sanchez-bonilla/huggingface</a><br>Synced 5 W&B file(s), 0 media file(s), 0 artifact file(s) and 0 other file(s)"
      ],
      "text/plain": [
       "<IPython.core.display.HTML object>"
      ]
     },
     "metadata": {},
     "output_type": "display_data"
    },
    {
     "data": {
      "text/html": [
       "Find logs at: <code>./wandb/run-20250618_154759-qai5s0ro/logs</code>"
      ],
      "text/plain": [
       "<IPython.core.display.HTML object>"
      ]
     },
     "metadata": {},
     "output_type": "display_data"
    },
    {
     "name": "stderr",
     "output_type": "stream",
     "text": [
      "huggingface/tokenizers: The current process just got forked, after parallelism has already been used. Disabling parallelism to avoid deadlocks...\n",
      "To disable this warning, you can either:\n",
      "\t- Avoid using `tokenizers` before the fork if possible\n",
      "\t- Explicitly set the environment variable TOKENIZERS_PARALLELISM=(true | false)\n"
     ]
    },
    {
     "data": {
      "text/html": [
       "Tracking run with wandb version 0.19.11"
      ],
      "text/plain": [
       "<IPython.core.display.HTML object>"
      ]
     },
     "metadata": {},
     "output_type": "display_data"
    },
    {
     "data": {
      "text/html": [
       "Run data is saved locally in <code>/home/ssanchez/repositories/Learning/NLPTransformers/wandb/run-20250618_155128-m8fidbxr</code>"
      ],
      "text/plain": [
       "<IPython.core.display.HTML object>"
      ]
     },
     "metadata": {},
     "output_type": "display_data"
    },
    {
     "data": {
      "text/html": [
       "Syncing run <strong><a href='https://wandb.ai/sergi-sanchez-bonilla/huggingface/runs/m8fidbxr' target=\"_blank\">soft-firebrand-41</a></strong> to <a href='https://wandb.ai/sergi-sanchez-bonilla/huggingface' target=\"_blank\">Weights & Biases</a> (<a href='https://wandb.me/developer-guide' target=\"_blank\">docs</a>)<br>"
      ],
      "text/plain": [
       "<IPython.core.display.HTML object>"
      ]
     },
     "metadata": {},
     "output_type": "display_data"
    },
    {
     "data": {
      "text/html": [
       " View project at <a href='https://wandb.ai/sergi-sanchez-bonilla/huggingface' target=\"_blank\">https://wandb.ai/sergi-sanchez-bonilla/huggingface</a>"
      ],
      "text/plain": [
       "<IPython.core.display.HTML object>"
      ]
     },
     "metadata": {},
     "output_type": "display_data"
    },
    {
     "data": {
      "text/html": [
       " View run at <a href='https://wandb.ai/sergi-sanchez-bonilla/huggingface/runs/m8fidbxr' target=\"_blank\">https://wandb.ai/sergi-sanchez-bonilla/huggingface/runs/m8fidbxr</a>"
      ],
      "text/plain": [
       "<IPython.core.display.HTML object>"
      ]
     },
     "metadata": {},
     "output_type": "display_data"
    },
    {
     "data": {
      "text/html": [
       "\n",
       "    <div>\n",
       "      \n",
       "      <progress value='2862' max='2862' style='width:300px; height:20px; vertical-align: middle;'></progress>\n",
       "      [2862/2862 02:49, Epoch 9/9]\n",
       "    </div>\n",
       "    <table border=\"1\" class=\"dataframe\">\n",
       "  <thead>\n",
       " <tr style=\"text-align: left;\">\n",
       "      <th>Epoch</th>\n",
       "      <th>Training Loss</th>\n",
       "      <th>Validation Loss</th>\n",
       "      <th>Accuracy</th>\n",
       "    </tr>\n",
       "  </thead>\n",
       "  <tbody>\n",
       "    <tr>\n",
       "      <td>1</td>\n",
       "      <td>No log</td>\n",
       "      <td>0.408134</td>\n",
       "      <td>0.673226</td>\n",
       "    </tr>\n",
       "    <tr>\n",
       "      <td>2</td>\n",
       "      <td>0.642100</td>\n",
       "      <td>0.140798</td>\n",
       "      <td>0.842258</td>\n",
       "    </tr>\n",
       "    <tr>\n",
       "      <td>3</td>\n",
       "      <td>0.642100</td>\n",
       "      <td>0.072515</td>\n",
       "      <td>0.895161</td>\n",
       "    </tr>\n",
       "    <tr>\n",
       "      <td>4</td>\n",
       "      <td>0.164400</td>\n",
       "      <td>0.052278</td>\n",
       "      <td>0.914839</td>\n",
       "    </tr>\n",
       "    <tr>\n",
       "      <td>5</td>\n",
       "      <td>0.081800</td>\n",
       "      <td>0.043040</td>\n",
       "      <td>0.923871</td>\n",
       "    </tr>\n",
       "    <tr>\n",
       "      <td>6</td>\n",
       "      <td>0.081800</td>\n",
       "      <td>0.038619</td>\n",
       "      <td>0.928710</td>\n",
       "    </tr>\n",
       "    <tr>\n",
       "      <td>7</td>\n",
       "      <td>0.061900</td>\n",
       "      <td>0.035834</td>\n",
       "      <td>0.931290</td>\n",
       "    </tr>\n",
       "    <tr>\n",
       "      <td>8</td>\n",
       "      <td>0.054100</td>\n",
       "      <td>0.034226</td>\n",
       "      <td>0.933548</td>\n",
       "    </tr>\n",
       "    <tr>\n",
       "      <td>9</td>\n",
       "      <td>0.054100</td>\n",
       "      <td>0.033744</td>\n",
       "      <td>0.932903</td>\n",
       "    </tr>\n",
       "  </tbody>\n",
       "</table><p>"
      ],
      "text/plain": [
       "<IPython.core.display.HTML object>"
      ]
     },
     "metadata": {},
     "output_type": "display_data"
    },
    {
     "name": "stderr",
     "output_type": "stream",
     "text": [
      "It seems you are trying to upload a large folder at once. This might take some time and then fail if the folder is too large. For such cases, it is recommended to upload in smaller batches or to use `HfApi().upload_large_folder(...)`/`huggingface-cli upload-large-folder` instead. For more details, check out https://huggingface.co/docs/huggingface_hub/main/en/guides/upload#upload-a-large-folder.\n",
      "[I 2025-06-18 15:57:19,021] Trial 13 finished with value: 0.9329032258064516 and parameters: {'num_train_epochs': 9, 'alpha': 0.8855233715103562, 'temperature': 2}. Best is trial 12 with value: 0.9329032258064516.\n",
      "Detected kernel version 5.4.0, which is below the recommended minimum of 5.5.0; this can cause the process to hang. It is recommended to upgrade the kernel to the minimum version or higher.\n",
      "Some weights of DistilBertForSequenceClassification were not initialized from the model checkpoint at distilbert-base-uncased and are newly initialized: ['classifier.bias', 'classifier.weight', 'pre_classifier.bias', 'pre_classifier.weight']\n",
      "You should probably TRAIN this model on a down-stream task to be able to use it for predictions and inference.\n"
     ]
    },
    {
     "data": {
      "text/html": [],
      "text/plain": [
       "<IPython.core.display.HTML object>"
      ]
     },
     "metadata": {},
     "output_type": "display_data"
    },
    {
     "data": {
      "text/html": [
       "<br>    <style><br>        .wandb-row {<br>            display: flex;<br>            flex-direction: row;<br>            flex-wrap: wrap;<br>            justify-content: flex-start;<br>            width: 100%;<br>        }<br>        .wandb-col {<br>            display: flex;<br>            flex-direction: column;<br>            flex-basis: 100%;<br>            flex: 1;<br>            padding: 10px;<br>        }<br>    </style><br><div class=\"wandb-row\"><div class=\"wandb-col\"><h3>Run history:</h3><br/><table class=\"wandb\"><tr><td>eval/accuracy</td><td>▁▆▇▇█████</td></tr><tr><td>eval/loss</td><td>█▃▂▁▁▁▁▁▁</td></tr><tr><td>eval/runtime</td><td>▁▄▇▇▇▇█▇▇</td></tr><tr><td>eval/samples_per_second</td><td>█▅▂▂▂▂▁▂▂</td></tr><tr><td>eval/steps_per_second</td><td>█▅▂▂▂▂▁▂▂</td></tr><tr><td>train/epoch</td><td>▁▂▂▃▃▄▄▅▅▆▆▇▇██</td></tr><tr><td>train/global_step</td><td>▁▂▂▃▃▄▄▄▅▆▆▇▇██</td></tr><tr><td>train/grad_norm</td><td>█▅▂▁▁</td></tr><tr><td>train/learning_rate</td><td>█▆▅▃▁</td></tr><tr><td>train/loss</td><td>█▂▁▁▁</td></tr></table><br/></div><div class=\"wandb-col\"><h3>Run summary:</h3><br/><table class=\"wandb\"><tr><td>eval/accuracy</td><td>0.9329</td></tr><tr><td>eval/loss</td><td>0.03374</td></tr><tr><td>eval/runtime</td><td>1.3993</td></tr><tr><td>eval/samples_per_second</td><td>2215.395</td></tr><tr><td>eval/steps_per_second</td><td>46.452</td></tr><tr><td>total_flos</td><td>745151547572796.0</td></tr><tr><td>train/epoch</td><td>9</td></tr><tr><td>train/global_step</td><td>2862</td></tr><tr><td>train/grad_norm</td><td>0.32585</td></tr><tr><td>train/learning_rate</td><td>0.0</td></tr><tr><td>train/loss</td><td>0.0541</td></tr><tr><td>train_loss</td><td>0.18193</td></tr><tr><td>train_runtime</td><td>170.1746</td></tr><tr><td>train_samples_per_second</td><td>806.524</td></tr><tr><td>train_steps_per_second</td><td>16.818</td></tr></table><br/></div></div>"
      ],
      "text/plain": [
       "<IPython.core.display.HTML object>"
      ]
     },
     "metadata": {},
     "output_type": "display_data"
    },
    {
     "data": {
      "text/html": [
       " View run <strong style=\"color:#cdcd00\">soft-firebrand-41</strong> at: <a href='https://wandb.ai/sergi-sanchez-bonilla/huggingface/runs/m8fidbxr' target=\"_blank\">https://wandb.ai/sergi-sanchez-bonilla/huggingface/runs/m8fidbxr</a><br> View project at: <a href='https://wandb.ai/sergi-sanchez-bonilla/huggingface' target=\"_blank\">https://wandb.ai/sergi-sanchez-bonilla/huggingface</a><br>Synced 5 W&B file(s), 0 media file(s), 0 artifact file(s) and 0 other file(s)"
      ],
      "text/plain": [
       "<IPython.core.display.HTML object>"
      ]
     },
     "metadata": {},
     "output_type": "display_data"
    },
    {
     "data": {
      "text/html": [
       "Find logs at: <code>./wandb/run-20250618_155128-m8fidbxr/logs</code>"
      ],
      "text/plain": [
       "<IPython.core.display.HTML object>"
      ]
     },
     "metadata": {},
     "output_type": "display_data"
    },
    {
     "name": "stderr",
     "output_type": "stream",
     "text": [
      "huggingface/tokenizers: The current process just got forked, after parallelism has already been used. Disabling parallelism to avoid deadlocks...\n",
      "To disable this warning, you can either:\n",
      "\t- Avoid using `tokenizers` before the fork if possible\n",
      "\t- Explicitly set the environment variable TOKENIZERS_PARALLELISM=(true | false)\n"
     ]
    },
    {
     "data": {
      "text/html": [
       "Tracking run with wandb version 0.19.11"
      ],
      "text/plain": [
       "<IPython.core.display.HTML object>"
      ]
     },
     "metadata": {},
     "output_type": "display_data"
    },
    {
     "data": {
      "text/html": [
       "Run data is saved locally in <code>/home/ssanchez/repositories/Learning/NLPTransformers/wandb/run-20250618_155723-3jip4ibm</code>"
      ],
      "text/plain": [
       "<IPython.core.display.HTML object>"
      ]
     },
     "metadata": {},
     "output_type": "display_data"
    },
    {
     "data": {
      "text/html": [
       "Syncing run <strong><a href='https://wandb.ai/sergi-sanchez-bonilla/huggingface/runs/3jip4ibm' target=\"_blank\">sleek-durian-42</a></strong> to <a href='https://wandb.ai/sergi-sanchez-bonilla/huggingface' target=\"_blank\">Weights & Biases</a> (<a href='https://wandb.me/developer-guide' target=\"_blank\">docs</a>)<br>"
      ],
      "text/plain": [
       "<IPython.core.display.HTML object>"
      ]
     },
     "metadata": {},
     "output_type": "display_data"
    },
    {
     "data": {
      "text/html": [
       " View project at <a href='https://wandb.ai/sergi-sanchez-bonilla/huggingface' target=\"_blank\">https://wandb.ai/sergi-sanchez-bonilla/huggingface</a>"
      ],
      "text/plain": [
       "<IPython.core.display.HTML object>"
      ]
     },
     "metadata": {},
     "output_type": "display_data"
    },
    {
     "data": {
      "text/html": [
       " View run at <a href='https://wandb.ai/sergi-sanchez-bonilla/huggingface/runs/3jip4ibm' target=\"_blank\">https://wandb.ai/sergi-sanchez-bonilla/huggingface/runs/3jip4ibm</a>"
      ],
      "text/plain": [
       "<IPython.core.display.HTML object>"
      ]
     },
     "metadata": {},
     "output_type": "display_data"
    },
    {
     "data": {
      "text/html": [
       "\n",
       "    <div>\n",
       "      \n",
       "      <progress value='2862' max='2862' style='width:300px; height:20px; vertical-align: middle;'></progress>\n",
       "      [2862/2862 02:25, Epoch 9/9]\n",
       "    </div>\n",
       "    <table border=\"1\" class=\"dataframe\">\n",
       "  <thead>\n",
       " <tr style=\"text-align: left;\">\n",
       "      <th>Epoch</th>\n",
       "      <th>Training Loss</th>\n",
       "      <th>Validation Loss</th>\n",
       "      <th>Accuracy</th>\n",
       "    </tr>\n",
       "  </thead>\n",
       "  <tbody>\n",
       "    <tr>\n",
       "      <td>1</td>\n",
       "      <td>No log</td>\n",
       "      <td>0.408134</td>\n",
       "      <td>0.673226</td>\n",
       "    </tr>\n",
       "    <tr>\n",
       "      <td>2</td>\n",
       "      <td>0.642100</td>\n",
       "      <td>0.140798</td>\n",
       "      <td>0.842258</td>\n",
       "    </tr>\n",
       "    <tr>\n",
       "      <td>3</td>\n",
       "      <td>0.642100</td>\n",
       "      <td>0.072515</td>\n",
       "      <td>0.895161</td>\n",
       "    </tr>\n",
       "    <tr>\n",
       "      <td>4</td>\n",
       "      <td>0.164400</td>\n",
       "      <td>0.052278</td>\n",
       "      <td>0.914839</td>\n",
       "    </tr>\n",
       "    <tr>\n",
       "      <td>5</td>\n",
       "      <td>0.081800</td>\n",
       "      <td>0.043040</td>\n",
       "      <td>0.923871</td>\n",
       "    </tr>\n",
       "    <tr>\n",
       "      <td>6</td>\n",
       "      <td>0.081800</td>\n",
       "      <td>0.038619</td>\n",
       "      <td>0.928710</td>\n",
       "    </tr>\n",
       "    <tr>\n",
       "      <td>7</td>\n",
       "      <td>0.061900</td>\n",
       "      <td>0.035834</td>\n",
       "      <td>0.931290</td>\n",
       "    </tr>\n",
       "    <tr>\n",
       "      <td>8</td>\n",
       "      <td>0.054100</td>\n",
       "      <td>0.034226</td>\n",
       "      <td>0.933548</td>\n",
       "    </tr>\n",
       "    <tr>\n",
       "      <td>9</td>\n",
       "      <td>0.054100</td>\n",
       "      <td>0.033744</td>\n",
       "      <td>0.932903</td>\n",
       "    </tr>\n",
       "  </tbody>\n",
       "</table><p>"
      ],
      "text/plain": [
       "<IPython.core.display.HTML object>"
      ]
     },
     "metadata": {},
     "output_type": "display_data"
    },
    {
     "name": "stderr",
     "output_type": "stream",
     "text": [
      "It seems you are trying to upload a large folder at once. This might take some time and then fail if the folder is too large. For such cases, it is recommended to upload in smaller batches or to use `HfApi().upload_large_folder(...)`/`huggingface-cli upload-large-folder` instead. For more details, check out https://huggingface.co/docs/huggingface_hub/main/en/guides/upload#upload-a-large-folder.\n",
      "[I 2025-06-18 16:04:02,890] Trial 14 finished with value: 0.9329032258064516 and parameters: {'num_train_epochs': 9, 'alpha': 0.9495232964645796, 'temperature': 2}. Best is trial 12 with value: 0.9329032258064516.\n",
      "Detected kernel version 5.4.0, which is below the recommended minimum of 5.5.0; this can cause the process to hang. It is recommended to upgrade the kernel to the minimum version or higher.\n",
      "Some weights of DistilBertForSequenceClassification were not initialized from the model checkpoint at distilbert-base-uncased and are newly initialized: ['classifier.bias', 'classifier.weight', 'pre_classifier.bias', 'pre_classifier.weight']\n",
      "You should probably TRAIN this model on a down-stream task to be able to use it for predictions and inference.\n"
     ]
    },
    {
     "data": {
      "text/html": [],
      "text/plain": [
       "<IPython.core.display.HTML object>"
      ]
     },
     "metadata": {},
     "output_type": "display_data"
    },
    {
     "data": {
      "text/html": [
       "<br>    <style><br>        .wandb-row {<br>            display: flex;<br>            flex-direction: row;<br>            flex-wrap: wrap;<br>            justify-content: flex-start;<br>            width: 100%;<br>        }<br>        .wandb-col {<br>            display: flex;<br>            flex-direction: column;<br>            flex-basis: 100%;<br>            flex: 1;<br>            padding: 10px;<br>        }<br>    </style><br><div class=\"wandb-row\"><div class=\"wandb-col\"><h3>Run history:</h3><br/><table class=\"wandb\"><tr><td>eval/accuracy</td><td>▁▆▇▇█████</td></tr><tr><td>eval/loss</td><td>█▃▂▁▁▁▁▁▁</td></tr><tr><td>eval/runtime</td><td>▁▃▅▅▆▆▆█▆</td></tr><tr><td>eval/samples_per_second</td><td>█▆▄▄▃▃▃▁▃</td></tr><tr><td>eval/steps_per_second</td><td>█▆▄▄▃▃▃▁▃</td></tr><tr><td>train/epoch</td><td>▁▂▂▃▃▄▄▅▅▆▆▇▇██</td></tr><tr><td>train/global_step</td><td>▁▂▂▃▃▄▄▄▅▆▆▇▇██</td></tr><tr><td>train/grad_norm</td><td>█▅▂▁▁</td></tr><tr><td>train/learning_rate</td><td>█▆▅▃▁</td></tr><tr><td>train/loss</td><td>█▂▁▁▁</td></tr></table><br/></div><div class=\"wandb-col\"><h3>Run summary:</h3><br/><table class=\"wandb\"><tr><td>eval/accuracy</td><td>0.9329</td></tr><tr><td>eval/loss</td><td>0.03374</td></tr><tr><td>eval/runtime</td><td>1.3957</td></tr><tr><td>eval/samples_per_second</td><td>2221.062</td></tr><tr><td>eval/steps_per_second</td><td>46.571</td></tr><tr><td>total_flos</td><td>745151547572796.0</td></tr><tr><td>train/epoch</td><td>9</td></tr><tr><td>train/global_step</td><td>2862</td></tr><tr><td>train/grad_norm</td><td>0.32585</td></tr><tr><td>train/learning_rate</td><td>0.0</td></tr><tr><td>train/loss</td><td>0.0541</td></tr><tr><td>train_loss</td><td>0.18193</td></tr><tr><td>train_runtime</td><td>148.7394</td></tr><tr><td>train_samples_per_second</td><td>922.755</td></tr><tr><td>train_steps_per_second</td><td>19.242</td></tr></table><br/></div></div>"
      ],
      "text/plain": [
       "<IPython.core.display.HTML object>"
      ]
     },
     "metadata": {},
     "output_type": "display_data"
    },
    {
     "data": {
      "text/html": [
       " View run <strong style=\"color:#cdcd00\">sleek-durian-42</strong> at: <a href='https://wandb.ai/sergi-sanchez-bonilla/huggingface/runs/3jip4ibm' target=\"_blank\">https://wandb.ai/sergi-sanchez-bonilla/huggingface/runs/3jip4ibm</a><br> View project at: <a href='https://wandb.ai/sergi-sanchez-bonilla/huggingface' target=\"_blank\">https://wandb.ai/sergi-sanchez-bonilla/huggingface</a><br>Synced 5 W&B file(s), 0 media file(s), 0 artifact file(s) and 0 other file(s)"
      ],
      "text/plain": [
       "<IPython.core.display.HTML object>"
      ]
     },
     "metadata": {},
     "output_type": "display_data"
    },
    {
     "data": {
      "text/html": [
       "Find logs at: <code>./wandb/run-20250618_155723-3jip4ibm/logs</code>"
      ],
      "text/plain": [
       "<IPython.core.display.HTML object>"
      ]
     },
     "metadata": {},
     "output_type": "display_data"
    },
    {
     "name": "stderr",
     "output_type": "stream",
     "text": [
      "huggingface/tokenizers: The current process just got forked, after parallelism has already been used. Disabling parallelism to avoid deadlocks...\n",
      "To disable this warning, you can either:\n",
      "\t- Avoid using `tokenizers` before the fork if possible\n",
      "\t- Explicitly set the environment variable TOKENIZERS_PARALLELISM=(true | false)\n"
     ]
    },
    {
     "data": {
      "text/html": [
       "Tracking run with wandb version 0.19.11"
      ],
      "text/plain": [
       "<IPython.core.display.HTML object>"
      ]
     },
     "metadata": {},
     "output_type": "display_data"
    },
    {
     "data": {
      "text/html": [
       "Run data is saved locally in <code>/home/ssanchez/repositories/Learning/NLPTransformers/wandb/run-20250618_160404-43dlli1c</code>"
      ],
      "text/plain": [
       "<IPython.core.display.HTML object>"
      ]
     },
     "metadata": {},
     "output_type": "display_data"
    },
    {
     "data": {
      "text/html": [
       "Syncing run <strong><a href='https://wandb.ai/sergi-sanchez-bonilla/huggingface/runs/43dlli1c' target=\"_blank\">legendary-firefly-43</a></strong> to <a href='https://wandb.ai/sergi-sanchez-bonilla/huggingface' target=\"_blank\">Weights & Biases</a> (<a href='https://wandb.me/developer-guide' target=\"_blank\">docs</a>)<br>"
      ],
      "text/plain": [
       "<IPython.core.display.HTML object>"
      ]
     },
     "metadata": {},
     "output_type": "display_data"
    },
    {
     "data": {
      "text/html": [
       " View project at <a href='https://wandb.ai/sergi-sanchez-bonilla/huggingface' target=\"_blank\">https://wandb.ai/sergi-sanchez-bonilla/huggingface</a>"
      ],
      "text/plain": [
       "<IPython.core.display.HTML object>"
      ]
     },
     "metadata": {},
     "output_type": "display_data"
    },
    {
     "data": {
      "text/html": [
       " View run at <a href='https://wandb.ai/sergi-sanchez-bonilla/huggingface/runs/43dlli1c' target=\"_blank\">https://wandb.ai/sergi-sanchez-bonilla/huggingface/runs/43dlli1c</a>"
      ],
      "text/plain": [
       "<IPython.core.display.HTML object>"
      ]
     },
     "metadata": {},
     "output_type": "display_data"
    },
    {
     "data": {
      "text/html": [
       "\n",
       "    <div>\n",
       "      \n",
       "      <progress value='2862' max='2862' style='width:300px; height:20px; vertical-align: middle;'></progress>\n",
       "      [2862/2862 02:25, Epoch 9/9]\n",
       "    </div>\n",
       "    <table border=\"1\" class=\"dataframe\">\n",
       "  <thead>\n",
       " <tr style=\"text-align: left;\">\n",
       "      <th>Epoch</th>\n",
       "      <th>Training Loss</th>\n",
       "      <th>Validation Loss</th>\n",
       "      <th>Accuracy</th>\n",
       "    </tr>\n",
       "  </thead>\n",
       "  <tbody>\n",
       "    <tr>\n",
       "      <td>1</td>\n",
       "      <td>No log</td>\n",
       "      <td>0.408134</td>\n",
       "      <td>0.673226</td>\n",
       "    </tr>\n",
       "    <tr>\n",
       "      <td>2</td>\n",
       "      <td>0.642100</td>\n",
       "      <td>0.140798</td>\n",
       "      <td>0.842258</td>\n",
       "    </tr>\n",
       "    <tr>\n",
       "      <td>3</td>\n",
       "      <td>0.642100</td>\n",
       "      <td>0.072515</td>\n",
       "      <td>0.895161</td>\n",
       "    </tr>\n",
       "    <tr>\n",
       "      <td>4</td>\n",
       "      <td>0.164400</td>\n",
       "      <td>0.052278</td>\n",
       "      <td>0.914839</td>\n",
       "    </tr>\n",
       "    <tr>\n",
       "      <td>5</td>\n",
       "      <td>0.081800</td>\n",
       "      <td>0.043040</td>\n",
       "      <td>0.923871</td>\n",
       "    </tr>\n",
       "    <tr>\n",
       "      <td>6</td>\n",
       "      <td>0.081800</td>\n",
       "      <td>0.038619</td>\n",
       "      <td>0.928710</td>\n",
       "    </tr>\n",
       "    <tr>\n",
       "      <td>7</td>\n",
       "      <td>0.061900</td>\n",
       "      <td>0.035834</td>\n",
       "      <td>0.931290</td>\n",
       "    </tr>\n",
       "    <tr>\n",
       "      <td>8</td>\n",
       "      <td>0.054100</td>\n",
       "      <td>0.034226</td>\n",
       "      <td>0.933548</td>\n",
       "    </tr>\n",
       "    <tr>\n",
       "      <td>9</td>\n",
       "      <td>0.054100</td>\n",
       "      <td>0.033744</td>\n",
       "      <td>0.932903</td>\n",
       "    </tr>\n",
       "  </tbody>\n",
       "</table><p>"
      ],
      "text/plain": [
       "<IPython.core.display.HTML object>"
      ]
     },
     "metadata": {},
     "output_type": "display_data"
    },
    {
     "name": "stderr",
     "output_type": "stream",
     "text": [
      "It seems you are trying to upload a large folder at once. This might take some time and then fail if the folder is too large. For such cases, it is recommended to upload in smaller batches or to use `HfApi().upload_large_folder(...)`/`huggingface-cli upload-large-folder` instead. For more details, check out https://huggingface.co/docs/huggingface_hub/main/en/guides/upload#upload-a-large-folder.\n",
      "[I 2025-06-18 16:11:44,786] Trial 15 finished with value: 0.9329032258064516 and parameters: {'num_train_epochs': 9, 'alpha': 0.8731309051569979, 'temperature': 2}. Best is trial 12 with value: 0.9329032258064516.\n",
      "Detected kernel version 5.4.0, which is below the recommended minimum of 5.5.0; this can cause the process to hang. It is recommended to upgrade the kernel to the minimum version or higher.\n",
      "Some weights of DistilBertForSequenceClassification were not initialized from the model checkpoint at distilbert-base-uncased and are newly initialized: ['classifier.bias', 'classifier.weight', 'pre_classifier.bias', 'pre_classifier.weight']\n",
      "You should probably TRAIN this model on a down-stream task to be able to use it for predictions and inference.\n"
     ]
    },
    {
     "data": {
      "text/html": [],
      "text/plain": [
       "<IPython.core.display.HTML object>"
      ]
     },
     "metadata": {},
     "output_type": "display_data"
    },
    {
     "data": {
      "text/html": [
       "<br>    <style><br>        .wandb-row {<br>            display: flex;<br>            flex-direction: row;<br>            flex-wrap: wrap;<br>            justify-content: flex-start;<br>            width: 100%;<br>        }<br>        .wandb-col {<br>            display: flex;<br>            flex-direction: column;<br>            flex-basis: 100%;<br>            flex: 1;<br>            padding: 10px;<br>        }<br>    </style><br><div class=\"wandb-row\"><div class=\"wandb-col\"><h3>Run history:</h3><br/><table class=\"wandb\"><tr><td>eval/accuracy</td><td>▁▆▇▇█████</td></tr><tr><td>eval/loss</td><td>█▃▂▁▁▁▁▁▁</td></tr><tr><td>eval/runtime</td><td>▅▁▃▃▅▆▆█▆</td></tr><tr><td>eval/samples_per_second</td><td>▄█▆▆▄▃▃▁▃</td></tr><tr><td>eval/steps_per_second</td><td>▄█▆▆▄▃▃▁▃</td></tr><tr><td>train/epoch</td><td>▁▂▂▃▃▄▄▅▅▆▆▇▇██</td></tr><tr><td>train/global_step</td><td>▁▂▂▃▃▄▄▄▅▆▆▇▇██</td></tr><tr><td>train/grad_norm</td><td>█▅▂▁▁</td></tr><tr><td>train/learning_rate</td><td>█▆▅▃▁</td></tr><tr><td>train/loss</td><td>█▂▁▁▁</td></tr></table><br/></div><div class=\"wandb-col\"><h3>Run summary:</h3><br/><table class=\"wandb\"><tr><td>eval/accuracy</td><td>0.9329</td></tr><tr><td>eval/loss</td><td>0.03374</td></tr><tr><td>eval/runtime</td><td>1.3932</td></tr><tr><td>eval/samples_per_second</td><td>2225.069</td></tr><tr><td>eval/steps_per_second</td><td>46.655</td></tr><tr><td>total_flos</td><td>745151547572796.0</td></tr><tr><td>train/epoch</td><td>9</td></tr><tr><td>train/global_step</td><td>2862</td></tr><tr><td>train/grad_norm</td><td>0.32585</td></tr><tr><td>train/learning_rate</td><td>0.0</td></tr><tr><td>train/loss</td><td>0.0541</td></tr><tr><td>train_loss</td><td>0.18193</td></tr><tr><td>train_runtime</td><td>146.271</td></tr><tr><td>train_samples_per_second</td><td>938.327</td></tr><tr><td>train_steps_per_second</td><td>19.566</td></tr></table><br/></div></div>"
      ],
      "text/plain": [
       "<IPython.core.display.HTML object>"
      ]
     },
     "metadata": {},
     "output_type": "display_data"
    },
    {
     "data": {
      "text/html": [
       " View run <strong style=\"color:#cdcd00\">legendary-firefly-43</strong> at: <a href='https://wandb.ai/sergi-sanchez-bonilla/huggingface/runs/43dlli1c' target=\"_blank\">https://wandb.ai/sergi-sanchez-bonilla/huggingface/runs/43dlli1c</a><br> View project at: <a href='https://wandb.ai/sergi-sanchez-bonilla/huggingface' target=\"_blank\">https://wandb.ai/sergi-sanchez-bonilla/huggingface</a><br>Synced 5 W&B file(s), 0 media file(s), 0 artifact file(s) and 0 other file(s)"
      ],
      "text/plain": [
       "<IPython.core.display.HTML object>"
      ]
     },
     "metadata": {},
     "output_type": "display_data"
    },
    {
     "data": {
      "text/html": [
       "Find logs at: <code>./wandb/run-20250618_160404-43dlli1c/logs</code>"
      ],
      "text/plain": [
       "<IPython.core.display.HTML object>"
      ]
     },
     "metadata": {},
     "output_type": "display_data"
    },
    {
     "name": "stderr",
     "output_type": "stream",
     "text": [
      "huggingface/tokenizers: The current process just got forked, after parallelism has already been used. Disabling parallelism to avoid deadlocks...\n",
      "To disable this warning, you can either:\n",
      "\t- Avoid using `tokenizers` before the fork if possible\n",
      "\t- Explicitly set the environment variable TOKENIZERS_PARALLELISM=(true | false)\n"
     ]
    },
    {
     "data": {
      "text/html": [
       "Tracking run with wandb version 0.19.11"
      ],
      "text/plain": [
       "<IPython.core.display.HTML object>"
      ]
     },
     "metadata": {},
     "output_type": "display_data"
    },
    {
     "data": {
      "text/html": [
       "Run data is saved locally in <code>/home/ssanchez/repositories/Learning/NLPTransformers/wandb/run-20250618_161149-fmy7imo1</code>"
      ],
      "text/plain": [
       "<IPython.core.display.HTML object>"
      ]
     },
     "metadata": {},
     "output_type": "display_data"
    },
    {
     "data": {
      "text/html": [
       "Syncing run <strong><a href='https://wandb.ai/sergi-sanchez-bonilla/huggingface/runs/fmy7imo1' target=\"_blank\">glad-spaceship-44</a></strong> to <a href='https://wandb.ai/sergi-sanchez-bonilla/huggingface' target=\"_blank\">Weights & Biases</a> (<a href='https://wandb.me/developer-guide' target=\"_blank\">docs</a>)<br>"
      ],
      "text/plain": [
       "<IPython.core.display.HTML object>"
      ]
     },
     "metadata": {},
     "output_type": "display_data"
    },
    {
     "data": {
      "text/html": [
       " View project at <a href='https://wandb.ai/sergi-sanchez-bonilla/huggingface' target=\"_blank\">https://wandb.ai/sergi-sanchez-bonilla/huggingface</a>"
      ],
      "text/plain": [
       "<IPython.core.display.HTML object>"
      ]
     },
     "metadata": {},
     "output_type": "display_data"
    },
    {
     "data": {
      "text/html": [
       " View run at <a href='https://wandb.ai/sergi-sanchez-bonilla/huggingface/runs/fmy7imo1' target=\"_blank\">https://wandb.ai/sergi-sanchez-bonilla/huggingface/runs/fmy7imo1</a>"
      ],
      "text/plain": [
       "<IPython.core.display.HTML object>"
      ]
     },
     "metadata": {},
     "output_type": "display_data"
    },
    {
     "data": {
      "text/html": [
       "\n",
       "    <div>\n",
       "      \n",
       "      <progress value='636' max='2226' style='width:300px; height:20px; vertical-align: middle;'></progress>\n",
       "      [ 636/2226 00:33 < 01:25, 18.69 it/s, Epoch 2/7]\n",
       "    </div>\n",
       "    <table border=\"1\" class=\"dataframe\">\n",
       "  <thead>\n",
       " <tr style=\"text-align: left;\">\n",
       "      <th>Epoch</th>\n",
       "      <th>Training Loss</th>\n",
       "      <th>Validation Loss</th>\n",
       "      <th>Accuracy</th>\n",
       "    </tr>\n",
       "  </thead>\n",
       "  <tbody>\n",
       "    <tr>\n",
       "      <td>1</td>\n",
       "      <td>No log</td>\n",
       "      <td>0.234402</td>\n",
       "      <td>0.609355</td>\n",
       "    </tr>\n",
       "    <tr>\n",
       "      <td>2</td>\n",
       "      <td>0.372300</td>\n",
       "      <td>0.110579</td>\n",
       "      <td>0.835161</td>\n",
       "    </tr>\n",
       "  </tbody>\n",
       "</table><p>"
      ],
      "text/plain": [
       "<IPython.core.display.HTML object>"
      ]
     },
     "metadata": {},
     "output_type": "display_data"
    },
    {
     "name": "stderr",
     "output_type": "stream",
     "text": [
      "It seems you are trying to upload a large folder at once. This might take some time and then fail if the folder is too large. For such cases, it is recommended to upload in smaller batches or to use `HfApi().upload_large_folder(...)`/`huggingface-cli upload-large-folder` instead. For more details, check out https://huggingface.co/docs/huggingface_hub/main/en/guides/upload#upload-a-large-folder.\n",
      "[I 2025-06-18 16:12:26,897] Trial 16 pruned. \n",
      "Detected kernel version 5.4.0, which is below the recommended minimum of 5.5.0; this can cause the process to hang. It is recommended to upgrade the kernel to the minimum version or higher.\n",
      "Some weights of DistilBertForSequenceClassification were not initialized from the model checkpoint at distilbert-base-uncased and are newly initialized: ['classifier.bias', 'classifier.weight', 'pre_classifier.bias', 'pre_classifier.weight']\n",
      "You should probably TRAIN this model on a down-stream task to be able to use it for predictions and inference.\n"
     ]
    },
    {
     "data": {
      "text/html": [],
      "text/plain": [
       "<IPython.core.display.HTML object>"
      ]
     },
     "metadata": {},
     "output_type": "display_data"
    },
    {
     "data": {
      "text/html": [
       "<br>    <style><br>        .wandb-row {<br>            display: flex;<br>            flex-direction: row;<br>            flex-wrap: wrap;<br>            justify-content: flex-start;<br>            width: 100%;<br>        }<br>        .wandb-col {<br>            display: flex;<br>            flex-direction: column;<br>            flex-basis: 100%;<br>            flex: 1;<br>            padding: 10px;<br>        }<br>    </style><br><div class=\"wandb-row\"><div class=\"wandb-col\"><h3>Run history:</h3><br/><table class=\"wandb\"><tr><td>eval/accuracy</td><td>▁█</td></tr><tr><td>eval/loss</td><td>█▁</td></tr><tr><td>eval/runtime</td><td>█▁</td></tr><tr><td>eval/samples_per_second</td><td>▁█</td></tr><tr><td>eval/steps_per_second</td><td>▁█</td></tr><tr><td>train/epoch</td><td>▁▅█</td></tr><tr><td>train/global_step</td><td>▁▅█</td></tr><tr><td>train/grad_norm</td><td>▁</td></tr><tr><td>train/learning_rate</td><td>▁</td></tr><tr><td>train/loss</td><td>▁</td></tr></table><br/></div><div class=\"wandb-col\"><h3>Run summary:</h3><br/><table class=\"wandb\"><tr><td>eval/accuracy</td><td>0.83516</td></tr><tr><td>eval/loss</td><td>0.11058</td></tr><tr><td>eval/runtime</td><td>1.3744</td></tr><tr><td>eval/samples_per_second</td><td>2255.602</td></tr><tr><td>eval/steps_per_second</td><td>47.295</td></tr><tr><td>train/epoch</td><td>2</td></tr><tr><td>train/global_step</td><td>636</td></tr><tr><td>train/grad_norm</td><td>0.56962</td></tr><tr><td>train/learning_rate</td><td>2e-05</td></tr><tr><td>train/loss</td><td>0.3723</td></tr></table><br/></div></div>"
      ],
      "text/plain": [
       "<IPython.core.display.HTML object>"
      ]
     },
     "metadata": {},
     "output_type": "display_data"
    },
    {
     "data": {
      "text/html": [
       " View run <strong style=\"color:#cdcd00\">glad-spaceship-44</strong> at: <a href='https://wandb.ai/sergi-sanchez-bonilla/huggingface/runs/fmy7imo1' target=\"_blank\">https://wandb.ai/sergi-sanchez-bonilla/huggingface/runs/fmy7imo1</a><br> View project at: <a href='https://wandb.ai/sergi-sanchez-bonilla/huggingface' target=\"_blank\">https://wandb.ai/sergi-sanchez-bonilla/huggingface</a><br>Synced 5 W&B file(s), 0 media file(s), 0 artifact file(s) and 0 other file(s)"
      ],
      "text/plain": [
       "<IPython.core.display.HTML object>"
      ]
     },
     "metadata": {},
     "output_type": "display_data"
    },
    {
     "data": {
      "text/html": [
       "Find logs at: <code>./wandb/run-20250618_161149-fmy7imo1/logs</code>"
      ],
      "text/plain": [
       "<IPython.core.display.HTML object>"
      ]
     },
     "metadata": {},
     "output_type": "display_data"
    },
    {
     "name": "stderr",
     "output_type": "stream",
     "text": [
      "huggingface/tokenizers: The current process just got forked, after parallelism has already been used. Disabling parallelism to avoid deadlocks...\n",
      "To disable this warning, you can either:\n",
      "\t- Avoid using `tokenizers` before the fork if possible\n",
      "\t- Explicitly set the environment variable TOKENIZERS_PARALLELISM=(true | false)\n"
     ]
    },
    {
     "data": {
      "text/html": [
       "Tracking run with wandb version 0.19.11"
      ],
      "text/plain": [
       "<IPython.core.display.HTML object>"
      ]
     },
     "metadata": {},
     "output_type": "display_data"
    },
    {
     "data": {
      "text/html": [
       "Run data is saved locally in <code>/home/ssanchez/repositories/Learning/NLPTransformers/wandb/run-20250618_161228-tycjeywq</code>"
      ],
      "text/plain": [
       "<IPython.core.display.HTML object>"
      ]
     },
     "metadata": {},
     "output_type": "display_data"
    },
    {
     "data": {
      "text/html": [
       "Syncing run <strong><a href='https://wandb.ai/sergi-sanchez-bonilla/huggingface/runs/tycjeywq' target=\"_blank\">eager-durian-45</a></strong> to <a href='https://wandb.ai/sergi-sanchez-bonilla/huggingface' target=\"_blank\">Weights & Biases</a> (<a href='https://wandb.me/developer-guide' target=\"_blank\">docs</a>)<br>"
      ],
      "text/plain": [
       "<IPython.core.display.HTML object>"
      ]
     },
     "metadata": {},
     "output_type": "display_data"
    },
    {
     "data": {
      "text/html": [
       " View project at <a href='https://wandb.ai/sergi-sanchez-bonilla/huggingface' target=\"_blank\">https://wandb.ai/sergi-sanchez-bonilla/huggingface</a>"
      ],
      "text/plain": [
       "<IPython.core.display.HTML object>"
      ]
     },
     "metadata": {},
     "output_type": "display_data"
    },
    {
     "data": {
      "text/html": [
       " View run at <a href='https://wandb.ai/sergi-sanchez-bonilla/huggingface/runs/tycjeywq' target=\"_blank\">https://wandb.ai/sergi-sanchez-bonilla/huggingface/runs/tycjeywq</a>"
      ],
      "text/plain": [
       "<IPython.core.display.HTML object>"
      ]
     },
     "metadata": {},
     "output_type": "display_data"
    },
    {
     "data": {
      "text/html": [
       "\n",
       "    <div>\n",
       "      \n",
       "      <progress value='1908' max='2544' style='width:300px; height:20px; vertical-align: middle;'></progress>\n",
       "      [1908/2544 01:36 < 00:32, 19.72 it/s, Epoch 6/8]\n",
       "    </div>\n",
       "    <table border=\"1\" class=\"dataframe\">\n",
       "  <thead>\n",
       " <tr style=\"text-align: left;\">\n",
       "      <th>Epoch</th>\n",
       "      <th>Training Loss</th>\n",
       "      <th>Validation Loss</th>\n",
       "      <th>Accuracy</th>\n",
       "    </tr>\n",
       "  </thead>\n",
       "  <tbody>\n",
       "    <tr>\n",
       "      <td>1</td>\n",
       "      <td>No log</td>\n",
       "      <td>0.291499</td>\n",
       "      <td>0.639032</td>\n",
       "    </tr>\n",
       "    <tr>\n",
       "      <td>2</td>\n",
       "      <td>0.462400</td>\n",
       "      <td>0.121100</td>\n",
       "      <td>0.844516</td>\n",
       "    </tr>\n",
       "    <tr>\n",
       "      <td>3</td>\n",
       "      <td>0.462400</td>\n",
       "      <td>0.070976</td>\n",
       "      <td>0.888710</td>\n",
       "    </tr>\n",
       "    <tr>\n",
       "      <td>4</td>\n",
       "      <td>0.141600</td>\n",
       "      <td>0.051666</td>\n",
       "      <td>0.903226</td>\n",
       "    </tr>\n",
       "    <tr>\n",
       "      <td>5</td>\n",
       "      <td>0.080600</td>\n",
       "      <td>0.042065</td>\n",
       "      <td>0.917742</td>\n",
       "    </tr>\n",
       "    <tr>\n",
       "      <td>6</td>\n",
       "      <td>0.080600</td>\n",
       "      <td>0.037262</td>\n",
       "      <td>0.921935</td>\n",
       "    </tr>\n",
       "  </tbody>\n",
       "</table><p>"
      ],
      "text/plain": [
       "<IPython.core.display.HTML object>"
      ]
     },
     "metadata": {},
     "output_type": "display_data"
    },
    {
     "name": "stderr",
     "output_type": "stream",
     "text": [
      "[I 2025-06-18 16:14:05,363] Trial 17 pruned. \n",
      "Detected kernel version 5.4.0, which is below the recommended minimum of 5.5.0; this can cause the process to hang. It is recommended to upgrade the kernel to the minimum version or higher.\n",
      "Some weights of DistilBertForSequenceClassification were not initialized from the model checkpoint at distilbert-base-uncased and are newly initialized: ['classifier.bias', 'classifier.weight', 'pre_classifier.bias', 'pre_classifier.weight']\n",
      "You should probably TRAIN this model on a down-stream task to be able to use it for predictions and inference.\n"
     ]
    },
    {
     "data": {
      "text/html": [],
      "text/plain": [
       "<IPython.core.display.HTML object>"
      ]
     },
     "metadata": {},
     "output_type": "display_data"
    },
    {
     "data": {
      "text/html": [
       "<br>    <style><br>        .wandb-row {<br>            display: flex;<br>            flex-direction: row;<br>            flex-wrap: wrap;<br>            justify-content: flex-start;<br>            width: 100%;<br>        }<br>        .wandb-col {<br>            display: flex;<br>            flex-direction: column;<br>            flex-basis: 100%;<br>            flex: 1;<br>            padding: 10px;<br>        }<br>    </style><br><div class=\"wandb-row\"><div class=\"wandb-col\"><h3>Run history:</h3><br/><table class=\"wandb\"><tr><td>eval/accuracy</td><td>▁▆▇███</td></tr><tr><td>eval/loss</td><td>█▃▂▁▁▁</td></tr><tr><td>eval/runtime</td><td>▁▁▆▇▇█</td></tr><tr><td>eval/samples_per_second</td><td>██▃▂▂▁</td></tr><tr><td>eval/steps_per_second</td><td>██▃▂▂▁</td></tr><tr><td>train/epoch</td><td>▁▂▂▄▄▅▆▇█</td></tr><tr><td>train/global_step</td><td>▁▂▂▄▄▅▆▇█</td></tr><tr><td>train/grad_norm</td><td>█▆▁</td></tr><tr><td>train/learning_rate</td><td>█▅▁</td></tr><tr><td>train/loss</td><td>█▂▁</td></tr></table><br/></div><div class=\"wandb-col\"><h3>Run summary:</h3><br/><table class=\"wandb\"><tr><td>eval/accuracy</td><td>0.92194</td></tr><tr><td>eval/loss</td><td>0.03726</td></tr><tr><td>eval/runtime</td><td>1.3948</td></tr><tr><td>eval/samples_per_second</td><td>2222.537</td></tr><tr><td>eval/steps_per_second</td><td>46.602</td></tr><tr><td>train/epoch</td><td>6</td></tr><tr><td>train/global_step</td><td>1908</td></tr><tr><td>train/grad_norm</td><td>0.38938</td></tr><tr><td>train/learning_rate</td><td>1e-05</td></tr><tr><td>train/loss</td><td>0.0806</td></tr></table><br/></div></div>"
      ],
      "text/plain": [
       "<IPython.core.display.HTML object>"
      ]
     },
     "metadata": {},
     "output_type": "display_data"
    },
    {
     "data": {
      "text/html": [
       " View run <strong style=\"color:#cdcd00\">eager-durian-45</strong> at: <a href='https://wandb.ai/sergi-sanchez-bonilla/huggingface/runs/tycjeywq' target=\"_blank\">https://wandb.ai/sergi-sanchez-bonilla/huggingface/runs/tycjeywq</a><br> View project at: <a href='https://wandb.ai/sergi-sanchez-bonilla/huggingface' target=\"_blank\">https://wandb.ai/sergi-sanchez-bonilla/huggingface</a><br>Synced 5 W&B file(s), 0 media file(s), 0 artifact file(s) and 0 other file(s)"
      ],
      "text/plain": [
       "<IPython.core.display.HTML object>"
      ]
     },
     "metadata": {},
     "output_type": "display_data"
    },
    {
     "data": {
      "text/html": [
       "Find logs at: <code>./wandb/run-20250618_161228-tycjeywq/logs</code>"
      ],
      "text/plain": [
       "<IPython.core.display.HTML object>"
      ]
     },
     "metadata": {},
     "output_type": "display_data"
    },
    {
     "name": "stderr",
     "output_type": "stream",
     "text": [
      "huggingface/tokenizers: The current process just got forked, after parallelism has already been used. Disabling parallelism to avoid deadlocks...\n",
      "To disable this warning, you can either:\n",
      "\t- Avoid using `tokenizers` before the fork if possible\n",
      "\t- Explicitly set the environment variable TOKENIZERS_PARALLELISM=(true | false)\n"
     ]
    },
    {
     "data": {
      "text/html": [
       "Tracking run with wandb version 0.19.11"
      ],
      "text/plain": [
       "<IPython.core.display.HTML object>"
      ]
     },
     "metadata": {},
     "output_type": "display_data"
    },
    {
     "data": {
      "text/html": [
       "Run data is saved locally in <code>/home/ssanchez/repositories/Learning/NLPTransformers/wandb/run-20250618_161406-g19fqr0m</code>"
      ],
      "text/plain": [
       "<IPython.core.display.HTML object>"
      ]
     },
     "metadata": {},
     "output_type": "display_data"
    },
    {
     "data": {
      "text/html": [
       "Syncing run <strong><a href='https://wandb.ai/sergi-sanchez-bonilla/huggingface/runs/g19fqr0m' target=\"_blank\">smooth-bird-46</a></strong> to <a href='https://wandb.ai/sergi-sanchez-bonilla/huggingface' target=\"_blank\">Weights & Biases</a> (<a href='https://wandb.me/developer-guide' target=\"_blank\">docs</a>)<br>"
      ],
      "text/plain": [
       "<IPython.core.display.HTML object>"
      ]
     },
     "metadata": {},
     "output_type": "display_data"
    },
    {
     "data": {
      "text/html": [
       " View project at <a href='https://wandb.ai/sergi-sanchez-bonilla/huggingface' target=\"_blank\">https://wandb.ai/sergi-sanchez-bonilla/huggingface</a>"
      ],
      "text/plain": [
       "<IPython.core.display.HTML object>"
      ]
     },
     "metadata": {},
     "output_type": "display_data"
    },
    {
     "data": {
      "text/html": [
       " View run at <a href='https://wandb.ai/sergi-sanchez-bonilla/huggingface/runs/g19fqr0m' target=\"_blank\">https://wandb.ai/sergi-sanchez-bonilla/huggingface/runs/g19fqr0m</a>"
      ],
      "text/plain": [
       "<IPython.core.display.HTML object>"
      ]
     },
     "metadata": {},
     "output_type": "display_data"
    },
    {
     "data": {
      "text/html": [
       "\n",
       "    <div>\n",
       "      \n",
       "      <progress value='318' max='2862' style='width:300px; height:20px; vertical-align: middle;'></progress>\n",
       "      [ 318/2862 00:16 < 02:13, 19.04 it/s, Epoch 1/9]\n",
       "    </div>\n",
       "    <table border=\"1\" class=\"dataframe\">\n",
       "  <thead>\n",
       " <tr style=\"text-align: left;\">\n",
       "      <th>Epoch</th>\n",
       "      <th>Training Loss</th>\n",
       "      <th>Validation Loss</th>\n",
       "      <th>Accuracy</th>\n",
       "    </tr>\n",
       "  </thead>\n",
       "  <tbody>\n",
       "    <tr>\n",
       "      <td>1</td>\n",
       "      <td>No log</td>\n",
       "      <td>0.199541</td>\n",
       "      <td>0.587097</td>\n",
       "    </tr>\n",
       "  </tbody>\n",
       "</table><p>"
      ],
      "text/plain": [
       "<IPython.core.display.HTML object>"
      ]
     },
     "metadata": {},
     "output_type": "display_data"
    },
    {
     "name": "stderr",
     "output_type": "stream",
     "text": [
      "[I 2025-06-18 16:14:23,999] Trial 18 pruned. \n",
      "Detected kernel version 5.4.0, which is below the recommended minimum of 5.5.0; this can cause the process to hang. It is recommended to upgrade the kernel to the minimum version or higher.\n",
      "Some weights of DistilBertForSequenceClassification were not initialized from the model checkpoint at distilbert-base-uncased and are newly initialized: ['classifier.bias', 'classifier.weight', 'pre_classifier.bias', 'pre_classifier.weight']\n",
      "You should probably TRAIN this model on a down-stream task to be able to use it for predictions and inference.\n"
     ]
    },
    {
     "data": {
      "text/html": [],
      "text/plain": [
       "<IPython.core.display.HTML object>"
      ]
     },
     "metadata": {},
     "output_type": "display_data"
    },
    {
     "data": {
      "text/html": [
       "<br>    <style><br>        .wandb-row {<br>            display: flex;<br>            flex-direction: row;<br>            flex-wrap: wrap;<br>            justify-content: flex-start;<br>            width: 100%;<br>        }<br>        .wandb-col {<br>            display: flex;<br>            flex-direction: column;<br>            flex-basis: 100%;<br>            flex: 1;<br>            padding: 10px;<br>        }<br>    </style><br><div class=\"wandb-row\"><div class=\"wandb-col\"><h3>Run history:</h3><br/><table class=\"wandb\"><tr><td>eval/accuracy</td><td>▁</td></tr><tr><td>eval/loss</td><td>▁</td></tr><tr><td>eval/runtime</td><td>▁</td></tr><tr><td>eval/samples_per_second</td><td>▁</td></tr><tr><td>eval/steps_per_second</td><td>▁</td></tr><tr><td>train/epoch</td><td>▁</td></tr><tr><td>train/global_step</td><td>▁</td></tr></table><br/></div><div class=\"wandb-col\"><h3>Run summary:</h3><br/><table class=\"wandb\"><tr><td>eval/accuracy</td><td>0.5871</td></tr><tr><td>eval/loss</td><td>0.19954</td></tr><tr><td>eval/runtime</td><td>1.3945</td></tr><tr><td>eval/samples_per_second</td><td>2223.019</td></tr><tr><td>eval/steps_per_second</td><td>46.612</td></tr><tr><td>train/epoch</td><td>1</td></tr><tr><td>train/global_step</td><td>318</td></tr></table><br/></div></div>"
      ],
      "text/plain": [
       "<IPython.core.display.HTML object>"
      ]
     },
     "metadata": {},
     "output_type": "display_data"
    },
    {
     "data": {
      "text/html": [
       " View run <strong style=\"color:#cdcd00\">smooth-bird-46</strong> at: <a href='https://wandb.ai/sergi-sanchez-bonilla/huggingface/runs/g19fqr0m' target=\"_blank\">https://wandb.ai/sergi-sanchez-bonilla/huggingface/runs/g19fqr0m</a><br> View project at: <a href='https://wandb.ai/sergi-sanchez-bonilla/huggingface' target=\"_blank\">https://wandb.ai/sergi-sanchez-bonilla/huggingface</a><br>Synced 5 W&B file(s), 0 media file(s), 0 artifact file(s) and 0 other file(s)"
      ],
      "text/plain": [
       "<IPython.core.display.HTML object>"
      ]
     },
     "metadata": {},
     "output_type": "display_data"
    },
    {
     "data": {
      "text/html": [
       "Find logs at: <code>./wandb/run-20250618_161406-g19fqr0m/logs</code>"
      ],
      "text/plain": [
       "<IPython.core.display.HTML object>"
      ]
     },
     "metadata": {},
     "output_type": "display_data"
    },
    {
     "name": "stderr",
     "output_type": "stream",
     "text": [
      "huggingface/tokenizers: The current process just got forked, after parallelism has already been used. Disabling parallelism to avoid deadlocks...\n",
      "To disable this warning, you can either:\n",
      "\t- Avoid using `tokenizers` before the fork if possible\n",
      "\t- Explicitly set the environment variable TOKENIZERS_PARALLELISM=(true | false)\n"
     ]
    },
    {
     "data": {
      "text/html": [
       "Tracking run with wandb version 0.19.11"
      ],
      "text/plain": [
       "<IPython.core.display.HTML object>"
      ]
     },
     "metadata": {},
     "output_type": "display_data"
    },
    {
     "data": {
      "text/html": [
       "Run data is saved locally in <code>/home/ssanchez/repositories/Learning/NLPTransformers/wandb/run-20250618_161425-trkd24ui</code>"
      ],
      "text/plain": [
       "<IPython.core.display.HTML object>"
      ]
     },
     "metadata": {},
     "output_type": "display_data"
    },
    {
     "data": {
      "text/html": [
       "Syncing run <strong><a href='https://wandb.ai/sergi-sanchez-bonilla/huggingface/runs/trkd24ui' target=\"_blank\">dashing-fog-47</a></strong> to <a href='https://wandb.ai/sergi-sanchez-bonilla/huggingface' target=\"_blank\">Weights & Biases</a> (<a href='https://wandb.me/developer-guide' target=\"_blank\">docs</a>)<br>"
      ],
      "text/plain": [
       "<IPython.core.display.HTML object>"
      ]
     },
     "metadata": {},
     "output_type": "display_data"
    },
    {
     "data": {
      "text/html": [
       " View project at <a href='https://wandb.ai/sergi-sanchez-bonilla/huggingface' target=\"_blank\">https://wandb.ai/sergi-sanchez-bonilla/huggingface</a>"
      ],
      "text/plain": [
       "<IPython.core.display.HTML object>"
      ]
     },
     "metadata": {},
     "output_type": "display_data"
    },
    {
     "data": {
      "text/html": [
       " View run at <a href='https://wandb.ai/sergi-sanchez-bonilla/huggingface/runs/trkd24ui' target=\"_blank\">https://wandb.ai/sergi-sanchez-bonilla/huggingface/runs/trkd24ui</a>"
      ],
      "text/plain": [
       "<IPython.core.display.HTML object>"
      ]
     },
     "metadata": {},
     "output_type": "display_data"
    },
    {
     "data": {
      "text/html": [
       "\n",
       "    <div>\n",
       "      \n",
       "      <progress value='318' max='2862' style='width:300px; height:20px; vertical-align: middle;'></progress>\n",
       "      [ 318/2862 00:18 < 02:28, 17.14 it/s, Epoch 1/9]\n",
       "    </div>\n",
       "    <table border=\"1\" class=\"dataframe\">\n",
       "  <thead>\n",
       " <tr style=\"text-align: left;\">\n",
       "      <th>Epoch</th>\n",
       "      <th>Training Loss</th>\n",
       "      <th>Validation Loss</th>\n",
       "      <th>Accuracy</th>\n",
       "    </tr>\n",
       "  </thead>\n",
       "  <tbody>\n",
       "    <tr>\n",
       "      <td>1</td>\n",
       "      <td>No log</td>\n",
       "      <td>0.212773</td>\n",
       "      <td>0.600000</td>\n",
       "    </tr>\n",
       "  </tbody>\n",
       "</table><p>"
      ],
      "text/plain": [
       "<IPython.core.display.HTML object>"
      ]
     },
     "metadata": {},
     "output_type": "display_data"
    },
    {
     "name": "stderr",
     "output_type": "stream",
     "text": [
      "[I 2025-06-18 16:14:44,168] Trial 19 pruned. \n"
     ]
    }
   ],
   "source": [
    "best_run = distilbert_trainer.hyperparameter_search(\n",
    "    n_trials=20, direction=\"maximize\", hp_space=hp_space\n",
    ")"
   ]
  },
  {
   "cell_type": "code",
   "execution_count": 31,
   "id": "991584d5-b6f8-4f48-8da5-3648fb73c089",
   "metadata": {},
   "outputs": [
    {
     "name": "stdout",
     "output_type": "stream",
     "text": [
      "BestRun(run_id='12', objective=0.9329032258064516, hyperparameters={'num_train_epochs': 9, 'alpha': 0.7953492187921081, 'temperature': 2}, run_summary=None)\n"
     ]
    }
   ],
   "source": [
    "print(best_run)"
   ]
  },
  {
   "cell_type": "code",
   "execution_count": 32,
   "id": "fbbb4b9f-6fee-452c-bd12-735167fcda4d",
   "metadata": {},
   "outputs": [
    {
     "name": "stderr",
     "output_type": "stream",
     "text": [
      "/tmp/ipykernel_1422771/3053386859.py:8: FutureWarning: `tokenizer` is deprecated and will be removed in version 5.0.0 for `DistillationTrainer.__init__`. Use `processing_class` instead.\n",
      "  super().__init__(*args, **kwargs)\n",
      "Detected kernel version 5.4.0, which is below the recommended minimum of 5.5.0; this can cause the process to hang. It is recommended to upgrade the kernel to the minimum version or higher.\n",
      "Some weights of DistilBertForSequenceClassification were not initialized from the model checkpoint at distilbert-base-uncased and are newly initialized: ['classifier.bias', 'classifier.weight', 'pre_classifier.bias', 'pre_classifier.weight']\n",
      "You should probably TRAIN this model on a down-stream task to be able to use it for predictions and inference.\n",
      "Some weights of DistilBertForSequenceClassification were not initialized from the model checkpoint at distilbert-base-uncased and are newly initialized: ['classifier.bias', 'classifier.weight', 'pre_classifier.bias', 'pre_classifier.weight']\n",
      "You should probably TRAIN this model on a down-stream task to be able to use it for predictions and inference.\n"
     ]
    },
    {
     "data": {
      "text/html": [
       "\n",
       "    <div>\n",
       "      \n",
       "      <progress value='2862' max='2862' style='width:300px; height:20px; vertical-align: middle;'></progress>\n",
       "      [2862/2862 02:54, Epoch 9/9]\n",
       "    </div>\n",
       "    <table border=\"1\" class=\"dataframe\">\n",
       "  <thead>\n",
       " <tr style=\"text-align: left;\">\n",
       "      <th>Epoch</th>\n",
       "      <th>Training Loss</th>\n",
       "      <th>Validation Loss</th>\n",
       "      <th>Accuracy</th>\n",
       "    </tr>\n",
       "  </thead>\n",
       "  <tbody>\n",
       "    <tr>\n",
       "      <td>1</td>\n",
       "      <td>No log</td>\n",
       "      <td>2.685883</td>\n",
       "      <td>0.724194</td>\n",
       "    </tr>\n",
       "    <tr>\n",
       "      <td>2</td>\n",
       "      <td>3.139300</td>\n",
       "      <td>1.384772</td>\n",
       "      <td>0.860968</td>\n",
       "    </tr>\n",
       "    <tr>\n",
       "      <td>3</td>\n",
       "      <td>3.139300</td>\n",
       "      <td>0.759817</td>\n",
       "      <td>0.907742</td>\n",
       "    </tr>\n",
       "    <tr>\n",
       "      <td>4</td>\n",
       "      <td>1.219000</td>\n",
       "      <td>0.514846</td>\n",
       "      <td>0.932581</td>\n",
       "    </tr>\n",
       "    <tr>\n",
       "      <td>5</td>\n",
       "      <td>0.499600</td>\n",
       "      <td>0.423070</td>\n",
       "      <td>0.937742</td>\n",
       "    </tr>\n",
       "    <tr>\n",
       "      <td>6</td>\n",
       "      <td>0.499600</td>\n",
       "      <td>0.391914</td>\n",
       "      <td>0.940000</td>\n",
       "    </tr>\n",
       "    <tr>\n",
       "      <td>7</td>\n",
       "      <td>0.306900</td>\n",
       "      <td>0.373855</td>\n",
       "      <td>0.941935</td>\n",
       "    </tr>\n",
       "    <tr>\n",
       "      <td>8</td>\n",
       "      <td>0.247200</td>\n",
       "      <td>0.367104</td>\n",
       "      <td>0.943226</td>\n",
       "    </tr>\n",
       "    <tr>\n",
       "      <td>9</td>\n",
       "      <td>0.247200</td>\n",
       "      <td>0.365445</td>\n",
       "      <td>0.942258</td>\n",
       "    </tr>\n",
       "  </tbody>\n",
       "</table><p>"
      ],
      "text/plain": [
       "<IPython.core.display.HTML object>"
      ]
     },
     "metadata": {},
     "output_type": "display_data"
    }
   ],
   "source": [
    "# Let's update our training arguments with these values and run the final training run\n",
    "for k,v in best_run.hyperparameters.items():\n",
    "    setattr(student_training_args, k, v)\n",
    "\n",
    "# define a new repository to store our distilled model\n",
    "distilled_ckpt = \"distilbert-base-uncased-distilled-clinc\"\n",
    "student_training_args.output_dir = distilled_ckpt\n",
    "\n",
    "# Create a new Trainer with optimal parameters\n",
    "distil_trainer = DistillationTrainer(model_init=student_init,\n",
    "                                    teacher_model=teacher_model, args=student_training_args,\n",
    "                                    train_dataset=clinc_enc[\"train\"],\n",
    "                                    eval_dataset=clinc_enc[\"validation\"],\n",
    "                                    compute_metrics=compute_metrics, tokenizer=student_tokenizer)\n",
    "\n",
    "distil_trainer.train();"
   ]
  },
  {
   "cell_type": "markdown",
   "id": "eb923eb9-f920-4a27-a4e6-d11749628e34",
   "metadata": {},
   "source": [
    "**Remarkably, we've been able to train the student to match the accuracy of the teacher, despite it having almost half the number of parameters!**"
   ]
  },
  {
   "cell_type": "code",
   "execution_count": 33,
   "id": "89994f50-c019-4225-a784-e746a8fa278b",
   "metadata": {},
   "outputs": [
    {
     "data": {
      "text/plain": [
       "CommitInfo(commit_url='https://huggingface.co/sergi24sanchez/distilbert-base-uncased-distilled-clinc/commit/3b6dba7c0dc506bee83be8ef7c95576a2877edc5', commit_message='Training Completed!', commit_description='', oid='3b6dba7c0dc506bee83be8ef7c95576a2877edc5', pr_url=None, repo_url=RepoUrl('https://huggingface.co/sergi24sanchez/distilbert-base-uncased-distilled-clinc', endpoint='https://huggingface.co', repo_type='model', repo_id='sergi24sanchez/distilbert-base-uncased-distilled-clinc'), pr_revision=None, pr_num=None)"
      ]
     },
     "execution_count": 33,
     "metadata": {},
     "output_type": "execute_result"
    }
   ],
   "source": [
    "distil_trainer.push_to_hub(\"Training Completed!\")"
   ]
  },
  {
   "cell_type": "markdown",
   "id": "43d4d5f5-d469-40a9-a318-a97fb7bceb87",
   "metadata": {},
   "source": [
    "### Benchmarking Our Distilled Model"
   ]
  },
  {
   "cell_type": "code",
   "execution_count": 46,
   "id": "292cd262-d247-4676-ada6-236c215a4bb1",
   "metadata": {},
   "outputs": [
    {
     "name": "stdout",
     "output_type": "stream",
     "text": [
      "Model size (MB) - 255.88\n",
      "Average latency (ms) - 16.26 +\\- 0.66\n",
      "Accuracy on test set - 0.883\n"
     ]
    }
   ],
   "source": [
    "distilled_ckpt = \"sergi24sanchez/distilbert-base-uncased-distilled-clinc\"\n",
    "pipe = pipeline(\"text-classification\", model=distilled_ckpt, device=-1)\n",
    "optim_type = \"Distillation\"\n",
    "pb = PerformanceBenchmark(pipe, clinc[\"test\"], optim_type=optim_type)\n",
    "perf_metrics.update(pb.run_benchmark())"
   ]
  },
  {
   "cell_type": "code",
   "execution_count": 61,
   "id": "2a3ed96b-4237-48d0-8607-c16adf53ae61",
   "metadata": {},
   "outputs": [
    {
     "name": "stderr",
     "output_type": "stream",
     "text": [
      "/tmp/ipykernel_1422771/2626924658.py:18: MatplotlibDeprecationWarning: The legendHandles attribute was deprecated in Matplotlib 3.7 and will be removed two minor releases later. Use legend_handles instead.\n",
      "  for handle in legend.legendHandles:\n"
     ]
    },
    {
     "data": {
      "image/png": "[encoded data removed]",
      "text/plain": [
       "<Figure size 640x480 with 1 Axes>"
      ]
     },
     "metadata": {},
     "output_type": "display_data"
    }
   ],
   "source": [
    "plot_metrics(perf_metrics, optim_type)"
   ]
  },
  {
   "cell_type": "markdown",
   "id": "3723df95-d1d3-49ca-b3be-b1576b00ec61",
   "metadata": {},
   "source": [
    "The model size and latency remain essentially unchanged compared to DistilBERT benchmark, but the accuracy has improved and even surpassed the performance of the teacher!!!\n",
    "One way to interpret this, is that the teacher has likely no tbeen fine-tuned as systematically as the student.\n",
    "\n",
    "This is great, but we can actually compress our distilled model even further using a technique known as quantization.\n",
    "\n",
    "## Making Models Faster with Quantization\n",
    "\n"
   ]
  },
  {
   "cell_type": "code",
   "execution_count": 36,
   "id": "5a68f790-7245-4783-b980-abdb5a1fbbfa",
   "metadata": {},
   "outputs": [
    {
     "data": {
      "image/png": "[encoded data removed]",
      "text/plain": [
       "<Figure size 640x480 with 1 Axes>"
      ]
     },
     "metadata": {},
     "output_type": "display_data"
    }
   ],
   "source": [
    "import matplotlib.pyplot as plt\n",
    "\n",
    "state_dict = pipe.model.state_dict()\n",
    "weights = state_dict[\"distilbert.transformer.layer.0.attention.out_lin.weight\"]\n",
    "plt.hist(weights.flatten().cpu().numpy(), bins=250, range=(-0.3, 0.3), edgecolor=\"C0\")\n",
    "plt.show()"
   ]
  },
  {
   "cell_type": "code",
   "execution_count": 37,
   "id": "ff042681-225c-4da6-b590-57f2322c4e63",
   "metadata": {},
   "outputs": [],
   "source": [
    "zero_point = 0\n",
    "scale = (weights.max() - weights.min()) / (127 - (-128))"
   ]
  },
  {
   "cell_type": "markdown",
   "id": "cae2b5eb-0d83-4b06-8e50-afbe1d551a84",
   "metadata": {},
   "source": [
    "to obtain the quantized tensor, we just need to invert the mapping $q = f/s + Z$, clamp de values, round them to the nearest integer, and represent the result in the *torch.int8* data type using the Tensor.char()"
   ]
  },
  {
   "cell_type": "code",
   "execution_count": 38,
   "id": "b0077825-0976-4331-918a-694b828010d8",
   "metadata": {},
   "outputs": [
    {
     "data": {
      "text/plain": [
       "tensor([[ -5,  -8,   0,  ...,  -6,  -4,   8],\n",
       "        [  9,   2,   1,  ...,  -4,   7,   0],\n",
       "        [ -9,  -5,   5,  ...,   0,   6,  -4],\n",
       "        ...,\n",
       "        [  6,   0,  13,  ...,   0,   6,  -1],\n",
       "        [  1,  -2, -12,  ...,  12,  -7, -13],\n",
       "        [-13,  -1,  -9,  ...,   8,   2,  -1]], device='cuda:0',\n",
       "       dtype=torch.int8)"
      ]
     },
     "execution_count": 38,
     "metadata": {},
     "output_type": "execute_result"
    }
   ],
   "source": [
    "(weights / scale + zero_point).clamp(-128, 127).round().char()"
   ]
  },
  {
   "cell_type": "code",
   "execution_count": 39,
   "id": "a79eb20a-a2c7-4550-b645-33ef90de9154",
   "metadata": {},
   "outputs": [
    {
     "data": {
      "text/plain": [
       "tensor([[ -5,  -8,   0,  ...,  -6,  -4,   8],\n",
       "        [  9,   2,   1,  ...,  -4,   7,   0],\n",
       "        [ -9,  -5,   5,  ...,   0,   6,  -4],\n",
       "        ...,\n",
       "        [  6,   0,  13,  ...,   0,   6,  -1],\n",
       "        [  1,  -2, -12,  ...,  12,  -7, -13],\n",
       "        [-13,  -1,  -9,  ...,   8,   2,  -1]], device='cuda:0',\n",
       "       dtype=torch.int8)"
      ]
     },
     "execution_count": 39,
     "metadata": {},
     "output_type": "execute_result"
    }
   ],
   "source": [
    "from torch import quantize_per_tensor\n",
    "\n",
    "dtype = torch.qint8\n",
    "quantized_weights = quantize_per_tensor(weights, scale, zero_point, dtype)\n",
    "quantized_weights.int_repr()"
   ]
  },
  {
   "cell_type": "code",
   "execution_count": 40,
   "id": "845ee9db-ad3d-485a-8e99-2fb85510edd2",
   "metadata": {},
   "outputs": [],
   "source": [
    "# For the quanitzed tensors we need the QFunctional wrapper class\n",
    "from torch.nn.quantized import QFunctional\n",
    "\n",
    "q_fn = QFunctional()"
   ]
  },
  {
   "cell_type": "code",
   "execution_count": 41,
   "id": "439c6ceb-042c-4f60-bf84-5ff0c76e35e5",
   "metadata": {},
   "outputs": [
    {
     "data": {
      "text/plain": [
       "tensor([[0., 0., 0.,  ..., 0., 0., 0.],\n",
       "        [0., 0., 0.,  ..., 0., 0., 0.],\n",
       "        [0., 0., 0.,  ..., 0., 0., 0.],\n",
       "        ...,\n",
       "        [0., 0., 0.,  ..., 0., 0., 0.],\n",
       "        [0., 0., 0.,  ..., 0., 0., 0.],\n",
       "        [0., 0., 0.,  ..., 0., 0., 0.]], size=(768, 768), dtype=torch.qint8,\n",
       "       quantization_scheme=torch.per_tensor_affine, scale=1.0, zero_point=0)"
      ]
     },
     "execution_count": 41,
     "metadata": {},
     "output_type": "execute_result"
    }
   ],
   "source": [
    "q_fn.mul(quantized_weights.cpu(), quantized_weights.cpu())"
   ]
  },
  {
   "cell_type": "code",
   "execution_count": 42,
   "id": "dcca066c-a3ca-4938-83b9-4d7dd2ef9042",
   "metadata": {},
   "outputs": [
    {
     "data": {
      "text/plain": [
       "3.999755879241598"
      ]
     },
     "execution_count": 42,
     "metadata": {},
     "output_type": "execute_result"
    }
   ],
   "source": [
    "import sys\n",
    "\n",
    "sys.getsizeof(weights.storage()) / sys.getsizeof(quantized_weights.storage())"
   ]
  },
  {
   "cell_type": "markdown",
   "id": "d1d8ad30-0e27-40de-9965-00880af8046a",
   "metadata": {},
   "source": [
    "Implementing dynamic quantization in PyTorch is quite simple and can be done with a single line of code"
   ]
  },
  {
   "cell_type": "code",
   "execution_count": 65,
   "id": "c37c5a95-9916-4980-be41-b4ed950bc8a2",
   "metadata": {},
   "outputs": [],
   "source": [
    "from torch.quantization import quantize_dynamic\n",
    "\n",
    "model_ckpt = \"sergi24sanchez/distilbert-base-uncased-distilled-clinc\"\n",
    "tokenizer = AutoTokenizer.from_pretrained(model_ckpt)\n",
    "model = (AutoModelForSequenceClassification\n",
    "        .from_pretrained(model_ckpt).to(\"cpu\"))\n",
    "\n",
    "model_quanitzed = quantize_dynamic(model, {nn.Linear}, dtype=torch.qint8)"
   ]
  },
  {
   "cell_type": "markdown",
   "id": "eeadcb76-d333-40cd-bda7-83ef6557efa7",
   "metadata": {},
   "source": [
    "## Benchmarking Out Quantized Model"
   ]
  },
  {
   "cell_type": "code",
   "execution_count": 66,
   "id": "b81c170e-c728-4292-a408-11e31e21403d",
   "metadata": {},
   "outputs": [
    {
     "name": "stdout",
     "output_type": "stream",
     "text": [
      "Model size (MB) - 132.39\n",
      "Average latency (ms) - 4.49 +\\- 0.16\n",
      "Accuracy on test set - 0.895\n"
     ]
    }
   ],
   "source": [
    "pipe = pipeline(\"text-classification\", model=model_quanitzed, tokenizer=tokenizer, device=-1) # force cpu\n",
    "optim_type = \"Distillation + quantization\"\n",
    "pb = PerformanceBenchmark(pipe, clinc[\"test\"], optim_type=optim_type)\n",
    "perf_metrics.update(pb.run_benchmark())"
   ]
  },
  {
   "cell_type": "code",
   "execution_count": 52,
   "id": "0c04fb54-b5e3-4923-936d-66169f315938",
   "metadata": {},
   "outputs": [
    {
     "name": "stderr",
     "output_type": "stream",
     "text": [
      "/tmp/ipykernel_1523099/3513452108.py:18: MatplotlibDeprecationWarning: The legendHandles attribute was deprecated in Matplotlib 3.7 and will be removed two minor releases later. Use legend_handles instead.\n",
      "  for handle in legend.legendHandles:\n"
     ]
    },
    {
     "data": {
      "image/png": "[encoded data removed]",
      "text/plain": [
       "<Figure size 640x480 with 1 Axes>"
      ]
     },
     "metadata": {},
     "output_type": "display_data"
    }
   ],
   "source": [
    "plot_metrics(perf_metrics, optim_type)"
   ]
  },
  {
   "cell_type": "markdown",
   "id": "f8c82097-03c1-4143-a061-2d5daca623e9",
   "metadata": {},
   "source": [
    "Incredible!!! The quantized model is almost half the size of our distilled one and has even gained a slight accuracy boost.\n",
    "\n",
    "## Optimization Inference with ONNX and the ONNX Runtime\n",
    "\n",
    "ONNX is an open standard that defines a common set of operators and a common file format to represent deep learning models in a wide variety of frameworks, including Pytorch.\n",
    "When a model is exported to the ONNX format, these operators are used to construct a computational graph that represents the flow of data through the neural network.\n",
    "By exposing a graph with standardized operators and data types, ONNX makes it esasy to switch between frameworks.\n",
    "\n",
    "Where ONNX shines is when it is coupled with a dedicated accelarator like **ONNX Runtime**. ORT provides tools to optimize the graph through techniques like operator fusion and constant folding, and defines an interface to *execution providers* that allow you to run the model on different types of hardware. This is a powerful abstraction.\n",
    "\n",
    "The first thing we need to do is convert our distilled model into the ONNX format. *convert_graph_to_onnx.convert()* simplifies the process by taking the following steps:\n",
    "1. Initialize the model as a *Pipeline*\n",
    "2. Run placeholder inputs through the pipeline so that ONNX can record the computational graph.\n",
    "3. Define dynamic axes to handle dynamic sequence lengths.\n",
    "4. Save the graph with network parameters.\n",
    "\n",
    "We first need to set some **OpenMP** environment variables for ONNX:"
   ]
  },
  {
   "cell_type": "code",
   "execution_count": 2,
   "id": "61b8bb70-4412-4b12-b111-cb9dc9e6f311",
   "metadata": {},
   "outputs": [],
   "source": [
    "import os\n",
    "from psutil import cpu_count\n",
    "from pathlib import Path\n",
    "\n",
    "os.environ[\"OMP_NUM_THREADS\"] = f\"{cpu_count()}\"\n",
    "os.environ[\"OMP_WAIT_POLICY\"] = \"ACTIVE\""
   ]
  },
  {
   "cell_type": "markdown",
   "id": "c7cb8859-1564-4308-ae79-fe066983218f",
   "metadata": {},
   "source": [
    "OpenMP is an API designed for developing highly parallelized applications.\n",
    "\n",
    "Next, let's convert our distilled model to the ONNX format. We need to specify the argument *pipeline_name='text-classification'* since *convert()* wraps the model in tranformers pipeline()."
   ]
  },
  {
   "cell_type": "code",
   "execution_count": 67,
   "id": "bde837de-40cc-4126-a620-2a987a60478e",
   "metadata": {},
   "outputs": [
    {
     "name": "stderr",
     "output_type": "stream",
     "text": [
      "/home/ssanchez/env/transformers/lib/python3.8/site-packages/transformers/convert_graph_to_onnx.py:361: FutureWarning: The `transformers.convert_graph_to_onnx` package is deprecated and will be removed in version 5 of Transformers\n",
      "  warnings.warn(\n",
      "Hardware accelerator e.g. GPU is available in the environment, but no `device` argument is passed to the `Pipeline` object. Model will be on CPU.\n"
     ]
    },
    {
     "name": "stdout",
     "output_type": "stream",
     "text": [
      "ONNX opset version set to: 12\n",
      "Loading pipeline (model: sergi24sanchez/distilbert-base-uncased-distilled-clinc, tokenizer: DistilBertTokenizerFast(name_or_path='sergi24sanchez/distilbert-base-uncased-distilled-clinc', vocab_size=30522, model_max_length=512, is_fast=True, padding_side='right', truncation_side='right', special_tokens={'unk_token': '[UNK]', 'sep_token': '[SEP]', 'pad_token': '[PAD]', 'cls_token': '[CLS]', 'mask_token': '[MASK]'}, clean_up_tokenization_spaces=False),  added_tokens_decoder={\n",
      "\t0: AddedToken(\"[PAD]\", rstrip=False, lstrip=False, single_word=False, normalized=False, special=True),\n",
      "\t100: AddedToken(\"[UNK]\", rstrip=False, lstrip=False, single_word=False, normalized=False, special=True),\n",
      "\t101: AddedToken(\"[CLS]\", rstrip=False, lstrip=False, single_word=False, normalized=False, special=True),\n",
      "\t102: AddedToken(\"[SEP]\", rstrip=False, lstrip=False, single_word=False, normalized=False, special=True),\n",
      "\t103: AddedToken(\"[MASK]\", rstrip=False, lstrip=False, single_word=False, normalized=False, special=True),\n",
      "})\n"
     ]
    },
    {
     "ename": "Exception",
     "evalue": "Folder onnx is not empty, aborting conversion",
     "output_type": "error",
     "traceback": [
      "\u001b[0;31m---------------------------------------------------------------------------\u001b[0m",
      "\u001b[0;31mException\u001b[0m                                 Traceback (most recent call last)",
      "Cell \u001b[0;32mIn[67], line 5\u001b[0m\n\u001b[1;32m      3\u001b[0m model_ckpt \u001b[38;5;241m=\u001b[39m \u001b[38;5;124m\"\u001b[39m\u001b[38;5;124msergi24sanchez/distilbert-base-uncased-distilled-clinc\u001b[39m\u001b[38;5;124m\"\u001b[39m\n\u001b[1;32m      4\u001b[0m onnx_model_path \u001b[38;5;241m=\u001b[39m Path(\u001b[38;5;124m\"\u001b[39m\u001b[38;5;124monnx/model.onnx\u001b[39m\u001b[38;5;124m\"\u001b[39m)\n\u001b[0;32m----> 5\u001b[0m \u001b[43mconvert\u001b[49m\u001b[43m(\u001b[49m\u001b[43mframework\u001b[49m\u001b[38;5;241;43m=\u001b[39;49m\u001b[38;5;124;43m'\u001b[39;49m\u001b[38;5;124;43mpt\u001b[39;49m\u001b[38;5;124;43m'\u001b[39;49m\u001b[43m,\u001b[49m\u001b[43m \u001b[49m\u001b[43mmodel\u001b[49m\u001b[38;5;241;43m=\u001b[39;49m\u001b[43mmodel_ckpt\u001b[49m\u001b[43m,\u001b[49m\u001b[43m \u001b[49m\u001b[43mtokenizer\u001b[49m\u001b[38;5;241;43m=\u001b[39;49m\u001b[43mtokenizer\u001b[49m\u001b[43m,\u001b[49m\u001b[43m \u001b[49m\u001b[43moutput\u001b[49m\u001b[38;5;241;43m=\u001b[39;49m\u001b[43monnx_model_path\u001b[49m\u001b[43m,\u001b[49m\u001b[43m \u001b[49m\u001b[43mopset\u001b[49m\u001b[38;5;241;43m=\u001b[39;49m\u001b[38;5;241;43m12\u001b[39;49m\u001b[43m,\u001b[49m\u001b[43m \u001b[49m\u001b[43mpipeline_name\u001b[49m\u001b[38;5;241;43m=\u001b[39;49m\u001b[38;5;124;43m\"\u001b[39;49m\u001b[38;5;124;43mtext-classification\u001b[39;49m\u001b[38;5;124;43m\"\u001b[39;49m\u001b[43m)\u001b[49m \u001b[38;5;66;03m# opset corresponds to a specific version of the ONNX library\u001b[39;00m\n",
      "File \u001b[0;32m~/env/transformers/lib/python3.8/site-packages/transformers/convert_graph_to_onnx.py:375\u001b[0m, in \u001b[0;36mconvert\u001b[0;34m(framework, model, output, opset, tokenizer, use_external_format, pipeline_name, **model_kwargs)\u001b[0m\n\u001b[1;32m    373\u001b[0m     makedirs(output\u001b[38;5;241m.\u001b[39mparent\u001b[38;5;241m.\u001b[39mas_posix())\n\u001b[1;32m    374\u001b[0m \u001b[38;5;28;01melif\u001b[39;00m \u001b[38;5;28mlen\u001b[39m(listdir(output\u001b[38;5;241m.\u001b[39mparent\u001b[38;5;241m.\u001b[39mas_posix())) \u001b[38;5;241m>\u001b[39m \u001b[38;5;241m0\u001b[39m:\n\u001b[0;32m--> 375\u001b[0m     \u001b[38;5;28;01mraise\u001b[39;00m \u001b[38;5;167;01mException\u001b[39;00m(\u001b[38;5;124mf\u001b[39m\u001b[38;5;124m\"\u001b[39m\u001b[38;5;124mFolder \u001b[39m\u001b[38;5;132;01m{\u001b[39;00moutput\u001b[38;5;241m.\u001b[39mparent\u001b[38;5;241m.\u001b[39mas_posix()\u001b[38;5;132;01m}\u001b[39;00m\u001b[38;5;124m is not empty, aborting conversion\u001b[39m\u001b[38;5;124m\"\u001b[39m)\n\u001b[1;32m    377\u001b[0m \u001b[38;5;66;03m# Export the graph\u001b[39;00m\n\u001b[1;32m    378\u001b[0m \u001b[38;5;28;01mif\u001b[39;00m framework \u001b[38;5;241m==\u001b[39m \u001b[38;5;124m\"\u001b[39m\u001b[38;5;124mpt\u001b[39m\u001b[38;5;124m\"\u001b[39m:\n",
      "\u001b[0;31mException\u001b[0m: Folder onnx is not empty, aborting conversion"
     ]
    }
   ],
   "source": [
    "from transformers.convert_graph_to_onnx import convert\n",
    "\n",
    "model_ckpt = \"sergi24sanchez/distilbert-base-uncased-distilled-clinc\"\n",
    "onnx_model_path = Path(\"onnx/model.onnx\")\n",
    "convert(framework='pt', model=model_ckpt, tokenizer=tokenizer, output=onnx_model_path, opset=12, pipeline_name=\"text-classification\") # opset corresponds to a specific version of the ONNX library"
   ]
  },
  {
   "cell_type": "markdown",
   "id": "93ceffe2-3280-4da7-aab3-96cc227c928b",
   "metadata": {},
   "source": [
    "Now that we have our model saves, we need to create an InferenceSession instance to feed inputs to the model:"
   ]
  },
  {
   "cell_type": "code",
   "execution_count": 68,
   "id": "4ecc2a46-a158-4fea-8fc1-0bb5361dda8c",
   "metadata": {},
   "outputs": [],
   "source": [
    "from onnxruntime import (GraphOptimizationLevel, InferenceSession, SessionOptions)\n",
    "\n",
    "def create_model_for_provider(model_path,\n",
    "                             provider=\"CPUExecutionProvider\"):\n",
    "    options = SessionOptions()\n",
    "    options.intra_op_num_threads = 1\n",
    "    options.graph_optimization_level = GraphOptimizationLevel.ORT_ENABLE_ALL\n",
    "    session = InferenceSession(str(model_path), options, providers=[provider])\n",
    "    session.disable_fallback()\n",
    "    return session\n",
    "\n",
    "onnx_model = create_model_for_provider(onnx_model_path)"
   ]
  },
  {
   "cell_type": "markdown",
   "id": "cfd93754-aa7b-4b31-b2ad-05d2bf057642",
   "metadata": {},
   "source": [
    "Now when we call onnx_model.run(), we can get the class logits from the ONNX model. Let's test this out with an example from the test set.\n",
    "Since the output from convert() tells us that ONNX expects just the *input_ids* and *attention_mask* as inputs, we need to drop the *label* column from our sample:"
   ]
  },
  {
   "cell_type": "code",
   "execution_count": 37,
   "id": "4582f46a-345c-4ed1-909c-a241d6e2696a",
   "metadata": {},
   "outputs": [
    {
     "data": {
      "text/plain": [
       "(1, 151)"
      ]
     },
     "execution_count": 37,
     "metadata": {},
     "output_type": "execute_result"
    }
   ],
   "source": [
    "inputs = clinc_enc[\"test\"][:1]\n",
    "del inputs[\"labels\"]\n",
    "logits_onnx = onnx_model.run(None, inputs)[0]\n",
    "logits_onnx.shape"
   ]
  },
  {
   "cell_type": "code",
   "execution_count": 38,
   "id": "fe3ac0c7-f614-4234-81b3-2421c1762d53",
   "metadata": {},
   "outputs": [
    {
     "data": {
      "text/plain": [
       "61"
      ]
     },
     "execution_count": 38,
     "metadata": {},
     "output_type": "execute_result"
    }
   ],
   "source": [
    "# Once we have the logits, we can easily get the predicted label by taking the argmax\n",
    "np.argmax(logits_onnx)"
   ]
  },
  {
   "cell_type": "code",
   "execution_count": 40,
   "id": "dcdc891a-b9dd-4b7b-b0c7-9e2737046782",
   "metadata": {},
   "outputs": [
    {
     "data": {
      "text/plain": [
       "61"
      ]
     },
     "execution_count": 40,
     "metadata": {},
     "output_type": "execute_result"
    }
   ],
   "source": [
    "# agrees with the ground truth label\n",
    "clinc_enc[\"test\"][0][\"labels\"]"
   ]
  },
  {
   "cell_type": "markdown",
   "id": "f246c8c9-5590-4beb-b0d7-0e1891fdb749",
   "metadata": {},
   "source": [
    "The ONNX model is not compatible with the *text-classification* pipeline, so we'll create our own class that mimics the core behavior:"
   ]
  },
  {
   "cell_type": "code",
   "execution_count": 69,
   "id": "96838cad-1704-433f-a153-06c96ff21114",
   "metadata": {},
   "outputs": [],
   "source": [
    "from scipy.special import softmax\n",
    "\n",
    "class OnnxPipeline:\n",
    "    def __init__(self, model, tokenizer):\n",
    "        self.model = model\n",
    "        self.tokenizer = tokenizer\n",
    "\n",
    "    def __call__(self, query):\n",
    "        model_inputs = self.tokenizer(query, return_tensors=\"pt\")\n",
    "        inputs_onnx = {k: v.cpu().detach().numpy()\n",
    "                      for k,v in model_inputs.items()}\n",
    "        logits = self.model.run(None, inputs_onnx)[0][0, :]\n",
    "        probs = softmax(logits)\n",
    "        pred_idx = np.argmax(probs).item()\n",
    "        return [{\"label\": intents.int2str(pred_idx), \"score\": probs[pred_idx]}]"
   ]
  },
  {
   "cell_type": "code",
   "execution_count": 70,
   "id": "45320dc5-53ce-43d0-bc7b-036ccf2a7b60",
   "metadata": {},
   "outputs": [
    {
     "data": {
      "text/plain": [
       "[{'label': 'car_rental', 'score': 0.91333336}]"
      ]
     },
     "execution_count": 70,
     "metadata": {},
     "output_type": "execute_result"
    }
   ],
   "source": [
    "pipe = OnnxPipeline(onnx_model, tokenizer)\n",
    "pipe(query)"
   ]
  },
  {
   "cell_type": "markdown",
   "id": "0b1db5b8-6c0c-4d2e-9012-fbb04c9a6cc4",
   "metadata": {},
   "source": [
    "Next step is to create a performance benchmark for ONNX models. Here we can build on the work we did with thr *PerformanceBenchmark*  by simply overriding the *compute_size()* and leaving the *compute_accuracy()* and *time_pipeline()* intact.\n",
    "We need to override compute_size() since we cannot rely on the *state_dict* and *torch.save()* to measure a model's size, since *onnx_model* is technically an ONNX *InferenceSession* object that doesn't have acces to the attributes of PyTorch's nn.Module"
   ]
  },
  {
   "cell_type": "code",
   "execution_count": 71,
   "id": "7039803f-dc19-4b53-8143-e99dfe030567",
   "metadata": {},
   "outputs": [],
   "source": [
    "class OnnxPerformanceBenchmark(PerformanceBenchmark):\n",
    "    def __init__(self, *args, model_path, **kwargs):\n",
    "        super().__init__(*args, **kwargs)\n",
    "        self.model_path = model_path\n",
    "\n",
    "    def compute_size(self):\n",
    "        size_mb = Path(self.model_path).stat().st_size / (1024 * 1024)\n",
    "        print(f\"Model size (MB) - {size_mb:.2f}\")\n",
    "        return {\"size_mb\": size_mb}"
   ]
  },
  {
   "cell_type": "code",
   "execution_count": 72,
   "id": "2f5ed4ff-df7c-4189-ae0d-cf8a9b14cf97",
   "metadata": {},
   "outputs": [
    {
     "name": "stdout",
     "output_type": "stream",
     "text": [
      "Model size (MB) - 255.98\n",
      "Average latency (ms) - 12.89 +\\- 0.17\n",
      "Accuracy on test set - 0.883\n"
     ]
    }
   ],
   "source": [
    "optim_type = \"Distillation + ORT\"\n",
    "pb = OnnxPerformanceBenchmark(pipe, clinc[\"test\"], optim_type, model_path=\"onnx/model.onnx\")\n",
    "perf_metrics.update(pb.run_benchmark())"
   ]
  },
  {
   "cell_type": "code",
   "execution_count": 59,
   "id": "f3b6a392-3127-4e41-a8a5-bb782526f737",
   "metadata": {},
   "outputs": [
    {
     "name": "stderr",
     "output_type": "stream",
     "text": [
      "/tmp/ipykernel_1523099/3513452108.py:18: MatplotlibDeprecationWarning: The legendHandles attribute was deprecated in Matplotlib 3.7 and will be removed two minor releases later. Use legend_handles instead.\n",
      "  for handle in legend.legendHandles:\n"
     ]
    },
    {
     "data": {
      "image/png": "[encoded data removed]",
      "text/plain": [
       "<Figure size 640x480 with 1 Axes>"
      ]
     },
     "metadata": {},
     "output_type": "display_data"
    }
   ],
   "source": [
    "plot_metrics(perf_metrics, optim_type)"
   ]
  },
  {
   "cell_type": "markdown",
   "id": "df39ac1d-4cdc-4786-a372-8165003d9a56",
   "metadata": {},
   "source": [
    "ORT offers three ways to quantize a model: dynamic, static, and quantization-aware training.\n",
    "The quantization is applied through the *quantize_dynamic()* function, which requires a path to the ONNX model to quanitze, a target path to save the quantized model to, and the data type to reduce the weights to:"
   ]
  },
  {
   "cell_type": "code",
   "execution_count": 60,
   "id": "0c59a6d6-001f-4aee-a22a-25512927d162",
   "metadata": {},
   "outputs": [
    {
     "name": "stderr",
     "output_type": "stream",
     "text": [
      "WARNING:root:Please consider to run pre-processing before quantization. Refer to example: https://github.com/microsoft/onnxruntime-inference-examples/blob/main/quantization/image_classification/cpu/ReadMe.md \n"
     ]
    }
   ],
   "source": [
    "from onnxruntime.quantization import quantize_dynamic, QuantType\n",
    "\n",
    "model_input = \"onnx/model.onnx\"\n",
    "model_output = \"onnx/model.quant.onnx\"\n",
    "quantize_dynamic(model_input, model_output, weight_type=QuantType.QInt8)"
   ]
  },
  {
   "cell_type": "code",
   "execution_count": 73,
   "id": "d65dcadd-16d1-4e0d-8d34-fdf89e1beb38",
   "metadata": {},
   "outputs": [
    {
     "name": "stdout",
     "output_type": "stream",
     "text": [
      "Model size (MB) - 64.36\n",
      "Average latency (ms) - 8.98 +\\- 0.03\n",
      "Accuracy on test set - 0.892\n"
     ]
    }
   ],
   "source": [
    "onnx_quantized_model = create_model_for_provider(model_output)\n",
    "pipe = OnnxPipeline(onnx_quantized_model, tokenizer)\n",
    "optim_type = \"Distillation + ORT (quantized)\"\n",
    "pb = OnnxPerformanceBenchmark(pipe, clinc[\"test\"], optim_type, model_path=model_output)\n",
    "perf_metrics.update(pb.run_benchmark())"
   ]
  },
  {
   "cell_type": "code",
   "execution_count": 74,
   "id": "dca4b768-25a5-4f55-a023-041d66e4d8bf",
   "metadata": {},
   "outputs": [
    {
     "name": "stderr",
     "output_type": "stream",
     "text": [
      "/tmp/ipykernel_1523099/3513452108.py:18: MatplotlibDeprecationWarning: The legendHandles attribute was deprecated in Matplotlib 3.7 and will be removed two minor releases later. Use legend_handles instead.\n",
      "  for handle in legend.legendHandles:\n"
     ]
    },
    {
     "data": {
      "image/png": "[encoded data removed]",
      "text/plain": [
       "<Figure size 640x480 with 1 Axes>"
      ]
     },
     "metadata": {},
     "output_type": "display_data"
    }
   ],
   "source": [
    "plot_metrics(perf_metrics, optim_type)"
   ]
  },
  {
   "cell_type": "markdown",
   "id": "868c931d-7215-486d-b05b-b78c2e5d6491",
   "metadata": {},
   "source": [
    "ORT quantization has reduced the model size and latency by around 30% compared to the model from PyTorch quantization(distillation+quantization).\n",
    "Pytorch only optimizes the nn.Linear modules, while ONNX quantized the embedding layer as well.\n",
    "\n",
    "From the plot we can also see that applying ORT quantization to our distilled model has provided an almost three-fold gain compared to our BERT baseline!"
   ]
  },
  {
   "cell_type": "markdown",
   "id": "c5645b0f-0c84-4d22-9126-3c251210d0f2",
   "metadata": {},
   "source": [
    "Another strategy to reduce the size is to remove some weights altogether. This technique is called *weight pruning*.\n",
    "\n",
    "## Making Models Sparser with Weight Pruning"
   ]
  },
  {
   "cell_type": "code",
   "execution_count": null,
   "id": "18a29309-1451-4b83-b48f-c7bce2c99e7f",
   "metadata": {},
   "outputs": [],
   "source": []
  }
 ],
 "metadata": {
  "kernelspec": {
   "display_name": "Python 3 (ipykernel)",
   "language": "python",
   "name": "python3"
  },
  "language_info": {
   "codemirror_mode": {
    "name": "ipython",
    "version": 3
   },
   "file_extension": ".py",
   "mimetype": "text/x-python",
   "name": "python",
   "nbconvert_exporter": "python",
   "pygments_lexer": "ipython3",
   "version": "3.8.10"
  }
 },
 "nbformat": 4,
 "nbformat_minor": 5
}
