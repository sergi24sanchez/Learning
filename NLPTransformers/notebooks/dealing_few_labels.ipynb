{
 "cells": [
  {
   "cell_type": "markdown",
   "id": "8827a88e-55d8-471b-bc73-c17a34ece55a",
   "metadata": {},
   "source": [
    "## Getting the Data\n",
    "\n",
    "## Preparing the Data"
   ]
  },
  {
   "cell_type": "code",
   "execution_count": 1,
   "id": "a7d3d20d-d4b6-4554-bd3c-ef1c1b920ef1",
   "metadata": {},
   "outputs": [
    {
     "name": "stdout",
     "output_type": "stream",
     "text": [
      "DataFrame shape: (9930, 26)\n"
     ]
    }
   ],
   "source": [
    "import pandas as pd\n",
    "\n",
    "dataset_url = \"https://git.io/nlp-with-transformers\"\n",
    "df_issues = pd.read_json(dataset_url, lines=True)\n",
    "print(f'DataFrame shape: {df_issues.shape}')"
   ]
  },
  {
   "cell_type": "code",
   "execution_count": 2,
   "id": "71dd57d7-18a6-4580-a71e-4dade8a00f3e",
   "metadata": {},
   "outputs": [
    {
     "data": {
      "text/html": [
       "<div>\n",
       "<style scoped>\n",
       "    .dataframe tbody tr th:only-of-type {\n",
       "        vertical-align: middle;\n",
       "    }\n",
       "\n",
       "    .dataframe tbody tr th {\n",
       "        vertical-align: top;\n",
       "    }\n",
       "\n",
       "    .dataframe thead th {\n",
       "        text-align: right;\n",
       "    }\n",
       "</style>\n",
       "<table border=\"1\" class=\"dataframe\">\n",
       "  <thead>\n",
       "    <tr style=\"text-align: right;\">\n",
       "      <th></th>\n",
       "      <th>2</th>\n",
       "    </tr>\n",
       "  </thead>\n",
       "  <tbody>\n",
       "    <tr>\n",
       "      <th>url</th>\n",
       "      <td>https://api.github.com/repos/huggingface/trans...</td>\n",
       "    </tr>\n",
       "    <tr>\n",
       "      <th>id</th>\n",
       "      <td>849529761</td>\n",
       "    </tr>\n",
       "    <tr>\n",
       "      <th>title</th>\n",
       "      <td>[DeepSpeed] ZeRO stage 3 integration: getting ...</td>\n",
       "    </tr>\n",
       "    <tr>\n",
       "      <th>user</th>\n",
       "      <td>{'login': 'stas00', 'id': 10676103, 'node_id':...</td>\n",
       "    </tr>\n",
       "    <tr>\n",
       "      <th>labels</th>\n",
       "      <td>[{'id': 2659267025, 'node_id': 'MDU6TGFiZWwyNj...</td>\n",
       "    </tr>\n",
       "    <tr>\n",
       "      <th>state</th>\n",
       "      <td>open</td>\n",
       "    </tr>\n",
       "    <tr>\n",
       "      <th>created_at</th>\n",
       "      <td>2021-04-02 23:40:42</td>\n",
       "    </tr>\n",
       "    <tr>\n",
       "      <th>body</th>\n",
       "      <td>**[This is not yet alive, preparing for the re...</td>\n",
       "    </tr>\n",
       "  </tbody>\n",
       "</table>\n",
       "</div>"
      ],
      "text/plain": [
       "                                                            2\n",
       "url         https://api.github.com/repos/huggingface/trans...\n",
       "id                                                  849529761\n",
       "title       [DeepSpeed] ZeRO stage 3 integration: getting ...\n",
       "user        {'login': 'stas00', 'id': 10676103, 'node_id':...\n",
       "labels      [{'id': 2659267025, 'node_id': 'MDU6TGFiZWwyNj...\n",
       "state                                                    open\n",
       "created_at                                2021-04-02 23:40:42\n",
       "body        **[This is not yet alive, preparing for the re..."
      ]
     },
     "execution_count": 2,
     "metadata": {},
     "output_type": "execute_result"
    }
   ],
   "source": [
    "cols = [\"url\", \"id\", \"title\", \"user\", \"labels\", \"state\", \"created_at\", \"body\"]\n",
    "df_issues.loc[2, cols].to_frame()"
   ]
  },
  {
   "cell_type": "code",
   "execution_count": 3,
   "id": "29f99185-ac4d-40c5-a383-5b6ba69d03a0",
   "metadata": {},
   "outputs": [],
   "source": [
    "# We are only interestes in the name field of each label object\n",
    "df_issues[\"labels\"] = (df_issues[\"labels\"]\n",
    "                      .apply(lambda x: [meta[\"name\"] for meta in x]))"
   ]
  },
  {
   "cell_type": "code",
   "execution_count": 4,
   "id": "09fe494a-baa4-4621-92eb-513f3798333c",
   "metadata": {},
   "outputs": [
    {
     "data": {
      "text/html": [
       "<div>\n",
       "<style scoped>\n",
       "    .dataframe tbody tr th:only-of-type {\n",
       "        vertical-align: middle;\n",
       "    }\n",
       "\n",
       "    .dataframe tbody tr th {\n",
       "        vertical-align: top;\n",
       "    }\n",
       "\n",
       "    .dataframe thead th {\n",
       "        text-align: right;\n",
       "    }\n",
       "</style>\n",
       "<table border=\"1\" class=\"dataframe\">\n",
       "  <thead>\n",
       "    <tr style=\"text-align: right;\">\n",
       "      <th></th>\n",
       "      <th>labels</th>\n",
       "    </tr>\n",
       "  </thead>\n",
       "  <tbody>\n",
       "    <tr>\n",
       "      <th>0</th>\n",
       "      <td>[]</td>\n",
       "    </tr>\n",
       "    <tr>\n",
       "      <th>1</th>\n",
       "      <td>[]</td>\n",
       "    </tr>\n",
       "    <tr>\n",
       "      <th>2</th>\n",
       "      <td>[DeepSpeed]</td>\n",
       "    </tr>\n",
       "    <tr>\n",
       "      <th>3</th>\n",
       "      <td>[]</td>\n",
       "    </tr>\n",
       "    <tr>\n",
       "      <th>4</th>\n",
       "      <td>[]</td>\n",
       "    </tr>\n",
       "  </tbody>\n",
       "</table>\n",
       "</div>"
      ],
      "text/plain": [
       "        labels\n",
       "0           []\n",
       "1           []\n",
       "2  [DeepSpeed]\n",
       "3           []\n",
       "4           []"
      ]
     },
     "execution_count": 4,
     "metadata": {},
     "output_type": "execute_result"
    }
   ],
   "source": [
    "df_issues[[\"labels\"]].head()"
   ]
  },
  {
   "cell_type": "code",
   "execution_count": 5,
   "id": "e8b570a3-dd8a-4eb6-929f-9f51ed4dce1d",
   "metadata": {},
   "outputs": [
    {
     "data": {
      "text/html": [
       "<div>\n",
       "<style scoped>\n",
       "    .dataframe tbody tr th:only-of-type {\n",
       "        vertical-align: middle;\n",
       "    }\n",
       "\n",
       "    .dataframe tbody tr th {\n",
       "        vertical-align: top;\n",
       "    }\n",
       "\n",
       "    .dataframe thead th {\n",
       "        text-align: right;\n",
       "    }\n",
       "</style>\n",
       "<table border=\"1\" class=\"dataframe\">\n",
       "  <thead>\n",
       "    <tr style=\"text-align: right;\">\n",
       "      <th>labels</th>\n",
       "      <th>0</th>\n",
       "      <th>1</th>\n",
       "      <th>2</th>\n",
       "      <th>3</th>\n",
       "      <th>4</th>\n",
       "      <th>5</th>\n",
       "    </tr>\n",
       "  </thead>\n",
       "  <tbody>\n",
       "    <tr>\n",
       "      <th>count</th>\n",
       "      <td>6440</td>\n",
       "      <td>3057</td>\n",
       "      <td>305</td>\n",
       "      <td>100</td>\n",
       "      <td>25</td>\n",
       "      <td>3</td>\n",
       "    </tr>\n",
       "  </tbody>\n",
       "</table>\n",
       "</div>"
      ],
      "text/plain": [
       "labels     0     1    2    3   4  5\n",
       "count   6440  3057  305  100  25  3"
      ]
     },
     "execution_count": 5,
     "metadata": {},
     "output_type": "execute_result"
    }
   ],
   "source": [
    "# now each row in the labels colimn is a list of github labels, so we can compute the length of each row to find the  number of labels pers issue\n",
    "df_issues[\"labels\"].apply(lambda x : len(x)).value_counts().to_frame().T"
   ]
  },
  {
   "cell_type": "code",
   "execution_count": 6,
   "id": "555ce20c-9f7e-48a8-9cf5-22ad6002e271",
   "metadata": {},
   "outputs": [
    {
     "name": "stdout",
     "output_type": "stream",
     "text": [
      "Number of labels: 65\n"
     ]
    },
    {
     "data": {
      "text/html": [
       "<div>\n",
       "<style scoped>\n",
       "    .dataframe tbody tr th:only-of-type {\n",
       "        vertical-align: middle;\n",
       "    }\n",
       "\n",
       "    .dataframe tbody tr th {\n",
       "        vertical-align: top;\n",
       "    }\n",
       "\n",
       "    .dataframe thead th {\n",
       "        text-align: right;\n",
       "    }\n",
       "</style>\n",
       "<table border=\"1\" class=\"dataframe\">\n",
       "  <thead>\n",
       "    <tr style=\"text-align: right;\">\n",
       "      <th>labels</th>\n",
       "      <th>wontfix</th>\n",
       "      <th>model card</th>\n",
       "      <th>Core: Tokenization</th>\n",
       "      <th>New model</th>\n",
       "      <th>Core: Modeling</th>\n",
       "      <th>Help wanted</th>\n",
       "      <th>Good First Issue</th>\n",
       "      <th>Usage</th>\n",
       "      <th>Core: Pipeline</th>\n",
       "      <th>Feature request</th>\n",
       "    </tr>\n",
       "  </thead>\n",
       "  <tbody>\n",
       "    <tr>\n",
       "      <th>count</th>\n",
       "      <td>2284</td>\n",
       "      <td>649</td>\n",
       "      <td>106</td>\n",
       "      <td>98</td>\n",
       "      <td>64</td>\n",
       "      <td>52</td>\n",
       "      <td>50</td>\n",
       "      <td>46</td>\n",
       "      <td>42</td>\n",
       "      <td>41</td>\n",
       "    </tr>\n",
       "  </tbody>\n",
       "</table>\n",
       "</div>"
      ],
      "text/plain": [
       "labels  wontfix  model card  Core: Tokenization  New model  Core: Modeling  \\\n",
       "count      2284         649                 106         98              64   \n",
       "\n",
       "labels  Help wanted  Good First Issue  Usage  Core: Pipeline  Feature request  \n",
       "count            52                50     46              42               41  "
      ]
     },
     "execution_count": 6,
     "metadata": {},
     "output_type": "execute_result"
    }
   ],
   "source": [
    "# top10 most frequent labels in the dataset\n",
    "df_counts = df_issues[\"labels\"].explode().value_counts() # \"exploding\" the labels column so that each label in the list becomes a row\n",
    "print(f'Number of labels: {len(df_counts)}')\n",
    "df_counts.to_frame().head(10).T"
   ]
  },
  {
   "cell_type": "code",
   "execution_count": 7,
   "id": "ef2de55b-c266-40e7-9574-8a211824edd1",
   "metadata": {},
   "outputs": [],
   "source": [
    "# filters the dataset for the subset of labels that we'll work with\n",
    "label_map = {\"Core: Tokenization\": \"tokenization\",\n",
    "            \"New model\": \"new model\",\n",
    "            \"Core: Modeling\": \"model training\",\n",
    "            \"Usage\": \"usage\",\n",
    "            \"Core: Pipeline\": \"pipeline\",\n",
    "            \"TensorFlow\": \"tensorflow or tf\",\n",
    "            \"PyTorch\": \"pytorch\",\n",
    "            \"Examples\": \"examples\",\n",
    "            \"Documentation\": \"documentation\"}\n",
    "\n",
    "def filter_labels(x):\n",
    "    return [label_map[label] for label in x if label in label_map]\n",
    "\n",
    "df_issues[\"labels\"] = df_issues[\"labels\"].apply(filter_labels)\n",
    "all_labels = list(label_map.values())"
   ]
  },
  {
   "cell_type": "code",
   "execution_count": 8,
   "id": "7f873da0-6e54-440a-85c3-ff3dee803a15",
   "metadata": {},
   "outputs": [
    {
     "data": {
      "text/html": [
       "<div>\n",
       "<style scoped>\n",
       "    .dataframe tbody tr th:only-of-type {\n",
       "        vertical-align: middle;\n",
       "    }\n",
       "\n",
       "    .dataframe tbody tr th {\n",
       "        vertical-align: top;\n",
       "    }\n",
       "\n",
       "    .dataframe thead th {\n",
       "        text-align: right;\n",
       "    }\n",
       "</style>\n",
       "<table border=\"1\" class=\"dataframe\">\n",
       "  <thead>\n",
       "    <tr style=\"text-align: right;\">\n",
       "      <th>labels</th>\n",
       "      <th>tokenization</th>\n",
       "      <th>new model</th>\n",
       "      <th>model training</th>\n",
       "      <th>usage</th>\n",
       "      <th>pipeline</th>\n",
       "      <th>tensorflow or tf</th>\n",
       "      <th>pytorch</th>\n",
       "      <th>documentation</th>\n",
       "      <th>examples</th>\n",
       "    </tr>\n",
       "  </thead>\n",
       "  <tbody>\n",
       "    <tr>\n",
       "      <th>count</th>\n",
       "      <td>106</td>\n",
       "      <td>98</td>\n",
       "      <td>64</td>\n",
       "      <td>46</td>\n",
       "      <td>42</td>\n",
       "      <td>41</td>\n",
       "      <td>37</td>\n",
       "      <td>28</td>\n",
       "      <td>24</td>\n",
       "    </tr>\n",
       "  </tbody>\n",
       "</table>\n",
       "</div>"
      ],
      "text/plain": [
       "labels  tokenization  new model  model training  usage  pipeline  \\\n",
       "count            106         98              64     46        42   \n",
       "\n",
       "labels  tensorflow or tf  pytorch  documentation  examples  \n",
       "count                 41       37             28        24  "
      ]
     },
     "execution_count": 8,
     "metadata": {},
     "output_type": "execute_result"
    }
   ],
   "source": [
    "df_counts = df_issues[\"labels\"].explode().value_counts()\n",
    "df_counts.to_frame().T"
   ]
  },
  {
   "cell_type": "code",
   "execution_count": 9,
   "id": "c3c7b232-8424-4ef8-9d1a-55529c7bc984",
   "metadata": {},
   "outputs": [
    {
     "data": {
      "text/html": [
       "<div>\n",
       "<style scoped>\n",
       "    .dataframe tbody tr th:only-of-type {\n",
       "        vertical-align: middle;\n",
       "    }\n",
       "\n",
       "    .dataframe tbody tr th {\n",
       "        vertical-align: top;\n",
       "    }\n",
       "\n",
       "    .dataframe thead th {\n",
       "        text-align: right;\n",
       "    }\n",
       "</style>\n",
       "<table border=\"1\" class=\"dataframe\">\n",
       "  <thead>\n",
       "    <tr style=\"text-align: right;\">\n",
       "      <th></th>\n",
       "      <th>count</th>\n",
       "    </tr>\n",
       "    <tr>\n",
       "      <th>split</th>\n",
       "      <th></th>\n",
       "    </tr>\n",
       "  </thead>\n",
       "  <tbody>\n",
       "    <tr>\n",
       "      <th>unlabeled</th>\n",
       "      <td>9489</td>\n",
       "    </tr>\n",
       "    <tr>\n",
       "      <th>labeled</th>\n",
       "      <td>441</td>\n",
       "    </tr>\n",
       "  </tbody>\n",
       "</table>\n",
       "</div>"
      ],
      "text/plain": [
       "           count\n",
       "split           \n",
       "unlabeled   9489\n",
       "labeled      441"
      ]
     },
     "execution_count": 9,
     "metadata": {},
     "output_type": "execute_result"
    }
   ],
   "source": [
    "# we'll find it useful to treat the unlabeled issues as a separate training split\n",
    "df_issues[\"split\"] = \"unlabeled\"\n",
    "mask = df_issues[\"labels\"].apply(lambda x: len(x)) > 0\n",
    "df_issues.loc[mask, \"split\"] = \"labeled\"\n",
    "df_issues[\"split\"].value_counts().to_frame()"
   ]
  },
  {
   "cell_type": "code",
   "execution_count": 10,
   "id": "0a4a51dd-db23-4859-8d8e-0e64c7daa17c",
   "metadata": {},
   "outputs": [
    {
     "name": "stdout",
     "output_type": "stream",
     "text": [
      "title: Enable multiple `eval_dataset` in `Trainer` API\n",
      "\n",
      "body: # 🚀 Feature request\n",
      "\n",
      "Allow for two or more (equally long) validation sets to be passed to the `Trainer` API which are evaluated sequentially each `eval_steps`.\n",
      "\n",
      "## Motivation\n",
      "\n",
      "You can find my motivation in this [thread](https://discuss.huggingface.co/t/use-trainer-api-with-two-valiation-sets/5212) and the referenced paper. My idea would be to evaluate language model pre-training on an overlapping validation set (coming from the same data distribution as the training set) and a non-overlapp\n",
      "\n",
      "labels: []\n",
      "\n"
     ]
    }
   ],
   "source": [
    "for column in [\"title\", \"body\", \"labels\"]:\n",
    "    print(f\"{column}: {df_issues[column].iloc[24][:500]}\\n\")"
   ]
  },
  {
   "cell_type": "code",
   "execution_count": 11,
   "id": "582aec4a-280e-443f-b231-e2fea8b08abc",
   "metadata": {},
   "outputs": [],
   "source": [
    "# title contains information, so let's concatenate it with the issue's description on the body field\n",
    "df_issues[\"text\"] = (df_issues\n",
    "                    .apply(lambda x: x[\"title\"] + \"\\n\\n\" + x[\"body\"], axis=1))"
   ]
  },
  {
   "cell_type": "code",
   "execution_count": 12,
   "id": "c775c9bc-3b76-40e1-9537-534661747097",
   "metadata": {},
   "outputs": [
    {
     "name": "stdout",
     "output_type": "stream",
     "text": [
      "Removed 1.88% duplicates\n"
     ]
    }
   ],
   "source": [
    "# check duplicates\n",
    "len_before = len(df_issues)\n",
    "df_issues = df_issues.drop_duplicates(subset=\"text\")\n",
    "print(f\"Removed {(len_before - len(df_issues))/len_before:.2%} duplicates\")"
   ]
  },
  {
   "cell_type": "code",
   "execution_count": 13,
   "id": "e37af333-6ff0-4244-bca6-53db4d799eca",
   "metadata": {},
   "outputs": [
    {
     "data": {
      "image/png": "[encoded data removed]",
      "text/plain": [
       "<Figure size 640x480 with 1 Axes>"
      ]
     },
     "metadata": {},
     "output_type": "display_data"
    }
   ],
   "source": [
    "# quick look at the number of words of each text, to see if we'll lose information when truncating\n",
    "import numpy as np\n",
    "import matplotlib.pyplot as plt\n",
    "\n",
    "(df_issues[\"text\"].str.split().apply(len)\n",
    ".hist(bins=np.linspace(0, 512, 64), grid=False, edgecolor=\"C0\"))\n",
    "plt.title(\"Words per issue\")\n",
    "plt.xlabel(\"Number of words\")\n",
    "plt.ylabel(\"Number of issues\")\n",
    "plt.show()"
   ]
  },
  {
   "cell_type": "markdown",
   "id": "bcf5b472-e744-42f5-bd95-3fe11eb9da4d",
   "metadata": {},
   "source": [
    "## Creating Training Sets\n",
    "\n",
    "Transform our set of labels into a format that the model can process"
   ]
  },
  {
   "cell_type": "code",
   "execution_count": 14,
   "id": "ce96acf3-c263-4cd5-83d2-8a570da6bc5c",
   "metadata": {},
   "outputs": [
    {
     "data": {
      "text/plain": [
       "array([[0, 0, 0, 1, 0, 0, 0, 1, 0],\n",
       "       [0, 0, 0, 0, 0, 1, 0, 0, 0]])"
      ]
     },
     "execution_count": 14,
     "metadata": {},
     "output_type": "execute_result"
    }
   ],
   "source": [
    "from sklearn.preprocessing import MultiLabelBinarizer\n",
    "\n",
    "mlb = MultiLabelBinarizer()\n",
    "mlb.fit([all_labels])\n",
    "mlb.transform([[\"tokenization\", \"new model\"], [\"pytorch\"]])"
   ]
  },
  {
   "cell_type": "code",
   "execution_count": 15,
   "id": "b1aeb574-8795-48e5-a502-b2548e3816ab",
   "metadata": {},
   "outputs": [],
   "source": [
    "# iteratively achieve balanced labels\n",
    "from skmultilearn.model_selection import iterative_train_test_split\n",
    "\n",
    "def balanced_split(df, test_size=0.5):\n",
    "    ind = np.expand_dims(np.arange(len(df)), axis=1)\n",
    "    labels = mlb.transform(df[\"labels\"])\n",
    "    ind_train, _, ind_test, _ = iterative_train_test_split(ind, labels, test_size)\n",
    "\n",
    "    return df.iloc[ind_train[:, 0]], df.iloc[ind_test[:, 0]]"
   ]
  },
  {
   "cell_type": "code",
   "execution_count": 16,
   "id": "7410d50e-acf2-4240-aa12-9b024d9bdf0d",
   "metadata": {},
   "outputs": [],
   "source": [
    "# with the balanced_split() function, we can split the data into supervised and unsupervised datasets, and then create balanced training, validation, and test sets for the supervised part:\n",
    "from sklearn.model_selection import train_test_split\n",
    "\n",
    "df_clean = df_issues[[\"text\", \"labels\", \"split\"]].reset_index(drop=True).copy()\n",
    "df_unsup = df_clean.loc[df_clean[\"split\"] == \"unlabeled\", [\"text\", \"labels\"]]\n",
    "df_sup = df_clean.loc[df_clean[\"split\"] == \"labeled\", [\"text\", \"labels\"]]\n",
    "\n",
    "np.random.seed(0)\n",
    "df_train, df_tmp = balanced_split(df_sup, test_size=0.5)\n",
    "df_valid, df_test = balanced_split(df_tmp, test_size=0.5)"
   ]
  },
  {
   "cell_type": "code",
   "execution_count": 17,
   "id": "a1e3db94-2949-4f52-9c1d-f58d1ed83cb3",
   "metadata": {},
   "outputs": [],
   "source": [
    "# Let's create a DatsetDict with all the splits\n",
    "from datasets import Dataset, DatasetDict\n",
    "\n",
    "ds = DatasetDict({\n",
    "    \"train\": Dataset.from_pandas(df_train.reset_index(drop=True)),\n",
    "    \"valid\": Dataset.from_pandas(df_valid.reset_index(drop=True)),\n",
    "    \"test\": Dataset.from_pandas(df_test.reset_index(drop=True)),\n",
    "    \"unsup\": Dataset.from_pandas(df_unsup.reset_index(drop=True)),\n",
    "})"
   ]
  },
  {
   "cell_type": "markdown",
   "id": "c936b284-db61-4fa8-bfe8-a2bf97cf2afb",
   "metadata": {},
   "source": [
    "## Creating Training Slices"
   ]
  },
  {
   "cell_type": "code",
   "execution_count": 18,
   "id": "8d6be1b0-1227-4124-95d8-e58cbf04b965",
   "metadata": {},
   "outputs": [],
   "source": [
    "np.random.seed(0)\n",
    "all_indices = np.expand_dims(list(range(len(ds[\"train\"]))), axis=1)\n",
    "indices_pool = all_indices\n",
    "labels = mlb.transform(ds[\"train\"][\"labels\"])\n",
    "train_samples = [8, 16, 32, 64, 128]\n",
    "train_slices, last_k = [], 0\n",
    "\n",
    "for i, k in enumerate(train_samples):\n",
    "    # Split off samples necessary to fill the gap to the next split size\n",
    "    indices_pool, labels, new_slice, _ = iterative_train_test_split(\n",
    "        indices_pool, labels, (k-last_k)/len(labels)\n",
    "    )\n",
    "    last_k = k\n",
    "    if i==0: train_slices.append(new_slice)\n",
    "    else: train_slices.append(np.concatenate((train_slices[-1], new_slice)))\n",
    "\n",
    "# Add full dataset as last slice\n",
    "train_slices.append(all_indices), train_samples.append(len(ds[\"train\"]))\n",
    "train_slices = [np.squeeze(train_slice) for train_slice in train_slices]"
   ]
  },
  {
   "cell_type": "code",
   "execution_count": 19,
   "id": "3325445b-bc19-4e49-80bf-47f2c72c6068",
   "metadata": {},
   "outputs": [
    {
     "name": "stdout",
     "output_type": "stream",
     "text": [
      "Target split sizes:\n",
      "[8, 16, 32, 64, 128, 223]\n",
      "Actual split sizes:\n",
      "[10, 19, 36, 68, 134, 223]\n"
     ]
    }
   ],
   "source": [
    "print(\"Target split sizes:\")\n",
    "print(train_samples)\n",
    "print(\"Actual split sizes:\")\n",
    "print([len(x) for x in train_slices])"
   ]
  },
  {
   "cell_type": "markdown",
   "id": "d4d17963-3f6a-4f1c-8c06-5165a918627f",
   "metadata": {},
   "source": [
    "Note that this iterative approach only approximately splits the samples to the desired size, since it is not always possible to find a balanced split at a given split size"
   ]
  },
  {
   "cell_type": "markdown",
   "id": "bb931b52-8bbf-43f3-9357-e3f6352a1b04",
   "metadata": {},
   "source": [
    "# Implementing a Naive Bayesline"
   ]
  },
  {
   "cell_type": "code",
   "execution_count": 20,
   "id": "c884a9c7-6095-4a5a-abb7-7496ff3066ce",
   "metadata": {},
   "outputs": [],
   "source": [
    "# we train L binary classifiers for L labels. Let's use a multilabel binarizer to create a new label_ids column in our training sets.\n",
    "def prepare_labels(batch):\n",
    "    batch[\"label_ids\"] = mlb.transform(batch[\"labels\"])\n",
    "    return batch"
   ]
  },
  {
   "cell_type": "code",
   "execution_count": 21,
   "id": "c00b6a6c-53ed-47fe-a4ec-808de6fccb92",
   "metadata": {},
   "outputs": [
    {
     "data": {
      "application/vnd.jupyter.widget-view+json": {
       "model_id": "42c7987440194460be842e73e9e4d3e1",
       "version_major": 2,
       "version_minor": 0
      },
      "text/plain": [
       "Map:   0%|          | 0/223 [00:00<?, ? examples/s]"
      ]
     },
     "metadata": {},
     "output_type": "display_data"
    },
    {
     "data": {
      "application/vnd.jupyter.widget-view+json": {
       "model_id": "e602647562364e5faab348740982655c",
       "version_major": 2,
       "version_minor": 0
      },
      "text/plain": [
       "Map:   0%|          | 0/106 [00:00<?, ? examples/s]"
      ]
     },
     "metadata": {},
     "output_type": "display_data"
    },
    {
     "data": {
      "application/vnd.jupyter.widget-view+json": {
       "model_id": "4c2c3512674940e5bd48a8a8afc6736f",
       "version_major": 2,
       "version_minor": 0
      },
      "text/plain": [
       "Map:   0%|          | 0/111 [00:00<?, ? examples/s]"
      ]
     },
     "metadata": {},
     "output_type": "display_data"
    },
    {
     "data": {
      "application/vnd.jupyter.widget-view+json": {
       "model_id": "187c6f1d4d0f4c688e763ca6255dd9a1",
       "version_major": 2,
       "version_minor": 0
      },
      "text/plain": [
       "Map:   0%|          | 0/9303 [00:00<?, ? examples/s]"
      ]
     },
     "metadata": {},
     "output_type": "display_data"
    }
   ],
   "source": [
    "ds = ds.map(prepare_labels, batched=True)"
   ]
  },
  {
   "cell_type": "code",
   "execution_count": 22,
   "id": "a301b776-2e6a-4a67-8307-3c6846686661",
   "metadata": {},
   "outputs": [],
   "source": [
    "# we'll use micro and macro f1-scores. Since we'll be avaluating each model across different-sized training splits, let's create a defaultdict with a list to store the scores per split\n",
    "from collections import defaultdict\n",
    "\n",
    "macro_scores, micro_scores = defaultdict(list), defaultdict(list)"
   ]
  },
  {
   "cell_type": "code",
   "execution_count": 23,
   "id": "00085236-f7b6-42d4-b1c0-495e7ffb672a",
   "metadata": {},
   "outputs": [],
   "source": [
    "# train the baseline model and evaluate our classifier across increasing training set sizes\n",
    "from sklearn.naive_bayes import MultinomialNB\n",
    "from sklearn.metrics import classification_report\n",
    "from skmultilearn.problem_transform import BinaryRelevance\n",
    "from sklearn.feature_extraction.text import CountVectorizer\n",
    "\n",
    "for train_slice in train_slices:\n",
    "    # Get training slice and test data\n",
    "    ds_train_sample = ds[\"train\"].select(train_slice)\n",
    "    y_train = np.array(ds_train_sample[\"label_ids\"]) # encode the labels\n",
    "    y_test = np.array(ds[\"test\"][\"label_ids\"])\n",
    "    # Use a simple count vectorizer to encode out texts as token counts\n",
    "    count_vect = CountVectorizer()\n",
    "    X_train_counts = count_vect.fit_transform(ds_train_sample[\"text\"])\n",
    "    X_test_counts = count_vect.transform(ds[\"test\"][\"text\"])\n",
    "    # Create and train our model!\n",
    "    classifier = BinaryRelevance(classifier=MultinomialNB())\n",
    "    classifier.fit(X_train_counts, y_train)\n",
    "    # Generate predictions and evaluate\n",
    "    y_pred_test = classifier.predict(X_test_counts)\n",
    "    clf_report = classification_report(\n",
    "        y_test, y_pred_test, target_names=mlb.classes_, zero_division=0,\n",
    "        output_dict=True\n",
    "    )\n",
    "    # store metrics\n",
    "    macro_scores[\"Naive Bayes\"].append(clf_report[\"macro avg\"][\"f1-score\"])\n",
    "    micro_scores[\"Naive Bayes\"].append(clf_report[\"micro avg\"][\"f1-score\"])"
   ]
  },
  {
   "cell_type": "code",
   "execution_count": 24,
   "id": "374def0d-81b4-4054-b2ec-29bde3586180",
   "metadata": {},
   "outputs": [],
   "source": [
    "import matplotlib.pyplot as plt\n",
    "\n",
    "def plot_metrics(micro_scores, macro_scores, sample_sizes, current_model):\n",
    "    fig, (ax0, ax1) = plt.subplots(1, 2, figsize=(10,4), sharey=True)\n",
    "\n",
    "    for run in micro_scores.keys():\n",
    "        if run == current_model:\n",
    "            ax0.plot(sample_sizes, micro_scores[run], label=run, linewidth=2)\n",
    "            ax1.plot(sample_sizes, macro_scores[run], label=run, linewidth=2)\n",
    "        else:\n",
    "            ax0.plot(sample_sizes, micro_scores[run], label=run, linestyle=\"dashed\")\n",
    "            ax1.plot(sample_sizes, macro_scores[run], label=run, linestyle=\"dashed\")\n",
    "\n",
    "    ax0.set_title(\"Micro F1 scores\")\n",
    "    ax1.set_title(\"Macro F1 scores\")\n",
    "    ax0.set_ylabel(\"Test set F1 score\")\n",
    "    ax0.legend(loc=\"lower right\")\n",
    "    for ax in [ax0, ax1]:\n",
    "        ax.set_xlabel(\"Number of training samples\")\n",
    "        ax.set_xscale(\"log\")\n",
    "        ax.set_xticks(sample_sizes)\n",
    "        ax.set_xticklabels(sample_sizes)\n",
    "        ax.minorticks_off()\n",
    "    plt.tight_layout()\n",
    "    plt.show()    "
   ]
  },
  {
   "cell_type": "code",
   "execution_count": 25,
   "id": "b606cae0-f6fa-4ece-94d8-f94d4d4974e4",
   "metadata": {},
   "outputs": [
    {
     "data": {
      "image/png": "[encoded data removed]",
      "text/plain": [
       "<Figure size 1000x400 with 2 Axes>"
      ]
     },
     "metadata": {},
     "output_type": "display_data"
    }
   ],
   "source": [
    "plot_metrics(micro_scores, macro_scores, train_samples, \"Naive Bayes\")"
   ]
  },
  {
   "cell_type": "markdown",
   "id": "a07af915-0569-4e71-a177-a247bacd9d1c",
   "metadata": {},
   "source": [
    "# Working with No Labeled Data\n",
    "\n",
    "first technique to consider *zero-shot classification*\n",
    "\n",
    "we will cheat a bit since we'll still use test data to measure the performance, but we'll not use any data to train the model\n",
    "\n",
    "Make use of a pretrained model without any additional fine-tuning on you task-specific corpus."
   ]
  },
  {
   "cell_type": "markdown",
   "id": "2157143f-2808-407d-aabd-42493aa3c378",
   "metadata": {},
   "source": [
    "Following toy problem: you have 2 children, one of them likes movies with cars while the other enjoys movies with animals better. Build a function that tells you what topic a new movie is about.\n",
    "1st thing to try: BERT-base in the fill-mask pipeline"
   ]
  },
  {
   "cell_type": "code",
   "execution_count": 26,
   "id": "e2c78377-8591-4184-9e35-2d5014ccb194",
   "metadata": {},
   "outputs": [
    {
     "name": "stderr",
     "output_type": "stream",
     "text": [
      "/home/ssanchez/env/transformers/lib/python3.8/site-packages/torchvision/datapoints/__init__.py:12: UserWarning: The torchvision.datapoints and torchvision.transforms.v2 namespaces are still Beta. While we do not expect major breaking changes, some APIs may still change according to user feedback. Please submit any feedback you may have in this issue: https://github.com/pytorch/vision/issues/6753, and you can also check out https://github.com/pytorch/vision/issues/7319 to learn more about the APIs that we suspect might involve future changes. You can silence this warning by calling torchvision.disable_beta_transforms_warning().\n",
      "  warnings.warn(_BETA_TRANSFORMS_WARNING)\n",
      "/home/ssanchez/env/transformers/lib/python3.8/site-packages/torchvision/transforms/v2/__init__.py:54: UserWarning: The torchvision.datapoints and torchvision.transforms.v2 namespaces are still Beta. While we do not expect major breaking changes, some APIs may still change according to user feedback. Please submit any feedback you may have in this issue: https://github.com/pytorch/vision/issues/6753, and you can also check out https://github.com/pytorch/vision/issues/7319 to learn more about the APIs that we suspect might involve future changes. You can silence this warning by calling torchvision.disable_beta_transforms_warning().\n",
      "  warnings.warn(_BETA_TRANSFORMS_WARNING)\n",
      "BertForMaskedLM has generative capabilities, as `prepare_inputs_for_generation` is explicitly overwritten. However, it doesn't directly inherit from `GenerationMixin`. From 👉v4.50👈 onwards, `PreTrainedModel` will NOT inherit from `GenerationMixin`, and this model will lose the ability to call `generate` and other related functions.\n",
      "  - If you're using `trust_remote_code=True`, you can get rid of this warning by loading the model with an auto class. See https://huggingface.co/docs/transformers/en/model_doc/auto#auto-classes\n",
      "  - If you are the owner of the model architecture code, please modify your model class such that it inherits from `GenerationMixin` (after `PreTrainedModel`, otherwise you'll get an exception).\n",
      "  - If you are not the owner of the model architecture class, please contact the model code owner to update it.\n",
      "Some weights of the model checkpoint at bert-base-uncased were not used when initializing BertForMaskedLM: ['bert.pooler.dense.bias', 'bert.pooler.dense.weight', 'cls.seq_relationship.bias', 'cls.seq_relationship.weight']\n",
      "- This IS expected if you are initializing BertForMaskedLM from the checkpoint of a model trained on another task or with another architecture (e.g. initializing a BertForSequenceClassification model from a BertForPreTraining model).\n",
      "- This IS NOT expected if you are initializing BertForMaskedLM from the checkpoint of a model that you expect to be exactly identical (initializing a BertForSequenceClassification model from a BertForSequenceClassification model).\n",
      "Hardware accelerator e.g. GPU is available in the environment, but no `device` argument is passed to the `Pipeline` object. Model will be on CPU.\n"
     ]
    }
   ],
   "source": [
    "from transformers import pipeline\n",
    "\n",
    "pipe = pipeline(\"fill-mask\", model=\"bert-base-uncased\")"
   ]
  },
  {
   "cell_type": "code",
   "execution_count": 27,
   "id": "5c739fec-f3a4-41e1-b51d-045d807f91c3",
   "metadata": {},
   "outputs": [
    {
     "name": "stdout",
     "output_type": "stream",
     "text": [
      "Token animals:\t0.103%\n",
      "Token lions:\t0.066%\n",
      "Token birds:\t0.025%\n",
      "Token love:\t0.015%\n",
      "Token hunting:\t0.013%\n"
     ]
    }
   ],
   "source": [
    "movie_desc = \"The main characters of the movie madacascar \\\n",
    "are a lion, a zebra, a giraffe, and a hippo. \"\n",
    "prompt = \"The movie is about [MASK].\"\n",
    "\n",
    "output = pipe(movie_desc + prompt)\n",
    "for element in output:\n",
    "    print(f\"Token {element['token_str']}:\\t{element['score']:.3f}%\")"
   ]
  },
  {
   "cell_type": "code",
   "execution_count": 28,
   "id": "40ed17e4-bcb1-4068-b214-008b015c8a54",
   "metadata": {},
   "outputs": [
    {
     "name": "stdout",
     "output_type": "stream",
     "text": [
      "Token animals:\t0.103%\n",
      "Token cars:\t0.001%\n"
     ]
    }
   ],
   "source": [
    "output = pipe(movie_desc + prompt, targets=[\"animals\", \"cars\"])\n",
    "for element in output:\n",
    "    print(f\"Token {element['token_str']}:\\t{element['score']:.3f}%\")"
   ]
  },
  {
   "cell_type": "code",
   "execution_count": 29,
   "id": "5f501d39-3ca7-44ff-9820-d53ba863dadb",
   "metadata": {},
   "outputs": [
    {
     "name": "stdout",
     "output_type": "stream",
     "text": [
      "Token cars:\t0.139%\n",
      "Token animals:\t0.006%\n"
     ]
    }
   ],
   "source": [
    "movie_desc = \"In the movie transformers aliens \\\n",
    "can morph into a wide range of vehicles.\"\n",
    "\n",
    "output = pipe(movie_desc + prompt, targets=[\"animals\", \"cars\"])\n",
    "for element in output:\n",
    "    print(f\"Token {element['token_str']}:\\t{element['score']:.3f}%\")"
   ]
  },
  {
   "cell_type": "markdown",
   "id": "f132390a-5e2b-4f6c-b84b-b6db14d02b98",
   "metadata": {},
   "source": [
    "It illustrates the key idea of many approaches discussed in this chapter: find a way to adapt a pretrained model for another task without training it."
   ]
  },
  {
   "cell_type": "markdown",
   "id": "9607d7b9-841c-48f1-96f6-978fa1963f84",
   "metadata": {},
   "source": [
    "## Using Text entailment classifier"
   ]
  },
  {
   "cell_type": "code",
   "execution_count": 30,
   "id": "0e3235ab-84a9-42fb-a528-e1cf60bbff3a",
   "metadata": {},
   "outputs": [
    {
     "name": "stderr",
     "output_type": "stream",
     "text": [
      "No model was supplied, defaulted to facebook/bart-large-mnli and revision d7645e1 (https://huggingface.co/facebook/bart-large-mnli).\n",
      "Using a pipeline without specifying a model name and revision in production is not recommended.\n"
     ]
    }
   ],
   "source": [
    "from transformers import pipeline\n",
    "\n",
    "pipe = pipeline(\"zero-shot-classification\", device=0)"
   ]
  },
  {
   "cell_type": "code",
   "execution_count": 31,
   "id": "ba86b925-80f4-459d-9cfb-e650d82dd0cd",
   "metadata": {},
   "outputs": [
    {
     "name": "stdout",
     "output_type": "stream",
     "text": [
      "Labels: ['new model']\n",
      "Add new CANINE model\n",
      "\n",
      "# 🌟 New model addition\n",
      "\n",
      "## Model description\n",
      "\n",
      "Google recently proposed a new **C**haracter **A**rchitecture with **N**o tokenization **I**n **N**eural **E**ncoders architecture (CANINE). Not only the title is exciting:\n",
      "\n",
      "> Pipelined NLP systems have largely been superseded by end-to-end neural modeling, yet nearly all commonly-used models still require an explicit tokeni\n",
      "\n",
      "Predictions:\n",
      "new model, 0.98\n",
      "tensorflow or tf, 0.37\n",
      "examples, 0.34\n",
      "usage, 0.30\n",
      "pytorch, 0.25\n",
      "documentation, 0.25\n",
      "model training, 0.24\n",
      "tokenization, 0.17\n",
      "pipeline, 0.16\n"
     ]
    }
   ],
   "source": [
    "sample = ds[\"train\"][0]\n",
    "print(f\"Labels: {sample['labels']}\")\n",
    "\n",
    "output = pipe(sample[\"text\"], all_labels, multi_label=True)\n",
    "print(output[\"sequence\"][:400])\n",
    "print(\"\\nPredictions:\")\n",
    "\n",
    "for label, score, in zip(output[\"labels\"], output[\"scores\"]):\n",
    "    print(f\"{label}, {score:.2f}\")"
   ]
  },
  {
   "cell_type": "code",
   "execution_count": 32,
   "id": "2bbddb64-cfdd-482c-baae-3b68de516f9a",
   "metadata": {},
   "outputs": [],
   "source": [
    "def zero_shot_pipeline(example):\n",
    "    output = pipe(example['text'], all_labels, mutli_label=True)\n",
    "    example[\"predicted_labels\"] = output[\"labels\"]\n",
    "    example[\"scores\"] = output[\"scores\"]\n",
    "    return example"
   ]
  },
  {
   "cell_type": "code",
   "execution_count": 33,
   "id": "d42b62b7-4d65-4f2e-8241-7f9d5c79437b",
   "metadata": {},
   "outputs": [
    {
     "data": {
      "application/vnd.jupyter.widget-view+json": {
       "model_id": "3f8d87a2191c43d38549ced02ff5fd9c",
       "version_major": 2,
       "version_minor": 0
      },
      "text/plain": [
       "Map:   0%|          | 0/106 [00:00<?, ? examples/s]"
      ]
     },
     "metadata": {},
     "output_type": "display_data"
    },
    {
     "name": "stderr",
     "output_type": "stream",
     "text": [
      "You seem to be using the pipelines sequentially on GPU. In order to maximize efficiency please use a dataset\n"
     ]
    }
   ],
   "source": [
    "ds_zero_shot = ds[\"valid\"].map(zero_shot_pipeline)"
   ]
  },
  {
   "cell_type": "markdown",
   "id": "82454587-0814-4ed1-abf7-cfa4e04b135e",
   "metadata": {},
   "source": [
    "The next step is to determine which set of labels should be asigned to each example.\n",
    "There are a few options we can experiment with:\n",
    "\n",
    "- Define a threshold and select all labels above\n",
    "- Pick the top *k* labels with the *k* highest scores"
   ]
  },
  {
   "cell_type": "code",
   "execution_count": 34,
   "id": "071e42f2-abda-4d26-a091-a0cf7470fbea",
   "metadata": {},
   "outputs": [],
   "source": [
    "# helper function to determine which method is best\n",
    "def get_preds(example, threshold=None, topk=None):\n",
    "    preds = []\n",
    "    if threshold:\n",
    "        for label, score in zip(example[\"predicted_labels\"], example[\"scores\"]):\n",
    "            if score >= threshold:\n",
    "                preds.append(label)\n",
    "    elif topk:\n",
    "        for i in range(topk):\n",
    "            preds.append(example[\"predicted_labels\"][i])\n",
    "    else:\n",
    "        raise ValueError(\"Set either 'threshold' or 'topk'.\")\n",
    "    return {\"pred_label_ids\": list(np.squeeze(mlb.transform([preds])))}"
   ]
  },
  {
   "cell_type": "code",
   "execution_count": 35,
   "id": "9c43cb8e-396b-4d7e-b052-71fe0fb409c5",
   "metadata": {},
   "outputs": [],
   "source": [
    "# helper function that returns the scikit-learn classification report from a dataset with the predicted labels\n",
    "def get_clf_report(ds):\n",
    "    y_true = np.array(ds[\"label_ids\"])\n",
    "    y_pred = np.array(ds[\"pred_label_ids\"])\n",
    "    return classification_report(\n",
    "        y_true, y_pred, target_names=mlb.classes_, zero_division=0,\n",
    "        output_dict=True\n",
    "    )"
   ]
  },
  {
   "cell_type": "markdown",
   "id": "d690bb47-d19e-4304-8db5-a5f0ea8acacf",
   "metadata": {},
   "source": [
    "Let's start with the top-k method by increasing k for serveral values and then plotting the micro and macro F1 scores across the validation set."
   ]
  },
  {
   "cell_type": "code",
   "execution_count": 36,
   "id": "56d40cdb-b6ef-4ed9-b930-b77d0b28c8cf",
   "metadata": {},
   "outputs": [
    {
     "data": {
      "application/vnd.jupyter.widget-view+json": {
       "model_id": "1265faf63c024dc09541d92e268397e8",
       "version_major": 2,
       "version_minor": 0
      },
      "text/plain": [
       "Map:   0%|          | 0/106 [00:00<?, ? examples/s]"
      ]
     },
     "metadata": {},
     "output_type": "display_data"
    },
    {
     "data": {
      "application/vnd.jupyter.widget-view+json": {
       "model_id": "bafbba89676141c087c08047bf0d52b7",
       "version_major": 2,
       "version_minor": 0
      },
      "text/plain": [
       "Map:   0%|          | 0/106 [00:00<?, ? examples/s]"
      ]
     },
     "metadata": {},
     "output_type": "display_data"
    },
    {
     "data": {
      "application/vnd.jupyter.widget-view+json": {
       "model_id": "e292095ca4bc4758b06eb225b8ceebf8",
       "version_major": 2,
       "version_minor": 0
      },
      "text/plain": [
       "Map:   0%|          | 0/106 [00:00<?, ? examples/s]"
      ]
     },
     "metadata": {},
     "output_type": "display_data"
    },
    {
     "data": {
      "application/vnd.jupyter.widget-view+json": {
       "model_id": "ba2bc6accae44bc9b6e135ceb5f791a0",
       "version_major": 2,
       "version_minor": 0
      },
      "text/plain": [
       "Map:   0%|          | 0/106 [00:00<?, ? examples/s]"
      ]
     },
     "metadata": {},
     "output_type": "display_data"
    },
    {
     "data": {
      "image/png": "[encoded data removed]",
      "text/plain": [
       "<Figure size 640x480 with 1 Axes>"
      ]
     },
     "metadata": {},
     "output_type": "display_data"
    }
   ],
   "source": [
    "macros, micros = [], []\n",
    "topks = [1, 2, 3, 4]\n",
    "for topk in topks:\n",
    "    ds_zero_shot = ds_zero_shot.map(get_preds, batched=False,\n",
    "                                   fn_kwargs={'topk': topk})\n",
    "    clf_report = get_clf_report(ds_zero_shot)\n",
    "    macros.append(clf_report['macro avg'][\"f1-score\"])\n",
    "    micros.append(clf_report['micro avg'][\"f1-score\"])\n",
    "\n",
    "plt.plot(topks, macros, label='Macro F1')\n",
    "plt.plot(topks, micros, label='Micro F1')\n",
    "plt.xlabel(\"Top-k\")\n",
    "plt.ylabel(\"F1-score\")\n",
    "plt.legend(loc=\"best\")\n",
    "plt.show()"
   ]
  },
  {
   "cell_type": "code",
   "execution_count": 37,
   "id": "03eabf3f-084c-4246-b8b6-a3157c77b2f5",
   "metadata": {},
   "outputs": [
    {
     "data": {
      "application/vnd.jupyter.widget-view+json": {
       "model_id": "408b502c701e46bf86a85a9b65172d17",
       "version_major": 2,
       "version_minor": 0
      },
      "text/plain": [
       "Map:   0%|          | 0/106 [00:00<?, ? examples/s]"
      ]
     },
     "metadata": {},
     "output_type": "display_data"
    },
    {
     "data": {
      "application/vnd.jupyter.widget-view+json": {
       "model_id": "998344835d014448bdd6c442f7ab142a",
       "version_major": 2,
       "version_minor": 0
      },
      "text/plain": [
       "Map:   0%|          | 0/106 [00:00<?, ? examples/s]"
      ]
     },
     "metadata": {},
     "output_type": "display_data"
    },
    {
     "data": {
      "application/vnd.jupyter.widget-view+json": {
       "model_id": "e2ccf40c1aa24c2e84a8be2de35c8f6e",
       "version_major": 2,
       "version_minor": 0
      },
      "text/plain": [
       "Map:   0%|          | 0/106 [00:00<?, ? examples/s]"
      ]
     },
     "metadata": {},
     "output_type": "display_data"
    },
    {
     "data": {
      "application/vnd.jupyter.widget-view+json": {
       "model_id": "0bf5bc3a9aad425f9f7f0d044c86fd39",
       "version_major": 2,
       "version_minor": 0
      },
      "text/plain": [
       "Map:   0%|          | 0/106 [00:00<?, ? examples/s]"
      ]
     },
     "metadata": {},
     "output_type": "display_data"
    },
    {
     "data": {
      "application/vnd.jupyter.widget-view+json": {
       "model_id": "ce4c16e443eb4068b3bf19596270bd23",
       "version_major": 2,
       "version_minor": 0
      },
      "text/plain": [
       "Map:   0%|          | 0/106 [00:00<?, ? examples/s]"
      ]
     },
     "metadata": {},
     "output_type": "display_data"
    },
    {
     "data": {
      "application/vnd.jupyter.widget-view+json": {
       "model_id": "b16ab5e1512349148ddd3a693aea4e85",
       "version_major": 2,
       "version_minor": 0
      },
      "text/plain": [
       "Map:   0%|          | 0/106 [00:00<?, ? examples/s]"
      ]
     },
     "metadata": {},
     "output_type": "display_data"
    },
    {
     "data": {
      "application/vnd.jupyter.widget-view+json": {
       "model_id": "b5cb04d1240440d9adb1271dd2e0cfec",
       "version_major": 2,
       "version_minor": 0
      },
      "text/plain": [
       "Map:   0%|          | 0/106 [00:00<?, ? examples/s]"
      ]
     },
     "metadata": {},
     "output_type": "display_data"
    },
    {
     "data": {
      "application/vnd.jupyter.widget-view+json": {
       "model_id": "c4b876cf47b34bada1d0467e939ccfc9",
       "version_major": 2,
       "version_minor": 0
      },
      "text/plain": [
       "Map:   0%|          | 0/106 [00:00<?, ? examples/s]"
      ]
     },
     "metadata": {},
     "output_type": "display_data"
    },
    {
     "data": {
      "application/vnd.jupyter.widget-view+json": {
       "model_id": "6a7ce73819574b1dbbe63fcc47d8d370",
       "version_major": 2,
       "version_minor": 0
      },
      "text/plain": [
       "Map:   0%|          | 0/106 [00:00<?, ? examples/s]"
      ]
     },
     "metadata": {},
     "output_type": "display_data"
    },
    {
     "data": {
      "application/vnd.jupyter.widget-view+json": {
       "model_id": "1c740bac6d564482bad603d4da7f724a",
       "version_major": 2,
       "version_minor": 0
      },
      "text/plain": [
       "Map:   0%|          | 0/106 [00:00<?, ? examples/s]"
      ]
     },
     "metadata": {},
     "output_type": "display_data"
    },
    {
     "data": {
      "application/vnd.jupyter.widget-view+json": {
       "model_id": "d18df91fdef24d908a4aa28e2b548f27",
       "version_major": 2,
       "version_minor": 0
      },
      "text/plain": [
       "Map:   0%|          | 0/106 [00:00<?, ? examples/s]"
      ]
     },
     "metadata": {},
     "output_type": "display_data"
    },
    {
     "data": {
      "application/vnd.jupyter.widget-view+json": {
       "model_id": "5eb55c244fde49cb9d6ba41f4b86a52d",
       "version_major": 2,
       "version_minor": 0
      },
      "text/plain": [
       "Map:   0%|          | 0/106 [00:00<?, ? examples/s]"
      ]
     },
     "metadata": {},
     "output_type": "display_data"
    },
    {
     "data": {
      "application/vnd.jupyter.widget-view+json": {
       "model_id": "5147df0f8b19410cb2193f30a7373b02",
       "version_major": 2,
       "version_minor": 0
      },
      "text/plain": [
       "Map:   0%|          | 0/106 [00:00<?, ? examples/s]"
      ]
     },
     "metadata": {},
     "output_type": "display_data"
    },
    {
     "data": {
      "application/vnd.jupyter.widget-view+json": {
       "model_id": "602c227c1553483abbde6894eb349dc1",
       "version_major": 2,
       "version_minor": 0
      },
      "text/plain": [
       "Map:   0%|          | 0/106 [00:00<?, ? examples/s]"
      ]
     },
     "metadata": {},
     "output_type": "display_data"
    },
    {
     "data": {
      "application/vnd.jupyter.widget-view+json": {
       "model_id": "52922fa2e9a1450ba4ea9989a64fcb47",
       "version_major": 2,
       "version_minor": 0
      },
      "text/plain": [
       "Map:   0%|          | 0/106 [00:00<?, ? examples/s]"
      ]
     },
     "metadata": {},
     "output_type": "display_data"
    },
    {
     "data": {
      "application/vnd.jupyter.widget-view+json": {
       "model_id": "33ca99a7fc074501bf509a75b0790159",
       "version_major": 2,
       "version_minor": 0
      },
      "text/plain": [
       "Map:   0%|          | 0/106 [00:00<?, ? examples/s]"
      ]
     },
     "metadata": {},
     "output_type": "display_data"
    },
    {
     "data": {
      "application/vnd.jupyter.widget-view+json": {
       "model_id": "0ff824574b80488aac16ed1539888822",
       "version_major": 2,
       "version_minor": 0
      },
      "text/plain": [
       "Map:   0%|          | 0/106 [00:00<?, ? examples/s]"
      ]
     },
     "metadata": {},
     "output_type": "display_data"
    },
    {
     "data": {
      "application/vnd.jupyter.widget-view+json": {
       "model_id": "10f4f39e46764b41ba8f3421598660fe",
       "version_major": 2,
       "version_minor": 0
      },
      "text/plain": [
       "Map:   0%|          | 0/106 [00:00<?, ? examples/s]"
      ]
     },
     "metadata": {},
     "output_type": "display_data"
    },
    {
     "data": {
      "application/vnd.jupyter.widget-view+json": {
       "model_id": "cf816e437e364ec4995b2b65a0975655",
       "version_major": 2,
       "version_minor": 0
      },
      "text/plain": [
       "Map:   0%|          | 0/106 [00:00<?, ? examples/s]"
      ]
     },
     "metadata": {},
     "output_type": "display_data"
    },
    {
     "data": {
      "application/vnd.jupyter.widget-view+json": {
       "model_id": "10376fda604f4f46bcc724c682285b35",
       "version_major": 2,
       "version_minor": 0
      },
      "text/plain": [
       "Map:   0%|          | 0/106 [00:00<?, ? examples/s]"
      ]
     },
     "metadata": {},
     "output_type": "display_data"
    },
    {
     "data": {
      "application/vnd.jupyter.widget-view+json": {
       "model_id": "91bf7cf7e23e416299e9fa022fb25f3b",
       "version_major": 2,
       "version_minor": 0
      },
      "text/plain": [
       "Map:   0%|          | 0/106 [00:00<?, ? examples/s]"
      ]
     },
     "metadata": {},
     "output_type": "display_data"
    },
    {
     "data": {
      "application/vnd.jupyter.widget-view+json": {
       "model_id": "4287d9e2b6d049b297314aa879436ff2",
       "version_major": 2,
       "version_minor": 0
      },
      "text/plain": [
       "Map:   0%|          | 0/106 [00:00<?, ? examples/s]"
      ]
     },
     "metadata": {},
     "output_type": "display_data"
    },
    {
     "data": {
      "application/vnd.jupyter.widget-view+json": {
       "model_id": "54ed2907f4694ae7b43bb23ef00c3806",
       "version_major": 2,
       "version_minor": 0
      },
      "text/plain": [
       "Map:   0%|          | 0/106 [00:00<?, ? examples/s]"
      ]
     },
     "metadata": {},
     "output_type": "display_data"
    },
    {
     "data": {
      "application/vnd.jupyter.widget-view+json": {
       "model_id": "a200f996463a4a068aee69bc880aa725",
       "version_major": 2,
       "version_minor": 0
      },
      "text/plain": [
       "Map:   0%|          | 0/106 [00:00<?, ? examples/s]"
      ]
     },
     "metadata": {},
     "output_type": "display_data"
    },
    {
     "data": {
      "application/vnd.jupyter.widget-view+json": {
       "model_id": "0f35f6f809974f9e8de75c560dcb4c0a",
       "version_major": 2,
       "version_minor": 0
      },
      "text/plain": [
       "Map:   0%|          | 0/106 [00:00<?, ? examples/s]"
      ]
     },
     "metadata": {},
     "output_type": "display_data"
    },
    {
     "data": {
      "application/vnd.jupyter.widget-view+json": {
       "model_id": "9f289044bef64d7f87aba291883a8b00",
       "version_major": 2,
       "version_minor": 0
      },
      "text/plain": [
       "Map:   0%|          | 0/106 [00:00<?, ? examples/s]"
      ]
     },
     "metadata": {},
     "output_type": "display_data"
    },
    {
     "data": {
      "application/vnd.jupyter.widget-view+json": {
       "model_id": "5b4831237e1f4a58897b6e5767052c7a",
       "version_major": 2,
       "version_minor": 0
      },
      "text/plain": [
       "Map:   0%|          | 0/106 [00:00<?, ? examples/s]"
      ]
     },
     "metadata": {},
     "output_type": "display_data"
    },
    {
     "data": {
      "application/vnd.jupyter.widget-view+json": {
       "model_id": "8356daa1369543e4974990d3056588ba",
       "version_major": 2,
       "version_minor": 0
      },
      "text/plain": [
       "Map:   0%|          | 0/106 [00:00<?, ? examples/s]"
      ]
     },
     "metadata": {},
     "output_type": "display_data"
    },
    {
     "data": {
      "application/vnd.jupyter.widget-view+json": {
       "model_id": "c8ea00c1203d47db8bb98ac9f4280860",
       "version_major": 2,
       "version_minor": 0
      },
      "text/plain": [
       "Map:   0%|          | 0/106 [00:00<?, ? examples/s]"
      ]
     },
     "metadata": {},
     "output_type": "display_data"
    },
    {
     "data": {
      "application/vnd.jupyter.widget-view+json": {
       "model_id": "2935f7fc38764905b038844529be47bd",
       "version_major": 2,
       "version_minor": 0
      },
      "text/plain": [
       "Map:   0%|          | 0/106 [00:00<?, ? examples/s]"
      ]
     },
     "metadata": {},
     "output_type": "display_data"
    },
    {
     "data": {
      "application/vnd.jupyter.widget-view+json": {
       "model_id": "685006ee09d4427fa9cee99839db23ef",
       "version_major": 2,
       "version_minor": 0
      },
      "text/plain": [
       "Map:   0%|          | 0/106 [00:00<?, ? examples/s]"
      ]
     },
     "metadata": {},
     "output_type": "display_data"
    },
    {
     "data": {
      "application/vnd.jupyter.widget-view+json": {
       "model_id": "38ada750f1664ba3b1f537b1c61548f4",
       "version_major": 2,
       "version_minor": 0
      },
      "text/plain": [
       "Map:   0%|          | 0/106 [00:00<?, ? examples/s]"
      ]
     },
     "metadata": {},
     "output_type": "display_data"
    },
    {
     "data": {
      "application/vnd.jupyter.widget-view+json": {
       "model_id": "c862e5e3b363455088dadc877f9df8c5",
       "version_major": 2,
       "version_minor": 0
      },
      "text/plain": [
       "Map:   0%|          | 0/106 [00:00<?, ? examples/s]"
      ]
     },
     "metadata": {},
     "output_type": "display_data"
    },
    {
     "data": {
      "application/vnd.jupyter.widget-view+json": {
       "model_id": "582798341f9f4e098eaa7f07c8d853d5",
       "version_major": 2,
       "version_minor": 0
      },
      "text/plain": [
       "Map:   0%|          | 0/106 [00:00<?, ? examples/s]"
      ]
     },
     "metadata": {},
     "output_type": "display_data"
    },
    {
     "data": {
      "application/vnd.jupyter.widget-view+json": {
       "model_id": "2b8d52aa191c417b980271f1db0d7bad",
       "version_major": 2,
       "version_minor": 0
      },
      "text/plain": [
       "Map:   0%|          | 0/106 [00:00<?, ? examples/s]"
      ]
     },
     "metadata": {},
     "output_type": "display_data"
    },
    {
     "data": {
      "application/vnd.jupyter.widget-view+json": {
       "model_id": "6368edcc0ee7453a913abeefd285b9a8",
       "version_major": 2,
       "version_minor": 0
      },
      "text/plain": [
       "Map:   0%|          | 0/106 [00:00<?, ? examples/s]"
      ]
     },
     "metadata": {},
     "output_type": "display_data"
    },
    {
     "data": {
      "application/vnd.jupyter.widget-view+json": {
       "model_id": "1355db2517ac488ba1f5045ead0f64c7",
       "version_major": 2,
       "version_minor": 0
      },
      "text/plain": [
       "Map:   0%|          | 0/106 [00:00<?, ? examples/s]"
      ]
     },
     "metadata": {},
     "output_type": "display_data"
    },
    {
     "data": {
      "application/vnd.jupyter.widget-view+json": {
       "model_id": "d37795dbc1e74d1b966f74dc423886a6",
       "version_major": 2,
       "version_minor": 0
      },
      "text/plain": [
       "Map:   0%|          | 0/106 [00:00<?, ? examples/s]"
      ]
     },
     "metadata": {},
     "output_type": "display_data"
    },
    {
     "data": {
      "application/vnd.jupyter.widget-view+json": {
       "model_id": "2c5e7cf05b1d4cd984b8bfebee842f28",
       "version_major": 2,
       "version_minor": 0
      },
      "text/plain": [
       "Map:   0%|          | 0/106 [00:00<?, ? examples/s]"
      ]
     },
     "metadata": {},
     "output_type": "display_data"
    },
    {
     "data": {
      "application/vnd.jupyter.widget-view+json": {
       "model_id": "3238f2c69c5f4547931c6be49a71672e",
       "version_major": 2,
       "version_minor": 0
      },
      "text/plain": [
       "Map:   0%|          | 0/106 [00:00<?, ? examples/s]"
      ]
     },
     "metadata": {},
     "output_type": "display_data"
    },
    {
     "data": {
      "application/vnd.jupyter.widget-view+json": {
       "model_id": "6e899cce8e3d4f129e61a46bcb643a25",
       "version_major": 2,
       "version_minor": 0
      },
      "text/plain": [
       "Map:   0%|          | 0/106 [00:00<?, ? examples/s]"
      ]
     },
     "metadata": {},
     "output_type": "display_data"
    },
    {
     "data": {
      "application/vnd.jupyter.widget-view+json": {
       "model_id": "b0fddbba99bb45ec9f946d7f31655ce2",
       "version_major": 2,
       "version_minor": 0
      },
      "text/plain": [
       "Map:   0%|          | 0/106 [00:00<?, ? examples/s]"
      ]
     },
     "metadata": {},
     "output_type": "display_data"
    },
    {
     "data": {
      "application/vnd.jupyter.widget-view+json": {
       "model_id": "403d70673f6b42b687e5bf2991c98e78",
       "version_major": 2,
       "version_minor": 0
      },
      "text/plain": [
       "Map:   0%|          | 0/106 [00:00<?, ? examples/s]"
      ]
     },
     "metadata": {},
     "output_type": "display_data"
    },
    {
     "data": {
      "application/vnd.jupyter.widget-view+json": {
       "model_id": "9419c9533c67449d89a2ba84abb9b0ea",
       "version_major": 2,
       "version_minor": 0
      },
      "text/plain": [
       "Map:   0%|          | 0/106 [00:00<?, ? examples/s]"
      ]
     },
     "metadata": {},
     "output_type": "display_data"
    },
    {
     "data": {
      "application/vnd.jupyter.widget-view+json": {
       "model_id": "ac0287be80ec4c68bba73209082ad4a2",
       "version_major": 2,
       "version_minor": 0
      },
      "text/plain": [
       "Map:   0%|          | 0/106 [00:00<?, ? examples/s]"
      ]
     },
     "metadata": {},
     "output_type": "display_data"
    },
    {
     "data": {
      "application/vnd.jupyter.widget-view+json": {
       "model_id": "c1adef5666494e22ae8b6a7d1aedcda1",
       "version_major": 2,
       "version_minor": 0
      },
      "text/plain": [
       "Map:   0%|          | 0/106 [00:00<?, ? examples/s]"
      ]
     },
     "metadata": {},
     "output_type": "display_data"
    },
    {
     "data": {
      "application/vnd.jupyter.widget-view+json": {
       "model_id": "7602c8eb20c94b0bab712a3fbc3ebeb1",
       "version_major": 2,
       "version_minor": 0
      },
      "text/plain": [
       "Map:   0%|          | 0/106 [00:00<?, ? examples/s]"
      ]
     },
     "metadata": {},
     "output_type": "display_data"
    },
    {
     "data": {
      "application/vnd.jupyter.widget-view+json": {
       "model_id": "1fcdd05a4b9f424bba16f804cbeb9920",
       "version_major": 2,
       "version_minor": 0
      },
      "text/plain": [
       "Map:   0%|          | 0/106 [00:00<?, ? examples/s]"
      ]
     },
     "metadata": {},
     "output_type": "display_data"
    },
    {
     "data": {
      "application/vnd.jupyter.widget-view+json": {
       "model_id": "2b66d97e572e4b3fb3f84707e2e1e2c7",
       "version_major": 2,
       "version_minor": 0
      },
      "text/plain": [
       "Map:   0%|          | 0/106 [00:00<?, ? examples/s]"
      ]
     },
     "metadata": {},
     "output_type": "display_data"
    },
    {
     "data": {
      "application/vnd.jupyter.widget-view+json": {
       "model_id": "f82ebe5c50d04251bb60eef95e091c5a",
       "version_major": 2,
       "version_minor": 0
      },
      "text/plain": [
       "Map:   0%|          | 0/106 [00:00<?, ? examples/s]"
      ]
     },
     "metadata": {},
     "output_type": "display_data"
    },
    {
     "data": {
      "application/vnd.jupyter.widget-view+json": {
       "model_id": "576f6d165b15411dbe42d032ef26d7df",
       "version_major": 2,
       "version_minor": 0
      },
      "text/plain": [
       "Map:   0%|          | 0/106 [00:00<?, ? examples/s]"
      ]
     },
     "metadata": {},
     "output_type": "display_data"
    },
    {
     "data": {
      "application/vnd.jupyter.widget-view+json": {
       "model_id": "6d9ec51fb0fa44ecbe6c5004521c7c53",
       "version_major": 2,
       "version_minor": 0
      },
      "text/plain": [
       "Map:   0%|          | 0/106 [00:00<?, ? examples/s]"
      ]
     },
     "metadata": {},
     "output_type": "display_data"
    },
    {
     "data": {
      "application/vnd.jupyter.widget-view+json": {
       "model_id": "a9bb9ba9c8ef4d39bc1bdadcab2f0107",
       "version_major": 2,
       "version_minor": 0
      },
      "text/plain": [
       "Map:   0%|          | 0/106 [00:00<?, ? examples/s]"
      ]
     },
     "metadata": {},
     "output_type": "display_data"
    },
    {
     "data": {
      "application/vnd.jupyter.widget-view+json": {
       "model_id": "17beba2498f44d80a269551cfed1a768",
       "version_major": 2,
       "version_minor": 0
      },
      "text/plain": [
       "Map:   0%|          | 0/106 [00:00<?, ? examples/s]"
      ]
     },
     "metadata": {},
     "output_type": "display_data"
    },
    {
     "data": {
      "application/vnd.jupyter.widget-view+json": {
       "model_id": "0598dbfaf7e447c8bf43612753478b3e",
       "version_major": 2,
       "version_minor": 0
      },
      "text/plain": [
       "Map:   0%|          | 0/106 [00:00<?, ? examples/s]"
      ]
     },
     "metadata": {},
     "output_type": "display_data"
    },
    {
     "data": {
      "application/vnd.jupyter.widget-view+json": {
       "model_id": "452a86f81a9740179d5f63696fdf543c",
       "version_major": 2,
       "version_minor": 0
      },
      "text/plain": [
       "Map:   0%|          | 0/106 [00:00<?, ? examples/s]"
      ]
     },
     "metadata": {},
     "output_type": "display_data"
    },
    {
     "data": {
      "application/vnd.jupyter.widget-view+json": {
       "model_id": "18e925a1ae7b4210975a672e310529c8",
       "version_major": 2,
       "version_minor": 0
      },
      "text/plain": [
       "Map:   0%|          | 0/106 [00:00<?, ? examples/s]"
      ]
     },
     "metadata": {},
     "output_type": "display_data"
    },
    {
     "data": {
      "application/vnd.jupyter.widget-view+json": {
       "model_id": "e1d7b38d9fde4094a8c9b20ea68f1f59",
       "version_major": 2,
       "version_minor": 0
      },
      "text/plain": [
       "Map:   0%|          | 0/106 [00:00<?, ? examples/s]"
      ]
     },
     "metadata": {},
     "output_type": "display_data"
    },
    {
     "data": {
      "application/vnd.jupyter.widget-view+json": {
       "model_id": "123333129c2441eeb6313e70ae57368a",
       "version_major": 2,
       "version_minor": 0
      },
      "text/plain": [
       "Map:   0%|          | 0/106 [00:00<?, ? examples/s]"
      ]
     },
     "metadata": {},
     "output_type": "display_data"
    },
    {
     "data": {
      "application/vnd.jupyter.widget-view+json": {
       "model_id": "75862ec5fa74499392e9d30a9fe048ec",
       "version_major": 2,
       "version_minor": 0
      },
      "text/plain": [
       "Map:   0%|          | 0/106 [00:00<?, ? examples/s]"
      ]
     },
     "metadata": {},
     "output_type": "display_data"
    },
    {
     "data": {
      "application/vnd.jupyter.widget-view+json": {
       "model_id": "f2f9cf251e8d4064b38b212d87ea9f3c",
       "version_major": 2,
       "version_minor": 0
      },
      "text/plain": [
       "Map:   0%|          | 0/106 [00:00<?, ? examples/s]"
      ]
     },
     "metadata": {},
     "output_type": "display_data"
    },
    {
     "data": {
      "application/vnd.jupyter.widget-view+json": {
       "model_id": "d03268c3c2f5424f9d99032a77b11123",
       "version_major": 2,
       "version_minor": 0
      },
      "text/plain": [
       "Map:   0%|          | 0/106 [00:00<?, ? examples/s]"
      ]
     },
     "metadata": {},
     "output_type": "display_data"
    },
    {
     "data": {
      "application/vnd.jupyter.widget-view+json": {
       "model_id": "37168cd4a4df4c379a823d5de4917f15",
       "version_major": 2,
       "version_minor": 0
      },
      "text/plain": [
       "Map:   0%|          | 0/106 [00:00<?, ? examples/s]"
      ]
     },
     "metadata": {},
     "output_type": "display_data"
    },
    {
     "data": {
      "application/vnd.jupyter.widget-view+json": {
       "model_id": "3b3730abf5294376ac09dcee5cf9676d",
       "version_major": 2,
       "version_minor": 0
      },
      "text/plain": [
       "Map:   0%|          | 0/106 [00:00<?, ? examples/s]"
      ]
     },
     "metadata": {},
     "output_type": "display_data"
    },
    {
     "data": {
      "application/vnd.jupyter.widget-view+json": {
       "model_id": "6cecebc3ae31455a9b78f4d1ecb92370",
       "version_major": 2,
       "version_minor": 0
      },
      "text/plain": [
       "Map:   0%|          | 0/106 [00:00<?, ? examples/s]"
      ]
     },
     "metadata": {},
     "output_type": "display_data"
    },
    {
     "data": {
      "application/vnd.jupyter.widget-view+json": {
       "model_id": "1b8a543be08b469aa82e696f010b5204",
       "version_major": 2,
       "version_minor": 0
      },
      "text/plain": [
       "Map:   0%|          | 0/106 [00:00<?, ? examples/s]"
      ]
     },
     "metadata": {},
     "output_type": "display_data"
    },
    {
     "data": {
      "application/vnd.jupyter.widget-view+json": {
       "model_id": "92451fcf417a4ad493a2aa6774b699fe",
       "version_major": 2,
       "version_minor": 0
      },
      "text/plain": [
       "Map:   0%|          | 0/106 [00:00<?, ? examples/s]"
      ]
     },
     "metadata": {},
     "output_type": "display_data"
    },
    {
     "data": {
      "application/vnd.jupyter.widget-view+json": {
       "model_id": "60f7769e04e945e4a73de047e365d654",
       "version_major": 2,
       "version_minor": 0
      },
      "text/plain": [
       "Map:   0%|          | 0/106 [00:00<?, ? examples/s]"
      ]
     },
     "metadata": {},
     "output_type": "display_data"
    },
    {
     "data": {
      "application/vnd.jupyter.widget-view+json": {
       "model_id": "ff8a15d841a540ee9a213a1101c3dfc7",
       "version_major": 2,
       "version_minor": 0
      },
      "text/plain": [
       "Map:   0%|          | 0/106 [00:00<?, ? examples/s]"
      ]
     },
     "metadata": {},
     "output_type": "display_data"
    },
    {
     "data": {
      "application/vnd.jupyter.widget-view+json": {
       "model_id": "646f998a04294901a3230f8ccad464d2",
       "version_major": 2,
       "version_minor": 0
      },
      "text/plain": [
       "Map:   0%|          | 0/106 [00:00<?, ? examples/s]"
      ]
     },
     "metadata": {},
     "output_type": "display_data"
    },
    {
     "data": {
      "application/vnd.jupyter.widget-view+json": {
       "model_id": "67548faf1e074da0a3e0562e64f25fe9",
       "version_major": 2,
       "version_minor": 0
      },
      "text/plain": [
       "Map:   0%|          | 0/106 [00:00<?, ? examples/s]"
      ]
     },
     "metadata": {},
     "output_type": "display_data"
    },
    {
     "data": {
      "application/vnd.jupyter.widget-view+json": {
       "model_id": "75def16b1bc94a6d87858a8b2437a2cf",
       "version_major": 2,
       "version_minor": 0
      },
      "text/plain": [
       "Map:   0%|          | 0/106 [00:00<?, ? examples/s]"
      ]
     },
     "metadata": {},
     "output_type": "display_data"
    },
    {
     "data": {
      "application/vnd.jupyter.widget-view+json": {
       "model_id": "c6c70ec5c8a0456b94560134c9b8ccd1",
       "version_major": 2,
       "version_minor": 0
      },
      "text/plain": [
       "Map:   0%|          | 0/106 [00:00<?, ? examples/s]"
      ]
     },
     "metadata": {},
     "output_type": "display_data"
    },
    {
     "data": {
      "application/vnd.jupyter.widget-view+json": {
       "model_id": "deefd2cead0e4287a404108e8b083712",
       "version_major": 2,
       "version_minor": 0
      },
      "text/plain": [
       "Map:   0%|          | 0/106 [00:00<?, ? examples/s]"
      ]
     },
     "metadata": {},
     "output_type": "display_data"
    },
    {
     "data": {
      "application/vnd.jupyter.widget-view+json": {
       "model_id": "aadfa64ae339405cbe07eb6454c46cc4",
       "version_major": 2,
       "version_minor": 0
      },
      "text/plain": [
       "Map:   0%|          | 0/106 [00:00<?, ? examples/s]"
      ]
     },
     "metadata": {},
     "output_type": "display_data"
    },
    {
     "data": {
      "application/vnd.jupyter.widget-view+json": {
       "model_id": "38bde3fd118548138fddc258c47eb880",
       "version_major": 2,
       "version_minor": 0
      },
      "text/plain": [
       "Map:   0%|          | 0/106 [00:00<?, ? examples/s]"
      ]
     },
     "metadata": {},
     "output_type": "display_data"
    },
    {
     "data": {
      "application/vnd.jupyter.widget-view+json": {
       "model_id": "ea149b71af164b5ea4612fda43fcdf23",
       "version_major": 2,
       "version_minor": 0
      },
      "text/plain": [
       "Map:   0%|          | 0/106 [00:00<?, ? examples/s]"
      ]
     },
     "metadata": {},
     "output_type": "display_data"
    },
    {
     "data": {
      "application/vnd.jupyter.widget-view+json": {
       "model_id": "f23128bcc44642d599e2c82c2c8a7e6e",
       "version_major": 2,
       "version_minor": 0
      },
      "text/plain": [
       "Map:   0%|          | 0/106 [00:00<?, ? examples/s]"
      ]
     },
     "metadata": {},
     "output_type": "display_data"
    },
    {
     "data": {
      "application/vnd.jupyter.widget-view+json": {
       "model_id": "24dd774d025f4bdc822e39c90bb8f618",
       "version_major": 2,
       "version_minor": 0
      },
      "text/plain": [
       "Map:   0%|          | 0/106 [00:00<?, ? examples/s]"
      ]
     },
     "metadata": {},
     "output_type": "display_data"
    },
    {
     "data": {
      "application/vnd.jupyter.widget-view+json": {
       "model_id": "f67d82d40f364be0abd5b17c23bc35e1",
       "version_major": 2,
       "version_minor": 0
      },
      "text/plain": [
       "Map:   0%|          | 0/106 [00:00<?, ? examples/s]"
      ]
     },
     "metadata": {},
     "output_type": "display_data"
    },
    {
     "data": {
      "application/vnd.jupyter.widget-view+json": {
       "model_id": "1f7d0578774d454bace4f993bf6157ef",
       "version_major": 2,
       "version_minor": 0
      },
      "text/plain": [
       "Map:   0%|          | 0/106 [00:00<?, ? examples/s]"
      ]
     },
     "metadata": {},
     "output_type": "display_data"
    },
    {
     "data": {
      "application/vnd.jupyter.widget-view+json": {
       "model_id": "4b881ebda87f48e28da20ca33dacb07a",
       "version_major": 2,
       "version_minor": 0
      },
      "text/plain": [
       "Map:   0%|          | 0/106 [00:00<?, ? examples/s]"
      ]
     },
     "metadata": {},
     "output_type": "display_data"
    },
    {
     "data": {
      "application/vnd.jupyter.widget-view+json": {
       "model_id": "376febcd287a4dcda014ee4e10883ac2",
       "version_major": 2,
       "version_minor": 0
      },
      "text/plain": [
       "Map:   0%|          | 0/106 [00:00<?, ? examples/s]"
      ]
     },
     "metadata": {},
     "output_type": "display_data"
    },
    {
     "data": {
      "application/vnd.jupyter.widget-view+json": {
       "model_id": "20d52c6d5c7440e7818626fe3f5a64fb",
       "version_major": 2,
       "version_minor": 0
      },
      "text/plain": [
       "Map:   0%|          | 0/106 [00:00<?, ? examples/s]"
      ]
     },
     "metadata": {},
     "output_type": "display_data"
    },
    {
     "data": {
      "application/vnd.jupyter.widget-view+json": {
       "model_id": "29b0ba7fa8074e1491bcf63d951c0041",
       "version_major": 2,
       "version_minor": 0
      },
      "text/plain": [
       "Map:   0%|          | 0/106 [00:00<?, ? examples/s]"
      ]
     },
     "metadata": {},
     "output_type": "display_data"
    },
    {
     "data": {
      "application/vnd.jupyter.widget-view+json": {
       "model_id": "1adc135ab2004ee480c8a869b4c03c0e",
       "version_major": 2,
       "version_minor": 0
      },
      "text/plain": [
       "Map:   0%|          | 0/106 [00:00<?, ? examples/s]"
      ]
     },
     "metadata": {},
     "output_type": "display_data"
    },
    {
     "data": {
      "application/vnd.jupyter.widget-view+json": {
       "model_id": "e703fdfdbf5e44958b459b0a4aec7916",
       "version_major": 2,
       "version_minor": 0
      },
      "text/plain": [
       "Map:   0%|          | 0/106 [00:00<?, ? examples/s]"
      ]
     },
     "metadata": {},
     "output_type": "display_data"
    },
    {
     "data": {
      "application/vnd.jupyter.widget-view+json": {
       "model_id": "842838f03bb145a2a50edea16571fc8d",
       "version_major": 2,
       "version_minor": 0
      },
      "text/plain": [
       "Map:   0%|          | 0/106 [00:00<?, ? examples/s]"
      ]
     },
     "metadata": {},
     "output_type": "display_data"
    },
    {
     "data": {
      "application/vnd.jupyter.widget-view+json": {
       "model_id": "b554db7164ab4fbc8cd6a7c11ee02167",
       "version_major": 2,
       "version_minor": 0
      },
      "text/plain": [
       "Map:   0%|          | 0/106 [00:00<?, ? examples/s]"
      ]
     },
     "metadata": {},
     "output_type": "display_data"
    },
    {
     "data": {
      "application/vnd.jupyter.widget-view+json": {
       "model_id": "f4a4746ec49c4c239a74b9fd5908d5a8",
       "version_major": 2,
       "version_minor": 0
      },
      "text/plain": [
       "Map:   0%|          | 0/106 [00:00<?, ? examples/s]"
      ]
     },
     "metadata": {},
     "output_type": "display_data"
    },
    {
     "data": {
      "application/vnd.jupyter.widget-view+json": {
       "model_id": "13fc78f2faf04a9fada40530e45d463c",
       "version_major": 2,
       "version_minor": 0
      },
      "text/plain": [
       "Map:   0%|          | 0/106 [00:00<?, ? examples/s]"
      ]
     },
     "metadata": {},
     "output_type": "display_data"
    },
    {
     "data": {
      "application/vnd.jupyter.widget-view+json": {
       "model_id": "bbceae00e4ae403cafa2723ff89c779e",
       "version_major": 2,
       "version_minor": 0
      },
      "text/plain": [
       "Map:   0%|          | 0/106 [00:00<?, ? examples/s]"
      ]
     },
     "metadata": {},
     "output_type": "display_data"
    },
    {
     "data": {
      "application/vnd.jupyter.widget-view+json": {
       "model_id": "5c3eacba217b42ed844dc0a1a71c4475",
       "version_major": 2,
       "version_minor": 0
      },
      "text/plain": [
       "Map:   0%|          | 0/106 [00:00<?, ? examples/s]"
      ]
     },
     "metadata": {},
     "output_type": "display_data"
    },
    {
     "data": {
      "application/vnd.jupyter.widget-view+json": {
       "model_id": "a67aa800eafe4172ae5a1ff304b0ee5a",
       "version_major": 2,
       "version_minor": 0
      },
      "text/plain": [
       "Map:   0%|          | 0/106 [00:00<?, ? examples/s]"
      ]
     },
     "metadata": {},
     "output_type": "display_data"
    },
    {
     "data": {
      "application/vnd.jupyter.widget-view+json": {
       "model_id": "27d03f24625e4380ab72f99b66983be5",
       "version_major": 2,
       "version_minor": 0
      },
      "text/plain": [
       "Map:   0%|          | 0/106 [00:00<?, ? examples/s]"
      ]
     },
     "metadata": {},
     "output_type": "display_data"
    },
    {
     "data": {
      "application/vnd.jupyter.widget-view+json": {
       "model_id": "a1f142ebf0e6457880961422b4232906",
       "version_major": 2,
       "version_minor": 0
      },
      "text/plain": [
       "Map:   0%|          | 0/106 [00:00<?, ? examples/s]"
      ]
     },
     "metadata": {},
     "output_type": "display_data"
    },
    {
     "data": {
      "application/vnd.jupyter.widget-view+json": {
       "model_id": "49941cfdbbfe4f8794a6c94001380c72",
       "version_major": 2,
       "version_minor": 0
      },
      "text/plain": [
       "Map:   0%|          | 0/106 [00:00<?, ? examples/s]"
      ]
     },
     "metadata": {},
     "output_type": "display_data"
    },
    {
     "data": {
      "application/vnd.jupyter.widget-view+json": {
       "model_id": "35701cc93c094fb4847ddc8f703dd6e6",
       "version_major": 2,
       "version_minor": 0
      },
      "text/plain": [
       "Map:   0%|          | 0/106 [00:00<?, ? examples/s]"
      ]
     },
     "metadata": {},
     "output_type": "display_data"
    },
    {
     "data": {
      "application/vnd.jupyter.widget-view+json": {
       "model_id": "24db9da39ff34fb38a0724f57dfbfdaf",
       "version_major": 2,
       "version_minor": 0
      },
      "text/plain": [
       "Map:   0%|          | 0/106 [00:00<?, ? examples/s]"
      ]
     },
     "metadata": {},
     "output_type": "display_data"
    },
    {
     "data": {
      "application/vnd.jupyter.widget-view+json": {
       "model_id": "9ae8c7d0d60c45088a03b64bf2ef2e82",
       "version_major": 2,
       "version_minor": 0
      },
      "text/plain": [
       "Map:   0%|          | 0/106 [00:00<?, ? examples/s]"
      ]
     },
     "metadata": {},
     "output_type": "display_data"
    }
   ],
   "source": [
    "macros, micros = [], []\n",
    "thresholds = np.linspace(0.01, 1, 100)\n",
    "for th in thresholds:\n",
    "    ds_zero_shot = ds_zero_shot.map(get_preds, batched=False,\n",
    "                                   fn_kwargs={'threshold': th})\n",
    "    clf_report = get_clf_report(ds_zero_shot)\n",
    "    macros.append(clf_report['macro avg'][\"f1-score\"])\n",
    "    micros.append(clf_report['micro avg'][\"f1-score\"])"
   ]
  },
  {
   "cell_type": "code",
   "execution_count": 38,
   "id": "531cbe83-3c8f-4797-b024-2a2004aedf1e",
   "metadata": {},
   "outputs": [
    {
     "data": {
      "image/png": "[encoded data removed]",
      "text/plain": [
       "<Figure size 640x480 with 1 Axes>"
      ]
     },
     "metadata": {},
     "output_type": "display_data"
    }
   ],
   "source": [
    "plt.plot(thresholds, macros, label='Macro F1')\n",
    "plt.plot(thresholds, micros, label='Micro F1')\n",
    "plt.xlabel(\"Threshold\")\n",
    "plt.ylabel(\"F1-score\")\n",
    "plt.legend(loc=\"best\")\n",
    "plt.show()"
   ]
  },
  {
   "cell_type": "code",
   "execution_count": 69,
   "id": "50896528-85d5-417f-a941-472725272ee0",
   "metadata": {},
   "outputs": [
    {
     "name": "stdout",
     "output_type": "stream",
     "text": [
      "Best threshold (micro): 0.23 with F1-score 0.52\n",
      "Best threshold (macro): 0.23 with F1-score 0.45\n"
     ]
    }
   ],
   "source": [
    "best_t, best_micro = thresholds[np.argmax(micros)], np.max(micros)\n",
    "print(f'Best threshold (micro): {best_t} with F1-score {best_micro:.2f}')\n",
    "best_t, best_macro = thresholds[np.argmax(macros)], np.max(macros)\n",
    "print(f'Best threshold (macro): {best_t} with F1-score {best_macro:.2f}')"
   ]
  },
  {
   "cell_type": "markdown",
   "id": "a274dc75-ae56-4ae5-9612-e07dfa5c4597",
   "metadata": {},
   "source": [
    "Since threshold at 0.23 works best, let's use this to compare zero-shot classification against Naive Bayes on the test set:"
   ]
  },
  {
   "cell_type": "code",
   "execution_count": 39,
   "id": "cef7c1af-128d-49e0-8102-ea64904667ec",
   "metadata": {},
   "outputs": [
    {
     "data": {
      "application/vnd.jupyter.widget-view+json": {
       "model_id": "fda01739763e4d06845cde37b872e577",
       "version_major": 2,
       "version_minor": 0
      },
      "text/plain": [
       "Map:   0%|          | 0/111 [00:00<?, ? examples/s]"
      ]
     },
     "metadata": {},
     "output_type": "display_data"
    },
    {
     "data": {
      "application/vnd.jupyter.widget-view+json": {
       "model_id": "13620895455c482b8ba103bcaf9c855a",
       "version_major": 2,
       "version_minor": 0
      },
      "text/plain": [
       "Map:   0%|          | 0/111 [00:00<?, ? examples/s]"
      ]
     },
     "metadata": {},
     "output_type": "display_data"
    },
    {
     "data": {
      "application/vnd.jupyter.widget-view+json": {
       "model_id": "9df9175ac4a64d599d81383ae2e3e979",
       "version_major": 2,
       "version_minor": 0
      },
      "text/plain": [
       "Map:   0%|          | 0/111 [00:00<?, ? examples/s]"
      ]
     },
     "metadata": {},
     "output_type": "display_data"
    }
   ],
   "source": [
    "ds_zero_shot = ds['test'].map(zero_shot_pipeline)\n",
    "ds_zero_shot_threshold = ds_zero_shot.map(get_preds, fn_kwargs={'threshold': 0.23})\n",
    "ds_zero_shot_topk = ds_zero_shot.map(get_preds, fn_kwargs={'topk': 1})\n",
    "clf_report_threshold = get_clf_report(ds_zero_shot_threshold)\n",
    "clf_report_topk = get_clf_report(ds_zero_shot_topk)\n",
    "for train_slice in train_slices:\n",
    "    macro_scores['Zero Shot (threshold)'].append(clf_report_threshold['macro avg']['f1-score'])\n",
    "    micro_scores['Zero Shot (threshold)'].append(clf_report_threshold['micro avg']['f1-score'])\n",
    "\n",
    "    macro_scores['Zero Shot (topk)'].append(clf_report_topk['macro avg']['f1-score'])\n",
    "    micro_scores['Zero Shot (topk)'].append(clf_report_topk['micro avg']['f1-score'])"
   ]
  },
  {
   "cell_type": "code",
   "execution_count": 40,
   "id": "5d1d85a4-ac0c-44a0-8aba-2e599b72fe1e",
   "metadata": {},
   "outputs": [
    {
     "data": {
      "image/png": "[encoded data removed]",
      "text/plain": [
       "<Figure size 1000x400 with 2 Axes>"
      ]
     },
     "metadata": {},
     "output_type": "display_data"
    }
   ],
   "source": [
    "plot_metrics(micro_scores, macro_scores, train_samples, \"Zero Shot (topk)\")"
   ]
  },
  {
   "cell_type": "markdown",
   "id": "44d1e830-bceb-4028-890b-05771a26c0ca",
   "metadata": {},
   "source": [
    "Comparing the zero-shot pipeline to the baseline, we observe 2 things:\n",
    "\n",
    "1. If we have less than 50 labeled samples, the zero-shot pipeline handily outperforms the baseline\n",
    "2. Even above 50 samples, the performance of the zero-shot pipeline is superior when considering both the macro and micro f1 scores. The results for the micro f1 tell us that the baseline performs well on the frequent classes, while the zero-shot pipeline excels at those since it does not require any examples to learn from."
   ]
  },
  {
   "cell_type": "markdown",
   "id": "1219ed92-981b-40fc-bff5-c05c1ea34510",
   "metadata": {},
   "source": [
    "If you find it difficult to get good results on your own dataset, here aare a few things you can do to improve the zero-shot pipeline:\n",
    "\n",
    "- Thw way the pipeline works makes it very sensitive to the names of the labels. Either try using different names or use several names in parallel and aggreagate them in an extra step.\n",
    "- You can improve the form of the hypothesis. Pass any other text to the pipeline."
   ]
  },
  {
   "cell_type": "markdown",
   "id": "0f614cfa-7656-4782-9d0f-63e39a2fad9d",
   "metadata": {},
   "source": [
    "# Working with a Few Labels\n",
    "\n",
    "We'll have a look at how we can best leverage the few, precious labeled examples that we have.\n",
    "\n",
    "## Data Augmentation\n",
    "\n",
    "Generate new training examples from the existing ones.\n",
    "\n",
    "- Back translation\n",
    "\n",
    "take a text in the source language, translate it into one or more target languages using machine translation,and then translate it back to the source language. Back translation tends to work best for high-resource languages or corpora that don't contain too many domain-specific words.\n",
    "  \n",
    "- Token perturbations\n",
    "\n",
    "Given a text from the training set, randomly choose and perform simple transformations like random synonym replacement, word insertion, swap, or deletion."
   ]
  },
  {
   "cell_type": "code",
   "execution_count": 41,
   "id": "201dceb2-9567-4432-8be0-24b6e27b49ef",
   "metadata": {},
   "outputs": [],
   "source": [
    "# We'll focus on synonym replacement\n",
    "# We'll use ContextualWordEmbsAug augmenter from NlpAug to leverage the contextual word embeddings of DistilBERT\n",
    "from transformers import set_seed\n",
    "import nlpaug.augmenter.word as naw\n",
    "\n",
    "set_seed(3)\n",
    "aug = naw.ContextualWordEmbsAug(model_path=\"distilbert-base-uncased\", device=\"cpu\", action=\"substitute\")"
   ]
  },
  {
   "cell_type": "code",
   "execution_count": 73,
   "id": "87fd3e03-77e7-4e8a-b964-7bf8f601d7bd",
   "metadata": {},
   "outputs": [
    {
     "name": "stdout",
     "output_type": "stream",
     "text": [
      "Original text: Transformers are the most popular toys\n",
      "Augmented text: ['transformers get the most interesting toys']\n"
     ]
    }
   ],
   "source": [
    "text = \"Transformers are the most popular toys\"\n",
    "print(f\"Original text: {text}\")\n",
    "print(f\"Augmented text: {aug.augment(text)}\")"
   ]
  },
  {
   "cell_type": "code",
   "execution_count": 42,
   "id": "9a05803b-839f-4fa4-a0dd-b3c043522691",
   "metadata": {},
   "outputs": [],
   "source": [
    "def augment_text(batch, transformations_per_example=1):\n",
    "    text_aug, label_ids = [], []\n",
    "    for text, labels in zip(batch[\"text\"], batch[\"label_ids\"]):\n",
    "        text_aug += [text]\n",
    "        label_ids += [labels]\n",
    "        for _ in range(transformations_per_example):\n",
    "            text_aug += [aug.augment(text)[0]] # HAD TO select the first element. It returned a list of strings, and must be just a string\n",
    "            label_ids += [labels]\n",
    "    return {\"text\": text_aug, \"label_ids\": label_ids}"
   ]
  },
  {
   "cell_type": "code",
   "execution_count": 43,
   "id": "37dcbca3-d2eb-4098-9dfe-204c710d8920",
   "metadata": {},
   "outputs": [
    {
     "data": {
      "application/vnd.jupyter.widget-view+json": {
       "model_id": "1ca72039a9234c01b2f44bcb8b15ff73",
       "version_major": 2,
       "version_minor": 0
      },
      "text/plain": [
       "Map:   0%|          | 0/10 [00:00<?, ? examples/s]"
      ]
     },
     "metadata": {},
     "output_type": "display_data"
    },
    {
     "data": {
      "application/vnd.jupyter.widget-view+json": {
       "model_id": "a14b8a9c5d894e57a31f74ee39ca99c5",
       "version_major": 2,
       "version_minor": 0
      },
      "text/plain": [
       "Map:   0%|          | 0/19 [00:00<?, ? examples/s]"
      ]
     },
     "metadata": {},
     "output_type": "display_data"
    },
    {
     "data": {
      "application/vnd.jupyter.widget-view+json": {
       "model_id": "f1d91a644fe34e01a1ccc4e078c99606",
       "version_major": 2,
       "version_minor": 0
      },
      "text/plain": [
       "Map:   0%|          | 0/36 [00:00<?, ? examples/s]"
      ]
     },
     "metadata": {},
     "output_type": "display_data"
    },
    {
     "data": {
      "application/vnd.jupyter.widget-view+json": {
       "model_id": "00d9902450c34fc6ab8247c267f0f47e",
       "version_major": 2,
       "version_minor": 0
      },
      "text/plain": [
       "Map:   0%|          | 0/68 [00:00<?, ? examples/s]"
      ]
     },
     "metadata": {},
     "output_type": "display_data"
    },
    {
     "data": {
      "application/vnd.jupyter.widget-view+json": {
       "model_id": "ffa4b754d0044c079aa557be723989d6",
       "version_major": 2,
       "version_minor": 0
      },
      "text/plain": [
       "Map:   0%|          | 0/134 [00:00<?, ? examples/s]"
      ]
     },
     "metadata": {},
     "output_type": "display_data"
    },
    {
     "data": {
      "application/vnd.jupyter.widget-view+json": {
       "model_id": "e3556a806c344cdb8c5226eec729e64e",
       "version_major": 2,
       "version_minor": 0
      },
      "text/plain": [
       "Map:   0%|          | 0/223 [00:00<?, ? examples/s]"
      ]
     },
     "metadata": {},
     "output_type": "display_data"
    }
   ],
   "source": [
    "# Train Naive Bayes + Augmentation\n",
    "for train_slice in train_slices:\n",
    "    # Get training slice and test data\n",
    "    ds_train_sample = ds[\"train\"].select(train_slice)\n",
    "    # Flatten augmentations and align labels!\n",
    "    ds_train_aug = (ds_train_sample.map(\n",
    "        augment_text, batched=True, remove_columns=ds_train_sample.column_names)\n",
    "                    .shuffle(seed=42))\n",
    "    y_train = np.array(ds_train_aug[\"label_ids\"])\n",
    "    y_test = np.array(ds[\"test\"][\"label_ids\"])\n",
    "    # Use a simple count vectorizer to encode our texts as token counts\n",
    "    count_vect = CountVectorizer()\n",
    "    X_train_counts = count_vect.fit_transform(ds_train_aug[\"text\"])\n",
    "    X_test_counts = count_vect.transform(ds[\"test\"][\"text\"])\n",
    "    # Create and train our model!\n",
    "    classifier = BinaryRelevance(classifier=MultinomialNB())\n",
    "    classifier.fit(X_train_counts, y_train)\n",
    "    # Generate predictions and evaluate\n",
    "    y_pred_test = classifier.predict(X_test_counts)\n",
    "    clf_report = classification_report(\n",
    "        y_test, y_pred_test, target_names=mlb.classes_, zero_division=0,\n",
    "        output_dict=True)\n",
    "    # Store metrics\n",
    "    macro_scores[\"Naive Bayes + Aug\"].append(clf_report[\"macro avg\"][\"f1-score\"])\n",
    "    micro_scores[\"Naive Bayes + Aug\"].append(clf_report[\"micro avg\"][\"f1-score\"])"
   ]
  },
  {
   "cell_type": "code",
   "execution_count": 44,
   "id": "91d7f471-fadd-44d2-aff0-70b19064df03",
   "metadata": {},
   "outputs": [
    {
     "data": {
      "image/png": "[encoded data removed]",
      "text/plain": [
       "<Figure size 1000x400 with 2 Axes>"
      ]
     },
     "metadata": {},
     "output_type": "display_data"
    }
   ],
   "source": [
    "plot_metrics(micro_scores, macro_scores, train_samples, \"Naive Bayes + Aug\")"
   ]
  },
  {
   "cell_type": "markdown",
   "id": "9601707c-1a66-4d7f-93c0-ab6256a7e452",
   "metadata": {},
   "source": [
    "## Using Embeddings as a Lookup Table\n",
    "\n",
    "LLM have been shown to be excellent at solving tasks with limited data. The reason is that these models learn useful representations of text that encode information across many dimensions (sentiment, topic, text structure, and more). For this reason, the embeddings of LLMs can be used to develop a semantic search engine, fins similar documents or comments, or even classify text.\n",
    "\n",
    "We'll create a text classifier that's modeled after the OpenAI API classification endpoint.\n",
    "\n",
    "1. Use the language model to embed all labeled texts.\n",
    "2. Perfrorm a nearest neighbor search over the stored embeddings.\n",
    "3. Aggregate the labels of the nearest neighbors to get a prediction."
   ]
  },
  {
   "cell_type": "markdown",
   "id": "ef8f3284-b094-4dd6-9b01-4030d8087e87",
   "metadata": {},
   "source": [
    "Let's write a helper function that takes a list of texts and uses the model to create a single-vector representatios for each text.\n",
    "GPT-2 will actually return one embedding vector per token. Bu what we really want is a single embedding vector fo the whole sentence.\n",
    "\n",
    "To deal with this, we can use a technique called *pooling*. One of the simplest pooling methods is to average the token embeddings (*mean pooling*). With it, the only thing we need to watch out for is that we don't include padding tokens in the average, so we can use the attention mask to handle that."
   ]
  },
  {
   "cell_type": "code",
   "execution_count": 45,
   "id": "f5185d4e-a158-4545-97fd-336439266b5d",
   "metadata": {},
   "outputs": [
    {
     "name": "stderr",
     "output_type": "stream",
     "text": [
      "/home/ssanchez/env/transformers/lib/python3.8/site-packages/torch/_utils.py:776: UserWarning: TypedStorage is deprecated. It will be removed in the future and UntypedStorage will be the only storage class. This should only matter to you if you are using storages directly.  To access UntypedStorage directly, use tensor.untyped_storage() instead of tensor.storage()\n",
      "  return self.fget.__get__(instance, owner)()\n"
     ]
    }
   ],
   "source": [
    "import torch\n",
    "from transformers import AutoTokenizer, AutoModel\n",
    "\n",
    "model_ckpt = \"miguelvictor/python-gpt2-large\"\n",
    "tokenizer = AutoTokenizer.from_pretrained(model_ckpt)\n",
    "model = AutoModel.from_pretrained(model_ckpt)\n",
    "\n",
    "def mean_pooling(model_output, attention_mask):\n",
    "    # Extract the token embeddings\n",
    "    token_embeddings = model_output[0]\n",
    "    # Compute the attention mask\n",
    "    input_mask_expanded = (attention_mask\n",
    "                          .unsqueeze(-1)\n",
    "                          .expand(token_embeddings.size())\n",
    "                          .float())\n",
    "    # sum the embedding, but ignore masked tokens\n",
    "    sum_embeddings = torch.sum(token_embeddings * input_mask_expanded, 1)\n",
    "    sum_mask = torch.clamp(input_mask_expanded.sum(1), min=1e-9)\n",
    "    # return the average as a single vector\n",
    "    return sum_embeddings / sum_mask\n",
    "\n",
    "def embed_text(examples):\n",
    "    inputs = tokenizer(examples[\"text\"], padding=True, truncation=True,\n",
    "                      max_length=128, return_tensors='pt')\n",
    "    with torch.no_grad():\n",
    "        model_output = model(**inputs)\n",
    "    pooled_embeds = mean_pooling(model_output, inputs[\"attention_mask\"])\n",
    "    return {\"embedding\": pooled_embeds.cpu().numpy()}"
   ]
  },
  {
   "cell_type": "code",
   "execution_count": 77,
   "id": "118ba947-efc4-440e-a144-cc7183263cca",
   "metadata": {},
   "outputs": [
    {
     "data": {
      "application/vnd.jupyter.widget-view+json": {
       "model_id": "df371b3f415047beac3b2fc88a2ddd95",
       "version_major": 2,
       "version_minor": 0
      },
      "text/plain": [
       "Map:   0%|          | 0/223 [00:00<?, ? examples/s]"
      ]
     },
     "metadata": {},
     "output_type": "display_data"
    },
    {
     "data": {
      "application/vnd.jupyter.widget-view+json": {
       "model_id": "4df88f6b90a14523b3ff2ac48f76d452",
       "version_major": 2,
       "version_minor": 0
      },
      "text/plain": [
       "Map:   0%|          | 0/106 [00:00<?, ? examples/s]"
      ]
     },
     "metadata": {},
     "output_type": "display_data"
    },
    {
     "data": {
      "application/vnd.jupyter.widget-view+json": {
       "model_id": "eee6e5cf91dd4fd595cd6b28c269ddde",
       "version_major": 2,
       "version_minor": 0
      },
      "text/plain": [
       "Map:   0%|          | 0/111 [00:00<?, ? examples/s]"
      ]
     },
     "metadata": {},
     "output_type": "display_data"
    }
   ],
   "source": [
    "# Get the embedings of each split\n",
    "# GPT-style models don't have a padding token. We need to add one before we can get the embeddings in a\n",
    "# batched fasion as implemented in the preceding code.\n",
    "tokenizer.pad_token = tokenizer.eos_token\n",
    "embs_train = ds[\"train\"].map(embed_text, batched=True, batch_size=16)\n",
    "embs_valid = ds[\"valid\"].map(embed_text, batched=True, batch_size=16)\n",
    "embs_test = ds[\"test\"].map(embed_text, batched=True, batch_size=16)"
   ]
  },
  {
   "cell_type": "markdown",
   "id": "87bf4367-789b-4942-874c-966594e9dc65",
   "metadata": {},
   "source": [
    "Now that we have all the embeddings, we need to set up a system to search them.\n",
    "\n",
    "Calculate the cosine similarity between a new text embedding that we'l quert and the existing embeddings in the training set.\n",
    "Alternatively we can use a built-in structure of Datasets called a *FAISS index*. You can think of it as a search engine for embeddings."
   ]
  },
  {
   "cell_type": "code",
   "execution_count": 78,
   "id": "3106a869-2cbb-42ec-b95f-28cf6b0853ff",
   "metadata": {},
   "outputs": [
    {
     "data": {
      "application/vnd.jupyter.widget-view+json": {
       "model_id": "da9082902bb34aa1be12f13de59a2a79",
       "version_major": 2,
       "version_minor": 0
      },
      "text/plain": [
       "  0%|          | 0/1 [00:00<?, ?it/s]"
      ]
     },
     "metadata": {},
     "output_type": "display_data"
    },
    {
     "data": {
      "text/plain": [
       "Dataset({\n",
       "    features: ['text', 'labels', 'label_ids', 'embedding'],\n",
       "    num_rows: 223\n",
       "})"
      ]
     },
     "execution_count": 78,
     "metadata": {},
     "output_type": "execute_result"
    }
   ],
   "source": [
    "# add out training embeddings to the datasest as follows\n",
    "embs_train.add_faiss_index(\"embedding\")"
   ]
  },
  {
   "cell_type": "code",
   "execution_count": 98,
   "id": "b2374859-d2d5-4413-a8fd-3aeeaa2c0389",
   "metadata": {},
   "outputs": [
    {
     "name": "stdout",
     "output_type": "stream",
     "text": [
      "QUERY LABELS: ['new model']\n",
      "QUERY TEXT:\n",
      "Implementing efficient self attention in T5\n",
      "\n",
      "# 🌟 New model addition\n",
      "My teammates and I (including @ice-americano) would like to use efficient self attention methods such as Linformer, Performer and [...]\n",
      "\n",
      "==================================================\n",
      "Retrieved documents:\n",
      "==================================================\n",
      "TEXT:\n",
      "Add Linformer model\n",
      "\n",
      "# 🌟 New model addition\n",
      "## Model description\n",
      "### Linformer: Self-Attention with Linear Complexity\n",
      "Paper published June 9th on ArXiv: https://arxiv.org/abs/2006.04768\n",
      "La\n",
      "SCORE: 54.92\n",
      "LABELS: ['new model']\n",
      "==================================================\n",
      "TEXT:\n",
      "Add FAVOR+ / Performer attention\n",
      "\n",
      "# 🌟 FAVOR+ / Performer attention addition\n",
      "Are there any plans to add this new attention approximation block to Transformers library?\n",
      "## Model description\n",
      "The n\n",
      "SCORE: 57.90\n",
      "LABELS: ['new model']\n",
      "==================================================\n",
      "TEXT:\n",
      "Implement DeLighT: Very Deep and Light-weight Transformers\n",
      "\n",
      "# 🌟 New model addition\n",
      "## Model description\n",
      "DeLight, that delivers similar or better performance than transformer-based models with sign\n",
      "SCORE: 60.12\n",
      "LABELS: ['new model']\n"
     ]
    }
   ],
   "source": [
    "# we can now perform a nearest neighbor lookup. get_nearest_examples() returns the closest as well as the matching score for each one.\n",
    "i, k = 0, 3 # select the first query and 3 nearest neighbors\n",
    "rn, nl = \"\\r\\n\\r\\n\", \"\\n\" # Used to remoce newlines in text for compact display\n",
    "\n",
    "queries = np.array(embs_valid[i][\"embedding\"], dtype=np.float32)\n",
    "scores, samples = embs_train.get_nearest_examples(\"embedding\", queries, k=k)\n",
    "\n",
    "print(f\"QUERY LABELS: {embs_valid[i]['labels']}\")\n",
    "print(f\"QUERY TEXT:\\n{embs_valid[i]['text'][:200].replace(rn, nl)} [...]\\n\")\n",
    "print(\"=\"*50)\n",
    "print(f\"Retrieved documents:\")\n",
    "for score, label, text in zip(scores, samples['labels'], samples['text']):\n",
    "    print(\"=\"*50)\n",
    "    print(f\"TEXT:\\n{text[:200].replace(rn, nl)}\")\n",
    "    print(f\"SCORE: {score:.2f}\")\n",
    "    print(f\"LABELS: {label}\")"
   ]
  },
  {
   "cell_type": "markdown",
   "id": "6433e8a7-a245-4cfc-9192-abbb099aaf38",
   "metadata": {},
   "source": [
    "What is the best value for *k*? Similarly, how we should then aggregate the labels of the retrieved documents?\n",
    "\n",
    "Let's investigate this systemically: we'll try several values for k and then vary the threshold m < k for label assignment with a helper function.\n",
    "\n",
    "Instead of looping over each sample in the validation set we can make use of the function get_nearest_examples_batch()"
   ]
  },
  {
   "cell_type": "code",
   "execution_count": 100,
   "id": "67d307d7-e56b-4c65-9d99-258375da9ad2",
   "metadata": {},
   "outputs": [],
   "source": [
    "def get_sample_preds(sample, m):\n",
    "    return (np.sum(sample[\"label_ids\"], axis=0) >= m).astype(int)\n",
    "\n",
    "def find_best_k_m(ds_train, valid_queries, valid_labels, max_k=17):\n",
    "    max_k = min(len(ds_train), max_k)\n",
    "    perf_micro = np.zeros((max_k, max_k))\n",
    "    perf_macro = np.zeros((max_k, max_k))\n",
    "    for k in range(1, max_k):\n",
    "        for m in range(1, k+1):\n",
    "            _, samples = ds_train.get_nearest_examples_batch(\"embedding\", valid_queries, k=k)\n",
    "            y_pred = np.array([get_sample_preds(s, m) for s in samples])\n",
    "            clf_report = classification_report(valid_labels, y_pred, target_names=mlb.classes_, zero_division=0, output_dict=True)\n",
    "            perf_micro[k, m] = clf_report['micro avg']['f1-score']\n",
    "            perf_macro[k, m] = clf_report['macro avg']['f1-score']\n",
    "    return perf_micro, perf_macro"
   ]
  },
  {
   "cell_type": "code",
   "execution_count": 101,
   "id": "6ab230ee-0d54-43c4-9a71-3b6fc47eee4e",
   "metadata": {},
   "outputs": [
    {
     "data": {
      "image/png": "[encoded data removed]",
      "text/plain": [
       "<Figure size 1000x350 with 2 Axes>"
      ]
     },
     "metadata": {},
     "output_type": "display_data"
    }
   ],
   "source": [
    "valid_labels = np.array(embs_valid[\"label_ids\"])\n",
    "valid_queries = np.array(embs_valid[\"embedding\"], dtype=np.float32)\n",
    "perf_micro, perf_macro = find_best_k_m(embs_train,\n",
    "                                       valid_queries,\n",
    "                                       valid_labels)\n",
    "\n",
    "fig, (ax0, ax1) = plt.subplots(1, 2, figsize=(10, 3.5), sharey=True)\n",
    "ax0.imshow(perf_micro)\n",
    "ax1.imshow(perf_macro)\n",
    "\n",
    "ax0.set_title(\"micro scores\")\n",
    "ax0.set_ylabel(\"k\")\n",
    "ax1.set_title(\"macro scores\")\n",
    "for ax in [ax0, ax1]:\n",
    "    ax.set_xlim([0.5, 17 - 0.5])\n",
    "    ax.set_ylim([17 - 0.5, 0.5])\n",
    "    ax.set_xlabel(\"m\")\n",
    "plt.show()"
   ]
  },
  {
   "cell_type": "code",
   "execution_count": 102,
   "id": "450be452-1f63-4e05-b103-9ef12d99a439",
   "metadata": {},
   "outputs": [
    {
     "name": "stdout",
     "output_type": "stream",
     "text": [
      "Best k: 15, best m: 5\n"
     ]
    }
   ],
   "source": [
    "k, m = np.unravel_index(perf_micro.argmax(), perf_micro.shape)\n",
    "print(f\"Best k: {k}, best m: {m}\")"
   ]
  },
  {
   "cell_type": "markdown",
   "id": "363d9d18-2007-4c62-ad54-26ca1c4302d2",
   "metadata": {},
   "source": [
    "The best performance is achieved when choosing a ration approx m/k = 1/3\n",
    "When we retrieve the 15 nearest neighbors and then assign the labels that occurred at least 5 times.\n",
    "\n",
    "Before we can slice the dataset, we need to remove the index since we cannot slice a FAISS index like the dataset."
   ]
  },
  {
   "cell_type": "code",
   "execution_count": 103,
   "id": "f1681381-3a93-47a0-a27e-fa49f7aa9daa",
   "metadata": {},
   "outputs": [
    {
     "data": {
      "application/vnd.jupyter.widget-view+json": {
       "model_id": "46159523c74848eb834518b27540efa0",
       "version_major": 2,
       "version_minor": 0
      },
      "text/plain": [
       "  0%|          | 0/1 [00:00<?, ?it/s]"
      ]
     },
     "metadata": {},
     "output_type": "display_data"
    },
    {
     "data": {
      "application/vnd.jupyter.widget-view+json": {
       "model_id": "df9592588bb64f268435d3e287ebf212",
       "version_major": 2,
       "version_minor": 0
      },
      "text/plain": [
       "  0%|          | 0/1 [00:00<?, ?it/s]"
      ]
     },
     "metadata": {},
     "output_type": "display_data"
    },
    {
     "data": {
      "application/vnd.jupyter.widget-view+json": {
       "model_id": "7daeb83a521f41aabe97f98e02645334",
       "version_major": 2,
       "version_minor": 0
      },
      "text/plain": [
       "  0%|          | 0/1 [00:00<?, ?it/s]"
      ]
     },
     "metadata": {},
     "output_type": "display_data"
    },
    {
     "data": {
      "application/vnd.jupyter.widget-view+json": {
       "model_id": "253295016fb84caab63da72d369bcd98",
       "version_major": 2,
       "version_minor": 0
      },
      "text/plain": [
       "  0%|          | 0/1 [00:00<?, ?it/s]"
      ]
     },
     "metadata": {},
     "output_type": "display_data"
    },
    {
     "data": {
      "application/vnd.jupyter.widget-view+json": {
       "model_id": "8560a628b14549c1a34aa8e372189a7b",
       "version_major": 2,
       "version_minor": 0
      },
      "text/plain": [
       "  0%|          | 0/1 [00:00<?, ?it/s]"
      ]
     },
     "metadata": {},
     "output_type": "display_data"
    },
    {
     "data": {
      "application/vnd.jupyter.widget-view+json": {
       "model_id": "f7e89f916ac347a68a16d6bcd3efb55e",
       "version_major": 2,
       "version_minor": 0
      },
      "text/plain": [
       "  0%|          | 0/1 [00:00<?, ?it/s]"
      ]
     },
     "metadata": {},
     "output_type": "display_data"
    }
   ],
   "source": [
    "# Train Naive Bayes + Embedding\n",
    "embs_train.drop_index(\"embedding\")\n",
    "test_labels = np.array(embs_test[\"label_ids\"])\n",
    "test_queries = np.array(embs_test[\"embedding\"], dtype=np.float32)\n",
    "\n",
    "for train_slice in train_slices:\n",
    "    # Get training slice and test data\n",
    "    emb_train_tmp = embs_train.select(train_slice)\n",
    "    emb_train_tmp.add_faiss_index(\"embedding\")\n",
    "    # Get best k, m values with validation set\n",
    "    perf_micro, _ = find_best_k_m(emb_train_tmp, valid_queries, valid_labels)\n",
    "    k, m = np.unravel_index(perf_micro.argmax(), perf_micro.shape)\n",
    "    # Get predictions on test set\n",
    "    scores, samples = emb_train_tmp.get_nearest_examples_batch(\"embedding\",\n",
    "                                                              test_queries,\n",
    "                                                              k=int(k))\n",
    "    y_pred = np.array([get_sample_preds(s, m) for s in samples])\n",
    "    # Evaluate predictions\n",
    "    clf_report = classification_report(test_labels, y_pred, target_names=mlb.classes_, zero_division=0, output_dict=True)\n",
    "    \n",
    "    # Store metrics\n",
    "    macro_scores[\"Embedding\"].append(clf_report[\"macro avg\"][\"f1-score\"])\n",
    "    micro_scores[\"Embedding\"].append(clf_report[\"micro avg\"][\"f1-score\"])"
   ]
  },
  {
   "cell_type": "code",
   "execution_count": 104,
   "id": "d55f9b49-b920-4dcd-bccb-953ee594eb38",
   "metadata": {},
   "outputs": [
    {
     "data": {
      "image/png": "[encoded data removed]",
      "text/plain": [
       "<Figure size 1000x400 with 2 Axes>"
      ]
     },
     "metadata": {},
     "output_type": "display_data"
    }
   ],
   "source": [
    "plot_metrics(micro_scores, macro_scores, train_samples, \"Embedding\")"
   ]
  },
  {
   "cell_type": "markdown",
   "id": "52732b4a-9b22-4040-9711-049b30db39d6",
   "metadata": {},
   "source": [
    "Which method works best strongly depends on the domain.\n",
    "The zero-shot pipeline's training data is quite different from the GitHub issues dataset we're using it on.\n",
    "For a more common task such as sentiment analysis of reviews, the pipeline might work much better.\n",
    "Similarly, the embeddings' quality depends on the model and the data it was trained on.\n",
    "\n",
    "*Since you don't actually need to change anything in your code besided replacing the model checkopoint name to test another model, you can quickly try out a few models once you have the evaluation pipeline set up.*"
   ]
  },
  {
   "cell_type": "markdown",
   "id": "fe410362-8dcb-44af-aae7-03bcc833f373",
   "metadata": {},
   "source": [
    "## Fine-Tuning a Vanilla Transformer\n",
    "\n",
    "If we have access to labeled data, we can simply fine-tune a pretrained transformer."
   ]
  },
  {
   "cell_type": "code",
   "execution_count": 46,
   "id": "c4491ebe-aa7d-498a-977e-728d2892ca96",
   "metadata": {},
   "outputs": [
    {
     "data": {
      "application/vnd.jupyter.widget-view+json": {
       "model_id": "aa0940c21701444caf84d634fc8a8556",
       "version_major": 2,
       "version_minor": 0
      },
      "text/plain": [
       "Map:   0%|          | 0/223 [00:00<?, ? examples/s]"
      ]
     },
     "metadata": {},
     "output_type": "display_data"
    },
    {
     "data": {
      "application/vnd.jupyter.widget-view+json": {
       "model_id": "c01d2f38a1c143a89cc235445bfc707c",
       "version_major": 2,
       "version_minor": 0
      },
      "text/plain": [
       "Map:   0%|          | 0/106 [00:00<?, ? examples/s]"
      ]
     },
     "metadata": {},
     "output_type": "display_data"
    },
    {
     "data": {
      "application/vnd.jupyter.widget-view+json": {
       "model_id": "e2e8f81c02464dcba7b52699e95a9063",
       "version_major": 2,
       "version_minor": 0
      },
      "text/plain": [
       "Map:   0%|          | 0/111 [00:00<?, ? examples/s]"
      ]
     },
     "metadata": {},
     "output_type": "display_data"
    },
    {
     "data": {
      "application/vnd.jupyter.widget-view+json": {
       "model_id": "b337030dac5648c8aa3b5c5fe810d572",
       "version_major": 2,
       "version_minor": 0
      },
      "text/plain": [
       "Map:   0%|          | 0/9303 [00:00<?, ? examples/s]"
      ]
     },
     "metadata": {},
     "output_type": "display_data"
    }
   ],
   "source": [
    "import torch\n",
    "from transformers import (AutoTokenizer, AutoConfig, AutoModelForSequenceClassification)\n",
    "\n",
    "model_ckpt = \"bert-base-uncased\"\n",
    "tokenizer = AutoTokenizer.from_pretrained(model_ckpt)\n",
    "\n",
    "def tokenize(batch):\n",
    "    return tokenizer(batch[\"text\"], truncation=True, max_length=128)\n",
    "\n",
    "ds_enc = ds.map(tokenize, batched=True)\n",
    "ds_enc = ds_enc.remove_columns([\"labels\", \"text\"])"
   ]
  },
  {
   "cell_type": "markdown",
   "id": "0a3ac8fa-7509-49de-864a-8d50e096d6f1",
   "metadata": {},
   "source": [
    "The multilabel loss function expects the labels to be of type float, since it also allows for class probabilities instead of discrete labels. Therefore, we need to change the type of the column *label_ids*.\n",
    "\n",
    "Since changing the format of the column element-wise does not play well with Arrow's typed format, we'll do a little workaround.\n",
    "Create a new column with the labels (format of the column is inferred from the first element); delete the original column and rename the new one."
   ]
  },
  {
   "cell_type": "code",
   "execution_count": 48,
   "id": "56be1437-0fd4-40eb-8428-4112251150bd",
   "metadata": {},
   "outputs": [
    {
     "data": {
      "application/vnd.jupyter.widget-view+json": {
       "model_id": "2190268f243e4622ac19ea9ded08f6cd",
       "version_major": 2,
       "version_minor": 0
      },
      "text/plain": [
       "Map:   0%|          | 0/223 [00:00<?, ? examples/s]"
      ]
     },
     "metadata": {},
     "output_type": "display_data"
    },
    {
     "data": {
      "application/vnd.jupyter.widget-view+json": {
       "model_id": "b2661381ba4e4f40addcd60ee996e6bb",
       "version_major": 2,
       "version_minor": 0
      },
      "text/plain": [
       "Map:   0%|          | 0/106 [00:00<?, ? examples/s]"
      ]
     },
     "metadata": {},
     "output_type": "display_data"
    },
    {
     "data": {
      "application/vnd.jupyter.widget-view+json": {
       "model_id": "2b0445d965a442f6882737890638416e",
       "version_major": 2,
       "version_minor": 0
      },
      "text/plain": [
       "Map:   0%|          | 0/111 [00:00<?, ? examples/s]"
      ]
     },
     "metadata": {},
     "output_type": "display_data"
    },
    {
     "data": {
      "application/vnd.jupyter.widget-view+json": {
       "model_id": "ff07a380586b473f8d190fbcbfb31179",
       "version_major": 2,
       "version_minor": 0
      },
      "text/plain": [
       "Map:   0%|          | 0/9303 [00:00<?, ? examples/s]"
      ]
     },
     "metadata": {},
     "output_type": "display_data"
    }
   ],
   "source": [
    "ds_enc.set_format(\"torch\")\n",
    "ds_enc = ds_enc.map(lambda x: {\"label_ids_f\": x[\"label_ids\"].to(torch.float)}, remove_columns=[\"label_ids\"])\n",
    "ds_enc = ds_enc.rename_column(\"label_ids_f\", \"label_ids\")"
   ]
  },
  {
   "cell_type": "code",
   "execution_count": 50,
   "id": "dd95783d-c137-4672-ae89-8c09dfc4c165",
   "metadata": {},
   "outputs": [
    {
     "name": "stderr",
     "output_type": "stream",
     "text": [
      "/home/ssanchez/env/transformers/lib/python3.8/site-packages/transformers/training_args.py:1568: FutureWarning: `evaluation_strategy` is deprecated and will be removed in version 4.46 of 🤗 Transformers. Use `eval_strategy` instead\n",
      "  warnings.warn(\n"
     ]
    }
   ],
   "source": [
    "# since we are likely to overfit the training data due to its limted size, we set load_best_model_at_end\n",
    "# and choose the best model based on the micro f1-score\n",
    "from transformers import Trainer, TrainingArguments\n",
    "\n",
    "training_args_fine_tune = TrainingArguments(\n",
    "    output_dir=\"./results\", num_train_epochs=20, learning_rate=3e-5,\n",
    "    lr_scheduler_type='constant', per_device_train_batch_size=4,\n",
    "    per_device_eval_batch_size=32, weight_decay=0.0,\n",
    "    evaluation_strategy=\"epoch\", save_strategy=\"epoch\", logging_strategy=\"epoch\",\n",
    "    load_best_model_at_end=True, metric_for_best_model=\"micro f1\",\n",
    "    save_total_limit=1, log_level='error'\n",
    ")"
   ]
  },
  {
   "cell_type": "markdown",
   "id": "65aea404-b51c-4ec9-b974-917536559c42",
   "metadata": {},
   "source": [
    "We need no make sure f1-score is calculated during the evaluation.\n",
    "Because the model returns the logits, we first need to normalize the predictions with a sigmoid function and can then binarize them with a simple threshold. Then, we return the scores we are interested in from the classification report"
   ]
  },
  {
   "cell_type": "code",
   "execution_count": 57,
   "id": "08c392a4-b872-4fa3-b6ca-7b6c0608c61b",
   "metadata": {},
   "outputs": [],
   "source": [
    "from scipy.special import expit as sigmoid\n",
    "\n",
    "def compute_metrics(pred):\n",
    "    y_true = pred.label_ids\n",
    "    y_pred = sigmoid(pred.predictions)\n",
    "    y_pred = (y_pred>0.5).astype(float)\n",
    "\n",
    "    clf_dict = classification_report(y_true, y_pred, target_names=all_labels,\n",
    "                                    zero_division=0, output_dict=True)\n",
    "    return {\"micro f1\": clf_dict[\"micro avg\"][\"f1-score\"],\n",
    "           \"macro f1\": clf_dict[\"macro avg\"][\"f1-score\"]}"
   ]
  },
  {
   "cell_type": "markdown",
   "id": "056c2a27-6831-4689-92ea-70cdae2ddc59",
   "metadata": {},
   "source": [
    "For each training set slice we train a classifier from scratch, load the best model at the end of training loop and store the results on the test set"
   ]
  },
  {
   "cell_type": "code",
   "execution_count": 58,
   "id": "0a580f44-8ec0-4038-b42f-4b3694c028d2",
   "metadata": {},
   "outputs": [
    {
     "name": "stderr",
     "output_type": "stream",
     "text": [
      "Some weights of BertForSequenceClassification were not initialized from the model checkpoint at bert-base-uncased and are newly initialized: ['classifier.bias', 'classifier.weight']\n",
      "You should probably TRAIN this model on a down-stream task to be able to use it for predictions and inference.\n",
      "/tmp/ipykernel_1764707/1916074987.py:8: FutureWarning: `tokenizer` is deprecated and will be removed in version 5.0.0 for `Trainer.__init__`. Use `processing_class` instead.\n",
      "  trainer = Trainer(\n",
      "Detected kernel version 5.4.0, which is below the recommended minimum of 5.5.0; this can cause the process to hang. It is recommended to upgrade the kernel to the minimum version or higher.\n"
     ]
    },
    {
     "data": {
      "text/html": [
       "\n",
       "    <div>\n",
       "      \n",
       "      <progress value='60' max='60' style='width:300px; height:20px; vertical-align: middle;'></progress>\n",
       "      [60/60 00:32, Epoch 20/20]\n",
       "    </div>\n",
       "    <table border=\"1\" class=\"dataframe\">\n",
       "  <thead>\n",
       " <tr style=\"text-align: left;\">\n",
       "      <th>Epoch</th>\n",
       "      <th>Training Loss</th>\n",
       "      <th>Validation Loss</th>\n",
       "      <th>Micro f1</th>\n",
       "      <th>Macro f1</th>\n",
       "    </tr>\n",
       "  </thead>\n",
       "  <tbody>\n",
       "    <tr>\n",
       "      <td>1</td>\n",
       "      <td>0.724200</td>\n",
       "      <td>0.633386</td>\n",
       "      <td>0.275862</td>\n",
       "      <td>0.143175</td>\n",
       "    </tr>\n",
       "    <tr>\n",
       "      <td>2</td>\n",
       "      <td>0.616600</td>\n",
       "      <td>0.596099</td>\n",
       "      <td>0.102804</td>\n",
       "      <td>0.053854</td>\n",
       "    </tr>\n",
       "    <tr>\n",
       "      <td>3</td>\n",
       "      <td>0.556600</td>\n",
       "      <td>0.543802</td>\n",
       "      <td>0.000000</td>\n",
       "      <td>0.000000</td>\n",
       "    </tr>\n",
       "    <tr>\n",
       "      <td>4</td>\n",
       "      <td>0.522900</td>\n",
       "      <td>0.505249</td>\n",
       "      <td>0.000000</td>\n",
       "      <td>0.000000</td>\n",
       "    </tr>\n",
       "    <tr>\n",
       "      <td>5</td>\n",
       "      <td>0.482000</td>\n",
       "      <td>0.490917</td>\n",
       "      <td>0.016129</td>\n",
       "      <td>0.018519</td>\n",
       "    </tr>\n",
       "    <tr>\n",
       "      <td>6</td>\n",
       "      <td>0.455700</td>\n",
       "      <td>0.471273</td>\n",
       "      <td>0.000000</td>\n",
       "      <td>0.000000</td>\n",
       "    </tr>\n",
       "    <tr>\n",
       "      <td>7</td>\n",
       "      <td>0.420900</td>\n",
       "      <td>0.428232</td>\n",
       "      <td>0.000000</td>\n",
       "      <td>0.000000</td>\n",
       "    </tr>\n",
       "    <tr>\n",
       "      <td>8</td>\n",
       "      <td>0.403700</td>\n",
       "      <td>0.415596</td>\n",
       "      <td>0.000000</td>\n",
       "      <td>0.000000</td>\n",
       "    </tr>\n",
       "    <tr>\n",
       "      <td>9</td>\n",
       "      <td>0.372700</td>\n",
       "      <td>0.410958</td>\n",
       "      <td>0.000000</td>\n",
       "      <td>0.000000</td>\n",
       "    </tr>\n",
       "    <tr>\n",
       "      <td>10</td>\n",
       "      <td>0.374500</td>\n",
       "      <td>0.410699</td>\n",
       "      <td>0.000000</td>\n",
       "      <td>0.000000</td>\n",
       "    </tr>\n",
       "    <tr>\n",
       "      <td>11</td>\n",
       "      <td>0.351300</td>\n",
       "      <td>0.383010</td>\n",
       "      <td>0.000000</td>\n",
       "      <td>0.000000</td>\n",
       "    </tr>\n",
       "    <tr>\n",
       "      <td>12</td>\n",
       "      <td>0.337700</td>\n",
       "      <td>0.382952</td>\n",
       "      <td>0.000000</td>\n",
       "      <td>0.000000</td>\n",
       "    </tr>\n",
       "    <tr>\n",
       "      <td>13</td>\n",
       "      <td>0.319800</td>\n",
       "      <td>0.373947</td>\n",
       "      <td>0.000000</td>\n",
       "      <td>0.000000</td>\n",
       "    </tr>\n",
       "    <tr>\n",
       "      <td>14</td>\n",
       "      <td>0.306300</td>\n",
       "      <td>0.369420</td>\n",
       "      <td>0.000000</td>\n",
       "      <td>0.000000</td>\n",
       "    </tr>\n",
       "    <tr>\n",
       "      <td>15</td>\n",
       "      <td>0.303900</td>\n",
       "      <td>0.365621</td>\n",
       "      <td>0.000000</td>\n",
       "      <td>0.000000</td>\n",
       "    </tr>\n",
       "    <tr>\n",
       "      <td>16</td>\n",
       "      <td>0.285500</td>\n",
       "      <td>0.363756</td>\n",
       "      <td>0.000000</td>\n",
       "      <td>0.000000</td>\n",
       "    </tr>\n",
       "    <tr>\n",
       "      <td>17</td>\n",
       "      <td>0.279200</td>\n",
       "      <td>0.360987</td>\n",
       "      <td>0.000000</td>\n",
       "      <td>0.000000</td>\n",
       "    </tr>\n",
       "    <tr>\n",
       "      <td>18</td>\n",
       "      <td>0.278100</td>\n",
       "      <td>0.359490</td>\n",
       "      <td>0.000000</td>\n",
       "      <td>0.000000</td>\n",
       "    </tr>\n",
       "    <tr>\n",
       "      <td>19</td>\n",
       "      <td>0.273800</td>\n",
       "      <td>0.359707</td>\n",
       "      <td>0.016529</td>\n",
       "      <td>0.022222</td>\n",
       "    </tr>\n",
       "    <tr>\n",
       "      <td>20</td>\n",
       "      <td>0.260000</td>\n",
       "      <td>0.356379</td>\n",
       "      <td>0.000000</td>\n",
       "      <td>0.000000</td>\n",
       "    </tr>\n",
       "  </tbody>\n",
       "</table><p>"
      ],
      "text/plain": [
       "<IPython.core.display.HTML object>"
      ]
     },
     "metadata": {},
     "output_type": "display_data"
    },
    {
     "data": {
      "text/html": [],
      "text/plain": [
       "<IPython.core.display.HTML object>"
      ]
     },
     "metadata": {},
     "output_type": "display_data"
    },
    {
     "name": "stderr",
     "output_type": "stream",
     "text": [
      "Some weights of BertForSequenceClassification were not initialized from the model checkpoint at bert-base-uncased and are newly initialized: ['classifier.bias', 'classifier.weight']\n",
      "You should probably TRAIN this model on a down-stream task to be able to use it for predictions and inference.\n",
      "/tmp/ipykernel_1764707/1916074987.py:8: FutureWarning: `tokenizer` is deprecated and will be removed in version 5.0.0 for `Trainer.__init__`. Use `processing_class` instead.\n",
      "  trainer = Trainer(\n",
      "Detected kernel version 5.4.0, which is below the recommended minimum of 5.5.0; this can cause the process to hang. It is recommended to upgrade the kernel to the minimum version or higher.\n"
     ]
    },
    {
     "data": {
      "text/html": [
       "\n",
       "    <div>\n",
       "      \n",
       "      <progress value='100' max='100' style='width:300px; height:20px; vertical-align: middle;'></progress>\n",
       "      [100/100 00:35, Epoch 20/20]\n",
       "    </div>\n",
       "    <table border=\"1\" class=\"dataframe\">\n",
       "  <thead>\n",
       " <tr style=\"text-align: left;\">\n",
       "      <th>Epoch</th>\n",
       "      <th>Training Loss</th>\n",
       "      <th>Validation Loss</th>\n",
       "      <th>Micro f1</th>\n",
       "      <th>Macro f1</th>\n",
       "    </tr>\n",
       "  </thead>\n",
       "  <tbody>\n",
       "    <tr>\n",
       "      <td>1</td>\n",
       "      <td>0.643200</td>\n",
       "      <td>0.592078</td>\n",
       "      <td>0.211538</td>\n",
       "      <td>0.049383</td>\n",
       "    </tr>\n",
       "    <tr>\n",
       "      <td>2</td>\n",
       "      <td>0.556200</td>\n",
       "      <td>0.515623</td>\n",
       "      <td>0.015748</td>\n",
       "      <td>0.007937</td>\n",
       "    </tr>\n",
       "    <tr>\n",
       "      <td>3</td>\n",
       "      <td>0.497000</td>\n",
       "      <td>0.464966</td>\n",
       "      <td>0.016260</td>\n",
       "      <td>0.007937</td>\n",
       "    </tr>\n",
       "    <tr>\n",
       "      <td>4</td>\n",
       "      <td>0.425700</td>\n",
       "      <td>0.417252</td>\n",
       "      <td>0.000000</td>\n",
       "      <td>0.000000</td>\n",
       "    </tr>\n",
       "    <tr>\n",
       "      <td>5</td>\n",
       "      <td>0.394400</td>\n",
       "      <td>0.397006</td>\n",
       "      <td>0.000000</td>\n",
       "      <td>0.000000</td>\n",
       "    </tr>\n",
       "    <tr>\n",
       "      <td>6</td>\n",
       "      <td>0.359000</td>\n",
       "      <td>0.379161</td>\n",
       "      <td>0.000000</td>\n",
       "      <td>0.000000</td>\n",
       "    </tr>\n",
       "    <tr>\n",
       "      <td>7</td>\n",
       "      <td>0.350300</td>\n",
       "      <td>0.380948</td>\n",
       "      <td>0.000000</td>\n",
       "      <td>0.000000</td>\n",
       "    </tr>\n",
       "    <tr>\n",
       "      <td>8</td>\n",
       "      <td>0.331600</td>\n",
       "      <td>0.367223</td>\n",
       "      <td>0.000000</td>\n",
       "      <td>0.000000</td>\n",
       "    </tr>\n",
       "    <tr>\n",
       "      <td>9</td>\n",
       "      <td>0.322600</td>\n",
       "      <td>0.364121</td>\n",
       "      <td>0.000000</td>\n",
       "      <td>0.000000</td>\n",
       "    </tr>\n",
       "    <tr>\n",
       "      <td>10</td>\n",
       "      <td>0.308200</td>\n",
       "      <td>0.354927</td>\n",
       "      <td>0.000000</td>\n",
       "      <td>0.000000</td>\n",
       "    </tr>\n",
       "    <tr>\n",
       "      <td>11</td>\n",
       "      <td>0.290600</td>\n",
       "      <td>0.355734</td>\n",
       "      <td>0.000000</td>\n",
       "      <td>0.000000</td>\n",
       "    </tr>\n",
       "    <tr>\n",
       "      <td>12</td>\n",
       "      <td>0.279100</td>\n",
       "      <td>0.350469</td>\n",
       "      <td>0.000000</td>\n",
       "      <td>0.000000</td>\n",
       "    </tr>\n",
       "    <tr>\n",
       "      <td>13</td>\n",
       "      <td>0.269100</td>\n",
       "      <td>0.348294</td>\n",
       "      <td>0.032000</td>\n",
       "      <td>0.015326</td>\n",
       "    </tr>\n",
       "    <tr>\n",
       "      <td>14</td>\n",
       "      <td>0.259100</td>\n",
       "      <td>0.348222</td>\n",
       "      <td>0.000000</td>\n",
       "      <td>0.000000</td>\n",
       "    </tr>\n",
       "    <tr>\n",
       "      <td>15</td>\n",
       "      <td>0.246600</td>\n",
       "      <td>0.340384</td>\n",
       "      <td>0.047619</td>\n",
       "      <td>0.037548</td>\n",
       "    </tr>\n",
       "    <tr>\n",
       "      <td>16</td>\n",
       "      <td>0.237300</td>\n",
       "      <td>0.338341</td>\n",
       "      <td>0.076336</td>\n",
       "      <td>0.035528</td>\n",
       "    </tr>\n",
       "    <tr>\n",
       "      <td>17</td>\n",
       "      <td>0.229100</td>\n",
       "      <td>0.342525</td>\n",
       "      <td>0.077519</td>\n",
       "      <td>0.034722</td>\n",
       "    </tr>\n",
       "    <tr>\n",
       "      <td>18</td>\n",
       "      <td>0.216700</td>\n",
       "      <td>0.343118</td>\n",
       "      <td>0.093750</td>\n",
       "      <td>0.056944</td>\n",
       "    </tr>\n",
       "    <tr>\n",
       "      <td>19</td>\n",
       "      <td>0.202800</td>\n",
       "      <td>0.333338</td>\n",
       "      <td>0.121212</td>\n",
       "      <td>0.072401</td>\n",
       "    </tr>\n",
       "    <tr>\n",
       "      <td>20</td>\n",
       "      <td>0.193200</td>\n",
       "      <td>0.338956</td>\n",
       "      <td>0.106870</td>\n",
       "      <td>0.044444</td>\n",
       "    </tr>\n",
       "  </tbody>\n",
       "</table><p>"
      ],
      "text/plain": [
       "<IPython.core.display.HTML object>"
      ]
     },
     "metadata": {},
     "output_type": "display_data"
    },
    {
     "data": {
      "text/html": [],
      "text/plain": [
       "<IPython.core.display.HTML object>"
      ]
     },
     "metadata": {},
     "output_type": "display_data"
    },
    {
     "name": "stderr",
     "output_type": "stream",
     "text": [
      "Some weights of BertForSequenceClassification were not initialized from the model checkpoint at bert-base-uncased and are newly initialized: ['classifier.bias', 'classifier.weight']\n",
      "You should probably TRAIN this model on a down-stream task to be able to use it for predictions and inference.\n",
      "/tmp/ipykernel_1764707/1916074987.py:8: FutureWarning: `tokenizer` is deprecated and will be removed in version 5.0.0 for `Trainer.__init__`. Use `processing_class` instead.\n",
      "  trainer = Trainer(\n",
      "Detected kernel version 5.4.0, which is below the recommended minimum of 5.5.0; this can cause the process to hang. It is recommended to upgrade the kernel to the minimum version or higher.\n"
     ]
    },
    {
     "data": {
      "text/html": [
       "\n",
       "    <div>\n",
       "      \n",
       "      <progress value='180' max='180' style='width:300px; height:20px; vertical-align: middle;'></progress>\n",
       "      [180/180 00:38, Epoch 20/20]\n",
       "    </div>\n",
       "    <table border=\"1\" class=\"dataframe\">\n",
       "  <thead>\n",
       " <tr style=\"text-align: left;\">\n",
       "      <th>Epoch</th>\n",
       "      <th>Training Loss</th>\n",
       "      <th>Validation Loss</th>\n",
       "      <th>Micro f1</th>\n",
       "      <th>Macro f1</th>\n",
       "    </tr>\n",
       "  </thead>\n",
       "  <tbody>\n",
       "    <tr>\n",
       "      <td>1</td>\n",
       "      <td>0.602300</td>\n",
       "      <td>0.563197</td>\n",
       "      <td>0.168539</td>\n",
       "      <td>0.065107</td>\n",
       "    </tr>\n",
       "    <tr>\n",
       "      <td>2</td>\n",
       "      <td>0.483300</td>\n",
       "      <td>0.443394</td>\n",
       "      <td>0.000000</td>\n",
       "      <td>0.000000</td>\n",
       "    </tr>\n",
       "    <tr>\n",
       "      <td>3</td>\n",
       "      <td>0.417700</td>\n",
       "      <td>0.409665</td>\n",
       "      <td>0.000000</td>\n",
       "      <td>0.000000</td>\n",
       "    </tr>\n",
       "    <tr>\n",
       "      <td>4</td>\n",
       "      <td>0.372100</td>\n",
       "      <td>0.373071</td>\n",
       "      <td>0.000000</td>\n",
       "      <td>0.000000</td>\n",
       "    </tr>\n",
       "    <tr>\n",
       "      <td>5</td>\n",
       "      <td>0.343500</td>\n",
       "      <td>0.362107</td>\n",
       "      <td>0.000000</td>\n",
       "      <td>0.000000</td>\n",
       "    </tr>\n",
       "    <tr>\n",
       "      <td>6</td>\n",
       "      <td>0.325800</td>\n",
       "      <td>0.358497</td>\n",
       "      <td>0.000000</td>\n",
       "      <td>0.000000</td>\n",
       "    </tr>\n",
       "    <tr>\n",
       "      <td>7</td>\n",
       "      <td>0.308200</td>\n",
       "      <td>0.348722</td>\n",
       "      <td>0.000000</td>\n",
       "      <td>0.000000</td>\n",
       "    </tr>\n",
       "    <tr>\n",
       "      <td>8</td>\n",
       "      <td>0.293600</td>\n",
       "      <td>0.343987</td>\n",
       "      <td>0.000000</td>\n",
       "      <td>0.000000</td>\n",
       "    </tr>\n",
       "    <tr>\n",
       "      <td>9</td>\n",
       "      <td>0.271400</td>\n",
       "      <td>0.338817</td>\n",
       "      <td>0.094488</td>\n",
       "      <td>0.044974</td>\n",
       "    </tr>\n",
       "    <tr>\n",
       "      <td>10</td>\n",
       "      <td>0.261800</td>\n",
       "      <td>0.337855</td>\n",
       "      <td>0.110236</td>\n",
       "      <td>0.045752</td>\n",
       "    </tr>\n",
       "    <tr>\n",
       "      <td>11</td>\n",
       "      <td>0.245900</td>\n",
       "      <td>0.328699</td>\n",
       "      <td>0.312925</td>\n",
       "      <td>0.126560</td>\n",
       "    </tr>\n",
       "    <tr>\n",
       "      <td>12</td>\n",
       "      <td>0.229600</td>\n",
       "      <td>0.328931</td>\n",
       "      <td>0.139535</td>\n",
       "      <td>0.062846</td>\n",
       "    </tr>\n",
       "    <tr>\n",
       "      <td>13</td>\n",
       "      <td>0.212900</td>\n",
       "      <td>0.325720</td>\n",
       "      <td>0.267606</td>\n",
       "      <td>0.114128</td>\n",
       "    </tr>\n",
       "    <tr>\n",
       "      <td>14</td>\n",
       "      <td>0.199100</td>\n",
       "      <td>0.326517</td>\n",
       "      <td>0.215827</td>\n",
       "      <td>0.086707</td>\n",
       "    </tr>\n",
       "    <tr>\n",
       "      <td>15</td>\n",
       "      <td>0.181800</td>\n",
       "      <td>0.314882</td>\n",
       "      <td>0.317881</td>\n",
       "      <td>0.148199</td>\n",
       "    </tr>\n",
       "    <tr>\n",
       "      <td>16</td>\n",
       "      <td>0.168800</td>\n",
       "      <td>0.316815</td>\n",
       "      <td>0.242857</td>\n",
       "      <td>0.104122</td>\n",
       "    </tr>\n",
       "    <tr>\n",
       "      <td>17</td>\n",
       "      <td>0.158200</td>\n",
       "      <td>0.316827</td>\n",
       "      <td>0.311688</td>\n",
       "      <td>0.160455</td>\n",
       "    </tr>\n",
       "    <tr>\n",
       "      <td>18</td>\n",
       "      <td>0.150400</td>\n",
       "      <td>0.320698</td>\n",
       "      <td>0.265734</td>\n",
       "      <td>0.129976</td>\n",
       "    </tr>\n",
       "    <tr>\n",
       "      <td>19</td>\n",
       "      <td>0.139200</td>\n",
       "      <td>0.312355</td>\n",
       "      <td>0.358974</td>\n",
       "      <td>0.179990</td>\n",
       "    </tr>\n",
       "    <tr>\n",
       "      <td>20</td>\n",
       "      <td>0.128100</td>\n",
       "      <td>0.316924</td>\n",
       "      <td>0.251748</td>\n",
       "      <td>0.139636</td>\n",
       "    </tr>\n",
       "  </tbody>\n",
       "</table><p>"
      ],
      "text/plain": [
       "<IPython.core.display.HTML object>"
      ]
     },
     "metadata": {},
     "output_type": "display_data"
    },
    {
     "data": {
      "text/html": [],
      "text/plain": [
       "<IPython.core.display.HTML object>"
      ]
     },
     "metadata": {},
     "output_type": "display_data"
    },
    {
     "name": "stderr",
     "output_type": "stream",
     "text": [
      "Some weights of BertForSequenceClassification were not initialized from the model checkpoint at bert-base-uncased and are newly initialized: ['classifier.bias', 'classifier.weight']\n",
      "You should probably TRAIN this model on a down-stream task to be able to use it for predictions and inference.\n",
      "/tmp/ipykernel_1764707/1916074987.py:8: FutureWarning: `tokenizer` is deprecated and will be removed in version 5.0.0 for `Trainer.__init__`. Use `processing_class` instead.\n",
      "  trainer = Trainer(\n",
      "Detected kernel version 5.4.0, which is below the recommended minimum of 5.5.0; this can cause the process to hang. It is recommended to upgrade the kernel to the minimum version or higher.\n"
     ]
    },
    {
     "data": {
      "text/html": [
       "\n",
       "    <div>\n",
       "      \n",
       "      <progress value='340' max='340' style='width:300px; height:20px; vertical-align: middle;'></progress>\n",
       "      [340/340 00:44, Epoch 20/20]\n",
       "    </div>\n",
       "    <table border=\"1\" class=\"dataframe\">\n",
       "  <thead>\n",
       " <tr style=\"text-align: left;\">\n",
       "      <th>Epoch</th>\n",
       "      <th>Training Loss</th>\n",
       "      <th>Validation Loss</th>\n",
       "      <th>Micro f1</th>\n",
       "      <th>Macro f1</th>\n",
       "    </tr>\n",
       "  </thead>\n",
       "  <tbody>\n",
       "    <tr>\n",
       "      <td>1</td>\n",
       "      <td>0.548200</td>\n",
       "      <td>0.470537</td>\n",
       "      <td>0.061069</td>\n",
       "      <td>0.025397</td>\n",
       "    </tr>\n",
       "    <tr>\n",
       "      <td>2</td>\n",
       "      <td>0.409300</td>\n",
       "      <td>0.374932</td>\n",
       "      <td>0.000000</td>\n",
       "      <td>0.000000</td>\n",
       "    </tr>\n",
       "    <tr>\n",
       "      <td>3</td>\n",
       "      <td>0.352100</td>\n",
       "      <td>0.355929</td>\n",
       "      <td>0.000000</td>\n",
       "      <td>0.000000</td>\n",
       "    </tr>\n",
       "    <tr>\n",
       "      <td>4</td>\n",
       "      <td>0.331500</td>\n",
       "      <td>0.339937</td>\n",
       "      <td>0.064516</td>\n",
       "      <td>0.031746</td>\n",
       "    </tr>\n",
       "    <tr>\n",
       "      <td>5</td>\n",
       "      <td>0.309000</td>\n",
       "      <td>0.339184</td>\n",
       "      <td>0.064516</td>\n",
       "      <td>0.028674</td>\n",
       "    </tr>\n",
       "    <tr>\n",
       "      <td>6</td>\n",
       "      <td>0.286000</td>\n",
       "      <td>0.320034</td>\n",
       "      <td>0.319444</td>\n",
       "      <td>0.136400</td>\n",
       "    </tr>\n",
       "    <tr>\n",
       "      <td>7</td>\n",
       "      <td>0.273300</td>\n",
       "      <td>0.307452</td>\n",
       "      <td>0.267606</td>\n",
       "      <td>0.108039</td>\n",
       "    </tr>\n",
       "    <tr>\n",
       "      <td>8</td>\n",
       "      <td>0.254300</td>\n",
       "      <td>0.302307</td>\n",
       "      <td>0.397436</td>\n",
       "      <td>0.158445</td>\n",
       "    </tr>\n",
       "    <tr>\n",
       "      <td>9</td>\n",
       "      <td>0.227700</td>\n",
       "      <td>0.292162</td>\n",
       "      <td>0.392157</td>\n",
       "      <td>0.158064</td>\n",
       "    </tr>\n",
       "    <tr>\n",
       "      <td>10</td>\n",
       "      <td>0.200800</td>\n",
       "      <td>0.283958</td>\n",
       "      <td>0.376623</td>\n",
       "      <td>0.151470</td>\n",
       "    </tr>\n",
       "    <tr>\n",
       "      <td>11</td>\n",
       "      <td>0.181700</td>\n",
       "      <td>0.273677</td>\n",
       "      <td>0.432099</td>\n",
       "      <td>0.185909</td>\n",
       "    </tr>\n",
       "    <tr>\n",
       "      <td>12</td>\n",
       "      <td>0.163300</td>\n",
       "      <td>0.264114</td>\n",
       "      <td>0.481481</td>\n",
       "      <td>0.255041</td>\n",
       "    </tr>\n",
       "    <tr>\n",
       "      <td>13</td>\n",
       "      <td>0.142200</td>\n",
       "      <td>0.273574</td>\n",
       "      <td>0.482353</td>\n",
       "      <td>0.287951</td>\n",
       "    </tr>\n",
       "    <tr>\n",
       "      <td>14</td>\n",
       "      <td>0.125000</td>\n",
       "      <td>0.276628</td>\n",
       "      <td>0.477273</td>\n",
       "      <td>0.325198</td>\n",
       "    </tr>\n",
       "    <tr>\n",
       "      <td>15</td>\n",
       "      <td>0.111300</td>\n",
       "      <td>0.267602</td>\n",
       "      <td>0.497110</td>\n",
       "      <td>0.304520</td>\n",
       "    </tr>\n",
       "    <tr>\n",
       "      <td>16</td>\n",
       "      <td>0.099000</td>\n",
       "      <td>0.268543</td>\n",
       "      <td>0.453488</td>\n",
       "      <td>0.277723</td>\n",
       "    </tr>\n",
       "    <tr>\n",
       "      <td>17</td>\n",
       "      <td>0.089900</td>\n",
       "      <td>0.263047</td>\n",
       "      <td>0.522222</td>\n",
       "      <td>0.367171</td>\n",
       "    </tr>\n",
       "    <tr>\n",
       "      <td>18</td>\n",
       "      <td>0.079000</td>\n",
       "      <td>0.267941</td>\n",
       "      <td>0.530387</td>\n",
       "      <td>0.388776</td>\n",
       "    </tr>\n",
       "    <tr>\n",
       "      <td>19</td>\n",
       "      <td>0.071400</td>\n",
       "      <td>0.268935</td>\n",
       "      <td>0.533333</td>\n",
       "      <td>0.371081</td>\n",
       "    </tr>\n",
       "    <tr>\n",
       "      <td>20</td>\n",
       "      <td>0.065600</td>\n",
       "      <td>0.262952</td>\n",
       "      <td>0.544444</td>\n",
       "      <td>0.382909</td>\n",
       "    </tr>\n",
       "  </tbody>\n",
       "</table><p>"
      ],
      "text/plain": [
       "<IPython.core.display.HTML object>"
      ]
     },
     "metadata": {},
     "output_type": "display_data"
    },
    {
     "data": {
      "text/html": [],
      "text/plain": [
       "<IPython.core.display.HTML object>"
      ]
     },
     "metadata": {},
     "output_type": "display_data"
    },
    {
     "name": "stderr",
     "output_type": "stream",
     "text": [
      "Some weights of BertForSequenceClassification were not initialized from the model checkpoint at bert-base-uncased and are newly initialized: ['classifier.bias', 'classifier.weight']\n",
      "You should probably TRAIN this model on a down-stream task to be able to use it for predictions and inference.\n",
      "/tmp/ipykernel_1764707/1916074987.py:8: FutureWarning: `tokenizer` is deprecated and will be removed in version 5.0.0 for `Trainer.__init__`. Use `processing_class` instead.\n",
      "  trainer = Trainer(\n",
      "Detected kernel version 5.4.0, which is below the recommended minimum of 5.5.0; this can cause the process to hang. It is recommended to upgrade the kernel to the minimum version or higher.\n"
     ]
    },
    {
     "data": {
      "text/html": [
       "\n",
       "    <div>\n",
       "      \n",
       "      <progress value='680' max='680' style='width:300px; height:20px; vertical-align: middle;'></progress>\n",
       "      [680/680 01:04, Epoch 20/20]\n",
       "    </div>\n",
       "    <table border=\"1\" class=\"dataframe\">\n",
       "  <thead>\n",
       " <tr style=\"text-align: left;\">\n",
       "      <th>Epoch</th>\n",
       "      <th>Training Loss</th>\n",
       "      <th>Validation Loss</th>\n",
       "      <th>Micro f1</th>\n",
       "      <th>Macro f1</th>\n",
       "    </tr>\n",
       "  </thead>\n",
       "  <tbody>\n",
       "    <tr>\n",
       "      <td>1</td>\n",
       "      <td>0.485800</td>\n",
       "      <td>0.382614</td>\n",
       "      <td>0.000000</td>\n",
       "      <td>0.000000</td>\n",
       "    </tr>\n",
       "    <tr>\n",
       "      <td>2</td>\n",
       "      <td>0.349000</td>\n",
       "      <td>0.343031</td>\n",
       "      <td>0.032520</td>\n",
       "      <td>0.016461</td>\n",
       "    </tr>\n",
       "    <tr>\n",
       "      <td>3</td>\n",
       "      <td>0.319100</td>\n",
       "      <td>0.324014</td>\n",
       "      <td>0.218978</td>\n",
       "      <td>0.081301</td>\n",
       "    </tr>\n",
       "    <tr>\n",
       "      <td>4</td>\n",
       "      <td>0.290100</td>\n",
       "      <td>0.314493</td>\n",
       "      <td>0.371795</td>\n",
       "      <td>0.137995</td>\n",
       "    </tr>\n",
       "    <tr>\n",
       "      <td>5</td>\n",
       "      <td>0.272600</td>\n",
       "      <td>0.297223</td>\n",
       "      <td>0.456790</td>\n",
       "      <td>0.177160</td>\n",
       "    </tr>\n",
       "    <tr>\n",
       "      <td>6</td>\n",
       "      <td>0.246000</td>\n",
       "      <td>0.276357</td>\n",
       "      <td>0.459627</td>\n",
       "      <td>0.178934</td>\n",
       "    </tr>\n",
       "    <tr>\n",
       "      <td>7</td>\n",
       "      <td>0.215700</td>\n",
       "      <td>0.266570</td>\n",
       "      <td>0.476744</td>\n",
       "      <td>0.176939</td>\n",
       "    </tr>\n",
       "    <tr>\n",
       "      <td>8</td>\n",
       "      <td>0.187500</td>\n",
       "      <td>0.260839</td>\n",
       "      <td>0.561798</td>\n",
       "      <td>0.287698</td>\n",
       "    </tr>\n",
       "    <tr>\n",
       "      <td>9</td>\n",
       "      <td>0.169200</td>\n",
       "      <td>0.234335</td>\n",
       "      <td>0.551724</td>\n",
       "      <td>0.291918</td>\n",
       "    </tr>\n",
       "    <tr>\n",
       "      <td>10</td>\n",
       "      <td>0.137300</td>\n",
       "      <td>0.249400</td>\n",
       "      <td>0.547486</td>\n",
       "      <td>0.293677</td>\n",
       "    </tr>\n",
       "    <tr>\n",
       "      <td>11</td>\n",
       "      <td>0.115200</td>\n",
       "      <td>0.239860</td>\n",
       "      <td>0.612022</td>\n",
       "      <td>0.428334</td>\n",
       "    </tr>\n",
       "    <tr>\n",
       "      <td>12</td>\n",
       "      <td>0.095600</td>\n",
       "      <td>0.235392</td>\n",
       "      <td>0.611399</td>\n",
       "      <td>0.427311</td>\n",
       "    </tr>\n",
       "    <tr>\n",
       "      <td>13</td>\n",
       "      <td>0.076000</td>\n",
       "      <td>0.226792</td>\n",
       "      <td>0.635897</td>\n",
       "      <td>0.455134</td>\n",
       "    </tr>\n",
       "    <tr>\n",
       "      <td>14</td>\n",
       "      <td>0.064000</td>\n",
       "      <td>0.227002</td>\n",
       "      <td>0.642105</td>\n",
       "      <td>0.458848</td>\n",
       "    </tr>\n",
       "    <tr>\n",
       "      <td>15</td>\n",
       "      <td>0.053600</td>\n",
       "      <td>0.228078</td>\n",
       "      <td>0.635897</td>\n",
       "      <td>0.472739</td>\n",
       "    </tr>\n",
       "    <tr>\n",
       "      <td>16</td>\n",
       "      <td>0.046900</td>\n",
       "      <td>0.232423</td>\n",
       "      <td>0.632653</td>\n",
       "      <td>0.482613</td>\n",
       "    </tr>\n",
       "    <tr>\n",
       "      <td>17</td>\n",
       "      <td>0.040500</td>\n",
       "      <td>0.235344</td>\n",
       "      <td>0.628866</td>\n",
       "      <td>0.465729</td>\n",
       "    </tr>\n",
       "    <tr>\n",
       "      <td>18</td>\n",
       "      <td>0.037300</td>\n",
       "      <td>0.241042</td>\n",
       "      <td>0.640000</td>\n",
       "      <td>0.483721</td>\n",
       "    </tr>\n",
       "    <tr>\n",
       "      <td>19</td>\n",
       "      <td>0.034700</td>\n",
       "      <td>0.222121</td>\n",
       "      <td>0.670051</td>\n",
       "      <td>0.514892</td>\n",
       "    </tr>\n",
       "    <tr>\n",
       "      <td>20</td>\n",
       "      <td>0.031100</td>\n",
       "      <td>0.233437</td>\n",
       "      <td>0.676923</td>\n",
       "      <td>0.497937</td>\n",
       "    </tr>\n",
       "  </tbody>\n",
       "</table><p>"
      ],
      "text/plain": [
       "<IPython.core.display.HTML object>"
      ]
     },
     "metadata": {},
     "output_type": "display_data"
    },
    {
     "data": {
      "text/html": [],
      "text/plain": [
       "<IPython.core.display.HTML object>"
      ]
     },
     "metadata": {},
     "output_type": "display_data"
    },
    {
     "name": "stderr",
     "output_type": "stream",
     "text": [
      "Some weights of BertForSequenceClassification were not initialized from the model checkpoint at bert-base-uncased and are newly initialized: ['classifier.bias', 'classifier.weight']\n",
      "You should probably TRAIN this model on a down-stream task to be able to use it for predictions and inference.\n",
      "/tmp/ipykernel_1764707/1916074987.py:8: FutureWarning: `tokenizer` is deprecated and will be removed in version 5.0.0 for `Trainer.__init__`. Use `processing_class` instead.\n",
      "  trainer = Trainer(\n",
      "Detected kernel version 5.4.0, which is below the recommended minimum of 5.5.0; this can cause the process to hang. It is recommended to upgrade the kernel to the minimum version or higher.\n"
     ]
    },
    {
     "data": {
      "text/html": [
       "\n",
       "    <div>\n",
       "      \n",
       "      <progress value='1120' max='1120' style='width:300px; height:20px; vertical-align: middle;'></progress>\n",
       "      [1120/1120 01:14, Epoch 20/20]\n",
       "    </div>\n",
       "    <table border=\"1\" class=\"dataframe\">\n",
       "  <thead>\n",
       " <tr style=\"text-align: left;\">\n",
       "      <th>Epoch</th>\n",
       "      <th>Training Loss</th>\n",
       "      <th>Validation Loss</th>\n",
       "      <th>Micro f1</th>\n",
       "      <th>Macro f1</th>\n",
       "    </tr>\n",
       "  </thead>\n",
       "  <tbody>\n",
       "    <tr>\n",
       "      <td>1</td>\n",
       "      <td>0.433200</td>\n",
       "      <td>0.357927</td>\n",
       "      <td>0.153846</td>\n",
       "      <td>0.065359</td>\n",
       "    </tr>\n",
       "    <tr>\n",
       "      <td>2</td>\n",
       "      <td>0.337700</td>\n",
       "      <td>0.324794</td>\n",
       "      <td>0.287671</td>\n",
       "      <td>0.093333</td>\n",
       "    </tr>\n",
       "    <tr>\n",
       "      <td>3</td>\n",
       "      <td>0.298800</td>\n",
       "      <td>0.291729</td>\n",
       "      <td>0.457831</td>\n",
       "      <td>0.173694</td>\n",
       "    </tr>\n",
       "    <tr>\n",
       "      <td>4</td>\n",
       "      <td>0.257000</td>\n",
       "      <td>0.263348</td>\n",
       "      <td>0.487805</td>\n",
       "      <td>0.238234</td>\n",
       "    </tr>\n",
       "    <tr>\n",
       "      <td>5</td>\n",
       "      <td>0.217300</td>\n",
       "      <td>0.240551</td>\n",
       "      <td>0.551724</td>\n",
       "      <td>0.277198</td>\n",
       "    </tr>\n",
       "    <tr>\n",
       "      <td>6</td>\n",
       "      <td>0.181200</td>\n",
       "      <td>0.232837</td>\n",
       "      <td>0.604396</td>\n",
       "      <td>0.346688</td>\n",
       "    </tr>\n",
       "    <tr>\n",
       "      <td>7</td>\n",
       "      <td>0.150300</td>\n",
       "      <td>0.213711</td>\n",
       "      <td>0.611111</td>\n",
       "      <td>0.415125</td>\n",
       "    </tr>\n",
       "    <tr>\n",
       "      <td>8</td>\n",
       "      <td>0.121900</td>\n",
       "      <td>0.216448</td>\n",
       "      <td>0.640000</td>\n",
       "      <td>0.544465</td>\n",
       "    </tr>\n",
       "    <tr>\n",
       "      <td>9</td>\n",
       "      <td>0.094000</td>\n",
       "      <td>0.211425</td>\n",
       "      <td>0.656085</td>\n",
       "      <td>0.530062</td>\n",
       "    </tr>\n",
       "    <tr>\n",
       "      <td>10</td>\n",
       "      <td>0.077600</td>\n",
       "      <td>0.211658</td>\n",
       "      <td>0.683938</td>\n",
       "      <td>0.565216</td>\n",
       "    </tr>\n",
       "    <tr>\n",
       "      <td>11</td>\n",
       "      <td>0.058900</td>\n",
       "      <td>0.203015</td>\n",
       "      <td>0.666667</td>\n",
       "      <td>0.595360</td>\n",
       "    </tr>\n",
       "    <tr>\n",
       "      <td>12</td>\n",
       "      <td>0.046800</td>\n",
       "      <td>0.195861</td>\n",
       "      <td>0.687179</td>\n",
       "      <td>0.582108</td>\n",
       "    </tr>\n",
       "    <tr>\n",
       "      <td>13</td>\n",
       "      <td>0.040900</td>\n",
       "      <td>0.211053</td>\n",
       "      <td>0.685990</td>\n",
       "      <td>0.615739</td>\n",
       "    </tr>\n",
       "    <tr>\n",
       "      <td>14</td>\n",
       "      <td>0.035100</td>\n",
       "      <td>0.205065</td>\n",
       "      <td>0.716418</td>\n",
       "      <td>0.629461</td>\n",
       "    </tr>\n",
       "    <tr>\n",
       "      <td>15</td>\n",
       "      <td>0.029400</td>\n",
       "      <td>0.206162</td>\n",
       "      <td>0.693069</td>\n",
       "      <td>0.594172</td>\n",
       "    </tr>\n",
       "    <tr>\n",
       "      <td>16</td>\n",
       "      <td>0.025000</td>\n",
       "      <td>0.210393</td>\n",
       "      <td>0.729064</td>\n",
       "      <td>0.662009</td>\n",
       "    </tr>\n",
       "    <tr>\n",
       "      <td>17</td>\n",
       "      <td>0.022300</td>\n",
       "      <td>0.214355</td>\n",
       "      <td>0.726368</td>\n",
       "      <td>0.645288</td>\n",
       "    </tr>\n",
       "    <tr>\n",
       "      <td>18</td>\n",
       "      <td>0.020000</td>\n",
       "      <td>0.211473</td>\n",
       "      <td>0.708738</td>\n",
       "      <td>0.626271</td>\n",
       "    </tr>\n",
       "    <tr>\n",
       "      <td>19</td>\n",
       "      <td>0.017800</td>\n",
       "      <td>0.210246</td>\n",
       "      <td>0.708134</td>\n",
       "      <td>0.638191</td>\n",
       "    </tr>\n",
       "    <tr>\n",
       "      <td>20</td>\n",
       "      <td>0.017300</td>\n",
       "      <td>0.213473</td>\n",
       "      <td>0.708134</td>\n",
       "      <td>0.633775</td>\n",
       "    </tr>\n",
       "  </tbody>\n",
       "</table><p>"
      ],
      "text/plain": [
       "<IPython.core.display.HTML object>"
      ]
     },
     "metadata": {},
     "output_type": "display_data"
    },
    {
     "data": {
      "text/html": [],
      "text/plain": [
       "<IPython.core.display.HTML object>"
      ]
     },
     "metadata": {},
     "output_type": "display_data"
    }
   ],
   "source": [
    "config = AutoConfig.from_pretrained(model_ckpt)\n",
    "config.num_labels = len(all_labels)\n",
    "config.problem_type = \"multi_label_classification\"\n",
    "\n",
    "for train_slice in train_slices:\n",
    "    model = AutoModelForSequenceClassification.from_pretrained(model_ckpt, config=config)\n",
    "\n",
    "    trainer = Trainer(\n",
    "        model=model, tokenizer=tokenizer,\n",
    "        args=training_args_fine_tune,\n",
    "        compute_metrics=compute_metrics,\n",
    "        train_dataset=ds_enc[\"train\"].select(train_slice),\n",
    "        eval_dataset=ds_enc[\"valid\"]\n",
    "    )\n",
    "\n",
    "    trainer.train()\n",
    "    pred = trainer.predict(ds_enc[\"test\"])\n",
    "    metrics = compute_metrics(pred)\n",
    "    macro_scores[\"Fine-tune (vanilla)\"].append(metrics[\"macro f1\"])\n",
    "    micro_scores[\"Fine-tune (vanilla)\"].append(metrics[\"micro f1\"])"
   ]
  },
  {
   "cell_type": "code",
   "execution_count": 60,
   "id": "dc984aec-cb54-4796-b6f7-665ef0eb0aa2",
   "metadata": {},
   "outputs": [
    {
     "data": {
      "image/png": "[encoded data removed]",
      "text/plain": [
       "<Figure size 1000x400 with 2 Axes>"
      ]
     },
     "metadata": {},
     "output_type": "display_data"
    }
   ],
   "source": [
    "plot_metrics(micro_scores, macro_scores, train_samples, \"Fine-tune (vanilla)\")"
   ]
  },
  {
   "cell_type": "markdown",
   "id": "51e5bdb9-7591-4498-b9e4-f642fdf1581d",
   "metadata": {},
   "source": [
    "Before we make use of the unlabeled part of our dataset, let's take a quick look to another promising approach\n",
    "\n",
    "## In-Context and Few-Shot Learning with Prompts\n",
    "\n",
    "This is different from the classic approach of adding a task-specific head and tuning the model parameters for the task.\n",
    "This approach does not require any training data, but on the negative side it seems we can't leverage labeled data if we have access to it."
   ]
  },
  {
   "cell_type": "code",
   "execution_count": 61,
   "id": "1c67cef7-2b8a-4e82-bb9b-ea6c3bc79050",
   "metadata": {},
   "outputs": [],
   "source": [
    "prompt = \"\"\"\\\n",
    "Translate English to Franch:\n",
    "thanks =>\n",
    "\"\"\""
   ]
  },
  {
   "cell_type": "markdown",
   "id": "606150ba-a055-417a-9440-b134ac536042",
   "metadata": {},
   "source": [
    "# Leveraging Unlabeled Data\n",
    "\n",
    "We can leverage the pretrained weights for other tasks on a wide variety of texts.\n",
    "\n",
    "There is a middle ground between retraining from scratch and just using the model as is for classification: **domain adaptation**\n",
    "Continue training it on data from our domain. We use the classic language model objective of prediction masked words, which means *we don't need any labeled data*. Unlabeled data is often abundantly available.\n",
    "The approach is agnostic to the downstream task.\n",
    "\n",
    "## Fine-tuning a Language Model\n",
    "\n",
    "fine-tune the pretrained BERT model with masked language modeling on the unlabeled portion of our dataset. We need 2 concepts: an extra step when tokenizing the data and a special data collator.\n",
    "\n",
    "Special tokens to the sequence [CLS] AND [SEP], used for classification and next sentence prediction. When we do masked language modeling, we want to make sure we **don't** train the model to also predict these tokens. That's why we mask them from the loss, and we can get a mask when tokenizing by setting *return_special_tokens_mask=True*."
   ]
  },
  {
   "cell_type": "code",
   "execution_count": 62,
   "id": "33d1c50b-ce0d-4005-a37d-19c9b1c9c68b",
   "metadata": {},
   "outputs": [
    {
     "data": {
      "application/vnd.jupyter.widget-view+json": {
       "model_id": "93711a502b69456d8ef39b7789900b41",
       "version_major": 2,
       "version_minor": 0
      },
      "text/plain": [
       "Map:   0%|          | 0/223 [00:00<?, ? examples/s]"
      ]
     },
     "metadata": {},
     "output_type": "display_data"
    },
    {
     "data": {
      "application/vnd.jupyter.widget-view+json": {
       "model_id": "0b2a4142be074d119402102162686fa5",
       "version_major": 2,
       "version_minor": 0
      },
      "text/plain": [
       "Map:   0%|          | 0/106 [00:00<?, ? examples/s]"
      ]
     },
     "metadata": {},
     "output_type": "display_data"
    },
    {
     "data": {
      "application/vnd.jupyter.widget-view+json": {
       "model_id": "8b18efc2ff7d47a1a9a8d5d39e902042",
       "version_major": 2,
       "version_minor": 0
      },
      "text/plain": [
       "Map:   0%|          | 0/111 [00:00<?, ? examples/s]"
      ]
     },
     "metadata": {},
     "output_type": "display_data"
    },
    {
     "data": {
      "application/vnd.jupyter.widget-view+json": {
       "model_id": "a05a4f8a73f34f8888c34ef0a05cb5ac",
       "version_major": 2,
       "version_minor": 0
      },
      "text/plain": [
       "Map:   0%|          | 0/9303 [00:00<?, ? examples/s]"
      ]
     },
     "metadata": {},
     "output_type": "display_data"
    }
   ],
   "source": [
    "def tokenize(batch):\n",
    "    return tokenizer(batch[\"text\"], truncation=True,\n",
    "                    max_length=128, return_special_tokens_mask=True)\n",
    "\n",
    "ds_mlm = ds.map(tokenize, batched=True)\n",
    "ds_mlm = ds_mlm.remove_columns([\"labels\", \"text\", \"label_ids\"])"
   ]
  },
  {
   "cell_type": "markdown",
   "id": "2e359cff-8cac-4ee7-91dd-d791d36b814f",
   "metadata": {},
   "source": [
    "We are missing the mechanism to mask tokens in the input sequence and have the target tokens in the ouptuts.\n",
    "\n",
    "An elegant solution is to use a data collator. It is the function that builds the bridge between the dataset and the model calls."
   ]
  },
  {
   "cell_type": "code",
   "execution_count": 63,
   "id": "12dadd72-bd8a-433a-8512-3b7e4dee7ea3",
   "metadata": {},
   "outputs": [],
   "source": [
    "from transformers import DataCollatorForLanguageModeling, set_seed\n",
    "\n",
    "data_collator = DataCollatorForLanguageModeling(tokenizer=tokenizer,\n",
    "                                               mlm_probability=0.15)"
   ]
  },
  {
   "cell_type": "code",
   "execution_count": 65,
   "id": "1a819901-46d2-4c1b-9d07-aaf67a112ca4",
   "metadata": {},
   "outputs": [
    {
     "data": {
      "text/html": [
       "<div>\n",
       "<style scoped>\n",
       "    .dataframe tbody tr th:only-of-type {\n",
       "        vertical-align: middle;\n",
       "    }\n",
       "\n",
       "    .dataframe tbody tr th {\n",
       "        vertical-align: top;\n",
       "    }\n",
       "\n",
       "    .dataframe thead th {\n",
       "        text-align: right;\n",
       "    }\n",
       "</style>\n",
       "<table border=\"1\" class=\"dataframe\">\n",
       "  <thead>\n",
       "    <tr style=\"text-align: right;\">\n",
       "      <th></th>\n",
       "      <th>0</th>\n",
       "      <th>1</th>\n",
       "      <th>2</th>\n",
       "      <th>3</th>\n",
       "      <th>4</th>\n",
       "      <th>5</th>\n",
       "    </tr>\n",
       "  </thead>\n",
       "  <tbody>\n",
       "    <tr>\n",
       "      <th>Original tokens</th>\n",
       "      <td>[CLS]</td>\n",
       "      <td>transformers</td>\n",
       "      <td>are</td>\n",
       "      <td>awesome</td>\n",
       "      <td>!</td>\n",
       "      <td>[SEP]</td>\n",
       "    </tr>\n",
       "    <tr>\n",
       "      <th>Masked tokens</th>\n",
       "      <td>[CLS]</td>\n",
       "      <td>transformers</td>\n",
       "      <td>are</td>\n",
       "      <td>awesome</td>\n",
       "      <td>[MASK]</td>\n",
       "      <td>[SEP]</td>\n",
       "    </tr>\n",
       "    <tr>\n",
       "      <th>Orignal input_ids</th>\n",
       "      <td>101</td>\n",
       "      <td>19081</td>\n",
       "      <td>2024</td>\n",
       "      <td>12476</td>\n",
       "      <td>999</td>\n",
       "      <td>102</td>\n",
       "    </tr>\n",
       "    <tr>\n",
       "      <th>Masked input_ids</th>\n",
       "      <td>101</td>\n",
       "      <td>19081</td>\n",
       "      <td>2024</td>\n",
       "      <td>12476</td>\n",
       "      <td>103</td>\n",
       "      <td>102</td>\n",
       "    </tr>\n",
       "    <tr>\n",
       "      <th>Labels</th>\n",
       "      <td>-100</td>\n",
       "      <td>-100</td>\n",
       "      <td>-100</td>\n",
       "      <td>-100</td>\n",
       "      <td>999</td>\n",
       "      <td>-100</td>\n",
       "    </tr>\n",
       "  </tbody>\n",
       "</table>\n",
       "</div>"
      ],
      "text/plain": [
       "                       0             1     2        3       4      5\n",
       "Original tokens    [CLS]  transformers   are  awesome       !  [SEP]\n",
       "Masked tokens      [CLS]  transformers   are  awesome  [MASK]  [SEP]\n",
       "Orignal input_ids    101         19081  2024    12476     999    102\n",
       "Masked input_ids     101         19081  2024    12476     103    102\n",
       "Labels              -100          -100  -100     -100     999   -100"
      ]
     },
     "execution_count": 65,
     "metadata": {},
     "output_type": "execute_result"
    }
   ],
   "source": [
    "set_seed(3)\n",
    "data_collator.return_tensors = \"np\"\n",
    "inputs = tokenizer(\"Transformers are awesome!\", return_tensors=\"np\")\n",
    "outputs = data_collator([{\"input_ids\": inputs[\"input_ids\"][0]}])\n",
    "\n",
    "pd.DataFrame({\n",
    "    \"Original tokens\": tokenizer.convert_ids_to_tokens(inputs[\"input_ids\"][0]),\n",
    "    \"Masked tokens\": tokenizer.convert_ids_to_tokens(outputs[\"input_ids\"][0]),\n",
    "    \"Orignal input_ids\": inputs[\"input_ids\"][0],\n",
    "    \"Masked input_ids\": outputs[\"input_ids\"][0],\n",
    "    \"Labels\": outputs[\"labels\"][0]\n",
    "}).T"
   ]
  },
  {
   "cell_type": "code",
   "execution_count": 66,
   "id": "c41c3b6e-0a1d-4ae5-a3c6-80b08935f6a0",
   "metadata": {},
   "outputs": [],
   "source": [
    "data_collator.return_tensors = \"pt\""
   ]
  },
  {
   "cell_type": "markdown",
   "id": "01a075a5-4426-4595-a091-120737aeb3e5",
   "metadata": {},
   "source": [
    "We are ready to fine-tune the masked language model"
   ]
  },
  {
   "cell_type": "code",
   "execution_count": 68,
   "id": "5e3e0ad2-82ee-49bc-a69a-8ea613a8c5c6",
   "metadata": {},
   "outputs": [
    {
     "name": "stderr",
     "output_type": "stream",
     "text": [
      "/home/ssanchez/env/transformers/lib/python3.8/site-packages/transformers/training_args.py:1568: FutureWarning: `evaluation_strategy` is deprecated and will be removed in version 4.46 of 🤗 Transformers. Use `eval_strategy` instead\n",
      "  warnings.warn(\n",
      "Some weights of the model checkpoint at bert-base-uncased were not used when initializing BertForMaskedLM: ['bert.pooler.dense.bias', 'bert.pooler.dense.weight', 'cls.seq_relationship.bias', 'cls.seq_relationship.weight']\n",
      "- This IS expected if you are initializing BertForMaskedLM from the checkpoint of a model trained on another task or with another architecture (e.g. initializing a BertForSequenceClassification model from a BertForPreTraining model).\n",
      "- This IS NOT expected if you are initializing BertForMaskedLM from the checkpoint of a model that you expect to be exactly identical (initializing a BertForSequenceClassification model from a BertForSequenceClassification model).\n",
      "/tmp/ipykernel_1764707/639518540.py:9: FutureWarning: `tokenizer` is deprecated and will be removed in version 5.0.0 for `Trainer.__init__`. Use `processing_class` instead.\n",
      "  trainer = Trainer(\n",
      "Detected kernel version 5.4.0, which is below the recommended minimum of 5.5.0; this can cause the process to hang. It is recommended to upgrade the kernel to the minimum version or higher.\n"
     ]
    },
    {
     "name": "stdout",
     "output_type": "stream",
     "text": [
      "{'loss': 2.1003, 'grad_norm': 6.397911071777344, 'learning_rate': 4.6875e-05, 'epoch': 1.0}\n",
      "{'eval_loss': 1.702514886856079, 'eval_runtime': 0.5729, 'eval_samples_per_second': 389.271, 'eval_steps_per_second': 48.877, 'epoch': 1.0}\n",
      "{'loss': 1.6316, 'grad_norm': 5.294964790344238, 'learning_rate': 4.375e-05, 'epoch': 2.0}\n",
      "{'eval_loss': 1.5260438919067383, 'eval_runtime': 0.5756, 'eval_samples_per_second': 387.444, 'eval_steps_per_second': 48.648, 'epoch': 2.0}\n",
      "{'loss': 1.4974, 'grad_norm': 5.470129013061523, 'learning_rate': 4.0625000000000005e-05, 'epoch': 3.0}\n",
      "{'eval_loss': 1.3546340465545654, 'eval_runtime': 0.5771, 'eval_samples_per_second': 386.396, 'eval_steps_per_second': 48.516, 'epoch': 3.0}\n",
      "{'loss': 1.397, 'grad_norm': 3.948866367340088, 'learning_rate': 3.7500000000000003e-05, 'epoch': 4.0}\n",
      "{'eval_loss': 1.339883804321289, 'eval_runtime': 0.5811, 'eval_samples_per_second': 383.763, 'eval_steps_per_second': 48.185, 'epoch': 4.0}\n",
      "{'loss': 1.3339, 'grad_norm': 5.369665622711182, 'learning_rate': 3.4375e-05, 'epoch': 5.0}\n",
      "{'eval_loss': 1.2294632196426392, 'eval_runtime': 0.5838, 'eval_samples_per_second': 382.0, 'eval_steps_per_second': 47.964, 'epoch': 5.0}\n",
      "{'loss': 1.2868, 'grad_norm': 4.598738193511963, 'learning_rate': 3.125e-05, 'epoch': 6.0}\n",
      "{'eval_loss': 1.3671619892120361, 'eval_runtime': 0.5815, 'eval_samples_per_second': 383.49, 'eval_steps_per_second': 48.151, 'epoch': 6.0}\n",
      "{'loss': 1.2348, 'grad_norm': 5.027827262878418, 'learning_rate': 2.8125000000000003e-05, 'epoch': 7.0}\n",
      "{'eval_loss': 1.3043686151504517, 'eval_runtime': 0.5821, 'eval_samples_per_second': 383.078, 'eval_steps_per_second': 48.099, 'epoch': 7.0}\n",
      "{'loss': 1.2022, 'grad_norm': 4.84176778793335, 'learning_rate': 2.5e-05, 'epoch': 8.0}\n",
      "{'eval_loss': 1.3370084762573242, 'eval_runtime': 0.5806, 'eval_samples_per_second': 384.112, 'eval_steps_per_second': 48.229, 'epoch': 8.0}\n",
      "{'loss': 1.1717, 'grad_norm': 4.729288101196289, 'learning_rate': 2.1875e-05, 'epoch': 9.0}\n",
      "{'eval_loss': 1.2252556085586548, 'eval_runtime': 0.5782, 'eval_samples_per_second': 385.701, 'eval_steps_per_second': 48.429, 'epoch': 9.0}\n",
      "{'loss': 1.1395, 'grad_norm': 4.235423564910889, 'learning_rate': 1.8750000000000002e-05, 'epoch': 10.0}\n",
      "{'eval_loss': 1.1759452819824219, 'eval_runtime': 0.5797, 'eval_samples_per_second': 384.7, 'eval_steps_per_second': 48.303, 'epoch': 10.0}\n",
      "{'loss': 1.1281, 'grad_norm': 5.6935200691223145, 'learning_rate': 1.5625e-05, 'epoch': 11.0}\n",
      "{'eval_loss': 1.1359455585479736, 'eval_runtime': 0.5808, 'eval_samples_per_second': 383.926, 'eval_steps_per_second': 48.206, 'epoch': 11.0}\n",
      "{'loss': 1.1124, 'grad_norm': 5.0725626945495605, 'learning_rate': 1.25e-05, 'epoch': 12.0}\n",
      "{'eval_loss': 1.1801347732543945, 'eval_runtime': 0.5801, 'eval_samples_per_second': 384.397, 'eval_steps_per_second': 48.265, 'epoch': 12.0}\n",
      "{'loss': 1.0882, 'grad_norm': 4.867929458618164, 'learning_rate': 9.375000000000001e-06, 'epoch': 13.0}\n",
      "{'eval_loss': 1.2288336753845215, 'eval_runtime': 0.5814, 'eval_samples_per_second': 383.529, 'eval_steps_per_second': 48.156, 'epoch': 13.0}\n",
      "{'loss': 1.0764, 'grad_norm': 5.342082977294922, 'learning_rate': 6.25e-06, 'epoch': 14.0}\n",
      "{'eval_loss': 1.2054246664047241, 'eval_runtime': 0.5831, 'eval_samples_per_second': 382.427, 'eval_steps_per_second': 48.018, 'epoch': 14.0}\n",
      "{'loss': 1.0717, 'grad_norm': 5.853611469268799, 'learning_rate': 3.125e-06, 'epoch': 15.0}\n",
      "{'eval_loss': 1.2134207487106323, 'eval_runtime': 0.5808, 'eval_samples_per_second': 383.968, 'eval_steps_per_second': 48.211, 'epoch': 15.0}\n",
      "{'loss': 1.0625, 'grad_norm': 3.9552078247070312, 'learning_rate': 0.0, 'epoch': 16.0}\n",
      "{'eval_loss': 1.2262637615203857, 'eval_runtime': 0.5814, 'eval_samples_per_second': 383.588, 'eval_steps_per_second': 48.164, 'epoch': 16.0}\n",
      "{'train_runtime': 935.6506, 'train_samples_per_second': 159.085, 'train_steps_per_second': 4.976, 'train_loss': 1.2833965144206567, 'epoch': 16.0}\n"
     ]
    },
    {
     "data": {
      "application/vnd.jupyter.widget-view+json": {
       "model_id": "ece548b8f4b2404283f0b469bfec503d",
       "version_major": 2,
       "version_minor": 0
      },
      "text/plain": [
       "model.safetensors:   0%|          | 0.00/438M [00:00<?, ?B/s]"
      ]
     },
     "metadata": {},
     "output_type": "display_data"
    },
    {
     "data": {
      "application/vnd.jupyter.widget-view+json": {
       "model_id": "377b4e99e1fe467485125e009549b740",
       "version_major": 2,
       "version_minor": 0
      },
      "text/plain": [
       "Upload 2 LFS files:   0%|          | 0/2 [00:00<?, ?it/s]"
      ]
     },
     "metadata": {},
     "output_type": "display_data"
    },
    {
     "data": {
      "application/vnd.jupyter.widget-view+json": {
       "model_id": "7b266ece7e3c40e7aacee835e6098556",
       "version_major": 2,
       "version_minor": 0
      },
      "text/plain": [
       "training_args.bin:   0%|          | 0.00/4.79k [00:00<?, ?B/s]"
      ]
     },
     "metadata": {},
     "output_type": "display_data"
    },
    {
     "data": {
      "text/plain": [
       "CommitInfo(commit_url='https://huggingface.co/sergi24sanchez/bert-base-uncased-issues-128/commit/e76737fe39b3679749aa40da1adfa17cb09507d8', commit_message='Training completed!', commit_description='', oid='e76737fe39b3679749aa40da1adfa17cb09507d8', pr_url=None, repo_url=RepoUrl('https://huggingface.co/sergi24sanchez/bert-base-uncased-issues-128', endpoint='https://huggingface.co', repo_type='model', repo_id='sergi24sanchez/bert-base-uncased-issues-128'), pr_revision=None, pr_num=None)"
      ]
     },
     "execution_count": 68,
     "metadata": {},
     "output_type": "execute_result"
    }
   ],
   "source": [
    "from transformers import AutoModelForMaskedLM\n",
    "\n",
    "training_args = TrainingArguments(\n",
    "    output_dir=f\"{model_ckpt}-issues-128\", per_device_train_batch_size=32,\n",
    "    logging_strategy=\"epoch\", evaluation_strategy=\"epoch\", save_strategy=\"no\",\n",
    "    num_train_epochs=16, push_to_hub=True, log_level=\"error\", report_to=\"none\"\n",
    ")\n",
    "\n",
    "trainer = Trainer(\n",
    "    model=AutoModelForMaskedLM.from_pretrained(\"bert-base-uncased\"),\n",
    "    tokenizer=tokenizer, args=training_args, data_collator=data_collator,\n",
    "    train_dataset=ds_mlm[\"unsup\"], eval_dataset=ds_mlm[\"train\"]\n",
    ")\n",
    "\n",
    "trainer.train()\n",
    "\n",
    "trainer.push_to_hub(\"Training completed!\")"
   ]
  },
  {
   "cell_type": "code",
   "execution_count": 69,
   "id": "e1de5b8a-c6fb-478b-8286-aab92d921d60",
   "metadata": {},
   "outputs": [
    {
     "data": {
      "image/png": "[encoded data removed]",
      "text/plain": [
       "<Figure size 640x480 with 1 Axes>"
      ]
     },
     "metadata": {},
     "output_type": "display_data"
    }
   ],
   "source": [
    "df_log = pd.DataFrame(trainer.state.log_history)\n",
    "\n",
    "(df_log.dropna(subset=[\"eval_loss\"]).reset_index()[\"eval_loss\"]\n",
    ".plot(label=\"Validation\"))\n",
    "df_log.dropna(subset=[\"loss\"]).reset_index()[\"loss\"].plot(label=\"Train\")\n",
    "\n",
    "plt.xlabel(\"Epochs\")\n",
    "plt.ylabel(\"Loss\")\n",
    "plt.legend(loc=\"upper right\")\n",
    "plt.show()"
   ]
  },
  {
   "cell_type": "code",
   "execution_count": 71,
   "id": "3cf4604b-3a0a-4f18-8661-fad3e7cfea2c",
   "metadata": {},
   "outputs": [
    {
     "name": "stderr",
     "output_type": "stream",
     "text": [
      "Some weights of BertForSequenceClassification were not initialized from the model checkpoint at bert-base-uncased-issues-128 and are newly initialized: ['bert.pooler.dense.bias', 'bert.pooler.dense.weight', 'classifier.bias', 'classifier.weight']\n",
      "You should probably TRAIN this model on a down-stream task to be able to use it for predictions and inference.\n",
      "/tmp/ipykernel_1764707/2303842545.py:9: FutureWarning: `tokenizer` is deprecated and will be removed in version 5.0.0 for `Trainer.__init__`. Use `processing_class` instead.\n",
      "  trainer = Trainer(\n",
      "Detected kernel version 5.4.0, which is below the recommended minimum of 5.5.0; this can cause the process to hang. It is recommended to upgrade the kernel to the minimum version or higher.\n"
     ]
    },
    {
     "data": {
      "text/html": [
       "\n",
       "    <div>\n",
       "      \n",
       "      <progress value='60' max='60' style='width:300px; height:20px; vertical-align: middle;'></progress>\n",
       "      [60/60 00:25, Epoch 20/20]\n",
       "    </div>\n",
       "    <table border=\"1\" class=\"dataframe\">\n",
       "  <thead>\n",
       " <tr style=\"text-align: left;\">\n",
       "      <th>Epoch</th>\n",
       "      <th>Training Loss</th>\n",
       "      <th>Validation Loss</th>\n",
       "      <th>Micro f1</th>\n",
       "      <th>Macro f1</th>\n",
       "    </tr>\n",
       "  </thead>\n",
       "  <tbody>\n",
       "    <tr>\n",
       "      <td>1</td>\n",
       "      <td>0.635200</td>\n",
       "      <td>0.558517</td>\n",
       "      <td>0.000000</td>\n",
       "      <td>0.000000</td>\n",
       "    </tr>\n",
       "    <tr>\n",
       "      <td>2</td>\n",
       "      <td>0.509600</td>\n",
       "      <td>0.482681</td>\n",
       "      <td>0.000000</td>\n",
       "      <td>0.000000</td>\n",
       "    </tr>\n",
       "    <tr>\n",
       "      <td>3</td>\n",
       "      <td>0.433400</td>\n",
       "      <td>0.438968</td>\n",
       "      <td>0.000000</td>\n",
       "      <td>0.000000</td>\n",
       "    </tr>\n",
       "    <tr>\n",
       "      <td>4</td>\n",
       "      <td>0.395500</td>\n",
       "      <td>0.413505</td>\n",
       "      <td>0.000000</td>\n",
       "      <td>0.000000</td>\n",
       "    </tr>\n",
       "    <tr>\n",
       "      <td>5</td>\n",
       "      <td>0.365200</td>\n",
       "      <td>0.396028</td>\n",
       "      <td>0.000000</td>\n",
       "      <td>0.000000</td>\n",
       "    </tr>\n",
       "    <tr>\n",
       "      <td>6</td>\n",
       "      <td>0.339800</td>\n",
       "      <td>0.385632</td>\n",
       "      <td>0.000000</td>\n",
       "      <td>0.000000</td>\n",
       "    </tr>\n",
       "    <tr>\n",
       "      <td>7</td>\n",
       "      <td>0.314600</td>\n",
       "      <td>0.378558</td>\n",
       "      <td>0.000000</td>\n",
       "      <td>0.000000</td>\n",
       "    </tr>\n",
       "    <tr>\n",
       "      <td>8</td>\n",
       "      <td>0.305000</td>\n",
       "      <td>0.372665</td>\n",
       "      <td>0.000000</td>\n",
       "      <td>0.000000</td>\n",
       "    </tr>\n",
       "    <tr>\n",
       "      <td>9</td>\n",
       "      <td>0.281900</td>\n",
       "      <td>0.368335</td>\n",
       "      <td>0.000000</td>\n",
       "      <td>0.000000</td>\n",
       "    </tr>\n",
       "    <tr>\n",
       "      <td>10</td>\n",
       "      <td>0.266600</td>\n",
       "      <td>0.364761</td>\n",
       "      <td>0.000000</td>\n",
       "      <td>0.000000</td>\n",
       "    </tr>\n",
       "    <tr>\n",
       "      <td>11</td>\n",
       "      <td>0.248700</td>\n",
       "      <td>0.361961</td>\n",
       "      <td>0.000000</td>\n",
       "      <td>0.000000</td>\n",
       "    </tr>\n",
       "    <tr>\n",
       "      <td>12</td>\n",
       "      <td>0.239800</td>\n",
       "      <td>0.359263</td>\n",
       "      <td>0.000000</td>\n",
       "      <td>0.000000</td>\n",
       "    </tr>\n",
       "    <tr>\n",
       "      <td>13</td>\n",
       "      <td>0.233000</td>\n",
       "      <td>0.357345</td>\n",
       "      <td>0.000000</td>\n",
       "      <td>0.000000</td>\n",
       "    </tr>\n",
       "    <tr>\n",
       "      <td>14</td>\n",
       "      <td>0.212000</td>\n",
       "      <td>0.353612</td>\n",
       "      <td>0.000000</td>\n",
       "      <td>0.000000</td>\n",
       "    </tr>\n",
       "    <tr>\n",
       "      <td>15</td>\n",
       "      <td>0.206300</td>\n",
       "      <td>0.350878</td>\n",
       "      <td>0.032000</td>\n",
       "      <td>0.014337</td>\n",
       "    </tr>\n",
       "    <tr>\n",
       "      <td>16</td>\n",
       "      <td>0.201800</td>\n",
       "      <td>0.349567</td>\n",
       "      <td>0.032000</td>\n",
       "      <td>0.014337</td>\n",
       "    </tr>\n",
       "    <tr>\n",
       "      <td>17</td>\n",
       "      <td>0.187800</td>\n",
       "      <td>0.349676</td>\n",
       "      <td>0.016260</td>\n",
       "      <td>0.007663</td>\n",
       "    </tr>\n",
       "    <tr>\n",
       "      <td>18</td>\n",
       "      <td>0.186700</td>\n",
       "      <td>0.348190</td>\n",
       "      <td>0.016260</td>\n",
       "      <td>0.007663</td>\n",
       "    </tr>\n",
       "    <tr>\n",
       "      <td>19</td>\n",
       "      <td>0.181400</td>\n",
       "      <td>0.346325</td>\n",
       "      <td>0.016260</td>\n",
       "      <td>0.007407</td>\n",
       "    </tr>\n",
       "    <tr>\n",
       "      <td>20</td>\n",
       "      <td>0.169700</td>\n",
       "      <td>0.344765</td>\n",
       "      <td>0.032258</td>\n",
       "      <td>0.014337</td>\n",
       "    </tr>\n",
       "  </tbody>\n",
       "</table><p>"
      ],
      "text/plain": [
       "<IPython.core.display.HTML object>"
      ]
     },
     "metadata": {},
     "output_type": "display_data"
    },
    {
     "data": {
      "text/html": [],
      "text/plain": [
       "<IPython.core.display.HTML object>"
      ]
     },
     "metadata": {},
     "output_type": "display_data"
    },
    {
     "name": "stderr",
     "output_type": "stream",
     "text": [
      "Some weights of BertForSequenceClassification were not initialized from the model checkpoint at bert-base-uncased-issues-128 and are newly initialized: ['bert.pooler.dense.bias', 'bert.pooler.dense.weight', 'classifier.bias', 'classifier.weight']\n",
      "You should probably TRAIN this model on a down-stream task to be able to use it for predictions and inference.\n",
      "/tmp/ipykernel_1764707/2303842545.py:9: FutureWarning: `tokenizer` is deprecated and will be removed in version 5.0.0 for `Trainer.__init__`. Use `processing_class` instead.\n",
      "  trainer = Trainer(\n",
      "Detected kernel version 5.4.0, which is below the recommended minimum of 5.5.0; this can cause the process to hang. It is recommended to upgrade the kernel to the minimum version or higher.\n"
     ]
    },
    {
     "data": {
      "text/html": [
       "\n",
       "    <div>\n",
       "      \n",
       "      <progress value='100' max='100' style='width:300px; height:20px; vertical-align: middle;'></progress>\n",
       "      [100/100 00:42, Epoch 20/20]\n",
       "    </div>\n",
       "    <table border=\"1\" class=\"dataframe\">\n",
       "  <thead>\n",
       " <tr style=\"text-align: left;\">\n",
       "      <th>Epoch</th>\n",
       "      <th>Training Loss</th>\n",
       "      <th>Validation Loss</th>\n",
       "      <th>Micro f1</th>\n",
       "      <th>Macro f1</th>\n",
       "    </tr>\n",
       "  </thead>\n",
       "  <tbody>\n",
       "    <tr>\n",
       "      <td>1</td>\n",
       "      <td>0.651400</td>\n",
       "      <td>0.529626</td>\n",
       "      <td>0.147059</td>\n",
       "      <td>0.052910</td>\n",
       "    </tr>\n",
       "    <tr>\n",
       "      <td>2</td>\n",
       "      <td>0.463000</td>\n",
       "      <td>0.436027</td>\n",
       "      <td>0.000000</td>\n",
       "      <td>0.000000</td>\n",
       "    </tr>\n",
       "    <tr>\n",
       "      <td>3</td>\n",
       "      <td>0.386900</td>\n",
       "      <td>0.394411</td>\n",
       "      <td>0.000000</td>\n",
       "      <td>0.000000</td>\n",
       "    </tr>\n",
       "    <tr>\n",
       "      <td>4</td>\n",
       "      <td>0.347000</td>\n",
       "      <td>0.374057</td>\n",
       "      <td>0.000000</td>\n",
       "      <td>0.000000</td>\n",
       "    </tr>\n",
       "    <tr>\n",
       "      <td>5</td>\n",
       "      <td>0.316300</td>\n",
       "      <td>0.363799</td>\n",
       "      <td>0.000000</td>\n",
       "      <td>0.000000</td>\n",
       "    </tr>\n",
       "    <tr>\n",
       "      <td>6</td>\n",
       "      <td>0.292900</td>\n",
       "      <td>0.355933</td>\n",
       "      <td>0.000000</td>\n",
       "      <td>0.000000</td>\n",
       "    </tr>\n",
       "    <tr>\n",
       "      <td>7</td>\n",
       "      <td>0.274000</td>\n",
       "      <td>0.347830</td>\n",
       "      <td>0.000000</td>\n",
       "      <td>0.000000</td>\n",
       "    </tr>\n",
       "    <tr>\n",
       "      <td>8</td>\n",
       "      <td>0.248800</td>\n",
       "      <td>0.343224</td>\n",
       "      <td>0.048780</td>\n",
       "      <td>0.024215</td>\n",
       "    </tr>\n",
       "    <tr>\n",
       "      <td>9</td>\n",
       "      <td>0.234700</td>\n",
       "      <td>0.338720</td>\n",
       "      <td>0.080000</td>\n",
       "      <td>0.037563</td>\n",
       "    </tr>\n",
       "    <tr>\n",
       "      <td>10</td>\n",
       "      <td>0.210200</td>\n",
       "      <td>0.334841</td>\n",
       "      <td>0.180451</td>\n",
       "      <td>0.083415</td>\n",
       "    </tr>\n",
       "    <tr>\n",
       "      <td>11</td>\n",
       "      <td>0.201000</td>\n",
       "      <td>0.332549</td>\n",
       "      <td>0.153846</td>\n",
       "      <td>0.070443</td>\n",
       "    </tr>\n",
       "    <tr>\n",
       "      <td>12</td>\n",
       "      <td>0.185400</td>\n",
       "      <td>0.330585</td>\n",
       "      <td>0.136364</td>\n",
       "      <td>0.061538</td>\n",
       "    </tr>\n",
       "    <tr>\n",
       "      <td>13</td>\n",
       "      <td>0.171800</td>\n",
       "      <td>0.328063</td>\n",
       "      <td>0.237762</td>\n",
       "      <td>0.106838</td>\n",
       "    </tr>\n",
       "    <tr>\n",
       "      <td>14</td>\n",
       "      <td>0.161800</td>\n",
       "      <td>0.326835</td>\n",
       "      <td>0.295302</td>\n",
       "      <td>0.145077</td>\n",
       "    </tr>\n",
       "    <tr>\n",
       "      <td>15</td>\n",
       "      <td>0.150000</td>\n",
       "      <td>0.325320</td>\n",
       "      <td>0.215827</td>\n",
       "      <td>0.113450</td>\n",
       "    </tr>\n",
       "    <tr>\n",
       "      <td>16</td>\n",
       "      <td>0.143400</td>\n",
       "      <td>0.324339</td>\n",
       "      <td>0.293333</td>\n",
       "      <td>0.172437</td>\n",
       "    </tr>\n",
       "    <tr>\n",
       "      <td>17</td>\n",
       "      <td>0.132400</td>\n",
       "      <td>0.323392</td>\n",
       "      <td>0.367089</td>\n",
       "      <td>0.197025</td>\n",
       "    </tr>\n",
       "    <tr>\n",
       "      <td>18</td>\n",
       "      <td>0.126000</td>\n",
       "      <td>0.323838</td>\n",
       "      <td>0.358025</td>\n",
       "      <td>0.192772</td>\n",
       "    </tr>\n",
       "    <tr>\n",
       "      <td>19</td>\n",
       "      <td>0.121100</td>\n",
       "      <td>0.324317</td>\n",
       "      <td>0.327044</td>\n",
       "      <td>0.184260</td>\n",
       "    </tr>\n",
       "    <tr>\n",
       "      <td>20</td>\n",
       "      <td>0.112500</td>\n",
       "      <td>0.325729</td>\n",
       "      <td>0.358025</td>\n",
       "      <td>0.193497</td>\n",
       "    </tr>\n",
       "  </tbody>\n",
       "</table><p>"
      ],
      "text/plain": [
       "<IPython.core.display.HTML object>"
      ]
     },
     "metadata": {},
     "output_type": "display_data"
    },
    {
     "data": {
      "text/html": [],
      "text/plain": [
       "<IPython.core.display.HTML object>"
      ]
     },
     "metadata": {},
     "output_type": "display_data"
    },
    {
     "name": "stderr",
     "output_type": "stream",
     "text": [
      "Some weights of BertForSequenceClassification were not initialized from the model checkpoint at bert-base-uncased-issues-128 and are newly initialized: ['bert.pooler.dense.bias', 'bert.pooler.dense.weight', 'classifier.bias', 'classifier.weight']\n",
      "You should probably TRAIN this model on a down-stream task to be able to use it for predictions and inference.\n",
      "/tmp/ipykernel_1764707/2303842545.py:9: FutureWarning: `tokenizer` is deprecated and will be removed in version 5.0.0 for `Trainer.__init__`. Use `processing_class` instead.\n",
      "  trainer = Trainer(\n",
      "Detected kernel version 5.4.0, which is below the recommended minimum of 5.5.0; this can cause the process to hang. It is recommended to upgrade the kernel to the minimum version or higher.\n"
     ]
    },
    {
     "data": {
      "text/html": [
       "\n",
       "    <div>\n",
       "      \n",
       "      <progress value='180' max='180' style='width:300px; height:20px; vertical-align: middle;'></progress>\n",
       "      [180/180 00:37, Epoch 20/20]\n",
       "    </div>\n",
       "    <table border=\"1\" class=\"dataframe\">\n",
       "  <thead>\n",
       " <tr style=\"text-align: left;\">\n",
       "      <th>Epoch</th>\n",
       "      <th>Training Loss</th>\n",
       "      <th>Validation Loss</th>\n",
       "      <th>Micro f1</th>\n",
       "      <th>Macro f1</th>\n",
       "    </tr>\n",
       "  </thead>\n",
       "  <tbody>\n",
       "    <tr>\n",
       "      <td>1</td>\n",
       "      <td>0.581100</td>\n",
       "      <td>0.451887</td>\n",
       "      <td>0.000000</td>\n",
       "      <td>0.000000</td>\n",
       "    </tr>\n",
       "    <tr>\n",
       "      <td>2</td>\n",
       "      <td>0.400500</td>\n",
       "      <td>0.383543</td>\n",
       "      <td>0.000000</td>\n",
       "      <td>0.000000</td>\n",
       "    </tr>\n",
       "    <tr>\n",
       "      <td>3</td>\n",
       "      <td>0.340400</td>\n",
       "      <td>0.360635</td>\n",
       "      <td>0.000000</td>\n",
       "      <td>0.000000</td>\n",
       "    </tr>\n",
       "    <tr>\n",
       "      <td>4</td>\n",
       "      <td>0.310600</td>\n",
       "      <td>0.348833</td>\n",
       "      <td>0.000000</td>\n",
       "      <td>0.000000</td>\n",
       "    </tr>\n",
       "    <tr>\n",
       "      <td>5</td>\n",
       "      <td>0.279100</td>\n",
       "      <td>0.336007</td>\n",
       "      <td>0.032787</td>\n",
       "      <td>0.016825</td>\n",
       "    </tr>\n",
       "    <tr>\n",
       "      <td>6</td>\n",
       "      <td>0.249100</td>\n",
       "      <td>0.324152</td>\n",
       "      <td>0.235294</td>\n",
       "      <td>0.102748</td>\n",
       "    </tr>\n",
       "    <tr>\n",
       "      <td>7</td>\n",
       "      <td>0.223900</td>\n",
       "      <td>0.316086</td>\n",
       "      <td>0.295775</td>\n",
       "      <td>0.123737</td>\n",
       "    </tr>\n",
       "    <tr>\n",
       "      <td>8</td>\n",
       "      <td>0.198000</td>\n",
       "      <td>0.310285</td>\n",
       "      <td>0.303448</td>\n",
       "      <td>0.123091</td>\n",
       "    </tr>\n",
       "    <tr>\n",
       "      <td>9</td>\n",
       "      <td>0.175600</td>\n",
       "      <td>0.304819</td>\n",
       "      <td>0.322148</td>\n",
       "      <td>0.129806</td>\n",
       "    </tr>\n",
       "    <tr>\n",
       "      <td>10</td>\n",
       "      <td>0.157800</td>\n",
       "      <td>0.302159</td>\n",
       "      <td>0.333333</td>\n",
       "      <td>0.148079</td>\n",
       "    </tr>\n",
       "    <tr>\n",
       "      <td>11</td>\n",
       "      <td>0.142900</td>\n",
       "      <td>0.301627</td>\n",
       "      <td>0.374194</td>\n",
       "      <td>0.212381</td>\n",
       "    </tr>\n",
       "    <tr>\n",
       "      <td>12</td>\n",
       "      <td>0.129300</td>\n",
       "      <td>0.296236</td>\n",
       "      <td>0.384615</td>\n",
       "      <td>0.215641</td>\n",
       "    </tr>\n",
       "    <tr>\n",
       "      <td>13</td>\n",
       "      <td>0.117800</td>\n",
       "      <td>0.301430</td>\n",
       "      <td>0.375000</td>\n",
       "      <td>0.215599</td>\n",
       "    </tr>\n",
       "    <tr>\n",
       "      <td>14</td>\n",
       "      <td>0.107600</td>\n",
       "      <td>0.302802</td>\n",
       "      <td>0.379747</td>\n",
       "      <td>0.213194</td>\n",
       "    </tr>\n",
       "    <tr>\n",
       "      <td>15</td>\n",
       "      <td>0.100500</td>\n",
       "      <td>0.298520</td>\n",
       "      <td>0.387879</td>\n",
       "      <td>0.217327</td>\n",
       "    </tr>\n",
       "    <tr>\n",
       "      <td>16</td>\n",
       "      <td>0.093600</td>\n",
       "      <td>0.305951</td>\n",
       "      <td>0.419162</td>\n",
       "      <td>0.229716</td>\n",
       "    </tr>\n",
       "    <tr>\n",
       "      <td>17</td>\n",
       "      <td>0.088300</td>\n",
       "      <td>0.299527</td>\n",
       "      <td>0.355828</td>\n",
       "      <td>0.203976</td>\n",
       "    </tr>\n",
       "    <tr>\n",
       "      <td>18</td>\n",
       "      <td>0.082500</td>\n",
       "      <td>0.304223</td>\n",
       "      <td>0.405063</td>\n",
       "      <td>0.224628</td>\n",
       "    </tr>\n",
       "    <tr>\n",
       "      <td>19</td>\n",
       "      <td>0.078100</td>\n",
       "      <td>0.305562</td>\n",
       "      <td>0.380368</td>\n",
       "      <td>0.214066</td>\n",
       "    </tr>\n",
       "    <tr>\n",
       "      <td>20</td>\n",
       "      <td>0.073400</td>\n",
       "      <td>0.305953</td>\n",
       "      <td>0.389937</td>\n",
       "      <td>0.227535</td>\n",
       "    </tr>\n",
       "  </tbody>\n",
       "</table><p>"
      ],
      "text/plain": [
       "<IPython.core.display.HTML object>"
      ]
     },
     "metadata": {},
     "output_type": "display_data"
    },
    {
     "data": {
      "text/html": [],
      "text/plain": [
       "<IPython.core.display.HTML object>"
      ]
     },
     "metadata": {},
     "output_type": "display_data"
    },
    {
     "name": "stderr",
     "output_type": "stream",
     "text": [
      "Some weights of BertForSequenceClassification were not initialized from the model checkpoint at bert-base-uncased-issues-128 and are newly initialized: ['bert.pooler.dense.bias', 'bert.pooler.dense.weight', 'classifier.bias', 'classifier.weight']\n",
      "You should probably TRAIN this model on a down-stream task to be able to use it for predictions and inference.\n",
      "/tmp/ipykernel_1764707/2303842545.py:9: FutureWarning: `tokenizer` is deprecated and will be removed in version 5.0.0 for `Trainer.__init__`. Use `processing_class` instead.\n",
      "  trainer = Trainer(\n",
      "Detected kernel version 5.4.0, which is below the recommended minimum of 5.5.0; this can cause the process to hang. It is recommended to upgrade the kernel to the minimum version or higher.\n"
     ]
    },
    {
     "data": {
      "text/html": [
       "\n",
       "    <div>\n",
       "      \n",
       "      <progress value='340' max='340' style='width:300px; height:20px; vertical-align: middle;'></progress>\n",
       "      [340/340 00:44, Epoch 20/20]\n",
       "    </div>\n",
       "    <table border=\"1\" class=\"dataframe\">\n",
       "  <thead>\n",
       " <tr style=\"text-align: left;\">\n",
       "      <th>Epoch</th>\n",
       "      <th>Training Loss</th>\n",
       "      <th>Validation Loss</th>\n",
       "      <th>Micro f1</th>\n",
       "      <th>Macro f1</th>\n",
       "    </tr>\n",
       "  </thead>\n",
       "  <tbody>\n",
       "    <tr>\n",
       "      <td>1</td>\n",
       "      <td>0.509000</td>\n",
       "      <td>0.385205</td>\n",
       "      <td>0.000000</td>\n",
       "      <td>0.000000</td>\n",
       "    </tr>\n",
       "    <tr>\n",
       "      <td>2</td>\n",
       "      <td>0.352700</td>\n",
       "      <td>0.350469</td>\n",
       "      <td>0.000000</td>\n",
       "      <td>0.000000</td>\n",
       "    </tr>\n",
       "    <tr>\n",
       "      <td>3</td>\n",
       "      <td>0.316000</td>\n",
       "      <td>0.325790</td>\n",
       "      <td>0.195489</td>\n",
       "      <td>0.072222</td>\n",
       "    </tr>\n",
       "    <tr>\n",
       "      <td>4</td>\n",
       "      <td>0.277600</td>\n",
       "      <td>0.302577</td>\n",
       "      <td>0.431373</td>\n",
       "      <td>0.174828</td>\n",
       "    </tr>\n",
       "    <tr>\n",
       "      <td>5</td>\n",
       "      <td>0.235600</td>\n",
       "      <td>0.283735</td>\n",
       "      <td>0.445860</td>\n",
       "      <td>0.176904</td>\n",
       "    </tr>\n",
       "    <tr>\n",
       "      <td>6</td>\n",
       "      <td>0.198400</td>\n",
       "      <td>0.271889</td>\n",
       "      <td>0.462500</td>\n",
       "      <td>0.200088</td>\n",
       "    </tr>\n",
       "    <tr>\n",
       "      <td>7</td>\n",
       "      <td>0.165300</td>\n",
       "      <td>0.255374</td>\n",
       "      <td>0.469136</td>\n",
       "      <td>0.218270</td>\n",
       "    </tr>\n",
       "    <tr>\n",
       "      <td>8</td>\n",
       "      <td>0.139500</td>\n",
       "      <td>0.247564</td>\n",
       "      <td>0.506024</td>\n",
       "      <td>0.272430</td>\n",
       "    </tr>\n",
       "    <tr>\n",
       "      <td>9</td>\n",
       "      <td>0.119500</td>\n",
       "      <td>0.243558</td>\n",
       "      <td>0.514970</td>\n",
       "      <td>0.285502</td>\n",
       "    </tr>\n",
       "    <tr>\n",
       "      <td>10</td>\n",
       "      <td>0.105100</td>\n",
       "      <td>0.239911</td>\n",
       "      <td>0.511905</td>\n",
       "      <td>0.288092</td>\n",
       "    </tr>\n",
       "    <tr>\n",
       "      <td>11</td>\n",
       "      <td>0.091800</td>\n",
       "      <td>0.237809</td>\n",
       "      <td>0.514970</td>\n",
       "      <td>0.287522</td>\n",
       "    </tr>\n",
       "    <tr>\n",
       "      <td>12</td>\n",
       "      <td>0.080200</td>\n",
       "      <td>0.233991</td>\n",
       "      <td>0.518072</td>\n",
       "      <td>0.289636</td>\n",
       "    </tr>\n",
       "    <tr>\n",
       "      <td>13</td>\n",
       "      <td>0.073900</td>\n",
       "      <td>0.234774</td>\n",
       "      <td>0.518072</td>\n",
       "      <td>0.290863</td>\n",
       "    </tr>\n",
       "    <tr>\n",
       "      <td>14</td>\n",
       "      <td>0.067700</td>\n",
       "      <td>0.234162</td>\n",
       "      <td>0.538012</td>\n",
       "      <td>0.336036</td>\n",
       "    </tr>\n",
       "    <tr>\n",
       "      <td>15</td>\n",
       "      <td>0.062200</td>\n",
       "      <td>0.235693</td>\n",
       "      <td>0.523810</td>\n",
       "      <td>0.304290</td>\n",
       "    </tr>\n",
       "    <tr>\n",
       "      <td>16</td>\n",
       "      <td>0.057200</td>\n",
       "      <td>0.234799</td>\n",
       "      <td>0.517241</td>\n",
       "      <td>0.301321</td>\n",
       "    </tr>\n",
       "    <tr>\n",
       "      <td>17</td>\n",
       "      <td>0.053000</td>\n",
       "      <td>0.233530</td>\n",
       "      <td>0.532544</td>\n",
       "      <td>0.320555</td>\n",
       "    </tr>\n",
       "    <tr>\n",
       "      <td>18</td>\n",
       "      <td>0.048800</td>\n",
       "      <td>0.235823</td>\n",
       "      <td>0.538922</td>\n",
       "      <td>0.322669</td>\n",
       "    </tr>\n",
       "    <tr>\n",
       "      <td>19</td>\n",
       "      <td>0.045200</td>\n",
       "      <td>0.236300</td>\n",
       "      <td>0.526316</td>\n",
       "      <td>0.315876</td>\n",
       "    </tr>\n",
       "    <tr>\n",
       "      <td>20</td>\n",
       "      <td>0.042500</td>\n",
       "      <td>0.241077</td>\n",
       "      <td>0.520710</td>\n",
       "      <td>0.302357</td>\n",
       "    </tr>\n",
       "  </tbody>\n",
       "</table><p>"
      ],
      "text/plain": [
       "<IPython.core.display.HTML object>"
      ]
     },
     "metadata": {},
     "output_type": "display_data"
    },
    {
     "data": {
      "text/html": [],
      "text/plain": [
       "<IPython.core.display.HTML object>"
      ]
     },
     "metadata": {},
     "output_type": "display_data"
    },
    {
     "name": "stderr",
     "output_type": "stream",
     "text": [
      "Some weights of BertForSequenceClassification were not initialized from the model checkpoint at bert-base-uncased-issues-128 and are newly initialized: ['bert.pooler.dense.bias', 'bert.pooler.dense.weight', 'classifier.bias', 'classifier.weight']\n",
      "You should probably TRAIN this model on a down-stream task to be able to use it for predictions and inference.\n",
      "/tmp/ipykernel_1764707/2303842545.py:9: FutureWarning: `tokenizer` is deprecated and will be removed in version 5.0.0 for `Trainer.__init__`. Use `processing_class` instead.\n",
      "  trainer = Trainer(\n",
      "Detected kernel version 5.4.0, which is below the recommended minimum of 5.5.0; this can cause the process to hang. It is recommended to upgrade the kernel to the minimum version or higher.\n"
     ]
    },
    {
     "data": {
      "text/html": [
       "\n",
       "    <div>\n",
       "      \n",
       "      <progress value='680' max='680' style='width:300px; height:20px; vertical-align: middle;'></progress>\n",
       "      [680/680 01:06, Epoch 20/20]\n",
       "    </div>\n",
       "    <table border=\"1\" class=\"dataframe\">\n",
       "  <thead>\n",
       " <tr style=\"text-align: left;\">\n",
       "      <th>Epoch</th>\n",
       "      <th>Training Loss</th>\n",
       "      <th>Validation Loss</th>\n",
       "      <th>Micro f1</th>\n",
       "      <th>Macro f1</th>\n",
       "    </tr>\n",
       "  </thead>\n",
       "  <tbody>\n",
       "    <tr>\n",
       "      <td>1</td>\n",
       "      <td>0.431700</td>\n",
       "      <td>0.359005</td>\n",
       "      <td>0.000000</td>\n",
       "      <td>0.000000</td>\n",
       "    </tr>\n",
       "    <tr>\n",
       "      <td>2</td>\n",
       "      <td>0.325900</td>\n",
       "      <td>0.311464</td>\n",
       "      <td>0.389262</td>\n",
       "      <td>0.161111</td>\n",
       "    </tr>\n",
       "    <tr>\n",
       "      <td>3</td>\n",
       "      <td>0.278600</td>\n",
       "      <td>0.278157</td>\n",
       "      <td>0.493827</td>\n",
       "      <td>0.191078</td>\n",
       "    </tr>\n",
       "    <tr>\n",
       "      <td>4</td>\n",
       "      <td>0.226700</td>\n",
       "      <td>0.243292</td>\n",
       "      <td>0.503067</td>\n",
       "      <td>0.225217</td>\n",
       "    </tr>\n",
       "    <tr>\n",
       "      <td>5</td>\n",
       "      <td>0.179100</td>\n",
       "      <td>0.213765</td>\n",
       "      <td>0.622222</td>\n",
       "      <td>0.444112</td>\n",
       "    </tr>\n",
       "    <tr>\n",
       "      <td>6</td>\n",
       "      <td>0.136900</td>\n",
       "      <td>0.195271</td>\n",
       "      <td>0.611111</td>\n",
       "      <td>0.431556</td>\n",
       "    </tr>\n",
       "    <tr>\n",
       "      <td>7</td>\n",
       "      <td>0.105500</td>\n",
       "      <td>0.183644</td>\n",
       "      <td>0.627027</td>\n",
       "      <td>0.452235</td>\n",
       "    </tr>\n",
       "    <tr>\n",
       "      <td>8</td>\n",
       "      <td>0.083400</td>\n",
       "      <td>0.190120</td>\n",
       "      <td>0.622951</td>\n",
       "      <td>0.468365</td>\n",
       "    </tr>\n",
       "    <tr>\n",
       "      <td>9</td>\n",
       "      <td>0.070000</td>\n",
       "      <td>0.181654</td>\n",
       "      <td>0.677083</td>\n",
       "      <td>0.535315</td>\n",
       "    </tr>\n",
       "    <tr>\n",
       "      <td>10</td>\n",
       "      <td>0.059300</td>\n",
       "      <td>0.175487</td>\n",
       "      <td>0.673575</td>\n",
       "      <td>0.527529</td>\n",
       "    </tr>\n",
       "    <tr>\n",
       "      <td>11</td>\n",
       "      <td>0.050600</td>\n",
       "      <td>0.173650</td>\n",
       "      <td>0.683938</td>\n",
       "      <td>0.543660</td>\n",
       "    </tr>\n",
       "    <tr>\n",
       "      <td>12</td>\n",
       "      <td>0.044500</td>\n",
       "      <td>0.168621</td>\n",
       "      <td>0.703518</td>\n",
       "      <td>0.578028</td>\n",
       "    </tr>\n",
       "    <tr>\n",
       "      <td>13</td>\n",
       "      <td>0.039200</td>\n",
       "      <td>0.169890</td>\n",
       "      <td>0.694301</td>\n",
       "      <td>0.545979</td>\n",
       "    </tr>\n",
       "    <tr>\n",
       "      <td>14</td>\n",
       "      <td>0.035600</td>\n",
       "      <td>0.174018</td>\n",
       "      <td>0.700508</td>\n",
       "      <td>0.563444</td>\n",
       "    </tr>\n",
       "    <tr>\n",
       "      <td>15</td>\n",
       "      <td>0.031700</td>\n",
       "      <td>0.173571</td>\n",
       "      <td>0.690355</td>\n",
       "      <td>0.554017</td>\n",
       "    </tr>\n",
       "    <tr>\n",
       "      <td>16</td>\n",
       "      <td>0.028500</td>\n",
       "      <td>0.175141</td>\n",
       "      <td>0.686869</td>\n",
       "      <td>0.563390</td>\n",
       "    </tr>\n",
       "    <tr>\n",
       "      <td>17</td>\n",
       "      <td>0.026400</td>\n",
       "      <td>0.175566</td>\n",
       "      <td>0.690000</td>\n",
       "      <td>0.570581</td>\n",
       "    </tr>\n",
       "    <tr>\n",
       "      <td>18</td>\n",
       "      <td>0.024700</td>\n",
       "      <td>0.180936</td>\n",
       "      <td>0.683673</td>\n",
       "      <td>0.545296</td>\n",
       "    </tr>\n",
       "    <tr>\n",
       "      <td>19</td>\n",
       "      <td>0.022900</td>\n",
       "      <td>0.173774</td>\n",
       "      <td>0.676923</td>\n",
       "      <td>0.527081</td>\n",
       "    </tr>\n",
       "    <tr>\n",
       "      <td>20</td>\n",
       "      <td>0.021300</td>\n",
       "      <td>0.175170</td>\n",
       "      <td>0.696517</td>\n",
       "      <td>0.573077</td>\n",
       "    </tr>\n",
       "  </tbody>\n",
       "</table><p>"
      ],
      "text/plain": [
       "<IPython.core.display.HTML object>"
      ]
     },
     "metadata": {},
     "output_type": "display_data"
    },
    {
     "data": {
      "text/html": [],
      "text/plain": [
       "<IPython.core.display.HTML object>"
      ]
     },
     "metadata": {},
     "output_type": "display_data"
    },
    {
     "name": "stderr",
     "output_type": "stream",
     "text": [
      "Some weights of BertForSequenceClassification were not initialized from the model checkpoint at bert-base-uncased-issues-128 and are newly initialized: ['bert.pooler.dense.bias', 'bert.pooler.dense.weight', 'classifier.bias', 'classifier.weight']\n",
      "You should probably TRAIN this model on a down-stream task to be able to use it for predictions and inference.\n",
      "/tmp/ipykernel_1764707/2303842545.py:9: FutureWarning: `tokenizer` is deprecated and will be removed in version 5.0.0 for `Trainer.__init__`. Use `processing_class` instead.\n",
      "  trainer = Trainer(\n",
      "Detected kernel version 5.4.0, which is below the recommended minimum of 5.5.0; this can cause the process to hang. It is recommended to upgrade the kernel to the minimum version or higher.\n"
     ]
    },
    {
     "data": {
      "text/html": [
       "\n",
       "    <div>\n",
       "      \n",
       "      <progress value='1120' max='1120' style='width:300px; height:20px; vertical-align: middle;'></progress>\n",
       "      [1120/1120 01:15, Epoch 20/20]\n",
       "    </div>\n",
       "    <table border=\"1\" class=\"dataframe\">\n",
       "  <thead>\n",
       " <tr style=\"text-align: left;\">\n",
       "      <th>Epoch</th>\n",
       "      <th>Training Loss</th>\n",
       "      <th>Validation Loss</th>\n",
       "      <th>Micro f1</th>\n",
       "      <th>Macro f1</th>\n",
       "    </tr>\n",
       "  </thead>\n",
       "  <tbody>\n",
       "    <tr>\n",
       "      <td>1</td>\n",
       "      <td>0.401600</td>\n",
       "      <td>0.337788</td>\n",
       "      <td>0.153846</td>\n",
       "      <td>0.065359</td>\n",
       "    </tr>\n",
       "    <tr>\n",
       "      <td>2</td>\n",
       "      <td>0.301800</td>\n",
       "      <td>0.269172</td>\n",
       "      <td>0.462500</td>\n",
       "      <td>0.180784</td>\n",
       "    </tr>\n",
       "    <tr>\n",
       "      <td>3</td>\n",
       "      <td>0.230600</td>\n",
       "      <td>0.217669</td>\n",
       "      <td>0.552941</td>\n",
       "      <td>0.266796</td>\n",
       "    </tr>\n",
       "    <tr>\n",
       "      <td>4</td>\n",
       "      <td>0.165900</td>\n",
       "      <td>0.185238</td>\n",
       "      <td>0.719212</td>\n",
       "      <td>0.598402</td>\n",
       "    </tr>\n",
       "    <tr>\n",
       "      <td>5</td>\n",
       "      <td>0.120300</td>\n",
       "      <td>0.183823</td>\n",
       "      <td>0.726368</td>\n",
       "      <td>0.648349</td>\n",
       "    </tr>\n",
       "    <tr>\n",
       "      <td>6</td>\n",
       "      <td>0.089700</td>\n",
       "      <td>0.155392</td>\n",
       "      <td>0.754902</td>\n",
       "      <td>0.659728</td>\n",
       "    </tr>\n",
       "    <tr>\n",
       "      <td>7</td>\n",
       "      <td>0.068200</td>\n",
       "      <td>0.156230</td>\n",
       "      <td>0.742574</td>\n",
       "      <td>0.667277</td>\n",
       "    </tr>\n",
       "    <tr>\n",
       "      <td>8</td>\n",
       "      <td>0.051500</td>\n",
       "      <td>0.149189</td>\n",
       "      <td>0.782609</td>\n",
       "      <td>0.733752</td>\n",
       "    </tr>\n",
       "    <tr>\n",
       "      <td>9</td>\n",
       "      <td>0.042100</td>\n",
       "      <td>0.151718</td>\n",
       "      <td>0.766990</td>\n",
       "      <td>0.699468</td>\n",
       "    </tr>\n",
       "    <tr>\n",
       "      <td>10</td>\n",
       "      <td>0.034900</td>\n",
       "      <td>0.158361</td>\n",
       "      <td>0.760976</td>\n",
       "      <td>0.703604</td>\n",
       "    </tr>\n",
       "    <tr>\n",
       "      <td>11</td>\n",
       "      <td>0.030400</td>\n",
       "      <td>0.145034</td>\n",
       "      <td>0.780952</td>\n",
       "      <td>0.728621</td>\n",
       "    </tr>\n",
       "    <tr>\n",
       "      <td>12</td>\n",
       "      <td>0.026200</td>\n",
       "      <td>0.157705</td>\n",
       "      <td>0.754902</td>\n",
       "      <td>0.681178</td>\n",
       "    </tr>\n",
       "    <tr>\n",
       "      <td>13</td>\n",
       "      <td>0.023300</td>\n",
       "      <td>0.159897</td>\n",
       "      <td>0.769231</td>\n",
       "      <td>0.694867</td>\n",
       "    </tr>\n",
       "    <tr>\n",
       "      <td>14</td>\n",
       "      <td>0.020800</td>\n",
       "      <td>0.154572</td>\n",
       "      <td>0.751220</td>\n",
       "      <td>0.685531</td>\n",
       "    </tr>\n",
       "    <tr>\n",
       "      <td>15</td>\n",
       "      <td>0.019000</td>\n",
       "      <td>0.149436</td>\n",
       "      <td>0.785047</td>\n",
       "      <td>0.729598</td>\n",
       "    </tr>\n",
       "    <tr>\n",
       "      <td>16</td>\n",
       "      <td>0.016600</td>\n",
       "      <td>0.153025</td>\n",
       "      <td>0.779343</td>\n",
       "      <td>0.728351</td>\n",
       "    </tr>\n",
       "    <tr>\n",
       "      <td>17</td>\n",
       "      <td>0.015100</td>\n",
       "      <td>0.158550</td>\n",
       "      <td>0.777251</td>\n",
       "      <td>0.724443</td>\n",
       "    </tr>\n",
       "    <tr>\n",
       "      <td>18</td>\n",
       "      <td>0.014200</td>\n",
       "      <td>0.153803</td>\n",
       "      <td>0.775701</td>\n",
       "      <td>0.725562</td>\n",
       "    </tr>\n",
       "    <tr>\n",
       "      <td>19</td>\n",
       "      <td>0.013500</td>\n",
       "      <td>0.165194</td>\n",
       "      <td>0.771429</td>\n",
       "      <td>0.712728</td>\n",
       "    </tr>\n",
       "    <tr>\n",
       "      <td>20</td>\n",
       "      <td>0.012500</td>\n",
       "      <td>0.169480</td>\n",
       "      <td>0.779343</td>\n",
       "      <td>0.719963</td>\n",
       "    </tr>\n",
       "  </tbody>\n",
       "</table><p>"
      ],
      "text/plain": [
       "<IPython.core.display.HTML object>"
      ]
     },
     "metadata": {},
     "output_type": "display_data"
    },
    {
     "data": {
      "text/html": [],
      "text/plain": [
       "<IPython.core.display.HTML object>"
      ]
     },
     "metadata": {},
     "output_type": "display_data"
    }
   ],
   "source": [
    "model_ckpt = f\"{model_ckpt}-issues-128\"\n",
    "config = AutoConfig.from_pretrained(model_ckpt)\n",
    "config.num_labels = len(all_labels)\n",
    "config.problem_type = \"multi_label_classification\"\n",
    "\n",
    "for train_slice in train_slices:\n",
    "    model = AutoModelForSequenceClassification.from_pretrained(model_ckpt,\n",
    "                                                              config=config)\n",
    "    trainer = Trainer(\n",
    "        model=model,\n",
    "        tokenizer=tokenizer,\n",
    "        args=training_args_fine_tune,\n",
    "        compute_metrics=compute_metrics,\n",
    "        train_dataset=ds_enc[\"train\"].select(train_slice),\n",
    "        eval_dataset=ds_enc[\"valid\"],\n",
    "    )\n",
    "\n",
    "    trainer.train()\n",
    "    pred = trainer.predict(ds_enc[\"test\"])\n",
    "    metrics = compute_metrics(pred)\n",
    "    macro_scores[\"Fine-tune (DA)\"].append(metrics[\"macro f1\"])\n",
    "    micro_scores[\"Fine-tune (DA)\"].append(metrics[\"micro f1\"])"
   ]
  },
  {
   "cell_type": "code",
   "execution_count": 72,
   "id": "886ca6e3-d981-4d1d-bc33-f7e60cb2b929",
   "metadata": {},
   "outputs": [
    {
     "data": {
      "image/png": "[encoded data removed]",
      "text/plain": [
       "<Figure size 1000x400 with 2 Axes>"
      ]
     },
     "metadata": {},
     "output_type": "display_data"
    }
   ],
   "source": [
    "plot_metrics(micro_scores, macro_scores, train_samples, \"Fine-tune (DA)\")"
   ]
  },
  {
   "cell_type": "code",
   "execution_count": null,
   "id": "24c6b4be-5c0e-40ab-8739-c7e5bec0c7e7",
   "metadata": {},
   "outputs": [],
   "source": []
  }
 ],
 "metadata": {
  "kernelspec": {
   "display_name": "Python 3 (ipykernel)",
   "language": "python",
   "name": "python3"
  },
  "language_info": {
   "codemirror_mode": {
    "name": "ipython",
    "version": 3
   },
   "file_extension": ".py",
   "mimetype": "text/x-python",
   "name": "python",
   "nbconvert_exporter": "python",
   "pygments_lexer": "ipython3",
   "version": "3.8.10"
  }
 },
 "nbformat": 4,
 "nbformat_minor": 5
}
