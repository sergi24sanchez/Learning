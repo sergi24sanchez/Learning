{
 "cells": [
  {
   "cell_type": "code",
   "execution_count": null,
   "id": "143c5713",
   "metadata": {},
   "outputs": [],
   "source": [
    "from bs4 import BeautifulSoup\n",
    "import requests"
   ]
  },
  {
   "cell_type": "code",
   "execution_count": null,
   "id": "b46db63e",
   "metadata": {},
   "outputs": [],
   "source": [
    "r = requests.get(\"https://en.wikipedia.org/wiki/Eagle\")\n",
    "print(r.content)"
   ]
  },
  {
   "cell_type": "code",
   "execution_count": null,
   "id": "96a250a8",
   "metadata": {},
   "outputs": [],
   "source": [
    "soup = BeautifulSoup(r.content)\n",
    "print(soup.prettify)"
   ]
  },
  {
   "cell_type": "code",
   "execution_count": null,
   "id": "5a1af118",
   "metadata": {},
   "outputs": [],
   "source": [
    "import pandas, os\n",
    "os.listdir()"
   ]
  },
  {
   "cell_type": "code",
   "execution_count": null,
   "id": "b526bbdb",
   "metadata": {},
   "outputs": [],
   "source": [
    "df1 = pandas.read_csv(\"supermarkets/supermarkets.csv\")\n",
    "df1"
   ]
  },
  {
   "cell_type": "code",
   "execution_count": null,
   "id": "764900f9",
   "metadata": {},
   "outputs": [],
   "source": [
    "df2 = pandas.read_json(\"supermarkets/supermarkets.json\")\n",
    "df2"
   ]
  },
  {
   "cell_type": "code",
   "execution_count": null,
   "id": "24fc913b",
   "metadata": {},
   "outputs": [],
   "source": [
    "df3 = pandas.read_excel(\"supermarkets/supermarkets.xlsx\", sheet_name=0)\n",
    "df3"
   ]
  },
  {
   "cell_type": "code",
   "execution_count": null,
   "id": "9b59c20c",
   "metadata": {},
   "outputs": [],
   "source": [
    "df4 = pandas.read_csv(\"supermarkets/supermarkets-commas.txt\")\n",
    "df4"
   ]
  },
  {
   "cell_type": "code",
   "execution_count": null,
   "id": "5eaa5abc",
   "metadata": {},
   "outputs": [],
   "source": [
    "df5 = pandas.read_csv(\"supermarkets/supermarkets-semi-colons.txt\", sep=';')\n",
    "df5"
   ]
  },
  {
   "cell_type": "code",
   "execution_count": null,
   "id": "3a2c6f64",
   "metadata": {},
   "outputs": [],
   "source": [
    "df8 = pandas.read_csv(\"supermarkets/supermarkets-commas.txt\")\n",
    "df8.columns = [\"ID\",\"Address\",\"City\",\"State\",\"Country\",\"Name\",\"Employees\"]\n",
    "df8"
   ]
  },
  {
   "cell_type": "code",
   "execution_count": null,
   "id": "bf1e681b",
   "metadata": {},
   "outputs": [],
   "source": [
    "df9 = df8.set_index(\"ID\")\n",
    "df9"
   ]
  },
  {
   "cell_type": "code",
   "execution_count": null,
   "id": "9e5a21e5",
   "metadata": {},
   "outputs": [],
   "source": [
    "df8.set_index(\"Address\", inplace=True, drop=False)\n",
    "df8"
   ]
  },
  {
   "cell_type": "markdown",
   "id": "526cff14",
   "metadata": {},
   "source": [
    "### Filtering Data from a pandas Dataframe"
   ]
  },
  {
   "cell_type": "code",
   "execution_count": null,
   "id": "2ace9ccd",
   "metadata": {},
   "outputs": [],
   "source": [
    "df8.loc[\"Super River\":\"Sanchez\", \"Address\":\"State\"]"
   ]
  },
  {
   "cell_type": "code",
   "execution_count": null,
   "id": "4d43b776",
   "metadata": {},
   "outputs": [],
   "source": [
    "df8"
   ]
  },
  {
   "cell_type": "markdown",
   "id": "bcb4c7a5",
   "metadata": {},
   "source": [
    "### Deleting Columns and Rows"
   ]
  },
  {
   "cell_type": "code",
   "execution_count": null,
   "id": "b9366efc",
   "metadata": {},
   "outputs": [],
   "source": [
    "df8.drop(\"City\", axis=1)"
   ]
  },
  {
   "cell_type": "code",
   "execution_count": null,
   "id": "1e47b810",
   "metadata": {},
   "outputs": [],
   "source": [
    "df8.drop(\"3666 21st St\")"
   ]
  },
  {
   "cell_type": "code",
   "execution_count": null,
   "id": "6b0e6264",
   "metadata": {},
   "outputs": [],
   "source": [
    "df8.drop(df8.index[0:3]) # droping rows from 0--2"
   ]
  },
  {
   "cell_type": "code",
   "execution_count": null,
   "id": "b2084941",
   "metadata": {},
   "outputs": [],
   "source": [
    "df8.drop(df8.columns[0:3], axis=1)"
   ]
  },
  {
   "cell_type": "code",
   "execution_count": null,
   "id": "00a1e6ab",
   "metadata": {},
   "outputs": [],
   "source": [
    "df8"
   ]
  },
  {
   "cell_type": "code",
   "execution_count": null,
   "id": "e3cdb080",
   "metadata": {
    "scrolled": true
   },
   "outputs": [],
   "source": [
    "len(df8.index) * [\"North America\"]"
   ]
  },
  {
   "cell_type": "markdown",
   "id": "b8808b2f",
   "metadata": {},
   "source": [
    "### Adding a new Column"
   ]
  },
  {
   "cell_type": "code",
   "execution_count": null,
   "id": "0fd64767",
   "metadata": {},
   "outputs": [],
   "source": [
    "df8[\"Continent\"] = df8.shape[0] * [\"North America\"]\n",
    "df8"
   ]
  },
  {
   "cell_type": "markdown",
   "id": "35463841",
   "metadata": {},
   "source": [
    "### Modifying a column"
   ]
  },
  {
   "cell_type": "code",
   "execution_count": null,
   "id": "17f96cbb",
   "metadata": {},
   "outputs": [],
   "source": [
    "df8[\"Continent\"] = df8[\"Country\"] + \",\" + \"North America\"\n",
    "df8"
   ]
  },
  {
   "cell_type": "code",
   "execution_count": null,
   "id": "eae0ff0c",
   "metadata": {},
   "outputs": [],
   "source": [
    "df8_t = df8.T\n",
    "df8_t"
   ]
  },
  {
   "cell_type": "code",
   "execution_count": null,
   "id": "a4431088",
   "metadata": {},
   "outputs": [],
   "source": [
    "df8_t[\"My Address\"] = [7, \"My Address\", \"Sant Climent\", \"Catalunya\", \"Spain\", \"Sergi\", 44,\"Europe\"]\n",
    "df8_t"
   ]
  },
  {
   "cell_type": "markdown",
   "id": "810a0d22",
   "metadata": {},
   "source": [
    "## Data Analysis Example: Converting Addresses to Coordinates"
   ]
  },
  {
   "cell_type": "code",
   "execution_count": null,
   "id": "5038109a",
   "metadata": {},
   "outputs": [],
   "source": [
    "dm = pandas.merge(left=df5, right=df8, on=\"ID\")\n",
    "dm"
   ]
  },
  {
   "cell_type": "code",
   "execution_count": null,
   "id": "a9be3383",
   "metadata": {},
   "outputs": [],
   "source": [
    "type(df8)"
   ]
  },
  {
   "cell_type": "code",
   "execution_count": null,
   "id": "fd29b04e",
   "metadata": {},
   "outputs": [],
   "source": [
    "from geopy.geocoders import ArcGIS"
   ]
  },
  {
   "cell_type": "code",
   "execution_count": null,
   "id": "8262f7b1",
   "metadata": {},
   "outputs": [],
   "source": [
    "nom = ArcGIS()\n",
    "n = nom.geocode(\"735 Dolores St, San Francisco, CA 94114\")"
   ]
  },
  {
   "cell_type": "code",
   "execution_count": null,
   "id": "6cd1a372",
   "metadata": {},
   "outputs": [],
   "source": [
    "n.longitude, n.latitude"
   ]
  },
  {
   "cell_type": "code",
   "execution_count": null,
   "id": "7410132e",
   "metadata": {},
   "outputs": [],
   "source": [
    "df = pandas.read_csv(\"supermarkets/supermarkets.csv\")\n",
    "df"
   ]
  },
  {
   "cell_type": "code",
   "execution_count": null,
   "id": "9ecf651b",
   "metadata": {},
   "outputs": [],
   "source": [
    "df[\"Address\"] = df[\"Address\"] + \", \" + df[\"City\"] + \", \" + df[\"State\"] + \", \" + df[\"Country\"] # applied to all the rows of the DataFrame\n",
    "df"
   ]
  },
  {
   "cell_type": "code",
   "execution_count": null,
   "id": "35b67aad",
   "metadata": {},
   "outputs": [],
   "source": [
    "df[\"Coordinates\"] = df[\"Address\"].apply(nom.geocode)\n",
    "df.Coordinates[0]"
   ]
  },
  {
   "cell_type": "code",
   "execution_count": null,
   "id": "29430034",
   "metadata": {},
   "outputs": [],
   "source": [
    "df[\"Latitude\"] = df[\"Coordinates\"].apply(lambda x: x.latitude if x is not None else None)\n",
    "df[\"Longitude\"] = df[\"Coordinates\"].apply(lambda x: x.longitude if x is not None else None)\n",
    "df"
   ]
  },
  {
   "cell_type": "code",
   "execution_count": null,
   "id": "bc9e6134",
   "metadata": {},
   "outputs": [],
   "source": []
  }
 ],
 "metadata": {
  "kernelspec": {
   "display_name": "Python 3 (ipykernel)",
   "language": "python",
   "name": "python3"
  },
  "language_info": {
   "codemirror_mode": {
    "name": "ipython",
    "version": 3
   },
   "file_extension": ".py",
   "mimetype": "text/x-python",
   "name": "python",
   "nbconvert_exporter": "python",
   "pygments_lexer": "ipython3",
   "version": "3.10.6"
  }
 },
 "nbformat": 4,
 "nbformat_minor": 5
}
